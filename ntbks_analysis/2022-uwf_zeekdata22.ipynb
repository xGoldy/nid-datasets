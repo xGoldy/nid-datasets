{
 "cells": [
  {
   "cell_type": "markdown",
   "metadata": {},
   "source": [
    "# UWF-Zeekdata22 Dataset Analysis\n",
    "\n",
    "* **Author:** Patrik Goldschmidt (igoldschmidt@fit.vut.cz)\n",
    "* **Project:** Network Intrusion Datasets: A Survey, Limitations, and Recommendations\n",
    "* **Date:** 2024\n",
    "\n",
    "Data source: [https://datasets.uwf.edu/](https://datasets.uwf.edu/)\n",
    "\n",
    "Late 2024, ZeekDataFall22 and TestZeekData24 were also added to the repository. Nevertheless, this analysis only focuses on the original `ZeekData22` files. The other data have the same features, but might vary in captured traffic patterns and attacks."
   ]
  },
  {
   "cell_type": "code",
   "execution_count": 1,
   "metadata": {},
   "outputs": [],
   "source": [
    "import pandas as pd\n",
    "import numpy as np\n",
    "import os\n",
    "\n",
    "pd.set_option('display.max_columns', None)"
   ]
  },
  {
   "cell_type": "code",
   "execution_count": 2,
   "metadata": {},
   "outputs": [],
   "source": [
    "# We will work with data distributed in parquet files - as other folders (ZeekDataFall22, TestZeekData24) provide only parquets\n",
    "DATA_FOLDER = '/data/data_surv/uwf-zeekdata22/UWF-ZeekData22/parquet'"
   ]
  },
  {
   "cell_type": "code",
   "execution_count": 3,
   "metadata": {},
   "outputs": [
    {
     "data": {
      "text/plain": [
       "['/data/data_surv/uwf-zeekdata22/UWF-ZeekData22/parquet/2021-12-12 - 2021-12-19/part-00000-7c2e9adb-5430-4792-a42b-10ff5bbd46e8-c000.snappy.parquet',\n",
       " '/data/data_surv/uwf-zeekdata22/UWF-ZeekData22/parquet/2021-12-19 - 2021-12-26/part-00000-3f86626a-1225-47f9-a5a2-0170b737e404-c000.snappy.parquet',\n",
       " '/data/data_surv/uwf-zeekdata22/UWF-ZeekData22/parquet/2021-12-26 - 2022-01-02/part-00000-b1a9fc13-8068-4a5d-91b2-871438709e81-c000.snappy.parquet',\n",
       " '/data/data_surv/uwf-zeekdata22/UWF-ZeekData22/parquet/2022-01-02 - 2022-01-09/part-00000-26e9208e-7819-451b-b23f-2e47f6d1e834-c000.snappy.parquet',\n",
       " '/data/data_surv/uwf-zeekdata22/UWF-ZeekData22/parquet/2022-01-09 - 2022-01-16/part-00000-36240b61-b84f-4164-a873-d7973e652780-c000.snappy.parquet',\n",
       " '/data/data_surv/uwf-zeekdata22/UWF-ZeekData22/parquet/2022-01-16 - 2022-01-23/part-00000-cbf26680-106d-40e7-8278-60520afdbb0e-c000.snappy.parquet',\n",
       " '/data/data_surv/uwf-zeekdata22/UWF-ZeekData22/parquet/2022-02-06 - 2022-02-13/part-00000-df678a79-4a73-452b-8e72-d624b2732f17-c000.snappy.parquet',\n",
       " '/data/data_surv/uwf-zeekdata22/UWF-ZeekData22/parquet/2022-02-13 - 2022-02-20/part-00000-1da06990-329c-4e38-913a-0f0aa39b388d-c000.snappy.parquet']"
      ]
     },
     "execution_count": 3,
     "metadata": {},
     "output_type": "execute_result"
    }
   ],
   "source": [
    "# Discover all parquet files within the dataset\n",
    "parquet_files = []\n",
    "\n",
    "for path, dirs, files in os.walk(DATA_FOLDER):\n",
    "    for file in files:\n",
    "        if file.endswith('.parquet'):\n",
    "            parquet_files.append(os.path.join(path, file))\n",
    "\n",
    "parquet_files.sort()\n",
    "parquet_files"
   ]
  },
  {
   "cell_type": "code",
   "execution_count": 4,
   "metadata": {},
   "outputs": [],
   "source": [
    "# Read all the parquet files into a single DataFrame\n",
    "data_all = pd.DataFrame()\n",
    "\n",
    "for parq_file in parquet_files:\n",
    "    data_all = pd.concat([data_all, pd.read_parquet(parq_file)])"
   ]
  },
  {
   "cell_type": "code",
   "execution_count": 5,
   "metadata": {},
   "outputs": [
    {
     "name": "stdout",
     "output_type": "stream",
     "text": [
      "<class 'pandas.core.frame.DataFrame'>\n",
      "Index: 18562468 entries, 0 to 62\n",
      "Data columns (total 23 columns):\n",
      " #   Column          Non-Null Count     Dtype         \n",
      "---  ------          --------------     -----         \n",
      " 0   resp_pkts       18562468 non-null  int32         \n",
      " 1   service         9425321 non-null   object        \n",
      " 2   orig_ip_bytes   18562468 non-null  int32         \n",
      " 3   local_resp      18562468 non-null  bool          \n",
      " 4   missed_bytes    18562468 non-null  int32         \n",
      " 5   proto           18562468 non-null  object        \n",
      " 6   duration        18052993 non-null  float64       \n",
      " 7   conn_state      18562468 non-null  object        \n",
      " 8   dest_ip_zeek    18562468 non-null  object        \n",
      " 9   orig_pkts       18562468 non-null  int32         \n",
      " 10  community_id    18562468 non-null  object        \n",
      " 11  resp_ip_bytes   18562468 non-null  int32         \n",
      " 12  dest_port_zeek  18562468 non-null  int32         \n",
      " 13  orig_bytes      18052993 non-null  float64       \n",
      " 14  local_orig      18562468 non-null  bool          \n",
      " 15  datetime        18562468 non-null  datetime64[ns]\n",
      " 16  history         18492575 non-null  object        \n",
      " 17  resp_bytes      18052993 non-null  float64       \n",
      " 18  uid             18562468 non-null  object        \n",
      " 19  src_port_zeek   18562468 non-null  int32         \n",
      " 20  ts              18562468 non-null  float64       \n",
      " 21  src_ip_zeek     18562468 non-null  object        \n",
      " 22  label_tactic    18562468 non-null  object        \n",
      "dtypes: bool(2), datetime64[ns](1), float64(4), int32(7), object(9)\n",
      "memory usage: 2.6+ GB\n"
     ]
    }
   ],
   "source": [
    "data_all.info(verbose=True, show_counts=True)"
   ]
  },
  {
   "cell_type": "code",
   "execution_count": 6,
   "metadata": {},
   "outputs": [
    {
     "data": {
      "text/plain": [
       "18562468"
      ]
     },
     "execution_count": 6,
     "metadata": {},
     "output_type": "execute_result"
    }
   ],
   "source": [
    "len(data_all)"
   ]
  },
  {
   "cell_type": "code",
   "execution_count": 7,
   "metadata": {},
   "outputs": [
    {
     "data": {
      "text/html": [
       "<div>\n",
       "<style scoped>\n",
       "    .dataframe tbody tr th:only-of-type {\n",
       "        vertical-align: middle;\n",
       "    }\n",
       "\n",
       "    .dataframe tbody tr th {\n",
       "        vertical-align: top;\n",
       "    }\n",
       "\n",
       "    .dataframe thead th {\n",
       "        text-align: right;\n",
       "    }\n",
       "</style>\n",
       "<table border=\"1\" class=\"dataframe\">\n",
       "  <thead>\n",
       "    <tr style=\"text-align: right;\">\n",
       "      <th></th>\n",
       "      <th>resp_pkts</th>\n",
       "      <th>service</th>\n",
       "      <th>orig_ip_bytes</th>\n",
       "      <th>local_resp</th>\n",
       "      <th>missed_bytes</th>\n",
       "      <th>proto</th>\n",
       "      <th>duration</th>\n",
       "      <th>conn_state</th>\n",
       "      <th>dest_ip_zeek</th>\n",
       "      <th>orig_pkts</th>\n",
       "      <th>community_id</th>\n",
       "      <th>resp_ip_bytes</th>\n",
       "      <th>dest_port_zeek</th>\n",
       "      <th>orig_bytes</th>\n",
       "      <th>local_orig</th>\n",
       "      <th>datetime</th>\n",
       "      <th>history</th>\n",
       "      <th>resp_bytes</th>\n",
       "      <th>uid</th>\n",
       "      <th>src_port_zeek</th>\n",
       "      <th>ts</th>\n",
       "      <th>src_ip_zeek</th>\n",
       "      <th>label_tactic</th>\n",
       "    </tr>\n",
       "  </thead>\n",
       "  <tbody>\n",
       "    <tr>\n",
       "      <th>0</th>\n",
       "      <td>1689365</td>\n",
       "      <td>None</td>\n",
       "      <td>141906660</td>\n",
       "      <td>False</td>\n",
       "      <td>0</td>\n",
       "      <td>icmp</td>\n",
       "      <td>1.729902e+06</td>\n",
       "      <td>OTH</td>\n",
       "      <td>143.88.0.1</td>\n",
       "      <td>1689365</td>\n",
       "      <td>1:L8d7Q/9CNOBVbhfRe7yv3s8A24A=</td>\n",
       "      <td>141906660</td>\n",
       "      <td>0</td>\n",
       "      <td>94604440.0</td>\n",
       "      <td>False</td>\n",
       "      <td>2021-12-17 07:00:45.896</td>\n",
       "      <td>None</td>\n",
       "      <td>94604440.0</td>\n",
       "      <td>Caxllt2aEzXOEZnpii</td>\n",
       "      <td>8</td>\n",
       "      <td>1.639746e+09</td>\n",
       "      <td>143.88.255.50</td>\n",
       "      <td>none</td>\n",
       "    </tr>\n",
       "    <tr>\n",
       "      <th>1</th>\n",
       "      <td>0</td>\n",
       "      <td>None</td>\n",
       "      <td>462247452</td>\n",
       "      <td>False</td>\n",
       "      <td>0</td>\n",
       "      <td>icmp</td>\n",
       "      <td>1.730391e+06</td>\n",
       "      <td>OTH</td>\n",
       "      <td>143.88.255.10</td>\n",
       "      <td>4576716</td>\n",
       "      <td>1:IrLgQEMN3Jxld9DJo9XTcVvDsHU=</td>\n",
       "      <td>0</td>\n",
       "      <td>1</td>\n",
       "      <td>334099404.0</td>\n",
       "      <td>False</td>\n",
       "      <td>2021-12-17 07:00:47.630</td>\n",
       "      <td>None</td>\n",
       "      <td>0.0</td>\n",
       "      <td>CEx0rX1Yic8axI4sw1</td>\n",
       "      <td>3</td>\n",
       "      <td>1.639746e+09</td>\n",
       "      <td>143.88.255.1</td>\n",
       "      <td>none</td>\n",
       "    </tr>\n",
       "    <tr>\n",
       "      <th>2</th>\n",
       "      <td>0</td>\n",
       "      <td>None</td>\n",
       "      <td>22008480</td>\n",
       "      <td>False</td>\n",
       "      <td>0</td>\n",
       "      <td>icmp</td>\n",
       "      <td>1.730410e+06</td>\n",
       "      <td>OTH</td>\n",
       "      <td>ff02::1</td>\n",
       "      <td>229255</td>\n",
       "      <td>1:yBZ3xWqbIFuQFB44sXmyC45EtSs=</td>\n",
       "      <td>0</td>\n",
       "      <td>133</td>\n",
       "      <td>11004240.0</td>\n",
       "      <td>False</td>\n",
       "      <td>2021-12-17 07:00:45.879</td>\n",
       "      <td>None</td>\n",
       "      <td>0.0</td>\n",
       "      <td>Cpn5bT1QW9MPFXikn4</td>\n",
       "      <td>134</td>\n",
       "      <td>1.639746e+09</td>\n",
       "      <td>fe80::250:56ff:fe9e:da15</td>\n",
       "      <td>none</td>\n",
       "    </tr>\n",
       "    <tr>\n",
       "      <th>3</th>\n",
       "      <td>0</td>\n",
       "      <td>None</td>\n",
       "      <td>34970488</td>\n",
       "      <td>False</td>\n",
       "      <td>0</td>\n",
       "      <td>icmp</td>\n",
       "      <td>1.730411e+06</td>\n",
       "      <td>OTH</td>\n",
       "      <td>ff02::16</td>\n",
       "      <td>460138</td>\n",
       "      <td>1:ogw3gR/knTC3m00NBC6RR+vqjXc=</td>\n",
       "      <td>0</td>\n",
       "      <td>0</td>\n",
       "      <td>9202760.0</td>\n",
       "      <td>False</td>\n",
       "      <td>2021-12-17 07:00:45.888</td>\n",
       "      <td>None</td>\n",
       "      <td>0.0</td>\n",
       "      <td>Ceo6B73UmSZVe8vsD4</td>\n",
       "      <td>143</td>\n",
       "      <td>1.639746e+09</td>\n",
       "      <td>fe80::250:56ff:fe9e:ef90</td>\n",
       "      <td>none</td>\n",
       "    </tr>\n",
       "    <tr>\n",
       "      <th>4</th>\n",
       "      <td>0</td>\n",
       "      <td>dhcp</td>\n",
       "      <td>66459795</td>\n",
       "      <td>False</td>\n",
       "      <td>0</td>\n",
       "      <td>udp</td>\n",
       "      <td>1.731504e+06</td>\n",
       "      <td>S0</td>\n",
       "      <td>255.255.255.255</td>\n",
       "      <td>202621</td>\n",
       "      <td>1:t9O1j0qj71O4wJM7gnaHtgmfev8=</td>\n",
       "      <td>0</td>\n",
       "      <td>67</td>\n",
       "      <td>60786407.0</td>\n",
       "      <td>False</td>\n",
       "      <td>2021-12-17 07:01:10.260</td>\n",
       "      <td>D</td>\n",
       "      <td>0.0</td>\n",
       "      <td>CTCPKc2faq2rLYJA4f</td>\n",
       "      <td>68</td>\n",
       "      <td>1.639746e+09</td>\n",
       "      <td>0.0.0.0</td>\n",
       "      <td>none</td>\n",
       "    </tr>\n",
       "  </tbody>\n",
       "</table>\n",
       "</div>"
      ],
      "text/plain": [
       "   resp_pkts service  orig_ip_bytes  local_resp  missed_bytes proto  \\\n",
       "0    1689365    None      141906660       False             0  icmp   \n",
       "1          0    None      462247452       False             0  icmp   \n",
       "2          0    None       22008480       False             0  icmp   \n",
       "3          0    None       34970488       False             0  icmp   \n",
       "4          0    dhcp       66459795       False             0   udp   \n",
       "\n",
       "       duration conn_state     dest_ip_zeek  orig_pkts  \\\n",
       "0  1.729902e+06        OTH       143.88.0.1    1689365   \n",
       "1  1.730391e+06        OTH    143.88.255.10    4576716   \n",
       "2  1.730410e+06        OTH          ff02::1     229255   \n",
       "3  1.730411e+06        OTH         ff02::16     460138   \n",
       "4  1.731504e+06         S0  255.255.255.255     202621   \n",
       "\n",
       "                     community_id  resp_ip_bytes  dest_port_zeek   orig_bytes  \\\n",
       "0  1:L8d7Q/9CNOBVbhfRe7yv3s8A24A=      141906660               0   94604440.0   \n",
       "1  1:IrLgQEMN3Jxld9DJo9XTcVvDsHU=              0               1  334099404.0   \n",
       "2  1:yBZ3xWqbIFuQFB44sXmyC45EtSs=              0             133   11004240.0   \n",
       "3  1:ogw3gR/knTC3m00NBC6RR+vqjXc=              0               0    9202760.0   \n",
       "4  1:t9O1j0qj71O4wJM7gnaHtgmfev8=              0              67   60786407.0   \n",
       "\n",
       "   local_orig                datetime history  resp_bytes                 uid  \\\n",
       "0       False 2021-12-17 07:00:45.896    None  94604440.0  Caxllt2aEzXOEZnpii   \n",
       "1       False 2021-12-17 07:00:47.630    None         0.0  CEx0rX1Yic8axI4sw1   \n",
       "2       False 2021-12-17 07:00:45.879    None         0.0  Cpn5bT1QW9MPFXikn4   \n",
       "3       False 2021-12-17 07:00:45.888    None         0.0  Ceo6B73UmSZVe8vsD4   \n",
       "4       False 2021-12-17 07:01:10.260       D         0.0  CTCPKc2faq2rLYJA4f   \n",
       "\n",
       "   src_port_zeek            ts               src_ip_zeek label_tactic  \n",
       "0              8  1.639746e+09             143.88.255.50         none  \n",
       "1              3  1.639746e+09              143.88.255.1         none  \n",
       "2            134  1.639746e+09  fe80::250:56ff:fe9e:da15         none  \n",
       "3            143  1.639746e+09  fe80::250:56ff:fe9e:ef90         none  \n",
       "4             68  1.639746e+09                   0.0.0.0         none  "
      ]
     },
     "execution_count": 7,
     "metadata": {},
     "output_type": "execute_result"
    }
   ],
   "source": [
    "data_all.head()"
   ]
  },
  {
   "cell_type": "code",
   "execution_count": 8,
   "metadata": {},
   "outputs": [
    {
     "data": {
      "text/plain": [
       "label_tactic\n",
       "none                    9281599\n",
       "Reconnaissance          9278722\n",
       "Discovery                  2086\n",
       "Credential Access            31\n",
       "Privilege Escalation         13\n",
       "Exfiltration                  7\n",
       "Lateral Movement              4\n",
       "Resource Development          3\n",
       "Defense Evasion               1\n",
       "Initial Access                1\n",
       "Persistence                   1\n",
       "Name: count, dtype: int64"
      ]
     },
     "execution_count": 8,
     "metadata": {},
     "output_type": "execute_result"
    }
   ],
   "source": [
    "# Label distribution\n",
    "data_all['label_tactic'].value_counts()"
   ]
  },
  {
   "cell_type": "code",
   "execution_count": 9,
   "metadata": {},
   "outputs": [
    {
     "data": {
      "text/plain": [
       "proto\n",
       "udp     9547112\n",
       "tcp     8962641\n",
       "icmp      52715\n",
       "Name: count, dtype: int64"
      ]
     },
     "execution_count": 9,
     "metadata": {},
     "output_type": "execute_result"
    }
   ],
   "source": [
    "# Protocol distribution\n",
    "data_all['proto'].value_counts()"
   ]
  },
  {
   "cell_type": "code",
   "execution_count": 10,
   "metadata": {},
   "outputs": [
    {
     "data": {
      "text/plain": [
       "service\n",
       "dns                9377942\n",
       "dhcp                 22269\n",
       "http                 10000\n",
       "ntp                   7466\n",
       "ssl                   5542\n",
       "gssapi,ntlm,smb        769\n",
       "gssapi                 512\n",
       "krb_tcp                256\n",
       "smb                    256\n",
       "smb,ntlm,gssapi        256\n",
       "radius                  27\n",
       "ssh                     14\n",
       "ftp                      7\n",
       "smb,gssapi,ntlm          3\n",
       "gssapi,smb,ntlm          2\n",
       "Name: count, dtype: int64"
      ]
     },
     "execution_count": 10,
     "metadata": {},
     "output_type": "execute_result"
    }
   ],
   "source": [
    "# Services breakdown\n",
    "data_all['service'].value_counts()"
   ]
  },
  {
   "cell_type": "code",
   "execution_count": 11,
   "metadata": {},
   "outputs": [
    {
     "data": {
      "text/plain": [
       "Index([], dtype='object')"
      ]
     },
     "execution_count": 11,
     "metadata": {},
     "output_type": "execute_result"
    }
   ],
   "source": [
    "# Are there any columns with only 1 unique value?\n",
    "data_all.columns[data_all.nunique() <= 1]"
   ]
  },
  {
   "cell_type": "code",
   "execution_count": 12,
   "metadata": {},
   "outputs": [
    {
     "data": {
      "text/plain": [
       "src_ip_zeek\n",
       "143.88.2.10        8250880\n",
       "143.88.255.10      6725201\n",
       "143.88.11.10       1170061\n",
       "143.88.7.10         523557\n",
       "143.88.5.12         502528\n",
       "                    ...   \n",
       "143.88.9.18              2\n",
       "143.88.255.51            2\n",
       "255.255.255.255          2\n",
       "143.88.2.12              1\n",
       "143.88.8.12              1\n",
       "Name: count, Length: 62, dtype: int64"
      ]
     },
     "execution_count": 12,
     "metadata": {},
     "output_type": "execute_result"
    }
   ],
   "source": [
    "# Source IP addresses\n",
    "data_all['src_ip_zeek'].value_counts()"
   ]
  },
  {
   "cell_type": "code",
   "execution_count": 13,
   "metadata": {},
   "outputs": [
    {
     "data": {
      "text/plain": [
       "62"
      ]
     },
     "execution_count": 13,
     "metadata": {},
     "output_type": "execute_result"
    }
   ],
   "source": [
    "# Number of unique source IPs\n",
    "data_all['src_ip_zeek'].nunique()"
   ]
  },
  {
   "cell_type": "markdown",
   "metadata": {},
   "source": [
    "## Timespan Computation"
   ]
  },
  {
   "cell_type": "code",
   "execution_count": 14,
   "metadata": {},
   "outputs": [
    {
     "data": {
      "text/plain": [
       "0    2021-12-17 07:00:45.896\n",
       "1    2021-12-17 07:00:47.630\n",
       "2    2021-12-17 07:00:45.879\n",
       "3    2021-12-17 07:00:45.888\n",
       "4    2021-12-17 07:01:10.260\n",
       "               ...          \n",
       "58   2022-02-18 09:45:03.308\n",
       "59   2022-02-18 11:28:45.529\n",
       "60   2022-02-18 11:28:45.531\n",
       "61   2022-02-18 10:02:58.996\n",
       "62   2022-02-18 10:44:44.092\n",
       "Name: datetime, Length: 18562468, dtype: datetime64[ns]"
      ]
     },
     "execution_count": 14,
     "metadata": {},
     "output_type": "execute_result"
    }
   ],
   "source": [
    "data_all['datetime']"
   ]
  },
  {
   "cell_type": "code",
   "execution_count": 15,
   "metadata": {},
   "outputs": [
    {
     "data": {
      "text/plain": [
       "11       2022-02-19 19:16:36.163\n",
       "12       2022-02-19 19:16:36.163\n",
       "43       2022-02-19 13:25:11.369\n",
       "44       2022-02-19 13:25:11.369\n",
       "47       2022-02-19 13:23:56.794\n",
       "                   ...          \n",
       "2        2021-12-17 07:00:45.879\n",
       "423577   2021-12-17 07:00:45.251\n",
       "209052   2021-12-17 07:00:45.251\n",
       "423576   2021-12-17 07:00:45.213\n",
       "209051   2021-12-17 07:00:45.213\n",
       "Name: datetime, Length: 18562468, dtype: datetime64[ns]"
      ]
     },
     "execution_count": 15,
     "metadata": {},
     "output_type": "execute_result"
    }
   ],
   "source": [
    "# Timestamps\n",
    "timestamps = data_all['datetime'].sort_values(ascending=False)\n",
    "timestamps"
   ]
  },
  {
   "cell_type": "code",
   "execution_count": 16,
   "metadata": {},
   "outputs": [
    {
     "data": {
      "text/plain": [
       "Timedelta('64 days 12:15:50.950000')"
      ]
     },
     "execution_count": 16,
     "metadata": {},
     "output_type": "execute_result"
    }
   ],
   "source": [
    "# Compute capture span\n",
    "capture_span = timestamps.iloc[0] - timestamps.iloc[-1]\n",
    "capture_span"
   ]
  },
  {
   "cell_type": "code",
   "execution_count": 17,
   "metadata": {},
   "outputs": [],
   "source": [
    "# Measure capture duration and continousness\n",
    "def measure_real_capture_dur(data: pd.Series, gap_max_secs: int = 300) -> float:\n",
    "    \"\"\"Computes total timespan of the capture. Expects iterable containing timestamps objects sorted in a descending manner\"\"\"\n",
    "    total_dur = pd.Timedelta(seconds=0)\n",
    "    current_dur = pd.Timedelta(seconds=0)\n",
    "    cont_durations = []\n",
    "    last_tstamp = data.iloc[0]\n",
    "    contiguous = True\n",
    "\n",
    "    # Iterate through the dataframe to find out gaps\n",
    "    for cur_tstamp in data:\n",
    "        dur_gap = last_tstamp - cur_tstamp\n",
    "\n",
    "        if dur_gap <= pd.Timedelta(seconds=gap_max_secs):\n",
    "            total_dur += dur_gap\n",
    "            current_dur += dur_gap\n",
    "        else:\n",
    "            cont_durations.append(current_dur)\n",
    "            current_dur = pd.Timedelta(seconds=0)\n",
    "\n",
    "            if contiguous:\n",
    "                contiguous = False\n",
    "\n",
    "        last_tstamp = cur_tstamp\n",
    "\n",
    "    # Log the final continuous block and sort them via their length\n",
    "    cont_durations.append(current_dur)\n",
    "    cont_durations.sort(reverse=True)\n",
    "\n",
    "    return total_dur, contiguous, cont_durations"
   ]
  },
  {
   "cell_type": "code",
   "execution_count": 18,
   "metadata": {},
   "outputs": [
    {
     "data": {
      "text/plain": [
       "(Timedelta('33 days 00:29:21.604000'),\n",
       " False,\n",
       " [Timedelta('30 days 15:59:13.562000'),\n",
       "  Timedelta('1 days 06:38:25.054000'),\n",
       "  Timedelta('0 days 13:52:02.154000'),\n",
       "  Timedelta('0 days 06:58:07.706000'),\n",
       "  Timedelta('0 days 05:01:33.106000'),\n",
       "  Timedelta('0 days 00:00:00.022000')])"
      ]
     },
     "execution_count": 18,
     "metadata": {},
     "output_type": "execute_result"
    }
   ],
   "source": [
    "measure_real_capture_dur(timestamps, int(capture_span.total_seconds() * 0.01))"
   ]
  },
  {
   "cell_type": "code",
   "execution_count": 19,
   "metadata": {},
   "outputs": [
    {
     "data": {
      "text/plain": [
       "(Timedelta('30 days 21:37:27.338000'),\n",
       " False,\n",
       " [Timedelta('28 days 01:59:04.615000'),\n",
       "  Timedelta('2 days 12:57:14.937000'),\n",
       "  Timedelta('0 days 01:47:36.364000'),\n",
       "  Timedelta('0 days 01:43:06.911000'),\n",
       "  Timedelta('0 days 01:24:28.670000'),\n",
       "  Timedelta('0 days 01:06:42.912000'),\n",
       "  Timedelta('0 days 00:14:57.704000'),\n",
       "  Timedelta('0 days 00:12:47.315000'),\n",
       "  Timedelta('0 days 00:05:17.559000'),\n",
       "  Timedelta('0 days 00:03:21.345000'),\n",
       "  Timedelta('0 days 00:01:47.691000'),\n",
       "  Timedelta('0 days 00:00:51.256000'),\n",
       "  Timedelta('0 days 00:00:10.037000'),\n",
       "  Timedelta('0 days 00:00:00.022000'),\n",
       "  Timedelta('0 days 00:00:00')])"
      ]
     },
     "execution_count": 19,
     "metadata": {},
     "output_type": "execute_result"
    }
   ],
   "source": [
    "# Lowering the maximum gap to 1 hour\n",
    "measure_real_capture_dur(timestamps, 3600)"
   ]
  }
 ],
 "metadata": {
  "kernelspec": {
   "display_name": "env",
   "language": "python",
   "name": "python3"
  },
  "language_info": {
   "codemirror_mode": {
    "name": "ipython",
    "version": 3
   },
   "file_extension": ".py",
   "mimetype": "text/x-python",
   "name": "python",
   "nbconvert_exporter": "python",
   "pygments_lexer": "ipython3",
   "version": "3.12.3"
  }
 },
 "nbformat": 4,
 "nbformat_minor": 2
}
