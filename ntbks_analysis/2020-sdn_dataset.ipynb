{
 "cells": [
  {
   "cell_type": "markdown",
   "metadata": {},
   "source": [
    "# SDN Dataset (2020) Analysis\n",
    "\n",
    "* **Author:** Patrik Goldschmidt (igoldschmidt@fit.vut.cz)\n",
    "* **Project:** Network Intrusion Datasets: A Survey, Limitations, and Recommendations\n",
    "* **Date:** 2024"
   ]
  },
  {
   "cell_type": "code",
   "execution_count": 14,
   "metadata": {},
   "outputs": [],
   "source": [
    "import pandas as pd\n",
    "import numpy as np\n",
    "import matplotlib.pyplot as plt\n",
    "import os\n",
    "\n",
    "pd.set_option('display.max_columns', None)"
   ]
  },
  {
   "cell_type": "markdown",
   "metadata": {},
   "source": [
    "Attacks descriptions:\n",
    "\n",
    "| **ID** | **Category**   |\n",
    "| -- | ------------------ |\n",
    "| 0 | Normal              |\n",
    "| 1 | DoS                 |\n",
    "| 2 | DDoS                |\n",
    "| 3 | Port Scanning       |\n",
    "| 4 | OS Fingerprinting   |\n",
    "| 5 | Fuzzing             |\n"
   ]
  },
  {
   "cell_type": "code",
   "execution_count": 3,
   "metadata": {},
   "outputs": [],
   "source": [
    "DATA_5_PATH  = '/data/sdn-dataset/SDN-Dataset-master/5-iot/data'\n",
    "DATA_10_PATH = '/data/sdn-dataset/SDN-Dataset-master/10-iot/data'"
   ]
  },
  {
   "cell_type": "code",
   "execution_count": 9,
   "metadata": {},
   "outputs": [],
   "source": [
    "# Peek at the data\n",
    "sample = pd.read_csv('/data/sdn-dataset/SDN-Dataset-master/5-iot/data/ddos1.csv')"
   ]
  },
  {
   "cell_type": "code",
   "execution_count": 10,
   "metadata": {},
   "outputs": [
    {
     "name": "stdout",
     "output_type": "stream",
     "text": [
      "<class 'pandas.core.frame.DataFrame'>\n",
      "RangeIndex: 35392 entries, 0 to 35391\n",
      "Data columns (total 33 columns):\n",
      " #   Column             Non-Null Count  Dtype  \n",
      "---  ------             --------------  -----  \n",
      " 0   srcMAC             35392 non-null  object \n",
      " 1   dstMAC             35392 non-null  object \n",
      " 2   srcIP              35392 non-null  object \n",
      " 3   dstIP              35392 non-null  object \n",
      " 4   srcPort            35392 non-null  int64  \n",
      " 5   dstPort            35392 non-null  int64  \n",
      " 6   last_seen          35392 non-null  int64  \n",
      " 7   Protocol           35392 non-null  object \n",
      " 8   proto_number       35392 non-null  int64  \n",
      " 9   Dur                35392 non-null  float64\n",
      " 10  Mean               35392 non-null  float64\n",
      " 11  Stddev             35391 non-null  float64\n",
      " 12  Min                35391 non-null  float64\n",
      " 13  Max                35391 non-null  float64\n",
      " 14  Pkts               35391 non-null  float64\n",
      " 15  Bytes              35391 non-null  float64\n",
      " 16  Spkts              35391 non-null  float64\n",
      " 17  Dpkts              35391 non-null  float64\n",
      " 18  Sbytes             35391 non-null  float64\n",
      " 19  Dbytes             35391 non-null  float64\n",
      " 20  Srate              35391 non-null  float64\n",
      " 21  Drate              35391 non-null  float64\n",
      " 22  Sum                35391 non-null  float64\n",
      " 23  TnBPSrcIP          35391 non-null  float64\n",
      " 24  TnBPDstIP          35391 non-null  float64\n",
      " 25  TnP_PSrcIP         35391 non-null  float64\n",
      " 26  TnP_PDstIP         35391 non-null  float64\n",
      " 27  TnP_PerProto       35391 non-null  float64\n",
      " 28  TnP_Per_Dport      35391 non-null  float64\n",
      " 29  N_IN_Conn_P_DstIP  35391 non-null  float64\n",
      " 30  N_IN_Conn_P_SrcIP  35391 non-null  float64\n",
      " 31  Attack             35391 non-null  float64\n",
      " 32  Category           35391 non-null  float64\n",
      "dtypes: float64(24), int64(4), object(5)\n",
      "memory usage: 8.9+ MB\n"
     ]
    }
   ],
   "source": [
    "sample.info()"
   ]
  },
  {
   "cell_type": "code",
   "execution_count": 15,
   "metadata": {},
   "outputs": [
    {
     "data": {
      "text/html": [
       "<div>\n",
       "<style scoped>\n",
       "    .dataframe tbody tr th:only-of-type {\n",
       "        vertical-align: middle;\n",
       "    }\n",
       "\n",
       "    .dataframe tbody tr th {\n",
       "        vertical-align: top;\n",
       "    }\n",
       "\n",
       "    .dataframe thead th {\n",
       "        text-align: right;\n",
       "    }\n",
       "</style>\n",
       "<table border=\"1\" class=\"dataframe\">\n",
       "  <thead>\n",
       "    <tr style=\"text-align: right;\">\n",
       "      <th></th>\n",
       "      <th>srcMAC</th>\n",
       "      <th>dstMAC</th>\n",
       "      <th>srcIP</th>\n",
       "      <th>dstIP</th>\n",
       "      <th>srcPort</th>\n",
       "      <th>dstPort</th>\n",
       "      <th>last_seen</th>\n",
       "      <th>Protocol</th>\n",
       "      <th>proto_number</th>\n",
       "      <th>Dur</th>\n",
       "      <th>Mean</th>\n",
       "      <th>Stddev</th>\n",
       "      <th>Min</th>\n",
       "      <th>Max</th>\n",
       "      <th>Pkts</th>\n",
       "      <th>Bytes</th>\n",
       "      <th>Spkts</th>\n",
       "      <th>Dpkts</th>\n",
       "      <th>Sbytes</th>\n",
       "      <th>Dbytes</th>\n",
       "      <th>Srate</th>\n",
       "      <th>Drate</th>\n",
       "      <th>Sum</th>\n",
       "      <th>TnBPSrcIP</th>\n",
       "      <th>TnBPDstIP</th>\n",
       "      <th>TnP_PSrcIP</th>\n",
       "      <th>TnP_PDstIP</th>\n",
       "      <th>TnP_PerProto</th>\n",
       "      <th>TnP_Per_Dport</th>\n",
       "      <th>N_IN_Conn_P_DstIP</th>\n",
       "      <th>N_IN_Conn_P_SrcIP</th>\n",
       "      <th>Attack</th>\n",
       "      <th>Category</th>\n",
       "    </tr>\n",
       "  </thead>\n",
       "  <tbody>\n",
       "    <tr>\n",
       "      <th>0</th>\n",
       "      <td>0E:DF:76:42:F6:E2</td>\n",
       "      <td>46:EE:66:73:81:C3</td>\n",
       "      <td>10.0.0.10/32</td>\n",
       "      <td>10.0.0.11/32</td>\n",
       "      <td>33078</td>\n",
       "      <td>3000</td>\n",
       "      <td>1589568334232</td>\n",
       "      <td>udp</td>\n",
       "      <td>17</td>\n",
       "      <td>10.0</td>\n",
       "      <td>6.545455</td>\n",
       "      <td>4.274661</td>\n",
       "      <td>2.0</td>\n",
       "      <td>14.0</td>\n",
       "      <td>2439.0</td>\n",
       "      <td>1205261.0</td>\n",
       "      <td>444.0</td>\n",
       "      <td>0.0</td>\n",
       "      <td>22200.0</td>\n",
       "      <td>0.0</td>\n",
       "      <td>44.400000</td>\n",
       "      <td>0.000000</td>\n",
       "      <td>72.0</td>\n",
       "      <td>172180.142857</td>\n",
       "      <td>200876.833333</td>\n",
       "      <td>348.428571</td>\n",
       "      <td>406.5</td>\n",
       "      <td>1219.5</td>\n",
       "      <td>304.875</td>\n",
       "      <td>1.833333</td>\n",
       "      <td>1.833333</td>\n",
       "      <td>0.0</td>\n",
       "      <td>0.0</td>\n",
       "    </tr>\n",
       "    <tr>\n",
       "      <th>1</th>\n",
       "      <td>46:EE:66:73:81:C3</td>\n",
       "      <td>9A:11:C6:40:82:03</td>\n",
       "      <td>10.0.0.11/32</td>\n",
       "      <td>10.0.0.7/32</td>\n",
       "      <td>2000</td>\n",
       "      <td>48378</td>\n",
       "      <td>1589568334232</td>\n",
       "      <td>tcp</td>\n",
       "      <td>6</td>\n",
       "      <td>6.0</td>\n",
       "      <td>6.545455</td>\n",
       "      <td>4.274661</td>\n",
       "      <td>2.0</td>\n",
       "      <td>14.0</td>\n",
       "      <td>2439.0</td>\n",
       "      <td>1205261.0</td>\n",
       "      <td>3.0</td>\n",
       "      <td>5.0</td>\n",
       "      <td>198.0</td>\n",
       "      <td>398.0</td>\n",
       "      <td>0.500000</td>\n",
       "      <td>0.833333</td>\n",
       "      <td>72.0</td>\n",
       "      <td>172180.142857</td>\n",
       "      <td>200876.833333</td>\n",
       "      <td>348.428571</td>\n",
       "      <td>406.5</td>\n",
       "      <td>1219.5</td>\n",
       "      <td>304.875</td>\n",
       "      <td>1.833333</td>\n",
       "      <td>1.833333</td>\n",
       "      <td>0.0</td>\n",
       "      <td>0.0</td>\n",
       "    </tr>\n",
       "    <tr>\n",
       "      <th>2</th>\n",
       "      <td>46:EE:66:73:81:C3</td>\n",
       "      <td>EA:8E:F0:07:FE:84</td>\n",
       "      <td>10.0.0.11/32</td>\n",
       "      <td>10.0.0.12/32</td>\n",
       "      <td>12345</td>\n",
       "      <td>50044</td>\n",
       "      <td>1589568334232</td>\n",
       "      <td>tcp</td>\n",
       "      <td>6</td>\n",
       "      <td>14.0</td>\n",
       "      <td>6.545455</td>\n",
       "      <td>4.274661</td>\n",
       "      <td>2.0</td>\n",
       "      <td>14.0</td>\n",
       "      <td>2439.0</td>\n",
       "      <td>1205261.0</td>\n",
       "      <td>841.0</td>\n",
       "      <td>1118.0</td>\n",
       "      <td>55506.0</td>\n",
       "      <td>1124885.0</td>\n",
       "      <td>60.071429</td>\n",
       "      <td>79.857143</td>\n",
       "      <td>72.0</td>\n",
       "      <td>172180.142857</td>\n",
       "      <td>200876.833333</td>\n",
       "      <td>348.428571</td>\n",
       "      <td>406.5</td>\n",
       "      <td>1219.5</td>\n",
       "      <td>304.875</td>\n",
       "      <td>1.833333</td>\n",
       "      <td>1.833333</td>\n",
       "      <td>0.0</td>\n",
       "      <td>0.0</td>\n",
       "    </tr>\n",
       "    <tr>\n",
       "      <th>3</th>\n",
       "      <td>9A:11:C6:40:82:03</td>\n",
       "      <td>46:EE:66:73:81:C3</td>\n",
       "      <td>10.0.0.7/32</td>\n",
       "      <td>10.0.0.11/32</td>\n",
       "      <td>48378</td>\n",
       "      <td>2000</td>\n",
       "      <td>1589568334232</td>\n",
       "      <td>tcp</td>\n",
       "      <td>6</td>\n",
       "      <td>6.0</td>\n",
       "      <td>6.545455</td>\n",
       "      <td>4.274661</td>\n",
       "      <td>2.0</td>\n",
       "      <td>14.0</td>\n",
       "      <td>2439.0</td>\n",
       "      <td>1205261.0</td>\n",
       "      <td>5.0</td>\n",
       "      <td>3.0</td>\n",
       "      <td>398.0</td>\n",
       "      <td>198.0</td>\n",
       "      <td>0.833333</td>\n",
       "      <td>0.500000</td>\n",
       "      <td>72.0</td>\n",
       "      <td>172180.142857</td>\n",
       "      <td>200876.833333</td>\n",
       "      <td>348.428571</td>\n",
       "      <td>406.5</td>\n",
       "      <td>1219.5</td>\n",
       "      <td>304.875</td>\n",
       "      <td>1.833333</td>\n",
       "      <td>1.833333</td>\n",
       "      <td>0.0</td>\n",
       "      <td>0.0</td>\n",
       "    </tr>\n",
       "    <tr>\n",
       "      <th>4</th>\n",
       "      <td>4E:69:C4:82:F0:28</td>\n",
       "      <td>46:EE:66:73:81:C3</td>\n",
       "      <td>10.0.0.5/32</td>\n",
       "      <td>10.0.0.11/32</td>\n",
       "      <td>48994</td>\n",
       "      <td>2000</td>\n",
       "      <td>1589568334232</td>\n",
       "      <td>tcp</td>\n",
       "      <td>6</td>\n",
       "      <td>4.0</td>\n",
       "      <td>6.545455</td>\n",
       "      <td>4.274661</td>\n",
       "      <td>2.0</td>\n",
       "      <td>14.0</td>\n",
       "      <td>2439.0</td>\n",
       "      <td>1205261.0</td>\n",
       "      <td>4.0</td>\n",
       "      <td>2.0</td>\n",
       "      <td>298.0</td>\n",
       "      <td>132.0</td>\n",
       "      <td>1.000000</td>\n",
       "      <td>0.500000</td>\n",
       "      <td>72.0</td>\n",
       "      <td>172180.142857</td>\n",
       "      <td>200876.833333</td>\n",
       "      <td>348.428571</td>\n",
       "      <td>406.5</td>\n",
       "      <td>1219.5</td>\n",
       "      <td>304.875</td>\n",
       "      <td>1.833333</td>\n",
       "      <td>1.833333</td>\n",
       "      <td>0.0</td>\n",
       "      <td>0.0</td>\n",
       "    </tr>\n",
       "  </tbody>\n",
       "</table>\n",
       "</div>"
      ],
      "text/plain": [
       "              srcMAC             dstMAC         srcIP         dstIP  srcPort  \\\n",
       "0  0E:DF:76:42:F6:E2  46:EE:66:73:81:C3  10.0.0.10/32  10.0.0.11/32    33078   \n",
       "1  46:EE:66:73:81:C3  9A:11:C6:40:82:03  10.0.0.11/32   10.0.0.7/32     2000   \n",
       "2  46:EE:66:73:81:C3  EA:8E:F0:07:FE:84  10.0.0.11/32  10.0.0.12/32    12345   \n",
       "3  9A:11:C6:40:82:03  46:EE:66:73:81:C3   10.0.0.7/32  10.0.0.11/32    48378   \n",
       "4  4E:69:C4:82:F0:28  46:EE:66:73:81:C3   10.0.0.5/32  10.0.0.11/32    48994   \n",
       "\n",
       "   dstPort      last_seen Protocol  proto_number   Dur      Mean    Stddev  \\\n",
       "0     3000  1589568334232      udp            17  10.0  6.545455  4.274661   \n",
       "1    48378  1589568334232      tcp             6   6.0  6.545455  4.274661   \n",
       "2    50044  1589568334232      tcp             6  14.0  6.545455  4.274661   \n",
       "3     2000  1589568334232      tcp             6   6.0  6.545455  4.274661   \n",
       "4     2000  1589568334232      tcp             6   4.0  6.545455  4.274661   \n",
       "\n",
       "   Min   Max    Pkts      Bytes  Spkts   Dpkts   Sbytes     Dbytes      Srate  \\\n",
       "0  2.0  14.0  2439.0  1205261.0  444.0     0.0  22200.0        0.0  44.400000   \n",
       "1  2.0  14.0  2439.0  1205261.0    3.0     5.0    198.0      398.0   0.500000   \n",
       "2  2.0  14.0  2439.0  1205261.0  841.0  1118.0  55506.0  1124885.0  60.071429   \n",
       "3  2.0  14.0  2439.0  1205261.0    5.0     3.0    398.0      198.0   0.833333   \n",
       "4  2.0  14.0  2439.0  1205261.0    4.0     2.0    298.0      132.0   1.000000   \n",
       "\n",
       "       Drate   Sum      TnBPSrcIP      TnBPDstIP  TnP_PSrcIP  TnP_PDstIP  \\\n",
       "0   0.000000  72.0  172180.142857  200876.833333  348.428571       406.5   \n",
       "1   0.833333  72.0  172180.142857  200876.833333  348.428571       406.5   \n",
       "2  79.857143  72.0  172180.142857  200876.833333  348.428571       406.5   \n",
       "3   0.500000  72.0  172180.142857  200876.833333  348.428571       406.5   \n",
       "4   0.500000  72.0  172180.142857  200876.833333  348.428571       406.5   \n",
       "\n",
       "   TnP_PerProto  TnP_Per_Dport  N_IN_Conn_P_DstIP  N_IN_Conn_P_SrcIP  Attack  \\\n",
       "0        1219.5        304.875           1.833333           1.833333     0.0   \n",
       "1        1219.5        304.875           1.833333           1.833333     0.0   \n",
       "2        1219.5        304.875           1.833333           1.833333     0.0   \n",
       "3        1219.5        304.875           1.833333           1.833333     0.0   \n",
       "4        1219.5        304.875           1.833333           1.833333     0.0   \n",
       "\n",
       "   Category  \n",
       "0       0.0  \n",
       "1       0.0  \n",
       "2       0.0  \n",
       "3       0.0  \n",
       "4       0.0  "
      ]
     },
     "execution_count": 15,
     "metadata": {},
     "output_type": "execute_result"
    }
   ],
   "source": [
    "sample.head()"
   ]
  },
  {
   "cell_type": "code",
   "execution_count": 12,
   "metadata": {},
   "outputs": [
    {
     "data": {
      "text/plain": [
       "Attack\n",
       "0.0    18914\n",
       "1.0    16477\n",
       "Name: count, dtype: int64"
      ]
     },
     "execution_count": 12,
     "metadata": {},
     "output_type": "execute_result"
    }
   ],
   "source": [
    "sample['Attack'].value_counts()"
   ]
  },
  {
   "cell_type": "code",
   "execution_count": 13,
   "metadata": {},
   "outputs": [
    {
     "data": {
      "text/plain": [
       "Category\n",
       "0.0    18914\n",
       "2.0    16477\n",
       "Name: count, dtype: int64"
      ]
     },
     "execution_count": 13,
     "metadata": {},
     "output_type": "execute_result"
    }
   ],
   "source": [
    "sample['Category'].value_counts()"
   ]
  },
  {
   "cell_type": "code",
   "execution_count": 42,
   "metadata": {},
   "outputs": [
    {
     "data": {
      "text/plain": [
       "0    10.0\n",
       "1     6.0\n",
       "2    14.0\n",
       "3     6.0\n",
       "4     4.0\n",
       "Name: Dur, dtype: float64"
      ]
     },
     "execution_count": 42,
     "metadata": {},
     "output_type": "execute_result"
    }
   ],
   "source": [
    "# Supposing the duration is in seconds\n",
    "sample['Dur'].head()"
   ]
  },
  {
   "cell_type": "code",
   "execution_count": 43,
   "metadata": {},
   "outputs": [
    {
     "data": {
      "text/plain": [
       "0    1589568334232\n",
       "1    1589568334232\n",
       "2    1589568334232\n",
       "3    1589568334232\n",
       "4    1589568334232\n",
       "Name: last_seen, dtype: int64"
      ]
     },
     "execution_count": 43,
     "metadata": {},
     "output_type": "execute_result"
    }
   ],
   "source": [
    "sample['last_seen'].head()"
   ]
  },
  {
   "cell_type": "markdown",
   "metadata": {},
   "source": [
    "Looks good so far. Let's load all the data."
   ]
  },
  {
   "cell_type": "code",
   "execution_count": 25,
   "metadata": {},
   "outputs": [],
   "source": [
    "def load_folder(path):\n",
    "    data = pd.DataFrame()\n",
    "\n",
    "    for file in sorted(os.listdir(path)):\n",
    "        data_part = pd.read_csv(os.path.join(path, file))\n",
    "        data = pd.concat([data, data_part])\n",
    "\n",
    "    return data"
   ]
  },
  {
   "cell_type": "code",
   "execution_count": 26,
   "metadata": {},
   "outputs": [],
   "source": [
    "data5 = load_folder(DATA_5_PATH)\n",
    "data10 = load_folder(DATA_10_PATH)"
   ]
  },
  {
   "cell_type": "code",
   "execution_count": 28,
   "metadata": {},
   "outputs": [
    {
     "name": "stdout",
     "output_type": "stream",
     "text": [
      "<class 'pandas.core.frame.DataFrame'>\n",
      "Index: 27926896 entries, 0 to 1859984\n",
      "Data columns (total 33 columns):\n",
      " #   Column             Dtype  \n",
      "---  ------             -----  \n",
      " 0   srcMAC             object \n",
      " 1   dstMAC             object \n",
      " 2   srcIP              object \n",
      " 3   dstIP              object \n",
      " 4   srcPort            float64\n",
      " 5   dstPort            float64\n",
      " 6   last_seen          float64\n",
      " 7   Protocol           object \n",
      " 8   proto_number       float64\n",
      " 9   Dur                float64\n",
      " 10  Mean               float64\n",
      " 11  Stddev             float64\n",
      " 12  Min                float64\n",
      " 13  Max                float64\n",
      " 14  Pkts               float64\n",
      " 15  Bytes              float64\n",
      " 16  Spkts              float64\n",
      " 17  Dpkts              float64\n",
      " 18  Sbytes             float64\n",
      " 19  Dbytes             float64\n",
      " 20  Srate              float64\n",
      " 21  Drate              float64\n",
      " 22  Sum                float64\n",
      " 23  TnBPSrcIP          float64\n",
      " 24  TnBPDstIP          float64\n",
      " 25  TnP_PSrcIP         float64\n",
      " 26  TnP_PDstIP         float64\n",
      " 27  TnP_PerProto       float64\n",
      " 28  TnP_Per_Dport      float64\n",
      " 29  N_IN_Conn_P_DstIP  float64\n",
      " 30  N_IN_Conn_P_SrcIP  float64\n",
      " 31  Attack             float64\n",
      " 32  Category           float64\n",
      "dtypes: float64(28), object(5)\n",
      "memory usage: 7.1+ GB\n"
     ]
    }
   ],
   "source": [
    "data5.info(verbose=True)"
   ]
  },
  {
   "cell_type": "code",
   "execution_count": 31,
   "metadata": {},
   "outputs": [
    {
     "data": {
      "text/plain": [
       "Attack\n",
       "1.0    26243324\n",
       "0.0     1683562\n",
       "Name: count, dtype: int64"
      ]
     },
     "execution_count": 31,
     "metadata": {},
     "output_type": "execute_result"
    }
   ],
   "source": [
    "data5['Attack'].value_counts()"
   ]
  },
  {
   "cell_type": "code",
   "execution_count": 32,
   "metadata": {},
   "outputs": [
    {
     "data": {
      "text/plain": [
       "Category\n",
       "3.0    20681185\n",
       "4.0     3392920\n",
       "0.0     1683562\n",
       "5.0     1183807\n",
       "1.0      793646\n",
       "2.0      191766\n",
       "Name: count, dtype: int64"
      ]
     },
     "execution_count": 32,
     "metadata": {},
     "output_type": "execute_result"
    }
   ],
   "source": [
    "data5['Category'].value_counts()"
   ]
  },
  {
   "cell_type": "code",
   "execution_count": 30,
   "metadata": {},
   "outputs": [
    {
     "name": "stdout",
     "output_type": "stream",
     "text": [
      "<class 'pandas.core.frame.DataFrame'>\n",
      "Index: 30101899 entries, 0 to 1657614\n",
      "Data columns (total 33 columns):\n",
      " #   Column             Dtype  \n",
      "---  ------             -----  \n",
      " 0   srcMAC             object \n",
      " 1   dstMAC             object \n",
      " 2   srcIP              object \n",
      " 3   dstIP              object \n",
      " 4   srcPort            float64\n",
      " 5   dstPort            float64\n",
      " 6   last_seen          float64\n",
      " 7   Protocol           object \n",
      " 8   proto_number       float64\n",
      " 9   Dur                float64\n",
      " 10  Mean               float64\n",
      " 11  Stddev             float64\n",
      " 12  Min                float64\n",
      " 13  Max                float64\n",
      " 14  Pkts               float64\n",
      " 15  Bytes              float64\n",
      " 16  Spkts              float64\n",
      " 17  Dpkts              float64\n",
      " 18  Sbytes             float64\n",
      " 19  Dbytes             float64\n",
      " 20  Srate              float64\n",
      " 21  Drate              float64\n",
      " 22  Sum                float64\n",
      " 23  TnBPSrcIP          float64\n",
      " 24  TnBPDstIP          float64\n",
      " 25  TnP_PSrcIP         float64\n",
      " 26  TnP_PDstIP         float64\n",
      " 27  TnP_PerProto       float64\n",
      " 28  TnP_Per_Dport      float64\n",
      " 29  N_IN_Conn_P_DstIP  float64\n",
      " 30  N_IN_Conn_P_SrcIP  float64\n",
      " 31  Attack             float64\n",
      " 32  Category           float64\n",
      "dtypes: float64(28), object(5)\n",
      "memory usage: 7.6+ GB\n"
     ]
    }
   ],
   "source": [
    "data10.info()"
   ]
  },
  {
   "cell_type": "code",
   "execution_count": 33,
   "metadata": {},
   "outputs": [
    {
     "data": {
      "text/plain": [
       "Category\n",
       "3.0    22445217\n",
       "4.0     3387049\n",
       "0.0     2603809\n",
       "5.0     1053009\n",
       "1.0      430116\n",
       "2.0      182690\n",
       "Name: count, dtype: int64"
      ]
     },
     "execution_count": 33,
     "metadata": {},
     "output_type": "execute_result"
    }
   ],
   "source": [
    "data10['Category'].value_counts()"
   ]
  },
  {
   "cell_type": "markdown",
   "metadata": {},
   "source": [
    "## Capture Length Determination\n",
    "All we need at this point of the analysis is the length of the data5 and data10 captures."
   ]
  },
  {
   "cell_type": "code",
   "execution_count": 35,
   "metadata": {},
   "outputs": [],
   "source": [
    "# Trivially sort by last_seen\n",
    "data5_tstamps_sorted = data5['last_seen'].sort_values()"
   ]
  },
  {
   "cell_type": "code",
   "execution_count": 36,
   "metadata": {},
   "outputs": [
    {
     "data": {
      "text/plain": [
       "nan"
      ]
     },
     "execution_count": 36,
     "metadata": {},
     "output_type": "execute_result"
    }
   ],
   "source": [
    "data5_tstamps_sorted.iloc[-1] - data5_tstamps_sorted.iloc[0]"
   ]
  },
  {
   "cell_type": "code",
   "execution_count": 37,
   "metadata": {},
   "outputs": [
    {
     "data": {
      "text/plain": [
       "12    1.589114e+12\n",
       "1     1.589114e+12\n",
       "0     1.589114e+12\n",
       "2     1.589114e+12\n",
       "3     1.589114e+12\n",
       "Name: last_seen, dtype: float64"
      ]
     },
     "execution_count": 37,
     "metadata": {},
     "output_type": "execute_result"
    }
   ],
   "source": [
    "data5_tstamps_sorted.head()"
   ]
  },
  {
   "cell_type": "code",
   "execution_count": null,
   "metadata": {},
   "outputs": [
    {
     "data": {
      "text/plain": [
       "34691    1.589630e+12\n",
       "34690    1.589630e+12\n",
       "34681    1.589630e+12\n",
       "34689    1.589630e+12\n",
       "28543             NaN\n",
       "Name: last_seen, dtype: float64"
      ]
     },
     "execution_count": 38,
     "metadata": {},
     "output_type": "execute_result"
    }
   ],
   "source": [
    "data5_tstamps_sorted.tail()"
   ]
  },
  {
   "cell_type": "markdown",
   "metadata": {},
   "source": [
    "Ok, 1 is nan, lets count with the -2 from the end."
   ]
  },
  {
   "cell_type": "code",
   "execution_count": null,
   "metadata": {},
   "outputs": [
    {
     "data": {
      "text/plain": [
       "8591.973883333334"
      ]
     },
     "metadata": {},
     "output_type": "display_data"
    },
    {
     "data": {
      "text/plain": [
       "143.19956472222222"
      ]
     },
     "metadata": {},
     "output_type": "display_data"
    }
   ],
   "source": [
    "# Duration from msec to sec to minutes\n",
    "time_mins = (data5_tstamps_sorted.iloc[-2] - data5_tstamps_sorted.iloc[0]) / 1000 / 60\n",
    "time_hrs = time_mins / 60\n",
    "\n",
    "display(time_mins)\n",
    "display(time_hrs)"
   ]
  },
  {
   "cell_type": "markdown",
   "metadata": {},
   "source": [
    "This is hellishly long... Let's break it piece by piece..."
   ]
  },
  {
   "cell_type": "code",
   "execution_count": 54,
   "metadata": {},
   "outputs": [],
   "source": [
    "def count_dur(path):\n",
    "    dur_total_mins = 0\n",
    "\n",
    "    for file in os.listdir(path):\n",
    "        dframe = pd.read_csv(os.path.join(path, file))\n",
    "        dframe['first_seen'] = dframe['last_seen'] - (dframe['Dur'] * 1000)\n",
    "\n",
    "        tstamp_start = dframe['first_seen'].sort_values().iloc[0]\n",
    "\n",
    "        # Let's do -2 to avoid NaN this time to avoid dropping many NaN rows\n",
    "        tstamp_end   = dframe['last_seen'].sort_values().iloc[-2]\n",
    "\n",
    "        # Duration to seconds to minutes\n",
    "        dframe_dur   = (tstamp_end - tstamp_start) / 1000 / 60\n",
    "\n",
    "        dur_total_mins += dframe_dur\n",
    "\n",
    "        print(f'{file} : {dframe_dur}')\n",
    "\n",
    "    return dur_total_mins"
   ]
  },
  {
   "cell_type": "code",
   "execution_count": 55,
   "metadata": {},
   "outputs": [
    {
     "name": "stdout",
     "output_type": "stream",
     "text": [
      "only_normal_traffic1.csv : 30.483349999999998\n",
      "only_normal_traffic12.csv : 30.300016666666668\n",
      "ddos6.csv : 30.216666666666665\n",
      "port_scan3.csv : 32.150016666666666\n",
      "dos2.csv : 56.37408333333334\n",
      "only_normal_traffic15.csv : 30.250016666666667\n",
      "port_scan6.csv : 31.401166666666665\n",
      "dos6.csv : 30.283333333333335\n",
      "port_scan2.csv : 32.48336666666667\n",
      "dos5.csv : 30.550016666666668\n",
      "ddos8.csv : 23.72301666666667\n",
      "only_normal_traffic17.csv : 30.28441666666667\n",
      "ddos12.csv : 30.333383333333334\n",
      "only_normal_traffic2.csv : 30.38335\n",
      "only_normal_traffic8.csv : 30.283333333333335\n",
      "only_normal_traffic9.csv : 30.3106\n",
      "fuzzer6.csv : 30.566683333333334\n",
      "only_normal_traffic4.csv : 30.333366666666667\n",
      "only_normal_traffic19.csv : 30.28335\n",
      "port_scan9.csv : 31.30325\n",
      "os_service_detection2.csv : 62.849916666666665\n",
      "only_normal_traffic7.csv : 30.333366666666667\n",
      "dos3.csv : 98.01461666666667\n",
      "dos11.csv : 63.18333333333333\n",
      "dos10.csv : 54.348499999999994\n",
      "fuzzer5.csv : 30.666716666666666\n",
      "fuzzer8.csv : 30.35\n",
      "only_normal_traffic10.csv : 30.28335\n",
      "os_service_detection10.csv : 30.58335\n",
      "ddos1.csv : 51.22955\n",
      "only_normal_traffic5.csv : 30.4667\n",
      "dos4.csv : 51.88125\n",
      "only_normal_traffic16.csv : 30.250016666666667\n",
      "fuzzer9.csv : 30.400016666666666\n",
      "only_normal_traffic3.csv : 30.254183333333334\n",
      "dos12.csv : 30.283366666666666\n",
      "only_normal_traffic13.csv : 30.366699999999998\n",
      "os_service_detection3.csv : 30.600033333333332\n",
      "os_service_detection8.csv : 63.16661666666666\n",
      "port_scan8.csv : 31.35148333333333\n",
      "ddos10.csv : 22.055349999999997\n",
      "ddos11.csv : 30.300016666666668\n",
      "ddos9.csv : 22.240150000000003\n",
      "fuzzer3.csv : 30.637566666666665\n",
      "ddos4.csv : 23.55715\n",
      "port_scan4.csv : 32.15003333333333\n",
      "os_service_detection9.csv : 30.63335\n",
      "port_scan7.csv : 31.272499999999997\n",
      "only_normal_traffic11.csv : 30.25\n",
      "ddos3.csv : 22.54351666666667\n",
      "os_service_detection4.csv : 70.74993333333333\n",
      "dos1.csv : 85.22878333333333\n",
      "only_normal_traffic18.csv : 30.266683333333333\n",
      "only_normal_traffic20.csv : 30.28335\n",
      "port_scan1.csv : 32.33335\n",
      "port_scan10.csv : 31.275283333333334\n",
      "dos8.csv : 52.82973333333334\n",
      "ddos7.csv : 22.1758\n",
      "ddos5.csv : 30.269133333333333\n",
      "fuzzer7.csv : 30.433333333333334\n",
      "only_normal_traffic6.csv : 30.500016666666667\n",
      "fuzzer4.csv : 30.489316666666664\n",
      "os_service_detection7.csv : 30.500016666666667\n",
      "os_service_detection1.csv : 30.78335\n",
      "only_normal_traffic14.csv : 30.28335\n",
      "dos9.csv : 52.209966666666666\n",
      "fuzzer2.csv : 30.450100000000003\n",
      "os_service_detection5.csv : 30.75\n",
      "fuzzer10.csv : 30.400100000000002\n",
      "dos7.csv : 53.32195\n",
      "ddos2.csv : 25.090466666666668\n",
      "port_scan5.csv : 31.45681666666667\n",
      "os_service_detection6.csv : 30.484750000000002\n",
      "fuzzer1.csv : 30.493916666666667\n"
     ]
    },
    {
     "data": {
      "text/plain": [
       "2631.8589833333344"
      ]
     },
     "execution_count": 55,
     "metadata": {},
     "output_type": "execute_result"
    }
   ],
   "source": [
    "count_dur(DATA_5_PATH)"
   ]
  },
  {
   "cell_type": "code",
   "execution_count": 56,
   "metadata": {},
   "outputs": [
    {
     "data": {
      "text/plain": [
       "43.86431638888891"
      ]
     },
     "execution_count": 56,
     "metadata": {},
     "output_type": "execute_result"
    }
   ],
   "source": [
    "# Mins to hours\n",
    "2631.8589833333344 / 60"
   ]
  },
  {
   "cell_type": "code",
   "execution_count": 59,
   "metadata": {},
   "outputs": [
    {
     "name": "stdout",
     "output_type": "stream",
     "text": [
      "only_normal_traffic1.csv : 30.38335\n",
      "only_normal_traffic12.csv : 30.25003333333333\n",
      "ddos6.csv : 30.239833333333333\n",
      "port_scan3.csv : 33.2138\n",
      "dos2.csv : 54.28888333333334\n",
      "only_normal_traffic15.csv : 30.233349999999998\n",
      "port_scan6.csv : 31.446216666666665\n",
      "dos6.csv : 30.45925\n",
      "port_scan2.csv : 32.533366666666666\n",
      "dos5.csv : 53.2961\n",
      "ddos8.csv : 60.35896666666667\n",
      "only_normal_traffic17.csv : 30.316666666666666\n",
      "ddos12.csv : 30.291083333333333\n",
      "only_normal_traffic2.csv : 30.2953\n",
      "only_normal_traffic8.csv : 30.3\n",
      "only_normal_traffic9.csv : 30.283333333333335\n",
      "fuzzer6.csv : 30.350016666666665\n",
      "only_normal_traffic4.csv : 30.33335\n",
      "only_normal_traffic19.csv : 30.25\n",
      "port_scan9.csv : 31.41675\n",
      "os_service_detection2.csv : 30.483366666666665\n",
      "only_normal_traffic7.csv : 30.304883333333333\n",
      "dos3.csv : 43.903800000000004\n",
      "dos11.csv : 30.266683333333333\n",
      "fuzzer5.csv : 44.21071666666667\n",
      "fuzzer8.csv : 30.33335\n",
      "only_normal_traffic10.csv : 30.233333333333334\n",
      "os_service_detection10.csv : 30.487266666666667\n",
      "ddos1.csv : 31.511599999999998\n",
      "only_normal_traffic5.csv : 30.266666666666666\n",
      "dos4.csv : 58.29315\n",
      "only_normal_traffic16.csv : 30.283366666666666\n",
      "fuzzer9.csv : 43.8179\n",
      "only_normal_traffic3.csv : 30.300016666666668\n",
      "dos12.csv : 30.250016666666667\n",
      "only_normal_traffic13.csv : 30.266683333333333\n",
      "os_service_detection3.csv : 30.53335\n",
      "os_service_detection8.csv : 30.46146666666667\n",
      "port_scan8.csv : 31.526433333333333\n",
      "ddos10.csv : 38.90933333333333\n",
      "ddos11.csv : 30.266666666666666\n",
      "ddos9.csv : 24.954583333333336\n",
      "fuzzer3.csv : 30.486266666666666\n",
      "ddos4.csv : 23.090916666666665\n",
      "port_scan4.csv : 32.18333333333333\n",
      "os_service_detection9.csv : 30.4869\n",
      "port_scan7.csv : 31.783383333333333\n",
      "only_normal_traffic11.csv : 30.266666666666666\n",
      "ddos3.csv : 22.65583333333333\n",
      "os_service_detection4.csv : 30.53335\n",
      "dos1.csv : 51.043816666666665\n",
      "only_normal_traffic18.csv : 30.216683333333332\n",
      "only_normal_traffic20.csv : 30.25\n",
      "port_scan1.csv : 32.974016666666664\n",
      "port_scan10.csv : 31.35\n",
      "dos8.csv : 64.8434\n",
      "ddos7.csv : 34.87428333333333\n",
      "ddos5.csv : 30.266666666666666\n",
      "fuzzer7.csv : 30.368016666666666\n",
      "only_normal_traffic6.csv : 30.325783333333334\n",
      "fuzzer4.csv : 43.13966666666667\n",
      "os_service_detection7.csv : 30.483366666666665\n",
      "os_service_detection1.csv : 30.5167\n",
      "only_normal_traffic14.csv : 30.266683333333333\n",
      "dos9.csv : 56.30546666666667\n",
      "fuzzer2.csv : 30.450033333333334\n",
      "os_service_detection5.csv : 30.5316\n",
      "fuzzer10.csv : 41.98303333333333\n",
      "dos7.csv : 46.84065\n",
      "ddos2.csv : 32.34008333333333\n",
      "port_scan5.csv : 31.4167\n",
      "os_service_detection6.csv : 30.483349999999998\n",
      "fuzzer1.csv : 30.687316666666668\n"
     ]
    },
    {
     "data": {
      "text/plain": [
       "2495.84825"
      ]
     },
     "execution_count": 59,
     "metadata": {},
     "output_type": "execute_result"
    }
   ],
   "source": [
    "# Since merged DataFrame has 143h and non-merged only 43, there are capture gaps.\n",
    "# The capture is thus non-contiguous.\n",
    "\n",
    "# Let's do the same for 10-version.\n",
    "count_dur(DATA_10_PATH)"
   ]
  },
  {
   "cell_type": "code",
   "execution_count": 70,
   "metadata": {},
   "outputs": [
    {
     "data": {
      "text/plain": [
       "41.59747083333333"
      ]
     },
     "execution_count": 70,
     "metadata": {},
     "output_type": "execute_result"
    }
   ],
   "source": [
    "2495.84825 / 60"
   ]
  },
  {
   "cell_type": "code",
   "execution_count": 69,
   "metadata": {},
   "outputs": [
    {
     "data": {
      "text/plain": [
       "37268      15899150446\n",
       "4        1589638180300\n",
       "9        1589638180300\n",
       "13       1589638180300\n",
       "20       1589638180301\n",
       "             ...      \n",
       "27709    1591128165714\n",
       "27708    1591128165714\n",
       "27707    1591128165714\n",
       "27705    1591128165714\n",
       "27702    1591128165714\n",
       "Name: last_seen, Length: 30101898, dtype: uint64"
      ]
     },
     "execution_count": 69,
     "metadata": {},
     "output_type": "execute_result"
    }
   ],
   "source": [
    "data10_tstamps_sorted = data10['last_seen'].sort_values().dropna().astype(np.uint64)\n",
    "data10_tstamps_sorted"
   ]
  },
  {
   "cell_type": "code",
   "execution_count": 72,
   "metadata": {},
   "outputs": [
    {
     "data": {
      "text/plain": [
       "4        1589638180300\n",
       "9        1589638180300\n",
       "13       1589638180300\n",
       "20       1589638180301\n",
       "19       1589638180301\n",
       "             ...      \n",
       "27709    1591128165714\n",
       "27708    1591128165714\n",
       "27707    1591128165714\n",
       "27705    1591128165714\n",
       "27702    1591128165714\n",
       "Name: last_seen, Length: 30101852, dtype: uint64"
      ]
     },
     "execution_count": 72,
     "metadata": {},
     "output_type": "execute_result"
    }
   ],
   "source": [
    "data10_tstamps_sorted = data10_tstamps_sorted.drop(37268)\n",
    "data10_tstamps_sorted"
   ]
  },
  {
   "cell_type": "code",
   "execution_count": 73,
   "metadata": {},
   "outputs": [
    {
     "data": {
      "text/plain": [
       "24833.090233333336"
      ]
     },
     "metadata": {},
     "output_type": "display_data"
    },
    {
     "data": {
      "text/plain": [
       "413.88483722222225"
      ]
     },
     "metadata": {},
     "output_type": "display_data"
    }
   ],
   "source": [
    "# And the merged variant\n",
    "# Duration from msec to sec to minutes\n",
    "time_mins = (data10_tstamps_sorted.iloc[-2] - data10_tstamps_sorted.iloc[0]) / 1000 / 60\n",
    "time_hrs = time_mins / 60\n",
    "\n",
    "display(time_mins)\n",
    "display(time_hrs)"
   ]
  },
  {
   "cell_type": "markdown",
   "metadata": {},
   "source": [
    "We are done there, though not exactly precise, but estimation of time and the knowledge of discontinuity is proven."
   ]
  }
 ],
 "metadata": {
  "kernelspec": {
   "display_name": "env",
   "language": "python",
   "name": "python3"
  },
  "language_info": {
   "codemirror_mode": {
    "name": "ipython",
    "version": 3
   },
   "file_extension": ".py",
   "mimetype": "text/x-python",
   "name": "python",
   "nbconvert_exporter": "python",
   "pygments_lexer": "ipython3",
   "version": "3.12.2"
  }
 },
 "nbformat": 4,
 "nbformat_minor": 2
}
