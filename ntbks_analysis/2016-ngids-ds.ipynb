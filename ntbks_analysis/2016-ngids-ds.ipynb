{
 "cells": [
  {
   "cell_type": "markdown",
   "metadata": {},
   "source": [
    "# NGIDS-DS Dataset Analysis\n",
    "\n",
    "* **Author:** Patrik Goldschmidt (igoldschmidt@fit.vut.cz)\n",
    "* **Project:** Network Intrusion Datasets: A Survey, Limitations, and Recommendations\n",
    "* **Date:** 2024"
   ]
  },
  {
   "cell_type": "code",
   "execution_count": 1,
   "metadata": {},
   "outputs": [],
   "source": [
    "import pandas as pd\n",
    "import numpy as np"
   ]
  },
  {
   "cell_type": "code",
   "execution_count": 3,
   "metadata": {},
   "outputs": [],
   "source": [
    "PATH = '/data/kinit/gold_data/ngids-ds/NGIDS/NGIDS-DS-v1/'\n",
    "PATH_PCAP = PATH + 'NGIDS.pcap'\n",
    "PATH_GT = PATH + 'ground_truth.csv'\n",
    "PATH_FTRS = PATH + 'feature_descr.csv'"
   ]
  },
  {
   "cell_type": "code",
   "execution_count": 6,
   "metadata": {},
   "outputs": [],
   "source": [
    "GT_HEADER = ['date', 'time', 'event', 'batch', 'desc', 'details', 'conn']"
   ]
  },
  {
   "cell_type": "code",
   "execution_count": 8,
   "metadata": {},
   "outputs": [],
   "source": [
    "gt = pd.read_csv(PATH_GT, header=0, names=GT_HEADER)"
   ]
  },
  {
   "cell_type": "code",
   "execution_count": 9,
   "metadata": {},
   "outputs": [
    {
     "name": "stdout",
     "output_type": "stream",
     "text": [
      "<class 'pandas.core.frame.DataFrame'>\n",
      "RangeIndex: 313925 entries, 0 to 313924\n",
      "Data columns (total 7 columns):\n",
      " #   Column   Non-Null Count   Dtype \n",
      "---  ------   --------------   ----- \n",
      " 0   date     313925 non-null  object\n",
      " 1   time     313925 non-null  object\n",
      " 2   event    313925 non-null  object\n",
      " 3   batch    313925 non-null  object\n",
      " 4   desc     313925 non-null  object\n",
      " 5   details  313925 non-null  object\n",
      " 6   conn     313925 non-null  object\n",
      "dtypes: object(7)\n",
      "memory usage: 16.8+ MB\n"
     ]
    }
   ],
   "source": [
    "gt.info()"
   ]
  },
  {
   "cell_type": "code",
   "execution_count": 10,
   "metadata": {},
   "outputs": [
    {
     "data": {
      "text/html": [
       "<div>\n",
       "<style scoped>\n",
       "    .dataframe tbody tr th:only-of-type {\n",
       "        vertical-align: middle;\n",
       "    }\n",
       "\n",
       "    .dataframe tbody tr th {\n",
       "        vertical-align: top;\n",
       "    }\n",
       "\n",
       "    .dataframe thead th {\n",
       "        text-align: right;\n",
       "    }\n",
       "</style>\n",
       "<table border=\"1\" class=\"dataframe\">\n",
       "  <thead>\n",
       "    <tr style=\"text-align: right;\">\n",
       "      <th></th>\n",
       "      <th>date</th>\n",
       "      <th>time</th>\n",
       "      <th>event</th>\n",
       "      <th>batch</th>\n",
       "      <th>desc</th>\n",
       "      <th>details</th>\n",
       "      <th>conn</th>\n",
       "    </tr>\n",
       "  </thead>\n",
       "  <tbody>\n",
       "    <tr>\n",
       "      <th>0</th>\n",
       "      <td>14/03/2016</td>\n",
       "      <td>12:14:24</td>\n",
       "      <td>Backdoors</td>\n",
       "      <td>All Batch</td>\n",
       "      <td>BlackEnergy Botnet Command and Control Communi...</td>\n",
       "      <td>http://atlas-public.ec2.arbor.net/docs/BlackEn...</td>\n",
       "      <td>175.45.176.1:3495-&gt;10.40.85.32:58782</td>\n",
       "    </tr>\n",
       "    <tr>\n",
       "      <th>1</th>\n",
       "      <td>15/03/2016</td>\n",
       "      <td>4:19:12</td>\n",
       "      <td>Backdoors</td>\n",
       "      <td>All Batch</td>\n",
       "      <td>Backdoor: Cisco Prime LAN Management (https://...</td>\n",
       "      <td>CVE 2012-6392 (http://cve.mitre.org/cgi-bin/cv...</td>\n",
       "      <td>175.45.176.0:13177-&gt;10.40.85.32:514</td>\n",
       "    </tr>\n",
       "    <tr>\n",
       "      <th>2</th>\n",
       "      <td>14/03/2016</td>\n",
       "      <td>9:36:00</td>\n",
       "      <td>Backdoors</td>\n",
       "      <td>All Batch</td>\n",
       "      <td>phpmyadmin 3.5.2.2 Backdoor Access and Code Ex...</td>\n",
       "      <td>CVE 2012-5159 (http://cve.mitre.org/cgi-bin/cv...</td>\n",
       "      <td>IP 175.45.176.2:0-&gt;10.40.85.32:0 175.45.176.2:...</td>\n",
       "    </tr>\n",
       "    <tr>\n",
       "      <th>3</th>\n",
       "      <td>15/03/2016</td>\n",
       "      <td>11:45:36</td>\n",
       "      <td>Backdoors</td>\n",
       "      <td>All Batch</td>\n",
       "      <td>Android AndroidKungFu Malware Command and Cont...</td>\n",
       "      <td>http://about-threats.trendmicro.com/malware.as...</td>\n",
       "      <td>175.45.176.3:61508-&gt;10.40.85.32:7500</td>\n",
       "    </tr>\n",
       "    <tr>\n",
       "      <th>4</th>\n",
       "      <td>11/03/2016</td>\n",
       "      <td>9:21:36</td>\n",
       "      <td>Backdoors</td>\n",
       "      <td>All Batch</td>\n",
       "      <td>Cisco Network Registrar Default Credentials Ba...</td>\n",
       "      <td>CVE 2011-2024 (http://cve.mitre.org/cgi-bin/cv...</td>\n",
       "      <td>IP 175.45.176.0:0-&gt;10.40.85.32:0 175.45.176.0:...</td>\n",
       "    </tr>\n",
       "  </tbody>\n",
       "</table>\n",
       "</div>"
      ],
      "text/plain": [
       "         date      time      event      batch  \\\n",
       "0  14/03/2016  12:14:24  Backdoors  All Batch   \n",
       "1  15/03/2016   4:19:12  Backdoors  All Batch   \n",
       "2  14/03/2016   9:36:00  Backdoors  All Batch   \n",
       "3  15/03/2016  11:45:36  Backdoors  All Batch   \n",
       "4  11/03/2016   9:21:36  Backdoors  All Batch   \n",
       "\n",
       "                                                desc  \\\n",
       "0  BlackEnergy Botnet Command and Control Communi...   \n",
       "1  Backdoor: Cisco Prime LAN Management (https://...   \n",
       "2  phpmyadmin 3.5.2.2 Backdoor Access and Code Ex...   \n",
       "3  Android AndroidKungFu Malware Command and Cont...   \n",
       "4  Cisco Network Registrar Default Credentials Ba...   \n",
       "\n",
       "                                             details  \\\n",
       "0  http://atlas-public.ec2.arbor.net/docs/BlackEn...   \n",
       "1  CVE 2012-6392 (http://cve.mitre.org/cgi-bin/cv...   \n",
       "2  CVE 2012-5159 (http://cve.mitre.org/cgi-bin/cv...   \n",
       "3  http://about-threats.trendmicro.com/malware.as...   \n",
       "4  CVE 2011-2024 (http://cve.mitre.org/cgi-bin/cv...   \n",
       "\n",
       "                                                conn  \n",
       "0               175.45.176.1:3495->10.40.85.32:58782  \n",
       "1                175.45.176.0:13177->10.40.85.32:514  \n",
       "2  IP 175.45.176.2:0->10.40.85.32:0 175.45.176.2:...  \n",
       "3               175.45.176.3:61508->10.40.85.32:7500  \n",
       "4  IP 175.45.176.0:0->10.40.85.32:0 175.45.176.0:...  "
      ]
     },
     "execution_count": 10,
     "metadata": {},
     "output_type": "execute_result"
    }
   ],
   "source": [
    "gt.head()"
   ]
  },
  {
   "cell_type": "code",
   "execution_count": 11,
   "metadata": {},
   "outputs": [
    {
     "data": {
      "text/plain": [
       " Exploits                              158316\n",
       "Exploits                                73301\n",
       "Malware                                 35903\n",
       " Denial of Service                      18702\n",
       "Generic                                 11300\n",
       "                                        ...  \n",
       " 175.45.176.1:48788->10.40.85.32:80         1\n",
       " 175.45.176.2:31611->10.40.85.32:80         1\n",
       " 175.45.176.1:21911->10.40.85.32:80         1\n",
       " 175.45.176.1:15918->10.40.85.32:80         1\n",
       " 175.45.176.2:46146->10.40.85.32:80         1\n",
       "Name: event, Length: 357, dtype: int64"
      ]
     },
     "execution_count": 11,
     "metadata": {},
     "output_type": "execute_result"
    }
   ],
   "source": [
    "gt['event'].value_counts()"
   ]
  },
  {
   "cell_type": "code",
   "execution_count": 12,
   "metadata": {},
   "outputs": [
    {
     "data": {
      "text/html": [
       "<div>\n",
       "<style scoped>\n",
       "    .dataframe tbody tr th:only-of-type {\n",
       "        vertical-align: middle;\n",
       "    }\n",
       "\n",
       "    .dataframe tbody tr th {\n",
       "        vertical-align: top;\n",
       "    }\n",
       "\n",
       "    .dataframe thead th {\n",
       "        text-align: right;\n",
       "    }\n",
       "</style>\n",
       "<table border=\"1\" class=\"dataframe\">\n",
       "  <thead>\n",
       "    <tr style=\"text-align: right;\">\n",
       "      <th></th>\n",
       "      <th>date</th>\n",
       "      <th>time</th>\n",
       "      <th>event</th>\n",
       "      <th>batch</th>\n",
       "      <th>desc</th>\n",
       "      <th>details</th>\n",
       "      <th>conn</th>\n",
       "    </tr>\n",
       "  </thead>\n",
       "  <tbody>\n",
       "    <tr>\n",
       "      <th>334</th>\n",
       "      <td>11/03/2016</td>\n",
       "      <td>4:48:00</td>\n",
       "      <td>Denial of Service</td>\n",
       "      <td>Miscellaneous Batch</td>\n",
       "      <td>Music Bee 2.0.4663 File Denial of Service (htt...</td>\n",
       "      <td>OSVDB 94534 (http://www.osvdb.org/94534)CVSS-M...</td>\n",
       "      <td>TCP 175.45.176.1:5713-&gt;10.40.85.32:25</td>\n",
       "    </tr>\n",
       "    <tr>\n",
       "      <th>463</th>\n",
       "      <td>15/03/2016</td>\n",
       "      <td>3:36:00</td>\n",
       "      <td>Denial of Service</td>\n",
       "      <td>Asterisk</td>\n",
       "      <td>Digium Asterisk Maximum HTTP Connections Denia...</td>\n",
       "      <td>CVE 2014-4047 (http://cve.mitre.org/cgi-bin/cv...</td>\n",
       "      <td>IP 175.45.176.2:0-&gt;10.40.85.32:0IP 175.45.176....</td>\n",
       "    </tr>\n",
       "    <tr>\n",
       "      <th>464</th>\n",
       "      <td>15/03/2016</td>\n",
       "      <td>11:45:36</td>\n",
       "      <td>Denial of Service</td>\n",
       "      <td>Asterisk</td>\n",
       "      <td>Digium Asterisk Cookie Stack Overflow CVE-2014...</td>\n",
       "      <td>CVE 2014-2286 (http://cve.mitre.org/cgi-bin/cv...</td>\n",
       "      <td>175.45.176.0:36694-&gt;10.40.85.32:8088</td>\n",
       "    </tr>\n",
       "    <tr>\n",
       "      <th>465</th>\n",
       "      <td>15/03/2016</td>\n",
       "      <td>11:45:36</td>\n",
       "      <td>Denial of Service</td>\n",
       "      <td>Asterisk</td>\n",
       "      <td>Digium Asterisk SIP INVITE Session Expiration ...</td>\n",
       "      <td>CVE 2014-2287 (http://cve.mitre.org/cgi-bin/cv...</td>\n",
       "      <td>IP 175.45.176.3:0-&gt;10.40.85.32:0UDP 175.45.176...</td>\n",
       "    </tr>\n",
       "    <tr>\n",
       "      <th>466</th>\n",
       "      <td>15/03/2016</td>\n",
       "      <td>4:19:12</td>\n",
       "      <td>Denial of Service</td>\n",
       "      <td>Asterisk</td>\n",
       "      <td>Digium Asterisk Maximum HTTP Connections Denia...</td>\n",
       "      <td>CVE 2014-4047 (http://cve.mitre.org/cgi-bin/cv...</td>\n",
       "      <td>IP 175.45.176.2:0-&gt;10.40.85.32:0IP 175.45.176....</td>\n",
       "    </tr>\n",
       "  </tbody>\n",
       "</table>\n",
       "</div>"
      ],
      "text/plain": [
       "           date      time               event                 batch  \\\n",
       "334  11/03/2016   4:48:00   Denial of Service   Miscellaneous Batch   \n",
       "463  15/03/2016   3:36:00   Denial of Service             Asterisk    \n",
       "464  15/03/2016  11:45:36   Denial of Service             Asterisk    \n",
       "465  15/03/2016  11:45:36   Denial of Service             Asterisk    \n",
       "466  15/03/2016   4:19:12   Denial of Service             Asterisk    \n",
       "\n",
       "                                                  desc  \\\n",
       "334  Music Bee 2.0.4663 File Denial of Service (htt...   \n",
       "463  Digium Asterisk Maximum HTTP Connections Denia...   \n",
       "464  Digium Asterisk Cookie Stack Overflow CVE-2014...   \n",
       "465  Digium Asterisk SIP INVITE Session Expiration ...   \n",
       "466  Digium Asterisk Maximum HTTP Connections Denia...   \n",
       "\n",
       "                                               details  \\\n",
       "334  OSVDB 94534 (http://www.osvdb.org/94534)CVSS-M...   \n",
       "463  CVE 2014-4047 (http://cve.mitre.org/cgi-bin/cv...   \n",
       "464  CVE 2014-2286 (http://cve.mitre.org/cgi-bin/cv...   \n",
       "465  CVE 2014-2287 (http://cve.mitre.org/cgi-bin/cv...   \n",
       "466  CVE 2014-4047 (http://cve.mitre.org/cgi-bin/cv...   \n",
       "\n",
       "                                                  conn  \n",
       "334              TCP 175.45.176.1:5713->10.40.85.32:25  \n",
       "463  IP 175.45.176.2:0->10.40.85.32:0IP 175.45.176....  \n",
       "464               175.45.176.0:36694->10.40.85.32:8088  \n",
       "465  IP 175.45.176.3:0->10.40.85.32:0UDP 175.45.176...  \n",
       "466  IP 175.45.176.2:0->10.40.85.32:0IP 175.45.176....  "
      ]
     },
     "execution_count": 12,
     "metadata": {},
     "output_type": "execute_result"
    }
   ],
   "source": [
    "gt[gt['event'] == ' Denial of Service'].head()"
   ]
  },
  {
   "cell_type": "markdown",
   "metadata": {},
   "source": [
    "## Version 2"
   ]
  },
  {
   "cell_type": "code",
   "execution_count": 24,
   "metadata": {},
   "outputs": [],
   "source": [
    "DATA_COLS = [\n",
    "    'date',\n",
    "    'time',\n",
    "    'pid',\n",
    "    'path',\n",
    "    'syscalls',\n",
    "    'eventid',\n",
    "    'attack_cat',\n",
    "    'attack_type',\n",
    "    'label',\n",
    "    'c10',\n",
    "    'c11',\n",
    "    'joint'\n",
    "]"
   ]
  },
  {
   "cell_type": "code",
   "execution_count": 25,
   "metadata": {},
   "outputs": [],
   "source": [
    "TRAIN_CSV_PATH = '/data/kinit/gold_data/ngids-ds/NGIDS/NGIDS-DS-v2/Traing data/0_1.csv'"
   ]
  },
  {
   "cell_type": "code",
   "execution_count": 26,
   "metadata": {},
   "outputs": [],
   "source": [
    "data_train1 = pd.read_csv(TRAIN_CSV_PATH, header=0, names=DATA_COLS)"
   ]
  },
  {
   "cell_type": "code",
   "execution_count": 27,
   "metadata": {},
   "outputs": [
    {
     "name": "stdout",
     "output_type": "stream",
     "text": [
      "<class 'pandas.core.frame.DataFrame'>\n",
      "RangeIndex: 3329730 entries, 0 to 3329729\n",
      "Data columns (total 12 columns):\n",
      " #   Column       Dtype \n",
      "---  ------       ----- \n",
      " 0   date         object\n",
      " 1   time         object\n",
      " 2   pid          int64 \n",
      " 3   path         object\n",
      " 4   syscalls     int64 \n",
      " 5   eventid      int64 \n",
      " 6   attack_cat   object\n",
      " 7   attack_type  object\n",
      " 8   label        int64 \n",
      " 9   c10          int64 \n",
      " 10  c11          int64 \n",
      " 11  joint        int64 \n",
      "dtypes: int64(7), object(5)\n",
      "memory usage: 304.8+ MB\n"
     ]
    }
   ],
   "source": [
    "data_train1.info()"
   ]
  },
  {
   "cell_type": "code",
   "execution_count": 28,
   "metadata": {},
   "outputs": [
    {
     "data": {
      "text/html": [
       "<div>\n",
       "<style scoped>\n",
       "    .dataframe tbody tr th:only-of-type {\n",
       "        vertical-align: middle;\n",
       "    }\n",
       "\n",
       "    .dataframe tbody tr th {\n",
       "        vertical-align: top;\n",
       "    }\n",
       "\n",
       "    .dataframe thead th {\n",
       "        text-align: right;\n",
       "    }\n",
       "</style>\n",
       "<table border=\"1\" class=\"dataframe\">\n",
       "  <thead>\n",
       "    <tr style=\"text-align: right;\">\n",
       "      <th></th>\n",
       "      <th>date</th>\n",
       "      <th>time</th>\n",
       "      <th>pid</th>\n",
       "      <th>path</th>\n",
       "      <th>syscalls</th>\n",
       "      <th>eventid</th>\n",
       "      <th>attack_cat</th>\n",
       "      <th>attack_type</th>\n",
       "      <th>label</th>\n",
       "      <th>c10</th>\n",
       "      <th>c11</th>\n",
       "      <th>joint</th>\n",
       "    </tr>\n",
       "  </thead>\n",
       "  <tbody>\n",
       "    <tr>\n",
       "      <th>0</th>\n",
       "      <td>15/03/2016</td>\n",
       "      <td>17:49:36</td>\n",
       "      <td>11378</td>\n",
       "      <td>/usr/sbin/apache2</td>\n",
       "      <td>78</td>\n",
       "      <td>90416105</td>\n",
       "      <td>normal</td>\n",
       "      <td>normal</td>\n",
       "      <td>0</td>\n",
       "      <td>350867</td>\n",
       "      <td>1</td>\n",
       "      <td>52</td>\n",
       "    </tr>\n",
       "    <tr>\n",
       "      <th>1</th>\n",
       "      <td>15/03/2016</td>\n",
       "      <td>17:49:36</td>\n",
       "      <td>11378</td>\n",
       "      <td>/usr/sbin/apache2</td>\n",
       "      <td>78</td>\n",
       "      <td>90416131</td>\n",
       "      <td>normal</td>\n",
       "      <td>normal</td>\n",
       "      <td>0</td>\n",
       "      <td>350868</td>\n",
       "      <td>1</td>\n",
       "      <td>52</td>\n",
       "    </tr>\n",
       "    <tr>\n",
       "      <th>2</th>\n",
       "      <td>15/03/2016</td>\n",
       "      <td>17:49:36</td>\n",
       "      <td>2110</td>\n",
       "      <td>/usr/bin/compiz</td>\n",
       "      <td>102</td>\n",
       "      <td>90416222</td>\n",
       "      <td>normal</td>\n",
       "      <td>normal</td>\n",
       "      <td>0</td>\n",
       "      <td>350869</td>\n",
       "      <td>1</td>\n",
       "      <td>69</td>\n",
       "    </tr>\n",
       "    <tr>\n",
       "      <th>3</th>\n",
       "      <td>15/03/2016</td>\n",
       "      <td>17:49:36</td>\n",
       "      <td>2110</td>\n",
       "      <td>/usr/bin/compiz</td>\n",
       "      <td>102</td>\n",
       "      <td>90416246</td>\n",
       "      <td>normal</td>\n",
       "      <td>normal</td>\n",
       "      <td>0</td>\n",
       "      <td>350870</td>\n",
       "      <td>1</td>\n",
       "      <td>69</td>\n",
       "    </tr>\n",
       "    <tr>\n",
       "      <th>4</th>\n",
       "      <td>15/03/2016</td>\n",
       "      <td>17:49:36</td>\n",
       "      <td>2110</td>\n",
       "      <td>/usr/bin/compiz</td>\n",
       "      <td>265</td>\n",
       "      <td>90416060</td>\n",
       "      <td>normal</td>\n",
       "      <td>normal</td>\n",
       "      <td>0</td>\n",
       "      <td>350871</td>\n",
       "      <td>1</td>\n",
       "      <td>171</td>\n",
       "    </tr>\n",
       "  </tbody>\n",
       "</table>\n",
       "</div>"
      ],
      "text/plain": [
       "         date      time    pid               path  syscalls   eventid  \\\n",
       "0  15/03/2016  17:49:36  11378  /usr/sbin/apache2        78  90416105   \n",
       "1  15/03/2016  17:49:36  11378  /usr/sbin/apache2        78  90416131   \n",
       "2  15/03/2016  17:49:36   2110    /usr/bin/compiz       102  90416222   \n",
       "3  15/03/2016  17:49:36   2110    /usr/bin/compiz       102  90416246   \n",
       "4  15/03/2016  17:49:36   2110    /usr/bin/compiz       265  90416060   \n",
       "\n",
       "  attack_cat attack_type  label     c10  c11  joint  \n",
       "0     normal      normal      0  350867    1     52  \n",
       "1     normal      normal      0  350868    1     52  \n",
       "2     normal      normal      0  350869    1     69  \n",
       "3     normal      normal      0  350870    1     69  \n",
       "4     normal      normal      0  350871    1    171  "
      ]
     },
     "execution_count": 28,
     "metadata": {},
     "output_type": "execute_result"
    }
   ],
   "source": [
    "data_train1.head()"
   ]
  },
  {
   "cell_type": "markdown",
   "metadata": {},
   "source": [
    "Duration and continuity analysis was performed via PCAP files beyond this Jupyter notebook."
   ]
  }
 ],
 "metadata": {
  "kernelspec": {
   "display_name": "vnet",
   "language": "python",
   "name": "python3"
  },
  "language_info": {
   "codemirror_mode": {
    "name": "ipython",
    "version": 3
   },
   "file_extension": ".py",
   "mimetype": "text/x-python",
   "name": "python",
   "nbconvert_exporter": "python",
   "pygments_lexer": "ipython3",
   "version": "3.9.19"
  },
  "orig_nbformat": 4
 },
 "nbformat": 4,
 "nbformat_minor": 2
}
