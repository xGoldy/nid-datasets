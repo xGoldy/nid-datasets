{
 "cells": [
  {
   "cell_type": "markdown",
   "metadata": {},
   "source": [
    "# Appraise H2020 Dataset Analysis\n",
    "\n",
    "* **Author:** Patrik Goldschmidt (igoldschmidt@fit.vut.cz)\n",
    "* **Project:** Network Intrusion Datasets: A Survey, Limitations, and Recommendations\n",
    "* **Date:** 2024\n",
    "\n",
    "Data Source: https://www.kaggle.com/datasets/ittibydgoszcz/appraise-h2020-real-labelled-netflow-dataset"
   ]
  },
  {
   "cell_type": "code",
   "execution_count": 1,
   "metadata": {},
   "outputs": [],
   "source": [
    "import pandas as pd\n",
    "import numpy as np\n",
    "import matplotlib.pyplot as plt\n",
    "import os\n",
    "\n",
    "pd.set_option('display.max_columns', None)"
   ]
  },
  {
   "cell_type": "code",
   "execution_count": 2,
   "metadata": {},
   "outputs": [],
   "source": [
    "DATAPATH = '/data/disk2/appraise_h2020/APPRAISE_NETFLOW.csv'"
   ]
  },
  {
   "cell_type": "code",
   "execution_count": 3,
   "metadata": {},
   "outputs": [],
   "source": [
    "data = pd.read_csv(DATAPATH)"
   ]
  },
  {
   "cell_type": "code",
   "execution_count": 4,
   "metadata": {},
   "outputs": [
    {
     "name": "stdout",
     "output_type": "stream",
     "text": [
      "<class 'pandas.core.frame.DataFrame'>\n",
      "RangeIndex: 15116160 entries, 0 to 15116159\n",
      "Data columns (total 19 columns):\n",
      " #   Column            Non-Null Count     Dtype \n",
      "---  ------            --------------     ----- \n",
      " 0   FLOW_ID           15116160 non-null  int64 \n",
      " 1   IPV4_SRC_ADDR     15116160 non-null  object\n",
      " 2   IPV4_DST_ADDR     15116160 non-null  object\n",
      " 3   IN_PKTS           15116160 non-null  int64 \n",
      " 4   IN_BYTES          15116160 non-null  int64 \n",
      " 5   OUT_PKTS          15116160 non-null  int64 \n",
      " 6   OUT_BYTES         15116160 non-null  int64 \n",
      " 7   FIRST_SWITCHED    15116160 non-null  int64 \n",
      " 8   LAST_SWITCHED     15116160 non-null  int64 \n",
      " 9   L4_SRC_PORT       15116160 non-null  int64 \n",
      " 10  L4_DST_PORT       15116160 non-null  int64 \n",
      " 11  TCP_FLAGS         15116160 non-null  int64 \n",
      " 12  PROTOCOL          15116160 non-null  int64 \n",
      " 13  PROTOCOL_MAP      15116160 non-null  object\n",
      " 14  TOTAL_FLOWS_EXP   15116160 non-null  int64 \n",
      " 15  L7_PROTO          15116160 non-null  int64 \n",
      " 16  L7_PROTO_NAME     15116160 non-null  object\n",
      " 17  ANOMALY_CATEGORY  15116160 non-null  object\n",
      " 18  ANOMALY           15116160 non-null  int64 \n",
      "dtypes: int64(14), object(5)\n",
      "memory usage: 2.1+ GB\n"
     ]
    }
   ],
   "source": [
    "data.info(verbose=True, show_counts=True)"
   ]
  },
  {
   "cell_type": "code",
   "execution_count": 5,
   "metadata": {},
   "outputs": [
    {
     "data": {
      "text/plain": [
       "15116160"
      ]
     },
     "execution_count": 5,
     "metadata": {},
     "output_type": "execute_result"
    }
   ],
   "source": [
    "# Show me the capture length\n",
    "len(data)"
   ]
  },
  {
   "cell_type": "code",
   "execution_count": 6,
   "metadata": {},
   "outputs": [
    {
     "data": {
      "text/html": [
       "<div>\n",
       "<style scoped>\n",
       "    .dataframe tbody tr th:only-of-type {\n",
       "        vertical-align: middle;\n",
       "    }\n",
       "\n",
       "    .dataframe tbody tr th {\n",
       "        vertical-align: top;\n",
       "    }\n",
       "\n",
       "    .dataframe thead th {\n",
       "        text-align: right;\n",
       "    }\n",
       "</style>\n",
       "<table border=\"1\" class=\"dataframe\">\n",
       "  <thead>\n",
       "    <tr style=\"text-align: right;\">\n",
       "      <th></th>\n",
       "      <th>FLOW_ID</th>\n",
       "      <th>IPV4_SRC_ADDR</th>\n",
       "      <th>IPV4_DST_ADDR</th>\n",
       "      <th>IN_PKTS</th>\n",
       "      <th>IN_BYTES</th>\n",
       "      <th>OUT_PKTS</th>\n",
       "      <th>OUT_BYTES</th>\n",
       "      <th>FIRST_SWITCHED</th>\n",
       "      <th>LAST_SWITCHED</th>\n",
       "      <th>L4_SRC_PORT</th>\n",
       "      <th>L4_DST_PORT</th>\n",
       "      <th>TCP_FLAGS</th>\n",
       "      <th>PROTOCOL</th>\n",
       "      <th>PROTOCOL_MAP</th>\n",
       "      <th>TOTAL_FLOWS_EXP</th>\n",
       "      <th>L7_PROTO</th>\n",
       "      <th>L7_PROTO_NAME</th>\n",
       "      <th>ANOMALY_CATEGORY</th>\n",
       "      <th>ANOMALY</th>\n",
       "    </tr>\n",
       "  </thead>\n",
       "  <tbody>\n",
       "    <tr>\n",
       "      <th>0</th>\n",
       "      <td>1</td>\n",
       "      <td>89.159.255.164</td>\n",
       "      <td>5.9.222.138</td>\n",
       "      <td>604</td>\n",
       "      <td>27180</td>\n",
       "      <td>614</td>\n",
       "      <td>29994</td>\n",
       "      <td>1674045983</td>\n",
       "      <td>1674045985</td>\n",
       "      <td>47808</td>\n",
       "      <td>47808</td>\n",
       "      <td>0</td>\n",
       "      <td>17</td>\n",
       "      <td>udp</td>\n",
       "      <td>1</td>\n",
       "      <td>0</td>\n",
       "      <td>Unknown</td>\n",
       "      <td>-</td>\n",
       "      <td>0</td>\n",
       "    </tr>\n",
       "    <tr>\n",
       "      <th>1</th>\n",
       "      <td>2</td>\n",
       "      <td>189.5.173.17</td>\n",
       "      <td>80.19.141.188</td>\n",
       "      <td>506</td>\n",
       "      <td>23082</td>\n",
       "      <td>510</td>\n",
       "      <td>23424</td>\n",
       "      <td>1674045983</td>\n",
       "      <td>1674045985</td>\n",
       "      <td>502</td>\n",
       "      <td>4872</td>\n",
       "      <td>24</td>\n",
       "      <td>6</td>\n",
       "      <td>tcp</td>\n",
       "      <td>2</td>\n",
       "      <td>44</td>\n",
       "      <td>Modbus</td>\n",
       "      <td>-</td>\n",
       "      <td>0</td>\n",
       "    </tr>\n",
       "    <tr>\n",
       "      <th>2</th>\n",
       "      <td>3</td>\n",
       "      <td>80.158.159.207</td>\n",
       "      <td>86.190.158.122</td>\n",
       "      <td>24</td>\n",
       "      <td>1704</td>\n",
       "      <td>0</td>\n",
       "      <td>0</td>\n",
       "      <td>1674045983</td>\n",
       "      <td>1674045985</td>\n",
       "      <td>47808</td>\n",
       "      <td>47808</td>\n",
       "      <td>0</td>\n",
       "      <td>17</td>\n",
       "      <td>udp</td>\n",
       "      <td>3</td>\n",
       "      <td>0</td>\n",
       "      <td>Unknown</td>\n",
       "      <td>-</td>\n",
       "      <td>0</td>\n",
       "    </tr>\n",
       "    <tr>\n",
       "      <th>3</th>\n",
       "      <td>4</td>\n",
       "      <td>102.81.138.56</td>\n",
       "      <td>135.44.76.80</td>\n",
       "      <td>284</td>\n",
       "      <td>23034</td>\n",
       "      <td>284</td>\n",
       "      <td>26004</td>\n",
       "      <td>1674045983</td>\n",
       "      <td>1674045985</td>\n",
       "      <td>61765</td>\n",
       "      <td>51807</td>\n",
       "      <td>24</td>\n",
       "      <td>6</td>\n",
       "      <td>tcp</td>\n",
       "      <td>4</td>\n",
       "      <td>0</td>\n",
       "      <td>Unknown</td>\n",
       "      <td>-</td>\n",
       "      <td>0</td>\n",
       "    </tr>\n",
       "    <tr>\n",
       "      <th>4</th>\n",
       "      <td>5</td>\n",
       "      <td>96.41.79.140</td>\n",
       "      <td>62.185.7.85</td>\n",
       "      <td>4</td>\n",
       "      <td>160</td>\n",
       "      <td>2</td>\n",
       "      <td>144</td>\n",
       "      <td>1674045983</td>\n",
       "      <td>1674045985</td>\n",
       "      <td>50264</td>\n",
       "      <td>3028</td>\n",
       "      <td>16</td>\n",
       "      <td>6</td>\n",
       "      <td>tcp</td>\n",
       "      <td>5</td>\n",
       "      <td>0</td>\n",
       "      <td>Unknown</td>\n",
       "      <td>-</td>\n",
       "      <td>0</td>\n",
       "    </tr>\n",
       "    <tr>\n",
       "      <th>5</th>\n",
       "      <td>6</td>\n",
       "      <td>89.159.255.164</td>\n",
       "      <td>78.55.181.74</td>\n",
       "      <td>108</td>\n",
       "      <td>4860</td>\n",
       "      <td>108</td>\n",
       "      <td>5244</td>\n",
       "      <td>1674045983</td>\n",
       "      <td>1674045985</td>\n",
       "      <td>47808</td>\n",
       "      <td>47808</td>\n",
       "      <td>0</td>\n",
       "      <td>17</td>\n",
       "      <td>udp</td>\n",
       "      <td>6</td>\n",
       "      <td>0</td>\n",
       "      <td>Unknown</td>\n",
       "      <td>-</td>\n",
       "      <td>0</td>\n",
       "    </tr>\n",
       "    <tr>\n",
       "      <th>6</th>\n",
       "      <td>7</td>\n",
       "      <td>89.159.255.164</td>\n",
       "      <td>108.30.58.143</td>\n",
       "      <td>40</td>\n",
       "      <td>1800</td>\n",
       "      <td>46</td>\n",
       "      <td>2460</td>\n",
       "      <td>1674045983</td>\n",
       "      <td>1674045985</td>\n",
       "      <td>47808</td>\n",
       "      <td>47808</td>\n",
       "      <td>0</td>\n",
       "      <td>17</td>\n",
       "      <td>udp</td>\n",
       "      <td>7</td>\n",
       "      <td>0</td>\n",
       "      <td>Unknown</td>\n",
       "      <td>-</td>\n",
       "      <td>0</td>\n",
       "    </tr>\n",
       "    <tr>\n",
       "      <th>7</th>\n",
       "      <td>8</td>\n",
       "      <td>89.159.255.164</td>\n",
       "      <td>80.31.202.103</td>\n",
       "      <td>40</td>\n",
       "      <td>1800</td>\n",
       "      <td>40</td>\n",
       "      <td>2040</td>\n",
       "      <td>1674045983</td>\n",
       "      <td>1674045985</td>\n",
       "      <td>47808</td>\n",
       "      <td>47808</td>\n",
       "      <td>0</td>\n",
       "      <td>17</td>\n",
       "      <td>udp</td>\n",
       "      <td>8</td>\n",
       "      <td>0</td>\n",
       "      <td>Unknown</td>\n",
       "      <td>-</td>\n",
       "      <td>0</td>\n",
       "    </tr>\n",
       "    <tr>\n",
       "      <th>8</th>\n",
       "      <td>9</td>\n",
       "      <td>212.15.170.48</td>\n",
       "      <td>8.249.67.106</td>\n",
       "      <td>10</td>\n",
       "      <td>680</td>\n",
       "      <td>0</td>\n",
       "      <td>0</td>\n",
       "      <td>1674045983</td>\n",
       "      <td>1674045983</td>\n",
       "      <td>51053</td>\n",
       "      <td>1947</td>\n",
       "      <td>0</td>\n",
       "      <td>17</td>\n",
       "      <td>udp</td>\n",
       "      <td>9</td>\n",
       "      <td>0</td>\n",
       "      <td>Unknown</td>\n",
       "      <td>-</td>\n",
       "      <td>0</td>\n",
       "    </tr>\n",
       "    <tr>\n",
       "      <th>9</th>\n",
       "      <td>10</td>\n",
       "      <td>212.15.170.48</td>\n",
       "      <td>198.196.184.15</td>\n",
       "      <td>10</td>\n",
       "      <td>680</td>\n",
       "      <td>0</td>\n",
       "      <td>0</td>\n",
       "      <td>1674045983</td>\n",
       "      <td>1674045983</td>\n",
       "      <td>51052</td>\n",
       "      <td>1947</td>\n",
       "      <td>0</td>\n",
       "      <td>17</td>\n",
       "      <td>udp</td>\n",
       "      <td>10</td>\n",
       "      <td>0</td>\n",
       "      <td>Unknown</td>\n",
       "      <td>-</td>\n",
       "      <td>0</td>\n",
       "    </tr>\n",
       "  </tbody>\n",
       "</table>\n",
       "</div>"
      ],
      "text/plain": [
       "   FLOW_ID   IPV4_SRC_ADDR   IPV4_DST_ADDR  IN_PKTS  IN_BYTES  OUT_PKTS  \\\n",
       "0        1  89.159.255.164     5.9.222.138      604     27180       614   \n",
       "1        2    189.5.173.17   80.19.141.188      506     23082       510   \n",
       "2        3  80.158.159.207  86.190.158.122       24      1704         0   \n",
       "3        4   102.81.138.56    135.44.76.80      284     23034       284   \n",
       "4        5    96.41.79.140     62.185.7.85        4       160         2   \n",
       "5        6  89.159.255.164    78.55.181.74      108      4860       108   \n",
       "6        7  89.159.255.164   108.30.58.143       40      1800        46   \n",
       "7        8  89.159.255.164   80.31.202.103       40      1800        40   \n",
       "8        9   212.15.170.48    8.249.67.106       10       680         0   \n",
       "9       10   212.15.170.48  198.196.184.15       10       680         0   \n",
       "\n",
       "   OUT_BYTES  FIRST_SWITCHED  LAST_SWITCHED  L4_SRC_PORT  L4_DST_PORT  \\\n",
       "0      29994      1674045983     1674045985        47808        47808   \n",
       "1      23424      1674045983     1674045985          502         4872   \n",
       "2          0      1674045983     1674045985        47808        47808   \n",
       "3      26004      1674045983     1674045985        61765        51807   \n",
       "4        144      1674045983     1674045985        50264         3028   \n",
       "5       5244      1674045983     1674045985        47808        47808   \n",
       "6       2460      1674045983     1674045985        47808        47808   \n",
       "7       2040      1674045983     1674045985        47808        47808   \n",
       "8          0      1674045983     1674045983        51053         1947   \n",
       "9          0      1674045983     1674045983        51052         1947   \n",
       "\n",
       "   TCP_FLAGS  PROTOCOL PROTOCOL_MAP  TOTAL_FLOWS_EXP  L7_PROTO L7_PROTO_NAME  \\\n",
       "0          0        17          udp                1         0       Unknown   \n",
       "1         24         6          tcp                2        44        Modbus   \n",
       "2          0        17          udp                3         0       Unknown   \n",
       "3         24         6          tcp                4         0       Unknown   \n",
       "4         16         6          tcp                5         0       Unknown   \n",
       "5          0        17          udp                6         0       Unknown   \n",
       "6          0        17          udp                7         0       Unknown   \n",
       "7          0        17          udp                8         0       Unknown   \n",
       "8          0        17          udp                9         0       Unknown   \n",
       "9          0        17          udp               10         0       Unknown   \n",
       "\n",
       "  ANOMALY_CATEGORY  ANOMALY  \n",
       "0                -        0  \n",
       "1                -        0  \n",
       "2                -        0  \n",
       "3                -        0  \n",
       "4                -        0  \n",
       "5                -        0  \n",
       "6                -        0  \n",
       "7                -        0  \n",
       "8                -        0  \n",
       "9                -        0  "
      ]
     },
     "execution_count": 6,
     "metadata": {},
     "output_type": "execute_result"
    }
   ],
   "source": [
    "data.head(10)"
   ]
  },
  {
   "cell_type": "code",
   "execution_count": 7,
   "metadata": {},
   "outputs": [
    {
     "data": {
      "text/html": [
       "<div>\n",
       "<style scoped>\n",
       "    .dataframe tbody tr th:only-of-type {\n",
       "        vertical-align: middle;\n",
       "    }\n",
       "\n",
       "    .dataframe tbody tr th {\n",
       "        vertical-align: top;\n",
       "    }\n",
       "\n",
       "    .dataframe thead th {\n",
       "        text-align: right;\n",
       "    }\n",
       "</style>\n",
       "<table border=\"1\" class=\"dataframe\">\n",
       "  <thead>\n",
       "    <tr style=\"text-align: right;\">\n",
       "      <th></th>\n",
       "      <th>FLOW_ID</th>\n",
       "      <th>IN_PKTS</th>\n",
       "      <th>IN_BYTES</th>\n",
       "      <th>OUT_PKTS</th>\n",
       "      <th>OUT_BYTES</th>\n",
       "      <th>FIRST_SWITCHED</th>\n",
       "      <th>LAST_SWITCHED</th>\n",
       "      <th>L4_SRC_PORT</th>\n",
       "      <th>L4_DST_PORT</th>\n",
       "      <th>TCP_FLAGS</th>\n",
       "      <th>PROTOCOL</th>\n",
       "      <th>TOTAL_FLOWS_EXP</th>\n",
       "      <th>L7_PROTO</th>\n",
       "      <th>ANOMALY</th>\n",
       "    </tr>\n",
       "  </thead>\n",
       "  <tbody>\n",
       "    <tr>\n",
       "      <th>count</th>\n",
       "      <td>1.511616e+07</td>\n",
       "      <td>1.511616e+07</td>\n",
       "      <td>1.511616e+07</td>\n",
       "      <td>1.511616e+07</td>\n",
       "      <td>1.511616e+07</td>\n",
       "      <td>1.511616e+07</td>\n",
       "      <td>1.511616e+07</td>\n",
       "      <td>1.511616e+07</td>\n",
       "      <td>1.511616e+07</td>\n",
       "      <td>1.511616e+07</td>\n",
       "      <td>1.511616e+07</td>\n",
       "      <td>1.511616e+07</td>\n",
       "      <td>1.511616e+07</td>\n",
       "      <td>1.511616e+07</td>\n",
       "    </tr>\n",
       "    <tr>\n",
       "      <th>mean</th>\n",
       "      <td>1.878046e+06</td>\n",
       "      <td>4.180791e+02</td>\n",
       "      <td>2.234224e+04</td>\n",
       "      <td>3.982113e+02</td>\n",
       "      <td>3.734682e+04</td>\n",
       "      <td>1.677748e+09</td>\n",
       "      <td>1.677748e+09</td>\n",
       "      <td>4.286090e+04</td>\n",
       "      <td>1.597256e+04</td>\n",
       "      <td>4.983905e+00</td>\n",
       "      <td>1.228084e+01</td>\n",
       "      <td>1.878046e+06</td>\n",
       "      <td>2.711377e+01</td>\n",
       "      <td>2.851502e-01</td>\n",
       "    </tr>\n",
       "    <tr>\n",
       "      <th>std</th>\n",
       "      <td>1.287713e+06</td>\n",
       "      <td>2.603594e+03</td>\n",
       "      <td>2.405822e+05</td>\n",
       "      <td>2.694006e+03</td>\n",
       "      <td>1.159702e+06</td>\n",
       "      <td>1.999248e+06</td>\n",
       "      <td>1.999248e+06</td>\n",
       "      <td>1.946433e+04</td>\n",
       "      <td>2.139144e+04</td>\n",
       "      <td>1.485487e+01</td>\n",
       "      <td>7.364417e+00</td>\n",
       "      <td>1.287713e+06</td>\n",
       "      <td>6.868301e+01</td>\n",
       "      <td>4.514860e-01</td>\n",
       "    </tr>\n",
       "    <tr>\n",
       "      <th>min</th>\n",
       "      <td>1.000000e+00</td>\n",
       "      <td>1.000000e+00</td>\n",
       "      <td>3.700000e+01</td>\n",
       "      <td>0.000000e+00</td>\n",
       "      <td>0.000000e+00</td>\n",
       "      <td>1.674046e+09</td>\n",
       "      <td>1.674046e+09</td>\n",
       "      <td>0.000000e+00</td>\n",
       "      <td>0.000000e+00</td>\n",
       "      <td>0.000000e+00</td>\n",
       "      <td>1.000000e+00</td>\n",
       "      <td>1.000000e+00</td>\n",
       "      <td>0.000000e+00</td>\n",
       "      <td>0.000000e+00</td>\n",
       "    </tr>\n",
       "    <tr>\n",
       "      <th>25%</th>\n",
       "      <td>8.115758e+05</td>\n",
       "      <td>2.000000e+00</td>\n",
       "      <td>9.600000e+01</td>\n",
       "      <td>0.000000e+00</td>\n",
       "      <td>0.000000e+00</td>\n",
       "      <td>1.676678e+09</td>\n",
       "      <td>1.676678e+09</td>\n",
       "      <td>3.720100e+04</td>\n",
       "      <td>9.660000e+02</td>\n",
       "      <td>0.000000e+00</td>\n",
       "      <td>6.000000e+00</td>\n",
       "      <td>8.115758e+05</td>\n",
       "      <td>0.000000e+00</td>\n",
       "      <td>0.000000e+00</td>\n",
       "    </tr>\n",
       "    <tr>\n",
       "      <th>50%</th>\n",
       "      <td>1.600526e+06</td>\n",
       "      <td>1.100000e+01</td>\n",
       "      <td>7.480000e+02</td>\n",
       "      <td>0.000000e+00</td>\n",
       "      <td>0.000000e+00</td>\n",
       "      <td>1.677689e+09</td>\n",
       "      <td>1.677689e+09</td>\n",
       "      <td>4.780800e+04</td>\n",
       "      <td>1.980000e+03</td>\n",
       "      <td>0.000000e+00</td>\n",
       "      <td>1.700000e+01</td>\n",
       "      <td>1.600526e+06</td>\n",
       "      <td>0.000000e+00</td>\n",
       "      <td>0.000000e+00</td>\n",
       "    </tr>\n",
       "    <tr>\n",
       "      <th>75%</th>\n",
       "      <td>2.848495e+06</td>\n",
       "      <td>2.600000e+01</td>\n",
       "      <td>2.442000e+03</td>\n",
       "      <td>2.000000e+00</td>\n",
       "      <td>2.640000e+02</td>\n",
       "      <td>1.679498e+09</td>\n",
       "      <td>1.679498e+09</td>\n",
       "      <td>5.630800e+04</td>\n",
       "      <td>4.780800e+04</td>\n",
       "      <td>2.000000e+00</td>\n",
       "      <td>1.700000e+01</td>\n",
       "      <td>2.848495e+06</td>\n",
       "      <td>5.000000e+00</td>\n",
       "      <td>1.000000e+00</td>\n",
       "    </tr>\n",
       "    <tr>\n",
       "      <th>max</th>\n",
       "      <td>4.707889e+06</td>\n",
       "      <td>1.504860e+05</td>\n",
       "      <td>2.254827e+08</td>\n",
       "      <td>3.505420e+05</td>\n",
       "      <td>5.184273e+08</td>\n",
       "      <td>1.681269e+09</td>\n",
       "      <td>1.681270e+09</td>\n",
       "      <td>6.553500e+04</td>\n",
       "      <td>6.553400e+04</td>\n",
       "      <td>2.220000e+02</td>\n",
       "      <td>8.900000e+01</td>\n",
       "      <td>4.707889e+06</td>\n",
       "      <td>2.930000e+02</td>\n",
       "      <td>1.000000e+00</td>\n",
       "    </tr>\n",
       "  </tbody>\n",
       "</table>\n",
       "</div>"
      ],
      "text/plain": [
       "            FLOW_ID       IN_PKTS      IN_BYTES      OUT_PKTS     OUT_BYTES  \\\n",
       "count  1.511616e+07  1.511616e+07  1.511616e+07  1.511616e+07  1.511616e+07   \n",
       "mean   1.878046e+06  4.180791e+02  2.234224e+04  3.982113e+02  3.734682e+04   \n",
       "std    1.287713e+06  2.603594e+03  2.405822e+05  2.694006e+03  1.159702e+06   \n",
       "min    1.000000e+00  1.000000e+00  3.700000e+01  0.000000e+00  0.000000e+00   \n",
       "25%    8.115758e+05  2.000000e+00  9.600000e+01  0.000000e+00  0.000000e+00   \n",
       "50%    1.600526e+06  1.100000e+01  7.480000e+02  0.000000e+00  0.000000e+00   \n",
       "75%    2.848495e+06  2.600000e+01  2.442000e+03  2.000000e+00  2.640000e+02   \n",
       "max    4.707889e+06  1.504860e+05  2.254827e+08  3.505420e+05  5.184273e+08   \n",
       "\n",
       "       FIRST_SWITCHED  LAST_SWITCHED   L4_SRC_PORT   L4_DST_PORT  \\\n",
       "count    1.511616e+07   1.511616e+07  1.511616e+07  1.511616e+07   \n",
       "mean     1.677748e+09   1.677748e+09  4.286090e+04  1.597256e+04   \n",
       "std      1.999248e+06   1.999248e+06  1.946433e+04  2.139144e+04   \n",
       "min      1.674046e+09   1.674046e+09  0.000000e+00  0.000000e+00   \n",
       "25%      1.676678e+09   1.676678e+09  3.720100e+04  9.660000e+02   \n",
       "50%      1.677689e+09   1.677689e+09  4.780800e+04  1.980000e+03   \n",
       "75%      1.679498e+09   1.679498e+09  5.630800e+04  4.780800e+04   \n",
       "max      1.681269e+09   1.681270e+09  6.553500e+04  6.553400e+04   \n",
       "\n",
       "          TCP_FLAGS      PROTOCOL  TOTAL_FLOWS_EXP      L7_PROTO       ANOMALY  \n",
       "count  1.511616e+07  1.511616e+07     1.511616e+07  1.511616e+07  1.511616e+07  \n",
       "mean   4.983905e+00  1.228084e+01     1.878046e+06  2.711377e+01  2.851502e-01  \n",
       "std    1.485487e+01  7.364417e+00     1.287713e+06  6.868301e+01  4.514860e-01  \n",
       "min    0.000000e+00  1.000000e+00     1.000000e+00  0.000000e+00  0.000000e+00  \n",
       "25%    0.000000e+00  6.000000e+00     8.115758e+05  0.000000e+00  0.000000e+00  \n",
       "50%    0.000000e+00  1.700000e+01     1.600526e+06  0.000000e+00  0.000000e+00  \n",
       "75%    2.000000e+00  1.700000e+01     2.848495e+06  5.000000e+00  1.000000e+00  \n",
       "max    2.220000e+02  8.900000e+01     4.707889e+06  2.930000e+02  1.000000e+00  "
      ]
     },
     "execution_count": 7,
     "metadata": {},
     "output_type": "execute_result"
    }
   ],
   "source": [
    "data.describe()"
   ]
  },
  {
   "cell_type": "code",
   "execution_count": 8,
   "metadata": {},
   "outputs": [
    {
     "data": {
      "text/plain": [
       "IPV4_SRC_ADDR\n",
       "106.21.55.11       3701351\n",
       "89.159.255.164     1446634\n",
       "121.45.142.225     1354638\n",
       "212.15.170.48      1289247\n",
       "119.173.142.158    1112587\n",
       "12.0.230.98         618916\n",
       "136.94.240.213      552315\n",
       "68.203.156.78       502394\n",
       "116.171.108.189     247417\n",
       "80.158.159.207      152585\n",
       "Name: count, dtype: int64"
      ]
     },
     "execution_count": 8,
     "metadata": {},
     "output_type": "execute_result"
    }
   ],
   "source": [
    "# Show me heavy-hitters. Are IPs Anonymized?\n",
    "data['IPV4_SRC_ADDR'].value_counts().head(10)"
   ]
  },
  {
   "cell_type": "code",
   "execution_count": 9,
   "metadata": {},
   "outputs": [
    {
     "data": {
      "text/plain": [
       "1830"
      ]
     },
     "execution_count": 9,
     "metadata": {},
     "output_type": "execute_result"
    }
   ],
   "source": [
    "# The number of unique source IPs\n",
    "data['IPV4_SRC_ADDR'].nunique()"
   ]
  },
  {
   "cell_type": "code",
   "execution_count": 10,
   "metadata": {},
   "outputs": [
    {
     "data": {
      "text/plain": [
       "IPV4_DST_ADDR\n",
       "198.196.184.15     3179373\n",
       "8.249.67.106       1616433\n",
       "85.245.12.32       1287200\n",
       "62.185.7.85         986556\n",
       "109.14.115.188      580684\n",
       "                    ...   \n",
       "112.199.232.102          1\n",
       "50.82.116.129            1\n",
       "222.50.104.48            1\n",
       "139.182.234.158          1\n",
       "145.49.58.155            1\n",
       "Name: count, Length: 8115, dtype: int64"
      ]
     },
     "execution_count": 10,
     "metadata": {},
     "output_type": "execute_result"
    }
   ],
   "source": [
    "data['IPV4_DST_ADDR'].value_counts()"
   ]
  },
  {
   "cell_type": "code",
   "execution_count": 11,
   "metadata": {},
   "outputs": [
    {
     "data": {
      "text/plain": [
       "L4_DST_PORT\n",
       "47808    3480716\n",
       "1947     2888392\n",
       "443       891793\n",
       "80        684146\n",
       "53        630687\n",
       "          ...   \n",
       "58214          1\n",
       "58176          1\n",
       "58133          1\n",
       "58117          1\n",
       "52424          1\n",
       "Name: count, Length: 19199, dtype: int64"
      ]
     },
     "execution_count": 11,
     "metadata": {},
     "output_type": "execute_result"
    }
   ],
   "source": [
    "# Ports distribution\n",
    "data['L4_DST_PORT'].value_counts()"
   ]
  },
  {
   "cell_type": "code",
   "execution_count": 12,
   "metadata": {},
   "outputs": [
    {
     "data": {
      "text/plain": [
       "PROTOCOL\n",
       "17    8171585\n",
       "6     6837490\n",
       "89      59658\n",
       "1       27608\n",
       "2       14096\n",
       "58       5723\n",
       "Name: count, dtype: int64"
      ]
     },
     "execution_count": 12,
     "metadata": {},
     "output_type": "execute_result"
    }
   ],
   "source": [
    "# Protocol distribution\n",
    "data['PROTOCOL'].value_counts()"
   ]
  },
  {
   "cell_type": "code",
   "execution_count": 13,
   "metadata": {},
   "outputs": [
    {
     "data": {
      "text/plain": [
       "L7_PROTO_NAME\n",
       "Unknown          11168145\n",
       "HTTP               613127\n",
       "TLS.AmazonAWS      438195\n",
       "DNS                308039\n",
       "DHCPV6             239274\n",
       "TLS                220371\n",
       "MDNS               208461\n",
       "Modbus             178205\n",
       "TLS.Azure          144317\n",
       "NetBIOS.SMBv1      129083\n",
       "Name: count, dtype: int64"
      ]
     },
     "execution_count": 13,
     "metadata": {},
     "output_type": "execute_result"
    }
   ],
   "source": [
    "# L7 protocols\n",
    "data['L7_PROTO_NAME'].value_counts().head(10)"
   ]
  },
  {
   "cell_type": "code",
   "execution_count": 14,
   "metadata": {},
   "outputs": [
    {
     "data": {
      "text/plain": [
       "ANOMALY\n",
       "0    10805784\n",
       "1     4310376\n",
       "Name: count, dtype: int64"
      ]
     },
     "execution_count": 14,
     "metadata": {},
     "output_type": "execute_result"
    }
   ],
   "source": [
    "# Label distribution\n",
    "data['ANOMALY'].value_counts()"
   ]
  },
  {
   "cell_type": "code",
   "execution_count": 15,
   "metadata": {},
   "outputs": [
    {
     "data": {
      "text/plain": [
       "ANOMALY_CATEGORY\n",
       "-                 10805784\n",
       "Reconnaissance     3805827\n",
       "DDoS                502394\n",
       "BruteForce            2155\n",
       "Name: count, dtype: int64"
      ]
     },
     "execution_count": 15,
     "metadata": {},
     "output_type": "execute_result"
    }
   ],
   "source": [
    "data['ANOMALY_CATEGORY'].value_counts()"
   ]
  },
  {
   "cell_type": "markdown",
   "metadata": {},
   "source": [
    "## Capture Duration Estimation"
   ]
  },
  {
   "cell_type": "code",
   "execution_count": 16,
   "metadata": {},
   "outputs": [
    {
     "name": "stdout",
     "output_type": "stream",
     "text": [
      "1674045983 | 1681269543 || dur: 7223560\n"
     ]
    }
   ],
   "source": [
    "# Determine dataset timestamps\n",
    "start = data['FIRST_SWITCHED'].sort_values().iloc[0]\n",
    "end   = data['LAST_SWITCHED'].sort_values(ascending=False).iloc[0]\n",
    "span = end - start\n",
    "\n",
    "print(f'{start} | {end} || dur: {span}')"
   ]
  },
  {
   "cell_type": "code",
   "execution_count": 17,
   "metadata": {},
   "outputs": [
    {
     "data": {
      "text/plain": [
       "Timedelta('83 days 14:32:40')"
      ]
     },
     "execution_count": 17,
     "metadata": {},
     "output_type": "execute_result"
    }
   ],
   "source": [
    "pd.Timedelta(seconds=span)"
   ]
  },
  {
   "cell_type": "markdown",
   "metadata": {},
   "source": [
    "**Start date:** GMT: Wednesday 18. January 2023 12:46:23\n",
    "\n",
    "**End date:** GMT: Wednesday 12. April 2023 3:19:03\n",
    "\n",
    "**Dur**: 83 days, 14 hours, 32 minutes and 40 seconds\n",
    "\n",
    "Source: https://www.epochconverter.com/"
   ]
  },
  {
   "cell_type": "code",
   "execution_count": 18,
   "metadata": {},
   "outputs": [
    {
     "data": {
      "text/plain": [
       "15116158   2023-04-12 03:19:03\n",
       "15116156   2023-04-12 03:19:03\n",
       "15116153   2023-04-12 03:18:58\n",
       "15116159   2023-04-12 03:18:55\n",
       "15116131   2023-04-12 03:18:30\n",
       "Name: LAST_SWITCHED, dtype: datetime64[ns]"
      ]
     },
     "execution_count": 18,
     "metadata": {},
     "output_type": "execute_result"
    }
   ],
   "source": [
    "tstamps = data['LAST_SWITCHED'].sort_values(ascending=False)\n",
    "tstamps = pd.to_datetime(tstamps, unit='s', origin='unix')\n",
    "tstamps.head()"
   ]
  },
  {
   "cell_type": "code",
   "execution_count": 19,
   "metadata": {},
   "outputs": [],
   "source": [
    "# Measure capture duration and continousness\n",
    "def measure_real_capture_dur(data: pd.Series, gap_max_secs: int = 300) -> float:\n",
    "    \"\"\"Computes total timespan of the capture. Expects iterable containing timestamps objects sorted in a descending manner\"\"\"\n",
    "    total_dur = pd.Timedelta(seconds=0)\n",
    "    current_dur = pd.Timedelta(seconds=0)\n",
    "    cont_durations = []\n",
    "    last_tstamp = data.iloc[0]\n",
    "    contiguous = True\n",
    "\n",
    "    # Iterate through the dataframe to find out gaps\n",
    "    for cur_tstamp in data:\n",
    "        dur_gap = last_tstamp - cur_tstamp\n",
    "\n",
    "        if dur_gap <= pd.Timedelta(seconds=gap_max_secs):\n",
    "            total_dur += dur_gap\n",
    "            current_dur += dur_gap\n",
    "        else:\n",
    "            cont_durations.append(current_dur)\n",
    "            current_dur = pd.Timedelta(seconds=0)\n",
    "\n",
    "            if contiguous:\n",
    "                contiguous = False\n",
    "\n",
    "        last_tstamp = cur_tstamp\n",
    "\n",
    "    # Log the final continuous block and sort them via their length\n",
    "    cont_durations.append(current_dur)\n",
    "    cont_durations.sort(reverse=True)\n",
    "\n",
    "    return total_dur, contiguous, cont_durations"
   ]
  },
  {
   "cell_type": "code",
   "execution_count": 20,
   "metadata": {},
   "outputs": [
    {
     "data": {
      "text/plain": [
       "(Timedelta('72 days 12:01:12'),\n",
       " False,\n",
       " [Timedelta('27 days 13:35:16'),\n",
       "  Timedelta('22 days 17:42:10'),\n",
       "  Timedelta('22 days 04:43:46')])"
      ]
     },
     "execution_count": 20,
     "metadata": {},
     "output_type": "execute_result"
    }
   ],
   "source": [
    "measure_real_capture_dur(tstamps, span * 0.01)"
   ]
  },
  {
   "cell_type": "code",
   "execution_count": 21,
   "metadata": {},
   "outputs": [
    {
     "data": {
      "text/plain": [
       "(Timedelta('72 days 12:01:12'),\n",
       " False,\n",
       " [Timedelta('27 days 13:35:16'),\n",
       "  Timedelta('22 days 17:42:10'),\n",
       "  Timedelta('22 days 04:43:46')])"
      ]
     },
     "execution_count": 21,
     "metadata": {},
     "output_type": "execute_result"
    }
   ],
   "source": [
    "# Measure with more realistic maximum gap size - i.e, 1 hour\n",
    "measure_real_capture_dur(tstamps, 3600)"
   ]
  },
  {
   "cell_type": "code",
   "execution_count": 22,
   "metadata": {},
   "outputs": [
    {
     "data": {
      "text/plain": [
       "(Timedelta('72 days 11:49:02'),\n",
       " False,\n",
       " [Timedelta('22 days 17:42:10'),\n",
       "  Timedelta('22 days 04:43:46'),\n",
       "  Timedelta('16 days 20:00:20'),\n",
       "  Timedelta('10 days 17:22:46')])"
      ]
     },
     "execution_count": 22,
     "metadata": {},
     "output_type": "execute_result"
    }
   ],
   "source": [
    "# Interesting, what if we consider the max gap to be 5 minutes\n",
    "measure_real_capture_dur(tstamps, 300)"
   ]
  },
  {
   "cell_type": "markdown",
   "metadata": {},
   "source": [
    "As seen, the capture is rather continuous - consisting of three/four blocks of data with length over 10 days (two 20+ days), which is more than most continuous datasets offer. Nevertheless, since we need to look at the data as a whole, we consider the data discountinous, although its continuity patters are very plausible."
   ]
  }
 ],
 "metadata": {
  "kernelspec": {
   "display_name": "env",
   "language": "python",
   "name": "python3"
  },
  "language_info": {
   "codemirror_mode": {
    "name": "ipython",
    "version": 3
   },
   "file_extension": ".py",
   "mimetype": "text/x-python",
   "name": "python",
   "nbconvert_exporter": "python",
   "pygments_lexer": "ipython3",
   "version": "3.12.3"
  }
 },
 "nbformat": 4,
 "nbformat_minor": 2
}
