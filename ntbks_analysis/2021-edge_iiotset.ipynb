{
 "cells": [
  {
   "cell_type": "markdown",
   "metadata": {},
   "source": [
    "# Edge-IIoTset Dataset Analysis\n",
    "\n",
    "* **Author:** Patrik Goldschmidt (igoldschmidt@fit.vut.cz)\n",
    "* **Project:** Network Intrusion Datasets: A Survey, Limitations, and Recommendations\n",
    "* **Date:** 2024"
   ]
  },
  {
   "cell_type": "code",
   "execution_count": 1,
   "metadata": {},
   "outputs": [],
   "source": [
    "import pandas as pd\n",
    "import numpy as np\n",
    "import os"
   ]
  },
  {
   "cell_type": "code",
   "execution_count": 37,
   "metadata": {},
   "outputs": [],
   "source": [
    "DATA_ROOT = '/data/edge_iiot/edge_iiot_dataset'\n",
    "DATA_ATTACK = os.path.join(DATA_ROOT, 'Attack traffic')\n",
    "DATA_NORMAL = os.path.join(DATA_ROOT, 'Normal traffic')\n",
    "DATA_SELECTION_MIX = os.path.join(DATA_ROOT, 'Selected dataset for ML and DL')\n",
    "\n",
    "DURATION_GAP_TOLERANCE = 120"
   ]
  },
  {
   "cell_type": "code",
   "execution_count": 3,
   "metadata": {},
   "outputs": [],
   "source": [
    "def find_files(path: str, ext: str) -> list:\n",
    "    found_files = []\n",
    "    for root, _, files in os.walk(path):\n",
    "        found_files += [os.path.join(root, desired_file) for desired_file in files if desired_file.endswith(ext)]\n",
    "\n",
    "    return found_files"
   ]
  },
  {
   "cell_type": "markdown",
   "metadata": {},
   "source": [
    "## PCAP Analysis"
   ]
  },
  {
   "cell_type": "code",
   "execution_count": 4,
   "metadata": {},
   "outputs": [
    {
     "name": "stdout",
     "output_type": "stream",
     "text": [
      "Processing /data/edge_iiot/edge_iiot_dataset/Attack traffic/Backdoor_attack.pcap\n",
      "Processing /data/edge_iiot/edge_iiot_dataset/Attack traffic/DDoS HTTP Flood Attacks.pcap\n",
      "Processing /data/edge_iiot/edge_iiot_dataset/Attack traffic/DDoS ICMP Flood Attacks.pcap\n",
      "Processing /data/edge_iiot/edge_iiot_dataset/Attack traffic/DDoS TCP SYN Flood Attacks.pcap\n",
      "Processing /data/edge_iiot/edge_iiot_dataset/Attack traffic/DDoS UDP Flood Attacks.pcap\n",
      "Processing /data/edge_iiot/edge_iiot_dataset/Attack traffic/MITM (ARP spoofing + DNS) Attack.pcap\n",
      "Processing /data/edge_iiot/edge_iiot_dataset/Attack traffic/OS Fingerprinting attack.pcap\n",
      "Processing /data/edge_iiot/edge_iiot_dataset/Attack traffic/Password attacks.pcap\n",
      "Processing /data/edge_iiot/edge_iiot_dataset/Attack traffic/Port Scanning attack.pcap\n",
      "Processing /data/edge_iiot/edge_iiot_dataset/Attack traffic/Ransomware attack.pcap\n",
      "Processing /data/edge_iiot/edge_iiot_dataset/Attack traffic/SQL injection attack.pcap\n",
      "Processing /data/edge_iiot/edge_iiot_dataset/Attack traffic/Uploading attack.pcap\n",
      "Processing /data/edge_iiot/edge_iiot_dataset/Attack traffic/Vulnerability scanner attack.pcap\n",
      "Processing /data/edge_iiot/edge_iiot_dataset/Attack traffic/XSS attacks.pcap\n",
      "Processing /data/edge_iiot/edge_iiot_dataset/Normal traffic/Distance/Distance.pcap\n",
      "Processing /data/edge_iiot/edge_iiot_dataset/Normal traffic/Flame_Sensor/Flame_Sensor.pcap\n",
      "Processing /data/edge_iiot/edge_iiot_dataset/Normal traffic/Heart_Rate/Heart_Rate.pcap\n",
      "Processing /data/edge_iiot/edge_iiot_dataset/Normal traffic/IR_Receiver/IR_Receiver.pcap\n",
      "Processing /data/edge_iiot/edge_iiot_dataset/Normal traffic/Modbus/Modbus.pcap\n",
      "Processing /data/edge_iiot/edge_iiot_dataset/Normal traffic/phValue/phValue.pcap\n",
      "Processing /data/edge_iiot/edge_iiot_dataset/Normal traffic/Soil_Moisture/Soil_Moisture.pcap\n",
      "Processing /data/edge_iiot/edge_iiot_dataset/Normal traffic/Sound_Sensor/Sound_Sensor.pcap\n",
      "Processing /data/edge_iiot/edge_iiot_dataset/Normal traffic/Temperature_and_Humidity/Temperature_and_Humidity.pcap\n",
      "Processing /data/edge_iiot/edge_iiot_dataset/Normal traffic/Water_Level/Water_Level.pcap\n",
      "\n",
      "TOTAL FILES : 24\n",
      "TOTAL PACKETS: 21124492\n"
     ]
    }
   ],
   "source": [
    "# Count the number of packets\n",
    "!/data/AAAA_SCRIPTS/countpkts.sh $DATA_ROOT"
   ]
  },
  {
   "cell_type": "code",
   "execution_count": 5,
   "metadata": {},
   "outputs": [
    {
     "name": "stdout",
     "output_type": "stream",
     "text": [
      "Processing /data/edge_iiot/edge_iiot_dataset/Attack traffic/Backdoor_attack.csv\n",
      "Processing /data/edge_iiot/edge_iiot_dataset/Attack traffic/DDoS_ICMP_Flood_attack.csv\n",
      "Processing /data/edge_iiot/edge_iiot_dataset/Attack traffic/Port_Scanning_attack.csv\n",
      "Processing /data/edge_iiot/edge_iiot_dataset/Attack traffic/Uploading_attack.csv\n",
      "Processing /data/edge_iiot/edge_iiot_dataset/Attack traffic/XSS_attack.csv\n",
      "Processing /data/edge_iiot/edge_iiot_dataset/Attack traffic/Vulnerability_scanner_attack.csv\n",
      "Processing /data/edge_iiot/edge_iiot_dataset/Attack traffic/DDoS_UDP_Flood_attack.csv\n",
      "Processing /data/edge_iiot/edge_iiot_dataset/Attack traffic/Ransomware_attack.csv\n",
      "Processing /data/edge_iiot/edge_iiot_dataset/Attack traffic/OS_Fingerprinting_attack.csv\n",
      "Processing /data/edge_iiot/edge_iiot_dataset/Attack traffic/DDoS_HTTP_Flood_attack.csv\n",
      "Processing /data/edge_iiot/edge_iiot_dataset/Attack traffic/SQL_injection_attack.csv\n",
      "Processing /data/edge_iiot/edge_iiot_dataset/Attack traffic/Password_attack.csv\n",
      "Processing /data/edge_iiot/edge_iiot_dataset/Attack traffic/MITM_attack.csv\n",
      "Processing /data/edge_iiot/edge_iiot_dataset/Attack traffic/DDoS_TCP_SYN_Flood_attack.csv\n",
      "TOTAL FILES: 14\n",
      "TOTAL FLOWS: 9729709\n"
     ]
    }
   ],
   "source": [
    "# Count the number of text file entries for attack data and normal data separately\n",
    "# Need to be split, otherwise the script would count prepared data for ML/DL too, causing duplicity\n",
    "!/data/AAAA_SCRIPTS/countflows.sh \"$DATA_ATTACK\""
   ]
  },
  {
   "cell_type": "code",
   "execution_count": 6,
   "metadata": {},
   "outputs": [
    {
     "name": "stdout",
     "output_type": "stream",
     "text": [
      "Processing /data/edge_iiot/edge_iiot_dataset/Normal traffic/Temperature_and_Humidity/Temperature_and_Humidity.csv\n",
      "Processing /data/edge_iiot/edge_iiot_dataset/Normal traffic/Distance/Distance.csv\n",
      "Processing /data/edge_iiot/edge_iiot_dataset/Normal traffic/Modbus/Modbus.csv\n",
      "Processing /data/edge_iiot/edge_iiot_dataset/Normal traffic/Heart_Rate/Heart_Rate.csv\n",
      "Processing /data/edge_iiot/edge_iiot_dataset/Normal traffic/Water_Level/Water_Level.csv\n",
      "Processing /data/edge_iiot/edge_iiot_dataset/Normal traffic/phValue/phValue.csv\n",
      "Processing /data/edge_iiot/edge_iiot_dataset/Normal traffic/Sound_Sensor/Sound_Sensor.csv\n",
      "Processing /data/edge_iiot/edge_iiot_dataset/Normal traffic/Soil_Moisture/Soil_Moisture.csv\n",
      "Processing /data/edge_iiot/edge_iiot_dataset/Normal traffic/Flame_Sensor/Flame_Sensor.csv\n",
      "Processing /data/edge_iiot/edge_iiot_dataset/Normal traffic/IR_Receiver/IR_Receiver.csv\n",
      "TOTAL FILES: 10\n",
      "TOTAL FLOWS: 11209913\n"
     ]
    }
   ],
   "source": [
    "!/data/AAAA_SCRIPTS/countflows.sh \"$DATA_NORMAL\""
   ]
  },
  {
   "cell_type": "code",
   "execution_count": 7,
   "metadata": {},
   "outputs": [
    {
     "data": {
      "text/plain": [
       "20939622"
      ]
     },
     "execution_count": 7,
     "metadata": {},
     "output_type": "execute_result"
    }
   ],
   "source": [
    "9729709 + 11209913"
   ]
  },
  {
   "cell_type": "code",
   "execution_count": 8,
   "metadata": {},
   "outputs": [
    {
     "name": "stdout",
     "output_type": "stream",
     "text": [
      "File name:           /data/edge_iiot/edge_iiot_dataset/Attack traffic/DDoS UDP Flood Attacks.pcap\n",
      "File type:           Wireshark/tcpdump/... - pcap\n",
      "File encapsulation:  Ethernet\n",
      "File timestamp precision:  microseconds (6)\n",
      "Packet size limit:   file hdr: 262144 bytes\n",
      "Number of packets:   3,215 k\n",
      "File size:           247 MB\n",
      "Data size:           196 MB\n",
      "Capture duration:    400.908273 seconds\n",
      "First packet time:   2021-11-24 23:27:10.139612\n",
      "Last packet time:    2021-11-24 23:33:51.047885\n",
      "Data byte rate:      489 kBps\n",
      "Data bit rate:       3,913 kbps\n",
      "Average packet size: 60.98 bytes\n",
      "Average packet rate: 8,021 packets/s\n",
      "SHA256:              6de0341f27093cac8a5eba657b8a49ecbac4dd5bf6c452a6274472df69172ce5\n",
      "RIPEMD160:           3c69a3b6cee2d598dc54bca6217d1eef2a72a106\n",
      "SHA1:                8270de8742425d33d0b781594d9fc735680829ed\n",
      "Strict time order:   False\n",
      "Number of interfaces in file: 1\n",
      "Interface #0 info:\n",
      "                     Encapsulation = Ethernet (1 - ether)\n",
      "                     Capture length = 262144\n",
      "                     Time precision = microseconds (6)\n",
      "                     Time ticks per second = 1000000\n",
      "                     Number of stat entries = 0\n",
      "                     Number of packets = 3215732\n"
     ]
    }
   ],
   "source": [
    "# Finally, determine the duration of the capture\n",
    "# According to documentation, the captures should be independent and non-overlapping\n",
    "!capinfos \"$DATA_ATTACK/DDoS UDP Flood Attacks.pcap\""
   ]
  },
  {
   "cell_type": "code",
   "execution_count": 26,
   "metadata": {},
   "outputs": [
    {
     "name": "stdout",
     "output_type": "stream",
     "text": [
      "pcapfix 1.1.7 (c) 2012-2021 Robert Krause\n",
      "\n",
      "[*] Reading from file: /data/edge_iiot/edge_iiot_dataset/Attack traffic/Vulnerability scanner attack.pcap\n",
      "[*] Writing to file: /data/edge_iiot/edge_iiot_dataset/Attack traffic/Vulnerability scanner attack.pcap\n",
      "[*] File size: 140377652 bytes.\n",
      "[+] This is a PCAP file.\n",
      "[*] Analyzing Global Header...\n",
      "[+] The global pcap header seems to be fine!\n",
      "[*] Analyzing packets...\n",
      "[*] Progress:  20.00 %\n",
      "[*] Progress:  40.00 %\n",
      "[*] Progress:  60.00 %\n",
      "[*] Progress:  80.14 %\n",
      "[*] End of file reached. Aligning last packet.\n",
      "[-] Cannot align last packet, because it is broken.\n",
      "[*] Progress: 100.00 %\n",
      "[*] Wrote 265827 packets to file.\n",
      "[+] SUCCESS: 1 Corruption(s) fixed!\n",
      "\n"
     ]
    }
   ],
   "source": [
    "# This file is broken, try fixing it\n",
    "!pcapfix \"$DATA_ROOT/Attack traffic/Vulnerability scanner attack.pcap\" -o \"$DATA_ROOT/Attack traffic/Vulnerability scanner attack.pcap\""
   ]
  },
  {
   "cell_type": "code",
   "execution_count": 9,
   "metadata": {},
   "outputs": [
    {
     "name": "stdout",
     "output_type": "stream",
     "text": [
      "4786872.048212\n"
     ]
    }
   ],
   "source": [
    "!/data/AAAA_SCRIPTS/countdur.sh $DATA_ROOT"
   ]
  },
  {
   "cell_type": "markdown",
   "metadata": {},
   "source": [
    "This is too much according to the documentation, over 50 days - some PCAPs must contain huge gaps..."
   ]
  },
  {
   "cell_type": "code",
   "execution_count": 10,
   "metadata": {},
   "outputs": [],
   "source": [
    "files_attack_pcap = find_files(DATA_ATTACK, '.pcap')\n",
    "files_normal_pcap = find_files(DATA_NORMAL, '.pcap')"
   ]
  },
  {
   "cell_type": "code",
   "execution_count": 11,
   "metadata": {},
   "outputs": [
    {
     "name": "stdout",
     "output_type": "stream",
     "text": [
      "File name:           /data/edge_iiot/edge_iiot_dataset/Attack traffic/Ransomware attack.pcap\n",
      "First packet time:   2021-12-02 16:02:07.998055\n",
      "Last packet time:    2021-12-04 00:24:38.441645\n"
     ]
    },
    {
     "name": "stdout",
     "output_type": "stream",
     "text": [
      "\n",
      "File name:           /data/edge_iiot/edge_iiot_dataset/Attack traffic/XSS attacks.pcap\n",
      "First packet time:   2021-11-29 17:44:47.438207\n",
      "Last packet time:    2021-11-29 19:53:14.731065\n",
      "\n",
      "File name:           /data/edge_iiot/edge_iiot_dataset/Attack traffic/Backdoor_attack.pcap\n",
      "First packet time:   2021-12-05 17:58:23.150209\n",
      "Last packet time:    2021-12-05 21:07:01.118175\n",
      "\n",
      "File name:           /data/edge_iiot/edge_iiot_dataset/Attack traffic/SQL injection attack.pcap\n",
      "First packet time:   2021-11-29 21:35:18.238171\n",
      "Last packet time:    2021-11-29 21:43:43.688520\n",
      "\n",
      "File name:           /data/edge_iiot/edge_iiot_dataset/Attack traffic/Vulnerability scanner attack.pcap\n",
      "First packet time:   2021-12-06 19:22:08.593687\n",
      "Last packet time:    2021-12-06 20:02:03.254705\n",
      "\n",
      "File name:           /data/edge_iiot/edge_iiot_dataset/Attack traffic/Port Scanning attack.pcap\n",
      "First packet time:   2021-11-24 16:03:29.475073\n",
      "Last packet time:    2021-11-24 18:50:09.194016\n",
      "\n",
      "File name:           /data/edge_iiot/edge_iiot_dataset/Attack traffic/Password attacks.pcap\n",
      "First packet time:   2021-12-04 01:45:35.961572\n",
      "Last packet time:    2021-12-04 20:47:21.605080\n",
      "\n",
      "File name:           /data/edge_iiot/edge_iiot_dataset/Attack traffic/OS Fingerprinting attack.pcap\n",
      "First packet time:   2021-12-27 22:14:30.939803\n",
      "Last packet time:    2021-12-27 22:28:16.484355\n",
      "\n",
      "File name:           /data/edge_iiot/edge_iiot_dataset/Attack traffic/DDoS HTTP Flood Attacks.pcap\n",
      "First packet time:   2021-11-25 11:35:29.350784\n",
      "Last packet time:    2021-11-25 11:40:01.284354\n",
      "\n",
      "File name:           /data/edge_iiot/edge_iiot_dataset/Attack traffic/DDoS TCP SYN Flood Attacks.pcap\n",
      "First packet time:   2021-11-24 19:02:37.608273\n",
      "Last packet time:    2021-11-24 19:11:25.622962\n",
      "\n",
      "File name:           /data/edge_iiot/edge_iiot_dataset/Attack traffic/DDoS ICMP Flood Attacks.pcap\n",
      "First packet time:   2021-11-24 23:17:49.149462\n",
      "Last packet time:    2021-11-24 23:24:32.823991\n",
      "\n",
      "File name:           /data/edge_iiot/edge_iiot_dataset/Attack traffic/DDoS UDP Flood Attacks.pcap\n",
      "First packet time:   2021-11-24 23:27:10.139612\n",
      "Last packet time:    2021-11-24 23:33:51.047885\n",
      "\n",
      "File name:           /data/edge_iiot/edge_iiot_dataset/Attack traffic/Uploading attack.pcap\n",
      "First packet time:   2021-12-06 23:08:32.886770\n",
      "Last packet time:    2021-12-06 23:16:58.204631\n",
      "\n",
      "File name:           /data/edge_iiot/edge_iiot_dataset/Attack traffic/MITM (ARP spoofing + DNS) Attack.pcap\n",
      "First packet time:   2021-11-27 18:50:54.178322\n",
      "Last packet time:    2021-11-27 19:10:47.816351\n",
      "\n"
     ]
    }
   ],
   "source": [
    "for file in files_attack_pcap:\n",
    "    !capinfos -a -e \"$file\"\n",
    "    print()"
   ]
  },
  {
   "cell_type": "code",
   "execution_count": 12,
   "metadata": {},
   "outputs": [
    {
     "name": "stdout",
     "output_type": "stream",
     "text": [
      "File name:           /data/edge_iiot/edge_iiot_dataset/Normal traffic/Temperature_and_Humidity/Temperature_and_Humidity.pcap\n",
      "First packet time:   2021-11-21 11:44:10.081753\n",
      "Last packet time:    2021-12-20 01:40:55.043322\n",
      "\n",
      "File name:           /data/edge_iiot/edge_iiot_dataset/Normal traffic/Distance/Distance.pcap\n",
      "First packet time:   2021-12-27 23:58:21.314757\n",
      "Last packet time:    2021-12-28 00:25:13.352243\n",
      "\n",
      "File name:           /data/edge_iiot/edge_iiot_dataset/Normal traffic/Modbus/Modbus.pcap\n",
      "First packet time:   2021-12-20 01:22:47.981993\n",
      "Last packet time:    2022-01-05 07:26:07.966722\n",
      "\n",
      "File name:           /data/edge_iiot/edge_iiot_dataset/Normal traffic/Heart_Rate/Heart_Rate.pcap\n",
      "First packet time:   2021-12-28 02:39:39.986982\n",
      "Last packet time:    2021-12-28 03:10:17.376946\n",
      "\n",
      "File name:           /data/edge_iiot/edge_iiot_dataset/Normal traffic/Water_Level/Water_Level.pcap\n",
      "First packet time:   2021-12-28 04:48:17.156663\n",
      "Last packet time:    2022-01-04 23:09:14.060928\n",
      "\n",
      "File name:           /data/edge_iiot/edge_iiot_dataset/Normal traffic/phValue/phValue.pcap\n",
      "First packet time:   2021-12-28 00:34:37.189507\n",
      "Last packet time:    2021-12-28 01:49:04.470536\n",
      "\n",
      "File name:           /data/edge_iiot/edge_iiot_dataset/Normal traffic/Sound_Sensor/Sound_Sensor.pcap\n",
      "First packet time:   2022-01-05 04:33:56.369336\n",
      "Last packet time:    2022-01-05 05:06:13.145523\n",
      "\n",
      "File name:           /data/edge_iiot/edge_iiot_dataset/Normal traffic/Soil_Moisture/Soil_Moisture.pcap\n",
      "First packet time:   2022-01-05 08:46:13.592934\n",
      "Last packet time:    2022-01-05 11:02:35.711811\n",
      "\n",
      "File name:           /data/edge_iiot/edge_iiot_dataset/Normal traffic/Flame_Sensor/Flame_Sensor.pcap\n",
      "First packet time:   2022-01-05 05:42:04.726256\n",
      "Last packet time:    2022-01-05 06:06:01.829999\n",
      "\n",
      "File name:           /data/edge_iiot/edge_iiot_dataset/Normal traffic/IR_Receiver/IR_Receiver.pcap\n",
      "First packet time:   2022-01-05 00:48:09.473535\n",
      "Last packet time:    2022-01-05 01:18:36.754163\n",
      "\n"
     ]
    }
   ],
   "source": [
    "for file in files_normal_pcap:\n",
    "    !capinfos -a -e \"$file\"\n",
    "    print()"
   ]
  },
  {
   "cell_type": "markdown",
   "metadata": {},
   "source": [
    "We see that while attack scenarios have pretty limited duration, normal captures are sometimes overstretched over several days. This is an incorrect representation of the duration for our purposes. Let's compute the duration via parsing the PCAP contents."
   ]
  },
  {
   "cell_type": "code",
   "execution_count": 28,
   "metadata": {},
   "outputs": [],
   "source": [
    "from scapy.all import PcapReader\n",
    "\n",
    "\n",
    "def compute_pcap_true_duration(filepath: str, max_gap_sec: int):\n",
    "    contiguous = True\n",
    "    total_dur = 0\n",
    "    last_time = 0\n",
    "\n",
    "    for pkt in PcapReader(filepath):\n",
    "        pkt_time = pkt.time\n",
    "\n",
    "        # First packet in the file\n",
    "        if last_time == 0:\n",
    "            last_time = pkt_time\n",
    "\n",
    "        # Check if the specified gap has not been reached\n",
    "        if last_time + max_gap_sec >= pkt_time:\n",
    "            total_dur += pkt_time - last_time\n",
    "        elif contiguous:\n",
    "            contiguous = False\n",
    "\n",
    "        last_time = pkt_time\n",
    "\n",
    "    return float(total_dur), contiguous"
   ]
  },
  {
   "cell_type": "code",
   "execution_count": 40,
   "metadata": {},
   "outputs": [
    {
     "data": {
      "text/plain": [
       "168312.78576800006"
      ]
     },
     "execution_count": 40,
     "metadata": {},
     "output_type": "execute_result"
    }
   ],
   "source": [
    "# Supposing the files are not overlapping, determine the overall timespan of the capture\n",
    "total_duration_all_files = 0\n",
    "\n",
    "for file in files_attack_pcap + files_normal_pcap:\n",
    "    current_file_duration, _ = compute_pcap_true_duration(file, DURATION_GAP_TOLERANCE)\n",
    "    total_duration_all_files += current_file_duration\n",
    "\n",
    "total_duration_all_files"
   ]
  },
  {
   "cell_type": "code",
   "execution_count": 51,
   "metadata": {},
   "outputs": [
    {
     "name": "stdout",
     "output_type": "stream",
     "text": [
      "1d 22h 45m 12s\n"
     ]
    }
   ],
   "source": [
    "from datetime import datetime, timedelta\n",
    "\n",
    "def convert_time(sec: float):\n",
    "    d = datetime(1,1,1) + timedelta(seconds=sec)\n",
    "\n",
    "    print(f\"{d.day-1}d {d.hour}h {d.minute}m {d.second}s\")\n",
    "\n",
    "convert_time((total_duration_all_files))"
   ]
  },
  {
   "cell_type": "markdown",
   "metadata": {},
   "source": [
    "## CSV Analysis -- Merged Files\n",
    "\n",
    "We omit analysis of single files, since we analyzed PCAPs already. At the point, let's look only at one file -- the merged file for Deep learning, which should be a subset of file for ML."
   ]
  },
  {
   "cell_type": "code",
   "execution_count": 41,
   "metadata": {},
   "outputs": [
    {
     "name": "stderr",
     "output_type": "stream",
     "text": [
      "/tmp/ipykernel_411697/1668036.py:1: DtypeWarning: Columns (2,3,6,11,13,14,15,16,17,31,32,34,39,45,51,54,55) have mixed types. Specify dtype option on import or set low_memory=False.\n",
      "  data = pd.read_csv(os.path.join(DATA_SELECTION_MIX, 'DNN-EdgeIIoT-dataset.csv'))\n"
     ]
    }
   ],
   "source": [
    "data = pd.read_csv(os.path.join(DATA_SELECTION_MIX, 'DNN-EdgeIIoT-dataset.csv'))"
   ]
  },
  {
   "cell_type": "code",
   "execution_count": 42,
   "metadata": {},
   "outputs": [
    {
     "name": "stdout",
     "output_type": "stream",
     "text": [
      "<class 'pandas.core.frame.DataFrame'>\n",
      "RangeIndex: 2219201 entries, 0 to 2219200\n",
      "Data columns (total 63 columns):\n",
      " #   Column                     Dtype  \n",
      "---  ------                     -----  \n",
      " 0   frame.time                 object \n",
      " 1   ip.src_host                object \n",
      " 2   ip.dst_host                object \n",
      " 3   arp.dst.proto_ipv4         object \n",
      " 4   arp.opcode                 float64\n",
      " 5   arp.hw.size                float64\n",
      " 6   arp.src.proto_ipv4         object \n",
      " 7   icmp.checksum              float64\n",
      " 8   icmp.seq_le                float64\n",
      " 9   icmp.transmit_timestamp    float64\n",
      " 10  icmp.unused                float64\n",
      " 11  http.file_data             object \n",
      " 12  http.content_length        float64\n",
      " 13  http.request.uri.query     object \n",
      " 14  http.request.method        object \n",
      " 15  http.referer               object \n",
      " 16  http.request.full_uri      object \n",
      " 17  http.request.version       object \n",
      " 18  http.response              float64\n",
      " 19  http.tls_port              float64\n",
      " 20  tcp.ack                    float64\n",
      " 21  tcp.ack_raw                float64\n",
      " 22  tcp.checksum               float64\n",
      " 23  tcp.connection.fin         float64\n",
      " 24  tcp.connection.rst         float64\n",
      " 25  tcp.connection.syn         float64\n",
      " 26  tcp.connection.synack      float64\n",
      " 27  tcp.dstport                float64\n",
      " 28  tcp.flags                  float64\n",
      " 29  tcp.flags.ack              float64\n",
      " 30  tcp.len                    float64\n",
      " 31  tcp.options                object \n",
      " 32  tcp.payload                object \n",
      " 33  tcp.seq                    float64\n",
      " 34  tcp.srcport                object \n",
      " 35  udp.port                   float64\n",
      " 36  udp.stream                 float64\n",
      " 37  udp.time_delta             float64\n",
      " 38  dns.qry.name               float64\n",
      " 39  dns.qry.name.len           object \n",
      " 40  dns.qry.qu                 float64\n",
      " 41  dns.qry.type               float64\n",
      " 42  dns.retransmission         float64\n",
      " 43  dns.retransmit_request     float64\n",
      " 44  dns.retransmit_request_in  float64\n",
      " 45  mqtt.conack.flags          object \n",
      " 46  mqtt.conflag.cleansess     float64\n",
      " 47  mqtt.conflags              float64\n",
      " 48  mqtt.hdrflags              float64\n",
      " 49  mqtt.len                   float64\n",
      " 50  mqtt.msg_decoded_as        float64\n",
      " 51  mqtt.msg                   object \n",
      " 52  mqtt.msgtype               float64\n",
      " 53  mqtt.proto_len             float64\n",
      " 54  mqtt.protoname             object \n",
      " 55  mqtt.topic                 object \n",
      " 56  mqtt.topic_len             float64\n",
      " 57  mqtt.ver                   float64\n",
      " 58  mbtcp.len                  float64\n",
      " 59  mbtcp.trans_id             float64\n",
      " 60  mbtcp.unit_id              float64\n",
      " 61  Attack_label               int64  \n",
      " 62  Attack_type                object \n",
      "dtypes: float64(42), int64(1), object(20)\n",
      "memory usage: 1.0+ GB\n"
     ]
    }
   ],
   "source": [
    "data.info()"
   ]
  },
  {
   "cell_type": "code",
   "execution_count": 52,
   "metadata": {},
   "outputs": [
    {
     "data": {
      "text/plain": [
       "2219201"
      ]
     },
     "execution_count": 52,
     "metadata": {},
     "output_type": "execute_result"
    }
   ],
   "source": [
    "len(data)"
   ]
  },
  {
   "cell_type": "code",
   "execution_count": 53,
   "metadata": {},
   "outputs": [
    {
     "data": {
      "text/plain": [
       "Attack_type\n",
       "Normal                   1615643\n",
       "DDoS_UDP                  121568\n",
       "DDoS_ICMP                 116436\n",
       "SQL_injection              51203\n",
       "Password                   50153\n",
       "Vulnerability_scanner      50110\n",
       "DDoS_TCP                   50062\n",
       "DDoS_HTTP                  49911\n",
       "Uploading                  37634\n",
       "Backdoor                   24862\n",
       "Port_Scanning              22564\n",
       "XSS                        15915\n",
       "Ransomware                 10925\n",
       "MITM                        1214\n",
       "Fingerprinting              1001\n",
       "Name: count, dtype: int64"
      ]
     },
     "execution_count": 53,
     "metadata": {},
     "output_type": "execute_result"
    }
   ],
   "source": [
    "data['Attack_type'].value_counts()"
   ]
  },
  {
   "cell_type": "code",
   "execution_count": 55,
   "metadata": {},
   "outputs": [
    {
     "data": {
      "text/plain": [
       "15"
      ]
     },
     "execution_count": 55,
     "metadata": {},
     "output_type": "execute_result"
    }
   ],
   "source": [
    "len(data['Attack_type'].value_counts())"
   ]
  },
  {
   "cell_type": "code",
   "execution_count": 54,
   "metadata": {},
   "outputs": [
    {
     "data": {
      "text/plain": [
       "Attack_label\n",
       "0    1615643\n",
       "1     603558\n",
       "Name: count, dtype: int64"
      ]
     },
     "execution_count": 54,
     "metadata": {},
     "output_type": "execute_result"
    }
   ],
   "source": [
    "data['Attack_label'].value_counts()"
   ]
  }
 ],
 "metadata": {
  "kernelspec": {
   "display_name": "env",
   "language": "python",
   "name": "python3"
  },
  "language_info": {
   "codemirror_mode": {
    "name": "ipython",
    "version": 3
   },
   "file_extension": ".py",
   "mimetype": "text/x-python",
   "name": "python",
   "nbconvert_exporter": "python",
   "pygments_lexer": "ipython3",
   "version": "3.12.3"
  }
 },
 "nbformat": 4,
 "nbformat_minor": 2
}
