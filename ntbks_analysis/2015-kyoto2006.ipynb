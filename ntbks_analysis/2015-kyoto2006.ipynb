{
 "cells": [
  {
   "cell_type": "markdown",
   "metadata": {},
   "source": [
    "# Kyoto 2006+ Dataset Analysis\n",
    "\n",
    "* **Author:** Patrik Goldschmidt (igoldschmidt@fit.vut.cz)\n",
    "* **Project:** Network Intrusion Datasets: A Survey, Limitations, and Recommendations\n",
    "* **Date:** 2024\n",
    "\n",
    "This file presents analysis of a selected day (2015-01-01) to get the grasp of the data. Due to the amount of data, we did not load all into the memory, but rather performed the counting via a command line script."
   ]
  },
  {
   "cell_type": "code",
   "execution_count": 1,
   "metadata": {},
   "outputs": [],
   "source": [
    "import pandas as pd\n",
    "import numpy as np\n",
    "import matplotlib.pyplot as plt\n",
    "\n",
    "pd.set_option('display.max_columns', None)"
   ]
  },
  {
   "cell_type": "code",
   "execution_count": 2,
   "metadata": {},
   "outputs": [],
   "source": [
    "# Select a sample -- the first day of 2015\n",
    "KYOTO_PATH = 'Kyoto2016/2015/01/20150101.txt'"
   ]
  },
  {
   "cell_type": "code",
   "execution_count": 3,
   "metadata": {},
   "outputs": [],
   "source": [
    "KYOTO_FEATURES = [\n",
    "    # 14 Conventional features\n",
    "    'duration',\n",
    "    'service',\n",
    "    'src_bytes',\n",
    "    'dst_bytes',\n",
    "    'count',\n",
    "    'same_srv_rate',\n",
    "    'serror_rate',\n",
    "    'srv_serror_rate',\n",
    "    'dst_host_count',\n",
    "    'dst_host_srv_count',\n",
    "    'dst_host_same_src_port_rate',\n",
    "    'dst_host_serror_rate',\n",
    "    'dst_host_src_serror_rate',\n",
    "    'flag',\n",
    "    # 10 Additional features\n",
    "    'ids_detection',\n",
    "    'malware_detection',\n",
    "    'ashula_detection',\n",
    "    'label',\n",
    "    'src_ip',\n",
    "    'src_port',\n",
    "    'dst_ip',\n",
    "    'dst_port',\n",
    "    'start_time',\n",
    "    'protocol'\n",
    "]"
   ]
  },
  {
   "cell_type": "code",
   "execution_count": 4,
   "metadata": {},
   "outputs": [],
   "source": [
    "data = pd.read_csv(KYOTO_PATH, delimiter='\\t', names=KYOTO_FEATURES)"
   ]
  },
  {
   "cell_type": "code",
   "execution_count": 5,
   "metadata": {},
   "outputs": [
    {
     "name": "stdout",
     "output_type": "stream",
     "text": [
      "<class 'pandas.core.frame.DataFrame'>\n",
      "RangeIndex: 381105 entries, 0 to 381104\n",
      "Data columns (total 24 columns):\n",
      " #   Column                       Non-Null Count   Dtype  \n",
      "---  ------                       --------------   -----  \n",
      " 0   duration                     381105 non-null  float64\n",
      " 1   service                      381105 non-null  object \n",
      " 2   src_bytes                    381105 non-null  int64  \n",
      " 3   dst_bytes                    381105 non-null  int64  \n",
      " 4   count                        381105 non-null  int64  \n",
      " 5   same_srv_rate                381105 non-null  float64\n",
      " 6   serror_rate                  381105 non-null  float64\n",
      " 7   srv_serror_rate              381105 non-null  float64\n",
      " 8   dst_host_count               381105 non-null  int64  \n",
      " 9   dst_host_srv_count           381105 non-null  int64  \n",
      " 10  dst_host_same_src_port_rate  381105 non-null  float64\n",
      " 11  dst_host_serror_rate         381105 non-null  float64\n",
      " 12  dst_host_src_serror_rate     381105 non-null  float64\n",
      " 13  flag                         381105 non-null  object \n",
      " 14  ids_detection                381105 non-null  object \n",
      " 15  malware_detection            381105 non-null  object \n",
      " 16  ashula_detection             381105 non-null  object \n",
      " 17  label                        381105 non-null  int64  \n",
      " 18  src_ip                       381105 non-null  object \n",
      " 19  src_port                     381105 non-null  int64  \n",
      " 20  dst_ip                       381105 non-null  object \n",
      " 21  dst_port                     381105 non-null  int64  \n",
      " 22  start_time                   381105 non-null  object \n",
      " 23  protocol                     381105 non-null  object \n",
      "dtypes: float64(7), int64(8), object(9)\n",
      "memory usage: 69.8+ MB\n"
     ]
    }
   ],
   "source": [
    "data.info()"
   ]
  },
  {
   "cell_type": "code",
   "execution_count": 6,
   "metadata": {},
   "outputs": [
    {
     "data": {
      "text/html": [
       "<div>\n",
       "<style scoped>\n",
       "    .dataframe tbody tr th:only-of-type {\n",
       "        vertical-align: middle;\n",
       "    }\n",
       "\n",
       "    .dataframe tbody tr th {\n",
       "        vertical-align: top;\n",
       "    }\n",
       "\n",
       "    .dataframe thead th {\n",
       "        text-align: right;\n",
       "    }\n",
       "</style>\n",
       "<table border=\"1\" class=\"dataframe\">\n",
       "  <thead>\n",
       "    <tr style=\"text-align: right;\">\n",
       "      <th></th>\n",
       "      <th>duration</th>\n",
       "      <th>service</th>\n",
       "      <th>src_bytes</th>\n",
       "      <th>dst_bytes</th>\n",
       "      <th>count</th>\n",
       "      <th>same_srv_rate</th>\n",
       "      <th>serror_rate</th>\n",
       "      <th>srv_serror_rate</th>\n",
       "      <th>dst_host_count</th>\n",
       "      <th>dst_host_srv_count</th>\n",
       "      <th>dst_host_same_src_port_rate</th>\n",
       "      <th>dst_host_serror_rate</th>\n",
       "      <th>dst_host_src_serror_rate</th>\n",
       "      <th>flag</th>\n",
       "      <th>ids_detection</th>\n",
       "      <th>malware_detection</th>\n",
       "      <th>ashula_detection</th>\n",
       "      <th>label</th>\n",
       "      <th>src_ip</th>\n",
       "      <th>src_port</th>\n",
       "      <th>dst_ip</th>\n",
       "      <th>dst_port</th>\n",
       "      <th>start_time</th>\n",
       "      <th>protocol</th>\n",
       "    </tr>\n",
       "  </thead>\n",
       "  <tbody>\n",
       "    <tr>\n",
       "      <th>0</th>\n",
       "      <td>0.0</td>\n",
       "      <td>other</td>\n",
       "      <td>0</td>\n",
       "      <td>0</td>\n",
       "      <td>0</td>\n",
       "      <td>0.0</td>\n",
       "      <td>0.0</td>\n",
       "      <td>0.0</td>\n",
       "      <td>0</td>\n",
       "      <td>0</td>\n",
       "      <td>0.0</td>\n",
       "      <td>0.0</td>\n",
       "      <td>0.0</td>\n",
       "      <td>S0</td>\n",
       "      <td>0</td>\n",
       "      <td>0</td>\n",
       "      <td>0</td>\n",
       "      <td>-1</td>\n",
       "      <td>fd95:ec1e:6a61:f55c:1fa3:15ee:2e7a:0044</td>\n",
       "      <td>54992</td>\n",
       "      <td>fd95:ec1e:6a61:9478:7d39:2713:60a1:0514</td>\n",
       "      <td>23</td>\n",
       "      <td>00:00:00</td>\n",
       "      <td>tcp</td>\n",
       "    </tr>\n",
       "    <tr>\n",
       "      <th>1</th>\n",
       "      <td>0.0</td>\n",
       "      <td>other</td>\n",
       "      <td>0</td>\n",
       "      <td>0</td>\n",
       "      <td>0</td>\n",
       "      <td>0.0</td>\n",
       "      <td>0.0</td>\n",
       "      <td>0.0</td>\n",
       "      <td>0</td>\n",
       "      <td>0</td>\n",
       "      <td>0.0</td>\n",
       "      <td>0.0</td>\n",
       "      <td>0.0</td>\n",
       "      <td>S0</td>\n",
       "      <td>0</td>\n",
       "      <td>0</td>\n",
       "      <td>0</td>\n",
       "      <td>-1</td>\n",
       "      <td>fd95:ec1e:6a61:f55c:1fa3:15ee:2e7a:0044</td>\n",
       "      <td>47904</td>\n",
       "      <td>fd95:ec1e:6a61:9c93:7df6:27d3:6096:040d</td>\n",
       "      <td>23</td>\n",
       "      <td>00:00:00</td>\n",
       "      <td>tcp</td>\n",
       "    </tr>\n",
       "    <tr>\n",
       "      <th>2</th>\n",
       "      <td>0.0</td>\n",
       "      <td>other</td>\n",
       "      <td>0</td>\n",
       "      <td>0</td>\n",
       "      <td>0</td>\n",
       "      <td>0.0</td>\n",
       "      <td>0.0</td>\n",
       "      <td>0.0</td>\n",
       "      <td>0</td>\n",
       "      <td>0</td>\n",
       "      <td>0.0</td>\n",
       "      <td>0.0</td>\n",
       "      <td>0.0</td>\n",
       "      <td>S0</td>\n",
       "      <td>0</td>\n",
       "      <td>0</td>\n",
       "      <td>0</td>\n",
       "      <td>-1</td>\n",
       "      <td>fd95:ec1e:6a61:f55c:1fa3:15ee:2e7a:0044</td>\n",
       "      <td>58974</td>\n",
       "      <td>fd95:ec1e:6a61:6135:7d3a:2712:6027:0328</td>\n",
       "      <td>23</td>\n",
       "      <td>00:00:00</td>\n",
       "      <td>tcp</td>\n",
       "    </tr>\n",
       "    <tr>\n",
       "      <th>3</th>\n",
       "      <td>0.0</td>\n",
       "      <td>other</td>\n",
       "      <td>0</td>\n",
       "      <td>0</td>\n",
       "      <td>0</td>\n",
       "      <td>0.0</td>\n",
       "      <td>0.0</td>\n",
       "      <td>0.0</td>\n",
       "      <td>0</td>\n",
       "      <td>0</td>\n",
       "      <td>0.0</td>\n",
       "      <td>0.0</td>\n",
       "      <td>0.0</td>\n",
       "      <td>S0</td>\n",
       "      <td>0</td>\n",
       "      <td>0</td>\n",
       "      <td>0</td>\n",
       "      <td>-1</td>\n",
       "      <td>fd95:ec1e:6a61:f55c:1fa3:15ee:2e7a:0044</td>\n",
       "      <td>37174</td>\n",
       "      <td>fd95:ec1e:6a61:b941:7d6b:27a6:6074:02ab</td>\n",
       "      <td>23</td>\n",
       "      <td>00:00:00</td>\n",
       "      <td>tcp</td>\n",
       "    </tr>\n",
       "    <tr>\n",
       "      <th>4</th>\n",
       "      <td>0.0</td>\n",
       "      <td>other</td>\n",
       "      <td>0</td>\n",
       "      <td>0</td>\n",
       "      <td>0</td>\n",
       "      <td>0.0</td>\n",
       "      <td>0.0</td>\n",
       "      <td>0.0</td>\n",
       "      <td>0</td>\n",
       "      <td>0</td>\n",
       "      <td>0.0</td>\n",
       "      <td>0.0</td>\n",
       "      <td>0.0</td>\n",
       "      <td>S0</td>\n",
       "      <td>0</td>\n",
       "      <td>0</td>\n",
       "      <td>0</td>\n",
       "      <td>-1</td>\n",
       "      <td>fd95:ec1e:6a61:5cd4:2a7f:0315:78bc:7c66</td>\n",
       "      <td>40711</td>\n",
       "      <td>fd95:ec1e:6a61:a188:7d54:27f4:60c1:220d</td>\n",
       "      <td>3389</td>\n",
       "      <td>00:00:00</td>\n",
       "      <td>tcp</td>\n",
       "    </tr>\n",
       "  </tbody>\n",
       "</table>\n",
       "</div>"
      ],
      "text/plain": [
       "   duration service  src_bytes  dst_bytes  count  same_srv_rate  serror_rate  \\\n",
       "0       0.0   other          0          0      0            0.0          0.0   \n",
       "1       0.0   other          0          0      0            0.0          0.0   \n",
       "2       0.0   other          0          0      0            0.0          0.0   \n",
       "3       0.0   other          0          0      0            0.0          0.0   \n",
       "4       0.0   other          0          0      0            0.0          0.0   \n",
       "\n",
       "   srv_serror_rate  dst_host_count  dst_host_srv_count  \\\n",
       "0              0.0               0                   0   \n",
       "1              0.0               0                   0   \n",
       "2              0.0               0                   0   \n",
       "3              0.0               0                   0   \n",
       "4              0.0               0                   0   \n",
       "\n",
       "   dst_host_same_src_port_rate  dst_host_serror_rate  \\\n",
       "0                          0.0                   0.0   \n",
       "1                          0.0                   0.0   \n",
       "2                          0.0                   0.0   \n",
       "3                          0.0                   0.0   \n",
       "4                          0.0                   0.0   \n",
       "\n",
       "   dst_host_src_serror_rate flag ids_detection malware_detection  \\\n",
       "0                       0.0   S0             0                 0   \n",
       "1                       0.0   S0             0                 0   \n",
       "2                       0.0   S0             0                 0   \n",
       "3                       0.0   S0             0                 0   \n",
       "4                       0.0   S0             0                 0   \n",
       "\n",
       "  ashula_detection  label                                   src_ip  src_port  \\\n",
       "0                0     -1  fd95:ec1e:6a61:f55c:1fa3:15ee:2e7a:0044     54992   \n",
       "1                0     -1  fd95:ec1e:6a61:f55c:1fa3:15ee:2e7a:0044     47904   \n",
       "2                0     -1  fd95:ec1e:6a61:f55c:1fa3:15ee:2e7a:0044     58974   \n",
       "3                0     -1  fd95:ec1e:6a61:f55c:1fa3:15ee:2e7a:0044     37174   \n",
       "4                0     -1  fd95:ec1e:6a61:5cd4:2a7f:0315:78bc:7c66     40711   \n",
       "\n",
       "                                    dst_ip  dst_port start_time protocol  \n",
       "0  fd95:ec1e:6a61:9478:7d39:2713:60a1:0514        23   00:00:00      tcp  \n",
       "1  fd95:ec1e:6a61:9c93:7df6:27d3:6096:040d        23   00:00:00      tcp  \n",
       "2  fd95:ec1e:6a61:6135:7d3a:2712:6027:0328        23   00:00:00      tcp  \n",
       "3  fd95:ec1e:6a61:b941:7d6b:27a6:6074:02ab        23   00:00:00      tcp  \n",
       "4  fd95:ec1e:6a61:a188:7d54:27f4:60c1:220d      3389   00:00:00      tcp  "
      ]
     },
     "execution_count": 6,
     "metadata": {},
     "output_type": "execute_result"
    }
   ],
   "source": [
    "data.head()"
   ]
  },
  {
   "cell_type": "code",
   "execution_count": 7,
   "metadata": {},
   "outputs": [
    {
     "data": {
      "text/plain": [
       "381105"
      ]
     },
     "execution_count": 7,
     "metadata": {},
     "output_type": "execute_result"
    }
   ],
   "source": [
    "len(data)"
   ]
  },
  {
   "cell_type": "code",
   "execution_count": 8,
   "metadata": {},
   "outputs": [
    {
     "data": {
      "text/plain": [
       "other       195736\n",
       "dns         122458\n",
       "ssh          56813\n",
       "rdp           3586\n",
       "http           910\n",
       "snmp           873\n",
       "smtp           352\n",
       "sip            323\n",
       "smtp,ssl        50\n",
       "ssl              4\n",
       "Name: service, dtype: int64"
      ]
     },
     "execution_count": 8,
     "metadata": {},
     "output_type": "execute_result"
    }
   ],
   "source": [
    "# Protocols\n",
    "data['service'].value_counts()"
   ]
  },
  {
   "cell_type": "code",
   "execution_count": 9,
   "metadata": {},
   "outputs": [
    {
     "data": {
      "text/plain": [
       "0                                                     365479\n",
       "6-128-1(1)                                              5429\n",
       "1917-1-11(1)                                            2155\n",
       "384-1-8(1)                                              1471\n",
       "19559-1-5(1)                                            1109\n",
       "                                                       ...  \n",
       "6-128-1(1),17317-1-7(1)                                    1\n",
       "6-128-1(2),19559-1-5(1),1325-1-10(1)                       1\n",
       "12946-1-8(1),3-133-1(1),14782-1-17(1),7209-1-16(1)         1\n",
       "4-138-1(1)                                                 1\n",
       "22114-1-5(1),4-138-1(1)                                    1\n",
       "Name: ids_detection, Length: 71, dtype: int64"
      ]
     },
     "execution_count": 9,
     "metadata": {},
     "output_type": "execute_result"
    }
   ],
   "source": [
    "# What IDS detection values are typically there?\n",
    "data['ids_detection'].value_counts()"
   ]
  },
  {
   "cell_type": "code",
   "execution_count": 10,
   "metadata": {},
   "outputs": [
    {
     "data": {
      "text/plain": [
       "0                               380916\n",
       "Win.Worm.Kido-113(1)                14\n",
       "Win.Worm.Kido-200(1)                14\n",
       "Win.Exploit.Fnstenv_mov-1(1)        14\n",
       "Win.Dropper.Agent-35454(1)          13\n",
       "Win.Worm.Kido-297(1)                11\n",
       "Win.Trojan.Agent-128992(1)           9\n",
       "Win.Worm.Mydoom-90(1)                8\n",
       "Win.Worm.Kido-197(1)                 8\n",
       "Win.Worm.Kido-249(1)                 8\n",
       "Win.Worm.Agent-35431(1)              6\n",
       "Win.Trojan.Agent-550646(1)           6\n",
       "Win.Trojan.Agent-129152(1)           5\n",
       "Win.Worm.Kido-360(1)                 5\n",
       "Win.Worm.Kido-355(1)                 4\n",
       "Win.Worm.Conficker-260(1)            3\n",
       "Win.Worm.Kido-223(1)                 3\n",
       "Win.Worm.Kido-214(1)                 3\n",
       "Win.Worm.Downadup-115(1)             3\n",
       "Win.Worm.Downadup-5(1)               3\n",
       "Win.Worm.Kido-273(1)                 3\n",
       "Win.Worm.Kido-29(1)                  3\n",
       "Win.Worm.Downadup-75(1)              3\n",
       "Win.Worm.Kido-37(1)                  3\n",
       "Win.Worm.Kido-266(1)                 3\n",
       "Win.Worm.Kido-159(1)                 3\n",
       "Win.Worm.Kido-9(1)                   3\n",
       "Win.Worm.Kido-237(1)                 3\n",
       "Win.Worm.Kido-321(1)                 3\n",
       "Win.Worm.Kido-313(1)                 2\n",
       "Win.Worm.Downadup-110(1)             2\n",
       "Win.Worm.Kido-243(1)                 2\n",
       "Win.Worm.Kido-332(1)                 2\n",
       "Win.Worm.Kido-230(1)                 2\n",
       "Win.Worm.Kido-164(1)                 2\n",
       "Win.Worm.Downadup-167(1)             1\n",
       "Win.Worm.Downadup-10(1)              1\n",
       "Win.Downloader.91707-1(1)            1\n",
       "Win.Worm.Kido-110(1)                 1\n",
       "Win.Worm.Downadup-87(1)              1\n",
       "Win.Worm.Kido-217(1)                 1\n",
       "Win.Worm.Kido-135(1)                 1\n",
       "Win.Worm.Kido-314(1)                 1\n",
       "Win.Worm.Kido-289(1)                 1\n",
       "Win.Worm.Kido-38(1)                  1\n",
       "Name: malware_detection, dtype: int64"
      ]
     },
     "execution_count": 10,
     "metadata": {},
     "output_type": "execute_result"
    }
   ],
   "source": [
    "# Malware detection column\n",
    "data['malware_detection'].value_counts()"
   ]
  },
  {
   "cell_type": "code",
   "execution_count": 11,
   "metadata": {},
   "outputs": [
    {
     "data": {
      "text/plain": [
       "0         380646\n",
       "349(1)       437\n",
       "809(1)        12\n",
       "349(2)         5\n",
       "350(1)         3\n",
       "810(1)         2\n",
       "Name: ashula_detection, dtype: int64"
      ]
     },
     "execution_count": 11,
     "metadata": {},
     "output_type": "execute_result"
    }
   ],
   "source": [
    "# Ashula detection column\n",
    "data['ashula_detection'].value_counts()"
   ]
  },
  {
   "cell_type": "code",
   "execution_count": 12,
   "metadata": {},
   "outputs": [
    {
     "data": {
      "text/plain": [
       "-1    339593\n",
       " 1     41495\n",
       "-2        17\n",
       "Name: label, dtype: int64"
      ]
     },
     "execution_count": 12,
     "metadata": {},
     "output_type": "execute_result"
    }
   ],
   "source": [
    "# Distribution of labels\n",
    "# 1 - known attack detected, -1 - no attack detected, -2 - unknown attack detected\n",
    "data['label'].value_counts()"
   ]
  },
  {
   "cell_type": "code",
   "execution_count": 13,
   "metadata": {},
   "outputs": [
    {
     "data": {
      "text/plain": [
       "fd95:ec1e:6a61:df6b:7de2:27ad:6105:3709    86255\n",
       "fd95:ec1e:6a61:ccd9:184f:0d6f:03bd:70da    52891\n",
       "fd95:ec1e:6a61:b804:7dcb:276f:0751:0ff5    26384\n",
       "fd95:ec1e:6a61:c226:35fe:4156:005d:2d14    25893\n",
       "fd95:ec1e:6a61:49ee:0191:4307:2301:036e    13225\n",
       "                                           ...  \n",
       "fd95:ec1e:6a61:8e4a:0f10:5117:4d61:2f23        1\n",
       "fd95:ec1e:6a61:d0eb:2bfb:0030:2e81:1792        1\n",
       "fd95:ec1e:6a61:428d:0758:17f7:05ed:2b8e        1\n",
       "fd95:ec1e:6a61:28ab:492c:3650:2126:7aad        1\n",
       "fd95:ec1e:6a61:66bc:0052:2b51:6098:1375        1\n",
       "Name: src_ip, Length: 16198, dtype: int64"
      ]
     },
     "execution_count": 13,
     "metadata": {},
     "output_type": "execute_result"
    }
   ],
   "source": [
    "data['src_ip'].value_counts()"
   ]
  },
  {
   "cell_type": "code",
   "execution_count": 14,
   "metadata": {},
   "outputs": [
    {
     "data": {
      "text/plain": [
       "fd95:ec1e:6a61:435f:7de5:27b0:7d84:3c0d    107513\n",
       "fd95:ec1e:6a61:05d3:7dd2:270d:61ec:03f4     40557\n",
       "fd95:ec1e:6a61:b804:7dcb:276f:0751:0ff5     15111\n",
       "fd95:ec1e:6a61:df6b:7de2:27ad:6105:3709     12470\n",
       "fd95:ec1e:6a61:c7bb:7d9d:2783:614d:3364     10323\n",
       "                                            ...  \n",
       "fd95:ec1e:6a61:a78a:3c90:2397:2719:1e2d         1\n",
       "fd95:ec1e:6a61:b065:270a:10cd:1136:030c         1\n",
       "fd95:ec1e:6a61:946c:0f1b:4baa:0301:3be4         1\n",
       "fd95:ec1e:6a61:f138:549e:0ad3:78f0:4d99         1\n",
       "fd95:ec1e:6a61:e50f:4f7b:0736:2a8b:003c         1\n",
       "Name: dst_ip, Length: 1043, dtype: int64"
      ]
     },
     "execution_count": 14,
     "metadata": {},
     "output_type": "execute_result"
    }
   ],
   "source": [
    "data['dst_ip'].value_counts()"
   ]
  },
  {
   "cell_type": "code",
   "execution_count": 15,
   "metadata": {},
   "outputs": [
    {
     "data": {
      "text/plain": [
       "48059    25898\n",
       "6000     16314\n",
       "7678      3999\n",
       "12200     2895\n",
       "8         1558\n",
       "         ...  \n",
       "18782        1\n",
       "17631        1\n",
       "14955        1\n",
       "31762        1\n",
       "15576        1\n",
       "Name: src_port, Length: 57508, dtype: int64"
      ]
     },
     "execution_count": 15,
     "metadata": {},
     "output_type": "execute_result"
    }
   ],
   "source": [
    "data['src_port'].value_counts()"
   ]
  },
  {
   "cell_type": "code",
   "execution_count": 16,
   "metadata": {},
   "outputs": [
    {
     "data": {
      "text/plain": [
       "53       122367\n",
       "22        67368\n",
       "445       45499\n",
       "23        16721\n",
       "8080      11621\n",
       "          ...  \n",
       "49140         1\n",
       "6042          1\n",
       "11833         1\n",
       "3516          1\n",
       "9896          1\n",
       "Name: dst_port, Length: 2777, dtype: int64"
      ]
     },
     "execution_count": 16,
     "metadata": {},
     "output_type": "execute_result"
    }
   ],
   "source": [
    "data['dst_port'].value_counts()"
   ]
  }
 ],
 "metadata": {
  "kernelspec": {
   "display_name": "vnet-fzuaHEfK",
   "language": "python",
   "name": "python3"
  },
  "language_info": {
   "codemirror_mode": {
    "name": "ipython",
    "version": 3
   },
   "file_extension": ".py",
   "mimetype": "text/x-python",
   "name": "python",
   "nbconvert_exporter": "python",
   "pygments_lexer": "ipython3",
   "version": "3.9.19"
  },
  "orig_nbformat": 4
 },
 "nbformat": 4,
 "nbformat_minor": 2
}
