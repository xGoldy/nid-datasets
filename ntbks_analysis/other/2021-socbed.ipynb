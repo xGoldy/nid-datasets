{
 "cells": [
  {
   "cell_type": "markdown",
   "metadata": {},
   "source": [
    "# SOCBED Dataset Structure Analysis\n",
    "\n",
    "* **Author:** Patrik Goldschmidt (igoldschmidt@fit.vut.cz)\n",
    "* **Project:** Network Intrusion Datasets: A Survey, Limitations, and Recommendations\n",
    "* **Date:** 2024"
   ]
  },
  {
   "cell_type": "code",
   "execution_count": 2,
   "metadata": {},
   "outputs": [],
   "source": [
    "import pandas as pd\n",
    "import os"
   ]
  },
  {
   "cell_type": "code",
   "execution_count": 3,
   "metadata": {},
   "outputs": [],
   "source": [
    "PATH = '/home/goldy/Documents/phd/papers/datasurv/data/socbed'\n",
    "HOST1_BP_PATH = os.path.join(PATH, 'host1_bestpractice')"
   ]
  },
  {
   "cell_type": "code",
   "execution_count": 4,
   "metadata": {},
   "outputs": [],
   "source": [
    "data_syslog = pd.read_json(os.path.join(HOST1_BP_PATH, 'syslog_01.jsonl'), lines=True)"
   ]
  },
  {
   "cell_type": "code",
   "execution_count": 5,
   "metadata": {},
   "outputs": [
    {
     "name": "stdout",
     "output_type": "stream",
     "text": [
      "<class 'pandas.core.frame.DataFrame'>\n",
      "RangeIndex: 19133 entries, 0 to 19132\n",
      "Data columns (total 15 columns):\n",
      " #   Column          Non-Null Count  Dtype                                \n",
      "---  ------          --------------  -----                                \n",
      " 0   @timestamp      19133 non-null  object                               \n",
      " 1   @version        19133 non-null  int64                                \n",
      " 2   facility        19133 non-null  int64                                \n",
      " 3   facility_label  19133 non-null  object                               \n",
      " 4   host            19133 non-null  object                               \n",
      " 5   logsource       19133 non-null  object                               \n",
      " 6   message         19133 non-null  object                               \n",
      " 7   priority        19133 non-null  int64                                \n",
      " 8   program         19133 non-null  object                               \n",
      " 9   severity        19133 non-null  int64                                \n",
      " 10  severity_label  19133 non-null  object                               \n",
      " 11  timestamp       19133 non-null  datetime64[ns, pytz.FixedOffset(120)]\n",
      " 12  timestamp8601   19133 non-null  datetime64[ns, pytz.FixedOffset(120)]\n",
      " 13  type            19133 non-null  object                               \n",
      " 14  pid             15519 non-null  float64                              \n",
      "dtypes: datetime64[ns, pytz.FixedOffset(120)](2), float64(1), int64(4), object(8)\n",
      "memory usage: 2.2+ MB\n"
     ]
    }
   ],
   "source": [
    "data_syslog.info()"
   ]
  },
  {
   "cell_type": "code",
   "execution_count": 8,
   "metadata": {},
   "outputs": [],
   "source": [
    "data_winlogbeat = pd.read_json(os.path.join(HOST1_BP_PATH, 'winlogbeat_01.jsonl'), lines=True)"
   ]
  },
  {
   "cell_type": "code",
   "execution_count": 9,
   "metadata": {},
   "outputs": [
    {
     "name": "stdout",
     "output_type": "stream",
     "text": [
      "<class 'pandas.core.frame.DataFrame'>\n",
      "RangeIndex: 9370 entries, 0 to 9369\n",
      "Data columns (total 22 columns):\n",
      " #   Column       Non-Null Count  Dtype \n",
      "---  ------       --------------  ----- \n",
      " 0   @timestamp   9370 non-null   object\n",
      " 1   agent        9370 non-null   object\n",
      " 2   ecs          9370 non-null   object\n",
      " 3   event        9370 non-null   object\n",
      " 4   hash         972 non-null    object\n",
      " 5   host         9370 non-null   object\n",
      " 6   log          9370 non-null   object\n",
      " 7   message      9370 non-null   object\n",
      " 8   process      5885 non-null   object\n",
      " 9   related      2792 non-null   object\n",
      " 10  user         2774 non-null   object\n",
      " 11  winlog       9370 non-null   object\n",
      " 12  powershell   485 non-null    object\n",
      " 13  registry     1116 non-null   object\n",
      " 14  rule         3676 non-null   object\n",
      " 15  file         1278 non-null   object\n",
      " 16  dns          471 non-null    object\n",
      " 17  network      2145 non-null   object\n",
      " 18  sysmon       471 non-null    object\n",
      " 19  error        12 non-null     object\n",
      " 20  destination  1674 non-null   object\n",
      " 21  source       1674 non-null   object\n",
      "dtypes: object(22)\n",
      "memory usage: 1.6+ MB\n"
     ]
    }
   ],
   "source": [
    "data_winlogbeat.info()"
   ]
  },
  {
   "cell_type": "code",
   "execution_count": 10,
   "metadata": {},
   "outputs": [
    {
     "data": {
      "text/plain": [
       "{'protocol': 'dns'}                                                                                                                    471\n",
       "{'community_id': '1:oDcWV/WI0q8UkuKik+tDTxHN2hA=', 'direction': 'outbound', 'protocol': 'smtp', 'transport': 'tcp', 'type': 'ipv4'}      2\n",
       "{'community_id': '1:D9J/8uHlxF/unPP0nL7M8qKFAPk=', 'direction': 'outbound', 'protocol': 'smtp', 'transport': 'tcp', 'type': 'ipv4'}      2\n",
       "{'community_id': '1:mbKESePJZ2Ca8qeXssyjkAKzbA0=', 'direction': 'outbound', 'protocol': 'smtp', 'transport': 'tcp', 'type': 'ipv4'}      2\n",
       "{'community_id': '1:nijJ7lKsAIgYwm8/tTC50fO9a/U=', 'direction': 'outbound', 'protocol': 'smtp', 'transport': 'tcp', 'type': 'ipv4'}      2\n",
       "                                                                                                                                      ... \n",
       "{'community_id': '1:9Y6dLaof6ngn/Q197oljgnaklRY=', 'direction': 'outbound', 'protocol': 'smtp', 'transport': 'tcp', 'type': 'ipv4'}      1\n",
       "{'community_id': '1:0SWoTofpZ3IrH5d21Y7TahTJ4Xo=', 'direction': 'outbound', 'protocol': 'smtp', 'transport': 'tcp', 'type': 'ipv4'}      1\n",
       "{'community_id': '1:HPCm9DJinEFd9/TUIfJCi2Xds/I=', 'direction': 'outbound', 'protocol': 'smtp', 'transport': 'tcp', 'type': 'ipv4'}      1\n",
       "{'community_id': '1:CdIde6KKJcpYh2dzrdcok6UUN7g=', 'direction': 'outbound', 'protocol': 'smtp', 'transport': 'tcp', 'type': 'ipv4'}      1\n",
       "{'community_id': '1:/tgF3h6RS6a0NCdO5/7ahKA0cVE=', 'direction': 'outbound', 'protocol': 'smtp', 'transport': 'tcp', 'type': 'ipv4'}      1\n",
       "Name: network, Length: 1668, dtype: int64"
      ]
     },
     "execution_count": 10,
     "metadata": {},
     "output_type": "execute_result"
    }
   ],
   "source": [
    "data_winlogbeat['network'].value_counts()"
   ]
  },
  {
   "cell_type": "code",
   "execution_count": 11,
   "metadata": {},
   "outputs": [],
   "source": [
    "HOST2_DEFAULT_PATH = os.path.join(PATH, 'host2_default')"
   ]
  },
  {
   "cell_type": "code",
   "execution_count": 13,
   "metadata": {},
   "outputs": [],
   "source": [
    "data_h2_winlog = pd.read_json(os.path.join(HOST2_DEFAULT_PATH, 'winlogbeat_01.jsonl'), lines=True)"
   ]
  },
  {
   "cell_type": "code",
   "execution_count": 14,
   "metadata": {},
   "outputs": [
    {
     "name": "stdout",
     "output_type": "stream",
     "text": [
      "<class 'pandas.core.frame.DataFrame'>\n",
      "RangeIndex: 5885 entries, 0 to 5884\n",
      "Data columns (total 10 columns):\n",
      " #   Column      Non-Null Count  Dtype \n",
      "---  ------      --------------  ----- \n",
      " 0   @timestamp  5885 non-null   object\n",
      " 1   agent       5885 non-null   object\n",
      " 2   ecs         5885 non-null   object\n",
      " 3   event       5885 non-null   object\n",
      " 4   host        5885 non-null   object\n",
      " 5   log         5885 non-null   object\n",
      " 6   message     5885 non-null   object\n",
      " 7   powershell  308 non-null    object\n",
      " 8   process     308 non-null    object\n",
      " 9   winlog      5885 non-null   object\n",
      "dtypes: object(10)\n",
      "memory usage: 459.9+ KB\n"
     ]
    }
   ],
   "source": [
    "data_h2_winlog.info()"
   ]
  },
  {
   "cell_type": "code",
   "execution_count": 15,
   "metadata": {},
   "outputs": [
    {
     "data": {
      "text/html": [
       "<div>\n",
       "<style scoped>\n",
       "    .dataframe tbody tr th:only-of-type {\n",
       "        vertical-align: middle;\n",
       "    }\n",
       "\n",
       "    .dataframe tbody tr th {\n",
       "        vertical-align: top;\n",
       "    }\n",
       "\n",
       "    .dataframe thead th {\n",
       "        text-align: right;\n",
       "    }\n",
       "</style>\n",
       "<table border=\"1\" class=\"dataframe\">\n",
       "  <thead>\n",
       "    <tr style=\"text-align: right;\">\n",
       "      <th></th>\n",
       "      <th>@timestamp</th>\n",
       "      <th>agent</th>\n",
       "      <th>ecs</th>\n",
       "      <th>event</th>\n",
       "      <th>host</th>\n",
       "      <th>log</th>\n",
       "      <th>message</th>\n",
       "      <th>powershell</th>\n",
       "      <th>process</th>\n",
       "      <th>winlog</th>\n",
       "    </tr>\n",
       "  </thead>\n",
       "  <tbody>\n",
       "    <tr>\n",
       "      <th>0</th>\n",
       "      <td>2021-06-17T22:35:57.364Z</td>\n",
       "      <td>{'ephemeral_id': '3ea30d48-3644-4c38-8f58-b410...</td>\n",
       "      <td>{'version': '1.5.0'}</td>\n",
       "      <td>{'action': 'Provider Lifecycle', 'category': [...</td>\n",
       "      <td>{'name': 'CLIENT'}</td>\n",
       "      <td>{'level': 'information'}</td>\n",
       "      <td>Provider \"Alias\" is Started. \\n\\nDetails: \\n\\t...</td>\n",
       "      <td>{'process': {'executable_version': '5.1.19041....</td>\n",
       "      <td>{'args': ['powershell', '$cmd_man_ip', '=', 'n...</td>\n",
       "      <td>{'api': 'wineventlog', 'channel': 'Windows Pow...</td>\n",
       "    </tr>\n",
       "    <tr>\n",
       "      <th>1</th>\n",
       "      <td>2021-06-17T22:35:57.364Z</td>\n",
       "      <td>{'ephemeral_id': '3ea30d48-3644-4c38-8f58-b410...</td>\n",
       "      <td>{'version': '1.5.0'}</td>\n",
       "      <td>{'action': 'Provider Lifecycle', 'category': [...</td>\n",
       "      <td>{'name': 'CLIENT'}</td>\n",
       "      <td>{'level': 'information'}</td>\n",
       "      <td>Provider \"Environment\" is Started. \\n\\nDetails...</td>\n",
       "      <td>{'process': {'executable_version': '5.1.19041....</td>\n",
       "      <td>{'args': ['powershell', '$cmd_man_ip', '=', 'n...</td>\n",
       "      <td>{'api': 'wineventlog', 'channel': 'Windows Pow...</td>\n",
       "    </tr>\n",
       "    <tr>\n",
       "      <th>2</th>\n",
       "      <td>2021-06-17T22:35:57.696Z</td>\n",
       "      <td>{'ephemeral_id': '3ea30d48-3644-4c38-8f58-b410...</td>\n",
       "      <td>{'version': '1.5.0'}</td>\n",
       "      <td>{'action': 'Provider Lifecycle', 'category': [...</td>\n",
       "      <td>{'name': 'CLIENT'}</td>\n",
       "      <td>{'level': 'information'}</td>\n",
       "      <td>Provider \"FileSystem\" is Started. \\n\\nDetails:...</td>\n",
       "      <td>{'process': {'executable_version': '5.1.19041....</td>\n",
       "      <td>{'args': ['powershell', '$cmd_man_ip', '=', 'n...</td>\n",
       "      <td>{'api': 'wineventlog', 'channel': 'Windows Pow...</td>\n",
       "    </tr>\n",
       "    <tr>\n",
       "      <th>3</th>\n",
       "      <td>2021-06-17T22:35:57.696Z</td>\n",
       "      <td>{'ephemeral_id': '3ea30d48-3644-4c38-8f58-b410...</td>\n",
       "      <td>{'version': '1.5.0'}</td>\n",
       "      <td>{'action': 'Provider Lifecycle', 'category': [...</td>\n",
       "      <td>{'name': 'CLIENT'}</td>\n",
       "      <td>{'level': 'information'}</td>\n",
       "      <td>Provider \"Variable\" is Started. \\n\\nDetails: \\...</td>\n",
       "      <td>{'process': {'executable_version': '5.1.19041....</td>\n",
       "      <td>{'args': ['powershell', '$cmd_man_ip', '=', 'n...</td>\n",
       "      <td>{'api': 'wineventlog', 'channel': 'Windows Pow...</td>\n",
       "    </tr>\n",
       "    <tr>\n",
       "      <th>4</th>\n",
       "      <td>2021-06-17T22:35:57.943Z</td>\n",
       "      <td>{'ephemeral_id': '3ea30d48-3644-4c38-8f58-b410...</td>\n",
       "      <td>{'version': '1.5.0'}</td>\n",
       "      <td>{'action': 'Provider Lifecycle', 'category': [...</td>\n",
       "      <td>{'name': 'CLIENT'}</td>\n",
       "      <td>{'level': 'information'}</td>\n",
       "      <td>Provider \"Registry\" is Started. \\n\\nDetails: \\...</td>\n",
       "      <td>{'process': {'executable_version': '5.1.19041....</td>\n",
       "      <td>{'args': ['C:\\Windows\\System32\\RemoteFXvGPUDis...</td>\n",
       "      <td>{'api': 'wineventlog', 'channel': 'Windows Pow...</td>\n",
       "    </tr>\n",
       "  </tbody>\n",
       "</table>\n",
       "</div>"
      ],
      "text/plain": [
       "                 @timestamp  \\\n",
       "0  2021-06-17T22:35:57.364Z   \n",
       "1  2021-06-17T22:35:57.364Z   \n",
       "2  2021-06-17T22:35:57.696Z   \n",
       "3  2021-06-17T22:35:57.696Z   \n",
       "4  2021-06-17T22:35:57.943Z   \n",
       "\n",
       "                                               agent                   ecs  \\\n",
       "0  {'ephemeral_id': '3ea30d48-3644-4c38-8f58-b410...  {'version': '1.5.0'}   \n",
       "1  {'ephemeral_id': '3ea30d48-3644-4c38-8f58-b410...  {'version': '1.5.0'}   \n",
       "2  {'ephemeral_id': '3ea30d48-3644-4c38-8f58-b410...  {'version': '1.5.0'}   \n",
       "3  {'ephemeral_id': '3ea30d48-3644-4c38-8f58-b410...  {'version': '1.5.0'}   \n",
       "4  {'ephemeral_id': '3ea30d48-3644-4c38-8f58-b410...  {'version': '1.5.0'}   \n",
       "\n",
       "                                               event                host  \\\n",
       "0  {'action': 'Provider Lifecycle', 'category': [...  {'name': 'CLIENT'}   \n",
       "1  {'action': 'Provider Lifecycle', 'category': [...  {'name': 'CLIENT'}   \n",
       "2  {'action': 'Provider Lifecycle', 'category': [...  {'name': 'CLIENT'}   \n",
       "3  {'action': 'Provider Lifecycle', 'category': [...  {'name': 'CLIENT'}   \n",
       "4  {'action': 'Provider Lifecycle', 'category': [...  {'name': 'CLIENT'}   \n",
       "\n",
       "                        log  \\\n",
       "0  {'level': 'information'}   \n",
       "1  {'level': 'information'}   \n",
       "2  {'level': 'information'}   \n",
       "3  {'level': 'information'}   \n",
       "4  {'level': 'information'}   \n",
       "\n",
       "                                             message  \\\n",
       "0  Provider \"Alias\" is Started. \\n\\nDetails: \\n\\t...   \n",
       "1  Provider \"Environment\" is Started. \\n\\nDetails...   \n",
       "2  Provider \"FileSystem\" is Started. \\n\\nDetails:...   \n",
       "3  Provider \"Variable\" is Started. \\n\\nDetails: \\...   \n",
       "4  Provider \"Registry\" is Started. \\n\\nDetails: \\...   \n",
       "\n",
       "                                          powershell  \\\n",
       "0  {'process': {'executable_version': '5.1.19041....   \n",
       "1  {'process': {'executable_version': '5.1.19041....   \n",
       "2  {'process': {'executable_version': '5.1.19041....   \n",
       "3  {'process': {'executable_version': '5.1.19041....   \n",
       "4  {'process': {'executable_version': '5.1.19041....   \n",
       "\n",
       "                                             process  \\\n",
       "0  {'args': ['powershell', '$cmd_man_ip', '=', 'n...   \n",
       "1  {'args': ['powershell', '$cmd_man_ip', '=', 'n...   \n",
       "2  {'args': ['powershell', '$cmd_man_ip', '=', 'n...   \n",
       "3  {'args': ['powershell', '$cmd_man_ip', '=', 'n...   \n",
       "4  {'args': ['C:\\Windows\\System32\\RemoteFXvGPUDis...   \n",
       "\n",
       "                                              winlog  \n",
       "0  {'api': 'wineventlog', 'channel': 'Windows Pow...  \n",
       "1  {'api': 'wineventlog', 'channel': 'Windows Pow...  \n",
       "2  {'api': 'wineventlog', 'channel': 'Windows Pow...  \n",
       "3  {'api': 'wineventlog', 'channel': 'Windows Pow...  \n",
       "4  {'api': 'wineventlog', 'channel': 'Windows Pow...  "
      ]
     },
     "execution_count": 15,
     "metadata": {},
     "output_type": "execute_result"
    }
   ],
   "source": [
    "data_h2_winlog.head()"
   ]
  },
  {
   "cell_type": "code",
   "execution_count": 16,
   "metadata": {},
   "outputs": [
    {
     "name": "stdout",
     "output_type": "stream",
     "text": [
      "2021-06-18T00:49:10.049216+02:00 tbfconsole INFO [event=\"start_tbf_console\" attacks=\"c2_change_wallpaper,infect_email_exe,c2_mimikatz,infect_flashdrive_exe,infect_email_url,misc_set_autostart,misc_sqlmap,c2_download_malware,c2_exfiltration,c2_take_screenshot,misc_execute_malware,disinfect_client,misc_exfiltration,misc_download_malware,c2_hashdump\"] Start Console\n",
      "2021-06-18T00:49:10.073180+02:00 tbfconsole INFO [event=\"run_attack\" attack=\"misc_sqlmap\" url=\"http://172.18.0.2/dvwa/vulnerabilities/sqli/?id=&Submit=Submit\"] Run attack\n",
      "2021-06-18T00:49:25.986140+02:00 tbfconsole INFO [event=\"attack_succeeded\" attack=\"misc_sqlmap\" url=\"http://172.18.0.2/dvwa/vulnerabilities/sqli/?id=&Submit=Submit\"] Attack succeeded\n",
      "2021-06-18T00:49:25.989259+02:00 tbfconsole INFO [event=\"exit_tbf_console\"] Exit Console\n",
      "2021-06-18T00:52:09.657490+02:00 tbfconsole INFO [event=\"start_tbf_console\" attacks=\"c2_hashdump,c2_exfiltration,infect_email_exe,misc_exfiltration,c2_mimikatz,misc_sqlmap,infect_flashdrive_exe,infect_email_url,c2_download_malware,misc_set_autostart,misc_execute_malware,misc_download_malware,disinfect_client,c2_take_screenshot,c2_change_wallpaper\"] Start Console\n",
      "2021-06-18T00:52:09.691751+02:00 tbfconsole INFO [event=\"run_attack\" attack=\"infect_email_exe\" addr=\"client1@localdomain\" lhost=\"172.18.0.3\" lport=\"80\" name=\"Jane Doe\"] Run attack\n",
      "2021-06-18T00:52:23.358257+02:00 tbfconsole INFO [event=\"attack_succeeded\" attack=\"infect_email_exe\" addr=\"client1@localdomain\" lhost=\"172.18.0.3\" lport=\"80\" name=\"Jane Doe\"] Attack succeeded\n",
      "2021-06-18T00:52:23.359081+02:00 tbfconsole INFO [event=\"exit_tbf_console\"] Exit Console\n",
      "2021-06-18T00:55:09.997023+02:00 tbfconsole INFO [event=\"start_tbf_console\" attacks=\"infect_email_url,misc_execute_malware,c2_change_wallpaper,misc_sqlmap,c2_download_malware,infect_email_exe,misc_set_autostart,c2_exfiltration,c2_mimikatz,c2_take_screenshot,infect_flashdrive_exe,disinfect_client,c2_hashdump,misc_exfiltration,misc_download_malware\"] Start Console\n",
      "2021-06-18T00:55:10.033283+02:00 tbfconsole INFO [event=\"run_attack\" attack=\"c2_take_screenshot\" lhost=\"172.18.0.3\" lport=\"80\"] Run attack\n",
      "2021-06-18T00:55:32.949085+02:00 tbfconsole INFO [event=\"attack_succeeded\" attack=\"c2_take_screenshot\" lhost=\"172.18.0.3\" lport=\"80\"] Attack succeeded\n",
      "2021-06-18T00:55:33.013118+02:00 tbfconsole INFO [event=\"exit_tbf_console\"] Exit Console\n",
      "2021-06-18T00:58:09.664811+02:00 tbfconsole INFO [event=\"start_tbf_console\" attacks=\"misc_exfiltration,misc_download_malware,c2_exfiltration,c2_hashdump,misc_execute_malware,c2_mimikatz,c2_download_malware,misc_set_autostart,disinfect_client,infect_email_exe,c2_change_wallpaper,infect_flashdrive_exe,c2_take_screenshot,infect_email_url,misc_sqlmap\"] Start Console\n",
      "2021-06-18T00:58:09.676961+02:00 tbfconsole INFO [event=\"run_attack\" attack=\"c2_exfiltration\" lhost=\"172.18.0.3\" lport=\"80\" path=\"\\\\\\\\172.16.1.2\\\\C$\\\\BREACH\" pattern=\"*.doc\"] Run attack\n",
      "2021-06-18T00:58:45.475093+02:00 tbfconsole INFO [event=\"attack_succeeded\" attack=\"c2_exfiltration\" lhost=\"172.18.0.3\" lport=\"80\" path=\"\\\\\\\\172.16.1.2\\\\C$\\\\BREACH\" pattern=\"*.doc\"] Attack succeeded\n",
      "2021-06-18T00:58:45.516651+02:00 tbfconsole INFO [event=\"exit_tbf_console\"] Exit Console\n",
      "2021-06-18T01:01:10.233950+02:00 tbfconsole INFO [event=\"start_tbf_console\" attacks=\"misc_set_autostart,c2_take_screenshot,misc_download_malware,disinfect_client,c2_exfiltration,misc_exfiltration,c2_hashdump,c2_mimikatz,infect_flashdrive_exe,infect_email_exe,infect_email_url,c2_change_wallpaper,c2_download_malware,misc_execute_malware,misc_sqlmap\"] Start Console\n",
      "2021-06-18T01:01:10.258550+02:00 tbfconsole INFO [event=\"run_attack\" attack=\"c2_mimikatz\" lhost=\"172.18.0.3\" lport=\"80\"] Run attack\n",
      "2021-06-18T01:01:32.104632+02:00 tbfconsole INFO [event=\"attack_succeeded\" attack=\"c2_mimikatz\" lhost=\"172.18.0.3\" lport=\"80\"] Attack succeeded\n",
      "2021-06-18T01:01:32.105858+02:00 tbfconsole INFO [event=\"exit_tbf_console\"] Exit Console\n"
     ]
    }
   ],
   "source": [
    "!head -n 20 \"$HOST2_DEFAULT_PATH/attackconsole_01.log\""
   ]
  },
  {
   "cell_type": "code",
   "execution_count": 17,
   "metadata": {},
   "outputs": [
    {
     "name": "stdout",
     "output_type": "stream",
     "text": [
      "\n",
      "+ -- - -= [\t BREACH Attack Console \t\t]\n",
      "+ -- - -= [\t 15 attack(s)          \t\t]\n",
      "\n",
      "attackconsole > use misc_sqlmap\n",
      "attackconsole (misc_sqlmap) > run\n",
      "        ___\n",
      "       __H__\n",
      " ___ ___[']_____ ___ ___  {1.5.2#stable}\n",
      "|_ -| . [.]     | .'| . |\n",
      "|___|_  [)]_|_|_|__,|  _|\n",
      "      |_|V...       |_|   http://sqlmap.org\n",
      "\n",
      "[!] legal disclaimer: Usage of sqlmap for attacking targets without prior mutual consent is illegal. It is the end user's responsibility to obey all applicable local, state and federal laws. Developers assume no liability and are not responsible for any misuse or damage caused by this program\n",
      "\n",
      "[*] starting @ 00:49:11 /2021-06-18/\n",
      "\n",
      "[00:49:11] [WARNING] skipping purging of directory '/root/.local/share/sqlmap' as it does not exist\n",
      "[00:49:11] [INFO] using 'STDIN' for parsing targets list\n",
      "URL 1:\n"
     ]
    }
   ],
   "source": [
    "!head -n 20 \"$HOST2_DEFAULT_PATH/attackconsole_01.stdout\""
   ]
  },
  {
   "cell_type": "code",
   "execution_count": 18,
   "metadata": {},
   "outputs": [
    {
     "name": "stdout",
     "output_type": "stream",
     "text": [
      "[INFO] Starting TBF Session\n",
      "[INFO] Creating backup snapshots for ['Internet Router', 'Attacker', 'Company Router', 'Log Server', 'Internal Server', 'DMZ Server', 'Client']\n",
      "[INFO] Creating clones\n",
      "[INFO] Starting all VMs\n",
      "[INFO] TBF Session started\n",
      "[INFO] Found and loaded old session state\n",
      "[INFO] Closing TBF Session\n",
      "[INFO] Poweroff all VMs\n",
      "[INFO] Deleting clones\n",
      "[INFO] Restoring and deleting backup snapshots\n",
      "[INFO] TBF Session closed\n"
     ]
    }
   ],
   "source": [
    "!head -n 20 \"$HOST2_DEFAULT_PATH/vmconsole_01.log\""
   ]
  },
  {
   "cell_type": "markdown",
   "metadata": {},
   "source": [
    "This dataset has no sign of network data, despite it was stated at COMIDDS project (https://fkie-cad.github.io/COMIDDS/content/datasets/socbed_dataset/)"
   ]
  }
 ],
 "metadata": {
  "kernelspec": {
   "display_name": "replication-1-nWqEVJ",
   "language": "python",
   "name": "python3"
  },
  "language_info": {
   "codemirror_mode": {
    "name": "ipython",
    "version": 3
   },
   "file_extension": ".py",
   "mimetype": "text/x-python",
   "name": "python",
   "nbconvert_exporter": "python",
   "pygments_lexer": "ipython3",
   "version": "3.9.19"
  }
 },
 "nbformat": 4,
 "nbformat_minor": 2
}
