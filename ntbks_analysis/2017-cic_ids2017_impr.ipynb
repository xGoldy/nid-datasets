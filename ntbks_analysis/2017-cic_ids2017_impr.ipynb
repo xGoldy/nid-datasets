{
 "cells": [
  {
   "attachments": {},
   "cell_type": "markdown",
   "metadata": {},
   "source": [
    "## CIC-IDS2017 Improved Dataset Analysis\n",
    "\n",
    "* **Author:** Patrik Goldschmidt (igoldschmidt@fit.vut.cz)\n",
    "* **Project:** Network Intrusion Datasets: A Survey, Limitations, and Recommendations\n",
    "* **Date:** 2024"
   ]
  },
  {
   "cell_type": "code",
   "execution_count": 1,
   "metadata": {},
   "outputs": [],
   "source": [
    "# Data path\n",
    "PATH = '/data/kinit/gold_data/cic-ids2017_impr'"
   ]
  },
  {
   "cell_type": "code",
   "execution_count": 2,
   "metadata": {},
   "outputs": [],
   "source": [
    "import pandas as pd\n",
    "import numpy as np\n",
    "import matplotlib.pyplot as plt\n",
    "import os"
   ]
  },
  {
   "cell_type": "code",
   "execution_count": 3,
   "metadata": {},
   "outputs": [],
   "source": [
    "data_all = pd.DataFrame()"
   ]
  },
  {
   "cell_type": "code",
   "execution_count": 4,
   "metadata": {},
   "outputs": [
    {
     "name": "stdout",
     "output_type": "stream",
     "text": [
      "wednesday.csv\n",
      "friday.csv\n",
      "tuesday.csv\n",
      "thursday.csv\n",
      "monday.csv\n"
     ]
    }
   ],
   "source": [
    "for entry in os.scandir(PATH):\n",
    "    print(entry.name)\n",
    "    data_all = pd.concat([data_all, pd.read_csv(entry.path)])"
   ]
  },
  {
   "cell_type": "code",
   "execution_count": 5,
   "metadata": {},
   "outputs": [
    {
     "name": "stdout",
     "output_type": "stream",
     "text": [
      "<class 'pandas.core.frame.DataFrame'>\n",
      "Int64Index: 2099976 entries, 0 to 371623\n",
      "Data columns (total 91 columns):\n",
      " #   Column                      Dtype  \n",
      "---  ------                      -----  \n",
      " 0   id                          int64  \n",
      " 1   Flow ID                     object \n",
      " 2   Src IP                      object \n",
      " 3   Src Port                    int64  \n",
      " 4   Dst IP                      object \n",
      " 5   Dst Port                    int64  \n",
      " 6   Protocol                    int64  \n",
      " 7   Timestamp                   object \n",
      " 8   Flow Duration               int64  \n",
      " 9   Total Fwd Packet            int64  \n",
      " 10  Total Bwd packets           int64  \n",
      " 11  Total Length of Fwd Packet  int64  \n",
      " 12  Total Length of Bwd Packet  int64  \n",
      " 13  Fwd Packet Length Max       int64  \n",
      " 14  Fwd Packet Length Min       int64  \n",
      " 15  Fwd Packet Length Mean      float64\n",
      " 16  Fwd Packet Length Std       float64\n",
      " 17  Bwd Packet Length Max       int64  \n",
      " 18  Bwd Packet Length Min       int64  \n",
      " 19  Bwd Packet Length Mean      float64\n",
      " 20  Bwd Packet Length Std       float64\n",
      " 21  Flow Bytes/s                float64\n",
      " 22  Flow Packets/s              float64\n",
      " 23  Flow IAT Mean               float64\n",
      " 24  Flow IAT Std                float64\n",
      " 25  Flow IAT Max                int64  \n",
      " 26  Flow IAT Min                int64  \n",
      " 27  Fwd IAT Total               int64  \n",
      " 28  Fwd IAT Mean                float64\n",
      " 29  Fwd IAT Std                 float64\n",
      " 30  Fwd IAT Max                 int64  \n",
      " 31  Fwd IAT Min                 int64  \n",
      " 32  Bwd IAT Total               int64  \n",
      " 33  Bwd IAT Mean                float64\n",
      " 34  Bwd IAT Std                 float64\n",
      " 35  Bwd IAT Max                 int64  \n",
      " 36  Bwd IAT Min                 int64  \n",
      " 37  Fwd PSH Flags               int64  \n",
      " 38  Bwd PSH Flags               int64  \n",
      " 39  Fwd URG Flags               int64  \n",
      " 40  Bwd URG Flags               int64  \n",
      " 41  Fwd RST Flags               int64  \n",
      " 42  Bwd RST Flags               int64  \n",
      " 43  Fwd Header Length           int64  \n",
      " 44  Bwd Header Length           int64  \n",
      " 45  Fwd Packets/s               float64\n",
      " 46  Bwd Packets/s               float64\n",
      " 47  Packet Length Min           int64  \n",
      " 48  Packet Length Max           int64  \n",
      " 49  Packet Length Mean          float64\n",
      " 50  Packet Length Std           float64\n",
      " 51  Packet Length Variance      float64\n",
      " 52  FIN Flag Count              int64  \n",
      " 53  SYN Flag Count              int64  \n",
      " 54  RST Flag Count              int64  \n",
      " 55  PSH Flag Count              int64  \n",
      " 56  ACK Flag Count              int64  \n",
      " 57  URG Flag Count              int64  \n",
      " 58  CWR Flag Count              int64  \n",
      " 59  ECE Flag Count              int64  \n",
      " 60  Down/Up Ratio               float64\n",
      " 61  Average Packet Size         float64\n",
      " 62  Fwd Segment Size Avg        float64\n",
      " 63  Bwd Segment Size Avg        float64\n",
      " 64  Fwd Bytes/Bulk Avg          int64  \n",
      " 65  Fwd Packet/Bulk Avg         int64  \n",
      " 66  Fwd Bulk Rate Avg           int64  \n",
      " 67  Bwd Bytes/Bulk Avg          int64  \n",
      " 68  Bwd Packet/Bulk Avg         int64  \n",
      " 69  Bwd Bulk Rate Avg           int64  \n",
      " 70  Subflow Fwd Packets         int64  \n",
      " 71  Subflow Fwd Bytes           int64  \n",
      " 72  Subflow Bwd Packets         int64  \n",
      " 73  Subflow Bwd Bytes           int64  \n",
      " 74  FWD Init Win Bytes          int64  \n",
      " 75  Bwd Init Win Bytes          int64  \n",
      " 76  Fwd Act Data Pkts           int64  \n",
      " 77  Fwd Seg Size Min            int64  \n",
      " 78  Active Mean                 float64\n",
      " 79  Active Std                  float64\n",
      " 80  Active Max                  int64  \n",
      " 81  Active Min                  int64  \n",
      " 82  Idle Mean                   float64\n",
      " 83  Idle Std                    float64\n",
      " 84  Idle Max                    int64  \n",
      " 85  Idle Min                    int64  \n",
      " 86  ICMP Code                   int64  \n",
      " 87  ICMP Type                   int64  \n",
      " 88  Total TCP Flow Time         int64  \n",
      " 89  Label                       object \n",
      " 90  Attempted Category          int64  \n",
      "dtypes: float64(25), int64(61), object(5)\n",
      "memory usage: 1.4+ GB\n"
     ]
    }
   ],
   "source": [
    "data_all.info()"
   ]
  },
  {
   "cell_type": "code",
   "execution_count": 6,
   "metadata": {},
   "outputs": [
    {
     "data": {
      "text/html": [
       "<div>\n",
       "<style scoped>\n",
       "    .dataframe tbody tr th:only-of-type {\n",
       "        vertical-align: middle;\n",
       "    }\n",
       "\n",
       "    .dataframe tbody tr th {\n",
       "        vertical-align: top;\n",
       "    }\n",
       "\n",
       "    .dataframe thead th {\n",
       "        text-align: right;\n",
       "    }\n",
       "</style>\n",
       "<table border=\"1\" class=\"dataframe\">\n",
       "  <thead>\n",
       "    <tr style=\"text-align: right;\">\n",
       "      <th></th>\n",
       "      <th>id</th>\n",
       "      <th>Flow ID</th>\n",
       "      <th>Src IP</th>\n",
       "      <th>Src Port</th>\n",
       "      <th>Dst IP</th>\n",
       "      <th>Dst Port</th>\n",
       "      <th>Protocol</th>\n",
       "      <th>Timestamp</th>\n",
       "      <th>Flow Duration</th>\n",
       "      <th>Total Fwd Packet</th>\n",
       "      <th>...</th>\n",
       "      <th>Active Min</th>\n",
       "      <th>Idle Mean</th>\n",
       "      <th>Idle Std</th>\n",
       "      <th>Idle Max</th>\n",
       "      <th>Idle Min</th>\n",
       "      <th>ICMP Code</th>\n",
       "      <th>ICMP Type</th>\n",
       "      <th>Total TCP Flow Time</th>\n",
       "      <th>Label</th>\n",
       "      <th>Attempted Category</th>\n",
       "    </tr>\n",
       "  </thead>\n",
       "  <tbody>\n",
       "    <tr>\n",
       "      <th>0</th>\n",
       "      <td>1</td>\n",
       "      <td>192.168.10.9-52.197.242.182-13793-443-6</td>\n",
       "      <td>192.168.10.9</td>\n",
       "      <td>13793</td>\n",
       "      <td>52.197.242.182</td>\n",
       "      <td>443</td>\n",
       "      <td>6</td>\n",
       "      <td>2017-07-05 11:43:34.783702</td>\n",
       "      <td>187889</td>\n",
       "      <td>1</td>\n",
       "      <td>...</td>\n",
       "      <td>0</td>\n",
       "      <td>0.0</td>\n",
       "      <td>0.0</td>\n",
       "      <td>0</td>\n",
       "      <td>0</td>\n",
       "      <td>-1</td>\n",
       "      <td>-1</td>\n",
       "      <td>187889</td>\n",
       "      <td>BENIGN</td>\n",
       "      <td>-1</td>\n",
       "    </tr>\n",
       "    <tr>\n",
       "      <th>1</th>\n",
       "      <td>2</td>\n",
       "      <td>192.168.10.9-52.197.242.182-13793-443-6</td>\n",
       "      <td>192.168.10.9</td>\n",
       "      <td>13793</td>\n",
       "      <td>52.197.242.182</td>\n",
       "      <td>443</td>\n",
       "      <td>6</td>\n",
       "      <td>2017-07-05 11:43:35.484765</td>\n",
       "      <td>187758</td>\n",
       "      <td>1</td>\n",
       "      <td>...</td>\n",
       "      <td>0</td>\n",
       "      <td>0.0</td>\n",
       "      <td>0.0</td>\n",
       "      <td>0</td>\n",
       "      <td>0</td>\n",
       "      <td>-1</td>\n",
       "      <td>-1</td>\n",
       "      <td>187758</td>\n",
       "      <td>BENIGN</td>\n",
       "      <td>-1</td>\n",
       "    </tr>\n",
       "    <tr>\n",
       "      <th>2</th>\n",
       "      <td>3</td>\n",
       "      <td>192.168.10.9-54.65.28.113-13794-443-6</td>\n",
       "      <td>192.168.10.9</td>\n",
       "      <td>13794</td>\n",
       "      <td>54.65.28.113</td>\n",
       "      <td>443</td>\n",
       "      <td>6</td>\n",
       "      <td>2017-07-05 11:43:36.375217</td>\n",
       "      <td>189882</td>\n",
       "      <td>1</td>\n",
       "      <td>...</td>\n",
       "      <td>0</td>\n",
       "      <td>0.0</td>\n",
       "      <td>0.0</td>\n",
       "      <td>0</td>\n",
       "      <td>0</td>\n",
       "      <td>-1</td>\n",
       "      <td>-1</td>\n",
       "      <td>189882</td>\n",
       "      <td>BENIGN</td>\n",
       "      <td>-1</td>\n",
       "    </tr>\n",
       "    <tr>\n",
       "      <th>3</th>\n",
       "      <td>4</td>\n",
       "      <td>192.168.10.9-54.65.28.113-13794-443-6</td>\n",
       "      <td>192.168.10.9</td>\n",
       "      <td>13794</td>\n",
       "      <td>54.65.28.113</td>\n",
       "      <td>443</td>\n",
       "      <td>6</td>\n",
       "      <td>2017-07-05 11:43:37.075970</td>\n",
       "      <td>190117</td>\n",
       "      <td>1</td>\n",
       "      <td>...</td>\n",
       "      <td>0</td>\n",
       "      <td>0.0</td>\n",
       "      <td>0.0</td>\n",
       "      <td>0</td>\n",
       "      <td>0</td>\n",
       "      <td>-1</td>\n",
       "      <td>-1</td>\n",
       "      <td>190117</td>\n",
       "      <td>BENIGN</td>\n",
       "      <td>-1</td>\n",
       "    </tr>\n",
       "    <tr>\n",
       "      <th>4</th>\n",
       "      <td>5</td>\n",
       "      <td>192.168.10.9-52.197.242.182-13796-443-6</td>\n",
       "      <td>192.168.10.9</td>\n",
       "      <td>13796</td>\n",
       "      <td>52.197.242.182</td>\n",
       "      <td>443</td>\n",
       "      <td>6</td>\n",
       "      <td>2017-07-05 11:43:37.968708</td>\n",
       "      <td>188603</td>\n",
       "      <td>1</td>\n",
       "      <td>...</td>\n",
       "      <td>0</td>\n",
       "      <td>0.0</td>\n",
       "      <td>0.0</td>\n",
       "      <td>0</td>\n",
       "      <td>0</td>\n",
       "      <td>-1</td>\n",
       "      <td>-1</td>\n",
       "      <td>188603</td>\n",
       "      <td>BENIGN</td>\n",
       "      <td>-1</td>\n",
       "    </tr>\n",
       "  </tbody>\n",
       "</table>\n",
       "<p>5 rows × 91 columns</p>\n",
       "</div>"
      ],
      "text/plain": [
       "   id                                  Flow ID        Src IP  Src Port  \\\n",
       "0   1  192.168.10.9-52.197.242.182-13793-443-6  192.168.10.9     13793   \n",
       "1   2  192.168.10.9-52.197.242.182-13793-443-6  192.168.10.9     13793   \n",
       "2   3    192.168.10.9-54.65.28.113-13794-443-6  192.168.10.9     13794   \n",
       "3   4    192.168.10.9-54.65.28.113-13794-443-6  192.168.10.9     13794   \n",
       "4   5  192.168.10.9-52.197.242.182-13796-443-6  192.168.10.9     13796   \n",
       "\n",
       "           Dst IP  Dst Port  Protocol                   Timestamp  \\\n",
       "0  52.197.242.182       443         6  2017-07-05 11:43:34.783702   \n",
       "1  52.197.242.182       443         6  2017-07-05 11:43:35.484765   \n",
       "2    54.65.28.113       443         6  2017-07-05 11:43:36.375217   \n",
       "3    54.65.28.113       443         6  2017-07-05 11:43:37.075970   \n",
       "4  52.197.242.182       443         6  2017-07-05 11:43:37.968708   \n",
       "\n",
       "   Flow Duration  Total Fwd Packet  ...  Active Min  Idle Mean  Idle Std  \\\n",
       "0         187889                 1  ...           0        0.0       0.0   \n",
       "1         187758                 1  ...           0        0.0       0.0   \n",
       "2         189882                 1  ...           0        0.0       0.0   \n",
       "3         190117                 1  ...           0        0.0       0.0   \n",
       "4         188603                 1  ...           0        0.0       0.0   \n",
       "\n",
       "   Idle Max  Idle Min  ICMP Code  ICMP Type  Total TCP Flow Time   Label  \\\n",
       "0         0         0         -1         -1               187889  BENIGN   \n",
       "1         0         0         -1         -1               187758  BENIGN   \n",
       "2         0         0         -1         -1               189882  BENIGN   \n",
       "3         0         0         -1         -1               190117  BENIGN   \n",
       "4         0         0         -1         -1               188603  BENIGN   \n",
       "\n",
       "   Attempted Category  \n",
       "0                  -1  \n",
       "1                  -1  \n",
       "2                  -1  \n",
       "3                  -1  \n",
       "4                  -1  \n",
       "\n",
       "[5 rows x 91 columns]"
      ]
     },
     "execution_count": 6,
     "metadata": {},
     "output_type": "execute_result"
    }
   ],
   "source": [
    "data_all.head()"
   ]
  },
  {
   "attachments": {},
   "cell_type": "markdown",
   "metadata": {},
   "source": [
    "### Paper Purposes Data Analysis"
   ]
  },
  {
   "cell_type": "code",
   "execution_count": 10,
   "metadata": {},
   "outputs": [
    {
     "data": {
      "text/plain": [
       "BENIGN                        1582566\n",
       "Portscan                       159066\n",
       "DoS Hulk                       158468\n",
       "DDoS                            95144\n",
       "Infiltration - Portscan         71767\n",
       "DoS GoldenEye                    7567\n",
       "FTP-Patator                      3972\n",
       "DoS Slowloris                    3859\n",
       "SSH-Patator                      2961\n",
       "DoS Slowhttptest                 1740\n",
       "Botnet                            736\n",
       "Web Attack - Brute Force           73\n",
       "Infiltration                       36\n",
       "Web Attack - XSS                   18\n",
       "Web Attack - SQL Injection         13\n",
       "Heartbleed                         11\n",
       "Name: Label, dtype: int64"
      ]
     },
     "execution_count": 10,
     "metadata": {},
     "output_type": "execute_result"
    }
   ],
   "source": [
    "# Analysis of the number of different attack types\n",
    "data_all[data_all['Attempted Category'] == -1]['Label'].value_counts()"
   ]
  },
  {
   "cell_type": "code",
   "execution_count": 12,
   "metadata": {},
   "outputs": [
    {
     "data": {
      "text/plain": [
       "16"
      ]
     },
     "execution_count": 12,
     "metadata": {},
     "output_type": "execute_result"
    }
   ],
   "source": [
    "len(data_all[data_all['Attempted Category'] == -1]['Label'].unique())"
   ]
  },
  {
   "cell_type": "code",
   "execution_count": 13,
   "metadata": {},
   "outputs": [
    {
     "data": {
      "text/plain": [
       "2099976"
      ]
     },
     "execution_count": 13,
     "metadata": {},
     "output_type": "execute_result"
    }
   ],
   "source": [
    "len(data_all)"
   ]
  },
  {
   "cell_type": "markdown",
   "metadata": {},
   "source": [
    "Since the same underlying data as for CIC-IDS2017 were used, we consider continuity analysis unecessary."
   ]
  }
 ],
 "metadata": {
  "kernelspec": {
   "display_name": "vnet",
   "language": "python",
   "name": "python3"
  },
  "language_info": {
   "codemirror_mode": {
    "name": "ipython",
    "version": 3
   },
   "file_extension": ".py",
   "mimetype": "text/x-python",
   "name": "python",
   "nbconvert_exporter": "python",
   "pygments_lexer": "ipython3",
   "version": "3.9.15"
  },
  "orig_nbformat": 4
 },
 "nbformat": 4,
 "nbformat_minor": 2
}
