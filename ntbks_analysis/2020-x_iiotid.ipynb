{
 "cells": [
  {
   "cell_type": "markdown",
   "metadata": {},
   "source": [
    "# X-IIoTID Dataset Analysis\n",
    "\n",
    "* **Author:** Patrik Goldschmidt (igoldschmidt@fit.vut.cz)\n",
    "* **Project:** Network Intrusion Datasets: A Survey, Limitations, and Recommendations\n",
    "* **Date:** 2024"
   ]
  },
  {
   "cell_type": "code",
   "execution_count": 1,
   "metadata": {},
   "outputs": [],
   "source": [
    "import pandas as pd\n",
    "import numpy as np\n",
    "\n",
    "pd.set_option('display.max_columns', None)"
   ]
  },
  {
   "cell_type": "code",
   "execution_count": 2,
   "metadata": {},
   "outputs": [],
   "source": [
    "DATAPATH = '/data/data_surv/x-iiotid/x_iiotid_dataset.csv'"
   ]
  },
  {
   "cell_type": "code",
   "execution_count": 3,
   "metadata": {},
   "outputs": [
    {
     "name": "stderr",
     "output_type": "stream",
     "text": [
      "/tmp/ipykernel_394140/916289067.py:1: DtypeWarning: Columns (1,3,5,12,24) have mixed types. Specify dtype option on import or set low_memory=False.\n",
      "  data = pd.read_csv(DATAPATH)\n"
     ]
    }
   ],
   "source": [
    "data = pd.read_csv(DATAPATH)"
   ]
  },
  {
   "cell_type": "code",
   "execution_count": 4,
   "metadata": {},
   "outputs": [
    {
     "name": "stdout",
     "output_type": "stream",
     "text": [
      "<class 'pandas.core.frame.DataFrame'>\n",
      "RangeIndex: 820834 entries, 0 to 820833\n",
      "Data columns (total 68 columns):\n",
      " #   Column                       Non-Null Count   Dtype \n",
      "---  ------                       --------------   ----- \n",
      " 0   Date                         820503 non-null  object\n",
      " 1   Timestamp                    820537 non-null  object\n",
      " 2   Scr_IP                       820834 non-null  object\n",
      " 3   Scr_port                     820834 non-null  object\n",
      " 4   Des_IP                       820834 non-null  object\n",
      " 5   Des_port                     820834 non-null  object\n",
      " 6   Protocol                     820834 non-null  object\n",
      " 7   Service                      820834 non-null  object\n",
      " 8   Duration                     820834 non-null  object\n",
      " 9   Scr_bytes                    820834 non-null  object\n",
      " 10  Des_bytes                    820834 non-null  object\n",
      " 11  Conn_state                   820834 non-null  int64 \n",
      " 12  missed_bytes                 820834 non-null  object\n",
      " 13  is_syn_only                  820834 non-null  bool  \n",
      " 14  Is_SYN_ACK                   820834 non-null  bool  \n",
      " 15  is_pure_ack                  820834 non-null  bool  \n",
      " 16  is_with_payload              820834 non-null  bool  \n",
      " 17  FIN or RST                   820834 non-null  bool  \n",
      " 18  Bad_checksum                 820834 non-null  bool  \n",
      " 19  is_SYN_with_RST              820834 non-null  bool  \n",
      " 20  Scr_pkts                     820834 non-null  object\n",
      " 21  Scr_ip_bytes                 820834 non-null  object\n",
      " 22  Des_pkts                     820834 non-null  object\n",
      " 23  Des_ip_bytes                 820834 non-null  object\n",
      " 24  anomaly_alert                820834 non-null  object\n",
      " 25  total_bytes                  820834 non-null  object\n",
      " 26  total_packet                 820834 non-null  object\n",
      " 27  paket_rate                   820834 non-null  object\n",
      " 28  byte_rate                    820834 non-null  object\n",
      " 29  Scr_packts_ratio             820834 non-null  object\n",
      " 30  Des_pkts_ratio               820834 non-null  object\n",
      " 31  Scr_bytes_ratio              820834 non-null  object\n",
      " 32  Des_bytes_ratio              820834 non-null  object\n",
      " 33  Avg_user_time                820834 non-null  object\n",
      " 34  Std_user_time                820834 non-null  object\n",
      " 35  Avg_nice_time                820834 non-null  object\n",
      " 36  Std_nice_time                820834 non-null  object\n",
      " 37  Avg_system_time              820834 non-null  object\n",
      " 38  Std_system_time              820834 non-null  object\n",
      " 39  Avg_iowait_time              820834 non-null  object\n",
      " 40  Std_iowait_time              820834 non-null  object\n",
      " 41  Avg_ideal_time               820834 non-null  object\n",
      " 42  Std_ideal_time               820834 non-null  object\n",
      " 43  Avg_tps                      820834 non-null  object\n",
      " 44  Std_tps                      820834 non-null  object\n",
      " 45  Avg_rtps                     820834 non-null  object\n",
      " 46  Std_rtps                     820834 non-null  object\n",
      " 47  Avg_wtps                     820834 non-null  object\n",
      " 48  Std_wtps                     820834 non-null  object\n",
      " 49  Avg_ldavg_1                  820834 non-null  object\n",
      " 50  Std_ldavg_1                  820834 non-null  object\n",
      " 51  Avg_kbmemused                820834 non-null  object\n",
      " 52  Std_kbmemused                820834 non-null  object\n",
      " 53  Avg_num_Proc/s               820834 non-null  object\n",
      " 54  Std_num_proc/s               820834 non-null  object\n",
      " 55  Avg_num_cswch/s              820834 non-null  object\n",
      " 56  std_num_cswch/s              820834 non-null  object\n",
      " 57  OSSEC_alert                  820834 non-null  int64 \n",
      " 58  OSSEC_alert_level            820834 non-null  int64 \n",
      " 59  Login_attempt                820834 non-null  int64 \n",
      " 60  Succesful_login              820834 non-null  int64 \n",
      " 61  File_activity                820834 non-null  int64 \n",
      " 62  Process_activity             820834 non-null  int64 \n",
      " 63  read_write_physical.process  820834 non-null  int64 \n",
      " 64  is_privileged                820834 non-null  int64 \n",
      " 65  class1                       820834 non-null  object\n",
      " 66  class2                       820834 non-null  object\n",
      " 67  class3                       820834 non-null  object\n",
      "dtypes: bool(7), int64(9), object(52)\n",
      "memory usage: 387.5+ MB\n"
     ]
    }
   ],
   "source": [
    "data.info()"
   ]
  },
  {
   "cell_type": "code",
   "execution_count": 32,
   "metadata": {},
   "outputs": [
    {
     "data": {
      "text/plain": [
       "820834"
      ]
     },
     "execution_count": 32,
     "metadata": {},
     "output_type": "execute_result"
    }
   ],
   "source": [
    "len(data)"
   ]
  },
  {
   "cell_type": "code",
   "execution_count": 5,
   "metadata": {},
   "outputs": [
    {
     "data": {
      "text/html": [
       "<div>\n",
       "<style scoped>\n",
       "    .dataframe tbody tr th:only-of-type {\n",
       "        vertical-align: middle;\n",
       "    }\n",
       "\n",
       "    .dataframe tbody tr th {\n",
       "        vertical-align: top;\n",
       "    }\n",
       "\n",
       "    .dataframe thead th {\n",
       "        text-align: right;\n",
       "    }\n",
       "</style>\n",
       "<table border=\"1\" class=\"dataframe\">\n",
       "  <thead>\n",
       "    <tr style=\"text-align: right;\">\n",
       "      <th></th>\n",
       "      <th>Date</th>\n",
       "      <th>Timestamp</th>\n",
       "    </tr>\n",
       "  </thead>\n",
       "  <tbody>\n",
       "    <tr>\n",
       "      <th>0</th>\n",
       "      <td>9/01/2020</td>\n",
       "      <td>1578540956</td>\n",
       "    </tr>\n",
       "    <tr>\n",
       "      <th>1</th>\n",
       "      <td>13/01/2020</td>\n",
       "      <td>1578871873</td>\n",
       "    </tr>\n",
       "    <tr>\n",
       "      <th>2</th>\n",
       "      <td>9/01/2020</td>\n",
       "      <td>1578522486</td>\n",
       "    </tr>\n",
       "    <tr>\n",
       "      <th>3</th>\n",
       "      <td>27/02/2020</td>\n",
       "      <td>1582757640</td>\n",
       "    </tr>\n",
       "    <tr>\n",
       "      <th>4</th>\n",
       "      <td>16/12/2019</td>\n",
       "      <td>1576452612</td>\n",
       "    </tr>\n",
       "  </tbody>\n",
       "</table>\n",
       "</div>"
      ],
      "text/plain": [
       "         Date   Timestamp\n",
       "0   9/01/2020  1578540956\n",
       "1  13/01/2020  1578871873\n",
       "2   9/01/2020  1578522486\n",
       "3  27/02/2020  1582757640\n",
       "4  16/12/2019  1576452612"
      ]
     },
     "execution_count": 5,
     "metadata": {},
     "output_type": "execute_result"
    }
   ],
   "source": [
    "# Let's see how does the time and timestamp look like\n",
    "data[['Date', 'Timestamp']].head()"
   ]
  },
  {
   "cell_type": "markdown",
   "metadata": {},
   "source": [
    "In this case, date is essentially useless as timestamp covers the date as well and provides additional information (seconds)"
   ]
  },
  {
   "cell_type": "code",
   "execution_count": 6,
   "metadata": {},
   "outputs": [
    {
     "data": {
      "text/plain": [
       "class1\n",
       "crypto-ransomware    304\n",
       "Fake_notification     28\n",
       "Name: count, dtype: int64"
      ]
     },
     "execution_count": 6,
     "metadata": {},
     "output_type": "execute_result"
    }
   ],
   "source": [
    "# Apparently, there are NaN values for times -- are they connected to any specific class?\n",
    "data[data[['Date', 'Timestamp']].isna().any(axis=1)]['class1'].value_counts()"
   ]
  },
  {
   "cell_type": "code",
   "execution_count": 7,
   "metadata": {},
   "outputs": [
    {
     "data": {
      "text/plain": [
       "class1\n",
       "crypto-ransomware    154\n",
       "Name: count, dtype: int64"
      ]
     },
     "execution_count": 7,
     "metadata": {},
     "output_type": "execute_result"
    }
   ],
   "source": [
    "data[data['Timestamp'] == '?']['class1'].value_counts()"
   ]
  },
  {
   "cell_type": "code",
   "execution_count": 8,
   "metadata": {},
   "outputs": [],
   "source": [
    "# As values \"?\" exist in the columns as well, replace them with NaNs to have a better picture of the situation\n",
    "data = data.replace('?', np.nan)"
   ]
  },
  {
   "cell_type": "code",
   "execution_count": 9,
   "metadata": {},
   "outputs": [
    {
     "data": {
      "text/plain": [
       "class1\n",
       "crypto-ransomware    458\n",
       "Fake_notification     28\n",
       "Name: count, dtype: int64"
      ]
     },
     "execution_count": 9,
     "metadata": {},
     "output_type": "execute_result"
    }
   ],
   "source": [
    "# Apparently, there are NaN values for times -- are they connected to any specific class?\n",
    "data[data[['Date', 'Timestamp']].isna().any(axis=1)]['class1'].value_counts()"
   ]
  },
  {
   "cell_type": "code",
   "execution_count": 10,
   "metadata": {},
   "outputs": [
    {
     "data": {
      "text/plain": [
       "class1\n",
       "crypto-ransomware    458\n",
       "Fake_notification     28\n",
       "Normal                 7\n",
       "fuzzing                3\n",
       "Name: count, dtype: int64"
      ]
     },
     "execution_count": 10,
     "metadata": {},
     "output_type": "execute_result"
    }
   ],
   "source": [
    "# Are there any other classes with NaN values then?\n",
    "data[data.isna().any(axis=1)]['class1'].value_counts()"
   ]
  },
  {
   "cell_type": "code",
   "execution_count": 11,
   "metadata": {},
   "outputs": [
    {
     "data": {
      "text/plain": [
       "class1\n",
       "Normal                            421417\n",
       "RDOS                              141261\n",
       "Scanning_vulnerability             52852\n",
       "Generic_scanning                   50277\n",
       "BruteForce                         47241\n",
       "MQTT_cloud_broker_subscription     23524\n",
       "Discovering_resources              23148\n",
       "Exfiltration                       22134\n",
       "insider_malcious                   17447\n",
       "Modbus_register_reading             5953\n",
       "False_data_injection                5094\n",
       "C&C                                 2863\n",
       "Dictionary                          2572\n",
       "TCP Relay                           2119\n",
       "fuzzing                             1313\n",
       "Reverse_shell                       1016\n",
       "crypto-ransomware                    458\n",
       "MitM                                 117\n",
       "Fake_notification                     28\n",
       "Name: count, dtype: int64"
      ]
     },
     "execution_count": 11,
     "metadata": {},
     "output_type": "execute_result"
    }
   ],
   "source": [
    "# Not that bad, what is the total distribution of values?\n",
    "data['class1'].value_counts()"
   ]
  },
  {
   "cell_type": "code",
   "execution_count": 12,
   "metadata": {},
   "outputs": [
    {
     "data": {
      "text/plain": [
       "class1\n",
       "BruteForce                             NaN\n",
       "C&C                                    NaN\n",
       "Dictionary                             NaN\n",
       "Discovering_resources                  NaN\n",
       "Exfiltration                           NaN\n",
       "Fake_notification                 1.000000\n",
       "False_data_injection                   NaN\n",
       "Generic_scanning                       NaN\n",
       "MQTT_cloud_broker_subscription         NaN\n",
       "MitM                                   NaN\n",
       "Modbus_register_reading                NaN\n",
       "Normal                            0.000017\n",
       "RDOS                                   NaN\n",
       "Reverse_shell                          NaN\n",
       "Scanning_vulnerability                 NaN\n",
       "TCP Relay                              NaN\n",
       "crypto-ransomware                 1.000000\n",
       "fuzzing                           0.002285\n",
       "insider_malcious                       NaN\n",
       "Name: count, dtype: float64"
      ]
     },
     "execution_count": 12,
     "metadata": {},
     "output_type": "execute_result"
    }
   ],
   "source": [
    "# Translate it to percent\n",
    "data[data.isna().any(axis=1)]['class1'].value_counts() / data['class1'].value_counts()"
   ]
  },
  {
   "cell_type": "markdown",
   "metadata": {},
   "source": [
    "Ok, 100% of ransomware and fake notification attacks contain NaN values, others are rather negligible."
   ]
  },
  {
   "cell_type": "code",
   "execution_count": 13,
   "metadata": {},
   "outputs": [],
   "source": [
    "data['Timestamp'] = data['Timestamp'].astype(np.float64)\n",
    "data = data.sort_values(by='Timestamp', ascending=True)"
   ]
  },
  {
   "cell_type": "code",
   "execution_count": 14,
   "metadata": {},
   "outputs": [
    {
     "data": {
      "text/html": [
       "<div>\n",
       "<style scoped>\n",
       "    .dataframe tbody tr th:only-of-type {\n",
       "        vertical-align: middle;\n",
       "    }\n",
       "\n",
       "    .dataframe tbody tr th {\n",
       "        vertical-align: top;\n",
       "    }\n",
       "\n",
       "    .dataframe thead th {\n",
       "        text-align: right;\n",
       "    }\n",
       "</style>\n",
       "<table border=\"1\" class=\"dataframe\">\n",
       "  <thead>\n",
       "    <tr style=\"text-align: right;\">\n",
       "      <th></th>\n",
       "      <th>Date</th>\n",
       "      <th>Timestamp</th>\n",
       "      <th>Scr_IP</th>\n",
       "      <th>Scr_port</th>\n",
       "      <th>Des_IP</th>\n",
       "      <th>Des_port</th>\n",
       "      <th>Protocol</th>\n",
       "      <th>Service</th>\n",
       "      <th>Duration</th>\n",
       "      <th>Scr_bytes</th>\n",
       "      <th>Des_bytes</th>\n",
       "      <th>Conn_state</th>\n",
       "      <th>missed_bytes</th>\n",
       "      <th>is_syn_only</th>\n",
       "      <th>Is_SYN_ACK</th>\n",
       "      <th>is_pure_ack</th>\n",
       "      <th>is_with_payload</th>\n",
       "      <th>FIN or RST</th>\n",
       "      <th>Bad_checksum</th>\n",
       "      <th>is_SYN_with_RST</th>\n",
       "      <th>Scr_pkts</th>\n",
       "      <th>Scr_ip_bytes</th>\n",
       "      <th>Des_pkts</th>\n",
       "      <th>Des_ip_bytes</th>\n",
       "      <th>anomaly_alert</th>\n",
       "      <th>total_bytes</th>\n",
       "      <th>total_packet</th>\n",
       "      <th>paket_rate</th>\n",
       "      <th>byte_rate</th>\n",
       "      <th>Scr_packts_ratio</th>\n",
       "      <th>Des_pkts_ratio</th>\n",
       "      <th>Scr_bytes_ratio</th>\n",
       "      <th>Des_bytes_ratio</th>\n",
       "      <th>Avg_user_time</th>\n",
       "      <th>Std_user_time</th>\n",
       "      <th>Avg_nice_time</th>\n",
       "      <th>Std_nice_time</th>\n",
       "      <th>Avg_system_time</th>\n",
       "      <th>Std_system_time</th>\n",
       "      <th>Avg_iowait_time</th>\n",
       "      <th>Std_iowait_time</th>\n",
       "      <th>Avg_ideal_time</th>\n",
       "      <th>Std_ideal_time</th>\n",
       "      <th>Avg_tps</th>\n",
       "      <th>Std_tps</th>\n",
       "      <th>Avg_rtps</th>\n",
       "      <th>Std_rtps</th>\n",
       "      <th>Avg_wtps</th>\n",
       "      <th>Std_wtps</th>\n",
       "      <th>Avg_ldavg_1</th>\n",
       "      <th>Std_ldavg_1</th>\n",
       "      <th>Avg_kbmemused</th>\n",
       "      <th>Std_kbmemused</th>\n",
       "      <th>Avg_num_Proc/s</th>\n",
       "      <th>Std_num_proc/s</th>\n",
       "      <th>Avg_num_cswch/s</th>\n",
       "      <th>std_num_cswch/s</th>\n",
       "      <th>OSSEC_alert</th>\n",
       "      <th>OSSEC_alert_level</th>\n",
       "      <th>Login_attempt</th>\n",
       "      <th>Succesful_login</th>\n",
       "      <th>File_activity</th>\n",
       "      <th>Process_activity</th>\n",
       "      <th>read_write_physical.process</th>\n",
       "      <th>is_privileged</th>\n",
       "      <th>class1</th>\n",
       "      <th>class2</th>\n",
       "      <th>class3</th>\n",
       "    </tr>\n",
       "  </thead>\n",
       "  <tbody>\n",
       "    <tr>\n",
       "      <th>397665</th>\n",
       "      <td>7/03/2020</td>\n",
       "      <td>1.557395e+09</td>\n",
       "      <td>192.168.2.10</td>\n",
       "      <td>50302</td>\n",
       "      <td>192.168.10.150</td>\n",
       "      <td>1883</td>\n",
       "      <td>tcp</td>\n",
       "      <td>mqtt</td>\n",
       "      <td>252.13105</td>\n",
       "      <td>1169</td>\n",
       "      <td>56</td>\n",
       "      <td>1</td>\n",
       "      <td>0</td>\n",
       "      <td>False</td>\n",
       "      <td>False</td>\n",
       "      <td>True</td>\n",
       "      <td>True</td>\n",
       "      <td>False</td>\n",
       "      <td>False</td>\n",
       "      <td>False</td>\n",
       "      <td>28</td>\n",
       "      <td>2625</td>\n",
       "      <td>14</td>\n",
       "      <td>784</td>\n",
       "      <td>FALSE</td>\n",
       "      <td>4634</td>\n",
       "      <td>42</td>\n",
       "      <td>0.166580038</td>\n",
       "      <td>18.37933091</td>\n",
       "      <td>0.666666667</td>\n",
       "      <td>0.333333333</td>\n",
       "      <td>0.818731118</td>\n",
       "      <td>0.181268882</td>\n",
       "      <td>-</td>\n",
       "      <td>-</td>\n",
       "      <td>-</td>\n",
       "      <td>-</td>\n",
       "      <td>-</td>\n",
       "      <td>-</td>\n",
       "      <td>-</td>\n",
       "      <td>-</td>\n",
       "      <td>-</td>\n",
       "      <td>-</td>\n",
       "      <td>-</td>\n",
       "      <td>-</td>\n",
       "      <td>-</td>\n",
       "      <td>-</td>\n",
       "      <td>-</td>\n",
       "      <td>-</td>\n",
       "      <td>-</td>\n",
       "      <td>-</td>\n",
       "      <td>-</td>\n",
       "      <td>-</td>\n",
       "      <td>-</td>\n",
       "      <td>-</td>\n",
       "      <td>-</td>\n",
       "      <td>-</td>\n",
       "      <td>0</td>\n",
       "      <td>0</td>\n",
       "      <td>0</td>\n",
       "      <td>0</td>\n",
       "      <td>0</td>\n",
       "      <td>0</td>\n",
       "      <td>1</td>\n",
       "      <td>0</td>\n",
       "      <td>False_data_injection</td>\n",
       "      <td>Tampering</td>\n",
       "      <td>Attack</td>\n",
       "    </tr>\n",
       "    <tr>\n",
       "      <th>651139</th>\n",
       "      <td>7/03/2020</td>\n",
       "      <td>1.557395e+09</td>\n",
       "      <td>192.168.2.10</td>\n",
       "      <td>50304</td>\n",
       "      <td>192.168.10.150</td>\n",
       "      <td>1883</td>\n",
       "      <td>tcp</td>\n",
       "      <td>mqtt</td>\n",
       "      <td>252.131227</td>\n",
       "      <td>847</td>\n",
       "      <td>56</td>\n",
       "      <td>1</td>\n",
       "      <td>0</td>\n",
       "      <td>False</td>\n",
       "      <td>False</td>\n",
       "      <td>True</td>\n",
       "      <td>True</td>\n",
       "      <td>False</td>\n",
       "      <td>False</td>\n",
       "      <td>False</td>\n",
       "      <td>28</td>\n",
       "      <td>2303</td>\n",
       "      <td>14</td>\n",
       "      <td>784</td>\n",
       "      <td>False</td>\n",
       "      <td>3990</td>\n",
       "      <td>42</td>\n",
       "      <td>0.166579921</td>\n",
       "      <td>15.82509254</td>\n",
       "      <td>0.666666667</td>\n",
       "      <td>0.333333333</td>\n",
       "      <td>0.789473684</td>\n",
       "      <td>0.210526316</td>\n",
       "      <td>-</td>\n",
       "      <td>-</td>\n",
       "      <td>-</td>\n",
       "      <td>-</td>\n",
       "      <td>-</td>\n",
       "      <td>-</td>\n",
       "      <td>-</td>\n",
       "      <td>-</td>\n",
       "      <td>-</td>\n",
       "      <td>-</td>\n",
       "      <td>-</td>\n",
       "      <td>-</td>\n",
       "      <td>-</td>\n",
       "      <td>-</td>\n",
       "      <td>-</td>\n",
       "      <td>-</td>\n",
       "      <td>-</td>\n",
       "      <td>-</td>\n",
       "      <td>-</td>\n",
       "      <td>-</td>\n",
       "      <td>-</td>\n",
       "      <td>-</td>\n",
       "      <td>-</td>\n",
       "      <td>-</td>\n",
       "      <td>0</td>\n",
       "      <td>0</td>\n",
       "      <td>0</td>\n",
       "      <td>0</td>\n",
       "      <td>0</td>\n",
       "      <td>0</td>\n",
       "      <td>1</td>\n",
       "      <td>0</td>\n",
       "      <td>False_data_injection</td>\n",
       "      <td>Tampering</td>\n",
       "      <td>Attack</td>\n",
       "    </tr>\n",
       "    <tr>\n",
       "      <th>439618</th>\n",
       "      <td>7/03/2020</td>\n",
       "      <td>1.557395e+09</td>\n",
       "      <td>192.168.2.10</td>\n",
       "      <td>50316</td>\n",
       "      <td>192.168.10.150</td>\n",
       "      <td>1883</td>\n",
       "      <td>tcp</td>\n",
       "      <td>mqtt</td>\n",
       "      <td>-</td>\n",
       "      <td>-</td>\n",
       "      <td>-</td>\n",
       "      <td>1</td>\n",
       "      <td>0</td>\n",
       "      <td>False</td>\n",
       "      <td>False</td>\n",
       "      <td>True</td>\n",
       "      <td>True</td>\n",
       "      <td>False</td>\n",
       "      <td>False</td>\n",
       "      <td>False</td>\n",
       "      <td>-</td>\n",
       "      <td>-</td>\n",
       "      <td>-</td>\n",
       "      <td>-</td>\n",
       "      <td>False</td>\n",
       "      <td>-</td>\n",
       "      <td>-</td>\n",
       "      <td>-</td>\n",
       "      <td>-</td>\n",
       "      <td>-</td>\n",
       "      <td>-</td>\n",
       "      <td>-</td>\n",
       "      <td>-</td>\n",
       "      <td>-</td>\n",
       "      <td>-</td>\n",
       "      <td>-</td>\n",
       "      <td>-</td>\n",
       "      <td>-</td>\n",
       "      <td>-</td>\n",
       "      <td>-</td>\n",
       "      <td>-</td>\n",
       "      <td>-</td>\n",
       "      <td>-</td>\n",
       "      <td>-</td>\n",
       "      <td>-</td>\n",
       "      <td>-</td>\n",
       "      <td>-</td>\n",
       "      <td>-</td>\n",
       "      <td>-</td>\n",
       "      <td>-</td>\n",
       "      <td>-</td>\n",
       "      <td>-</td>\n",
       "      <td>-</td>\n",
       "      <td>-</td>\n",
       "      <td>-</td>\n",
       "      <td>-</td>\n",
       "      <td>-</td>\n",
       "      <td>0</td>\n",
       "      <td>0</td>\n",
       "      <td>0</td>\n",
       "      <td>0</td>\n",
       "      <td>0</td>\n",
       "      <td>0</td>\n",
       "      <td>1</td>\n",
       "      <td>0</td>\n",
       "      <td>False_data_injection</td>\n",
       "      <td>Tampering</td>\n",
       "      <td>Attack</td>\n",
       "    </tr>\n",
       "    <tr>\n",
       "      <th>394343</th>\n",
       "      <td>7/03/2020</td>\n",
       "      <td>1.557395e+09</td>\n",
       "      <td>192.168.2.10</td>\n",
       "      <td>50314</td>\n",
       "      <td>192.168.10.150</td>\n",
       "      <td>1883</td>\n",
       "      <td>tcp</td>\n",
       "      <td>mqtt</td>\n",
       "      <td>-</td>\n",
       "      <td>-</td>\n",
       "      <td>-</td>\n",
       "      <td>1</td>\n",
       "      <td>0</td>\n",
       "      <td>False</td>\n",
       "      <td>False</td>\n",
       "      <td>True</td>\n",
       "      <td>True</td>\n",
       "      <td>False</td>\n",
       "      <td>False</td>\n",
       "      <td>False</td>\n",
       "      <td>-</td>\n",
       "      <td>-</td>\n",
       "      <td>-</td>\n",
       "      <td>-</td>\n",
       "      <td>FALSE</td>\n",
       "      <td>-</td>\n",
       "      <td>-</td>\n",
       "      <td>-</td>\n",
       "      <td>-</td>\n",
       "      <td>-</td>\n",
       "      <td>-</td>\n",
       "      <td>-</td>\n",
       "      <td>-</td>\n",
       "      <td>-</td>\n",
       "      <td>-</td>\n",
       "      <td>-</td>\n",
       "      <td>-</td>\n",
       "      <td>-</td>\n",
       "      <td>-</td>\n",
       "      <td>-</td>\n",
       "      <td>-</td>\n",
       "      <td>-</td>\n",
       "      <td>-</td>\n",
       "      <td>-</td>\n",
       "      <td>-</td>\n",
       "      <td>-</td>\n",
       "      <td>-</td>\n",
       "      <td>-</td>\n",
       "      <td>-</td>\n",
       "      <td>-</td>\n",
       "      <td>-</td>\n",
       "      <td>-</td>\n",
       "      <td>-</td>\n",
       "      <td>-</td>\n",
       "      <td>-</td>\n",
       "      <td>-</td>\n",
       "      <td>-</td>\n",
       "      <td>0</td>\n",
       "      <td>0</td>\n",
       "      <td>0</td>\n",
       "      <td>0</td>\n",
       "      <td>0</td>\n",
       "      <td>0</td>\n",
       "      <td>1</td>\n",
       "      <td>0</td>\n",
       "      <td>False_data_injection</td>\n",
       "      <td>Tampering</td>\n",
       "      <td>Attack</td>\n",
       "    </tr>\n",
       "    <tr>\n",
       "      <th>258425</th>\n",
       "      <td>7/03/2020</td>\n",
       "      <td>1.557395e+09</td>\n",
       "      <td>192.168.2.10</td>\n",
       "      <td>50306</td>\n",
       "      <td>192.168.10.150</td>\n",
       "      <td>1883</td>\n",
       "      <td>tcp</td>\n",
       "      <td>mqtt</td>\n",
       "      <td>-</td>\n",
       "      <td>-</td>\n",
       "      <td>-</td>\n",
       "      <td>1</td>\n",
       "      <td>0</td>\n",
       "      <td>False</td>\n",
       "      <td>False</td>\n",
       "      <td>True</td>\n",
       "      <td>True</td>\n",
       "      <td>False</td>\n",
       "      <td>False</td>\n",
       "      <td>False</td>\n",
       "      <td>-</td>\n",
       "      <td>-</td>\n",
       "      <td>-</td>\n",
       "      <td>-</td>\n",
       "      <td>False</td>\n",
       "      <td>-</td>\n",
       "      <td>-</td>\n",
       "      <td>-</td>\n",
       "      <td>-</td>\n",
       "      <td>-</td>\n",
       "      <td>-</td>\n",
       "      <td>-</td>\n",
       "      <td>-</td>\n",
       "      <td>-</td>\n",
       "      <td>-</td>\n",
       "      <td>-</td>\n",
       "      <td>-</td>\n",
       "      <td>-</td>\n",
       "      <td>-</td>\n",
       "      <td>-</td>\n",
       "      <td>-</td>\n",
       "      <td>-</td>\n",
       "      <td>-</td>\n",
       "      <td>-</td>\n",
       "      <td>-</td>\n",
       "      <td>-</td>\n",
       "      <td>-</td>\n",
       "      <td>-</td>\n",
       "      <td>-</td>\n",
       "      <td>-</td>\n",
       "      <td>-</td>\n",
       "      <td>-</td>\n",
       "      <td>-</td>\n",
       "      <td>-</td>\n",
       "      <td>-</td>\n",
       "      <td>-</td>\n",
       "      <td>-</td>\n",
       "      <td>0</td>\n",
       "      <td>0</td>\n",
       "      <td>0</td>\n",
       "      <td>0</td>\n",
       "      <td>0</td>\n",
       "      <td>0</td>\n",
       "      <td>1</td>\n",
       "      <td>0</td>\n",
       "      <td>False_data_injection</td>\n",
       "      <td>Tampering</td>\n",
       "      <td>Attack</td>\n",
       "    </tr>\n",
       "  </tbody>\n",
       "</table>\n",
       "</div>"
      ],
      "text/plain": [
       "             Date     Timestamp        Scr_IP Scr_port          Des_IP  \\\n",
       "397665  7/03/2020  1.557395e+09  192.168.2.10    50302  192.168.10.150   \n",
       "651139  7/03/2020  1.557395e+09  192.168.2.10    50304  192.168.10.150   \n",
       "439618  7/03/2020  1.557395e+09  192.168.2.10    50316  192.168.10.150   \n",
       "394343  7/03/2020  1.557395e+09  192.168.2.10    50314  192.168.10.150   \n",
       "258425  7/03/2020  1.557395e+09  192.168.2.10    50306  192.168.10.150   \n",
       "\n",
       "       Des_port Protocol Service    Duration Scr_bytes Des_bytes  Conn_state  \\\n",
       "397665     1883      tcp    mqtt   252.13105      1169        56           1   \n",
       "651139     1883      tcp    mqtt  252.131227       847        56           1   \n",
       "439618     1883      tcp    mqtt           -         -         -           1   \n",
       "394343     1883      tcp    mqtt           -         -         -           1   \n",
       "258425     1883      tcp    mqtt           -         -         -           1   \n",
       "\n",
       "       missed_bytes  is_syn_only  Is_SYN_ACK  is_pure_ack  is_with_payload  \\\n",
       "397665            0        False       False         True             True   \n",
       "651139            0        False       False         True             True   \n",
       "439618            0        False       False         True             True   \n",
       "394343            0        False       False         True             True   \n",
       "258425            0        False       False         True             True   \n",
       "\n",
       "        FIN or RST  Bad_checksum  is_SYN_with_RST Scr_pkts Scr_ip_bytes  \\\n",
       "397665       False         False            False       28         2625   \n",
       "651139       False         False            False       28         2303   \n",
       "439618       False         False            False        -            -   \n",
       "394343       False         False            False        -            -   \n",
       "258425       False         False            False        -            -   \n",
       "\n",
       "       Des_pkts Des_ip_bytes anomaly_alert total_bytes total_packet  \\\n",
       "397665       14          784         FALSE        4634           42   \n",
       "651139       14          784         False        3990           42   \n",
       "439618        -            -         False           -            -   \n",
       "394343        -            -         FALSE           -            -   \n",
       "258425        -            -         False           -            -   \n",
       "\n",
       "         paket_rate    byte_rate Scr_packts_ratio Des_pkts_ratio  \\\n",
       "397665  0.166580038  18.37933091      0.666666667    0.333333333   \n",
       "651139  0.166579921  15.82509254      0.666666667    0.333333333   \n",
       "439618            -            -                -              -   \n",
       "394343            -            -                -              -   \n",
       "258425            -            -                -              -   \n",
       "\n",
       "       Scr_bytes_ratio Des_bytes_ratio Avg_user_time Std_user_time  \\\n",
       "397665     0.818731118     0.181268882             -             -   \n",
       "651139     0.789473684     0.210526316             -             -   \n",
       "439618               -               -             -             -   \n",
       "394343               -               -             -             -   \n",
       "258425               -               -             -             -   \n",
       "\n",
       "       Avg_nice_time Std_nice_time Avg_system_time Std_system_time  \\\n",
       "397665             -             -               -               -   \n",
       "651139             -             -               -               -   \n",
       "439618             -             -               -               -   \n",
       "394343             -             -               -               -   \n",
       "258425             -             -               -               -   \n",
       "\n",
       "       Avg_iowait_time Std_iowait_time Avg_ideal_time Std_ideal_time Avg_tps  \\\n",
       "397665               -               -              -              -       -   \n",
       "651139               -               -              -              -       -   \n",
       "439618               -               -              -              -       -   \n",
       "394343               -               -              -              -       -   \n",
       "258425               -               -              -              -       -   \n",
       "\n",
       "       Std_tps Avg_rtps Std_rtps Avg_wtps Std_wtps Avg_ldavg_1 Std_ldavg_1  \\\n",
       "397665       -        -        -        -        -           -           -   \n",
       "651139       -        -        -        -        -           -           -   \n",
       "439618       -        -        -        -        -           -           -   \n",
       "394343       -        -        -        -        -           -           -   \n",
       "258425       -        -        -        -        -           -           -   \n",
       "\n",
       "       Avg_kbmemused Std_kbmemused Avg_num_Proc/s Std_num_proc/s  \\\n",
       "397665             -             -              -              -   \n",
       "651139             -             -              -              -   \n",
       "439618             -             -              -              -   \n",
       "394343             -             -              -              -   \n",
       "258425             -             -              -              -   \n",
       "\n",
       "       Avg_num_cswch/s std_num_cswch/s  OSSEC_alert  OSSEC_alert_level  \\\n",
       "397665               -               -            0                  0   \n",
       "651139               -               -            0                  0   \n",
       "439618               -               -            0                  0   \n",
       "394343               -               -            0                  0   \n",
       "258425               -               -            0                  0   \n",
       "\n",
       "        Login_attempt  Succesful_login  File_activity  Process_activity  \\\n",
       "397665              0                0              0                 0   \n",
       "651139              0                0              0                 0   \n",
       "439618              0                0              0                 0   \n",
       "394343              0                0              0                 0   \n",
       "258425              0                0              0                 0   \n",
       "\n",
       "        read_write_physical.process  is_privileged                class1  \\\n",
       "397665                            1              0  False_data_injection   \n",
       "651139                            1              0  False_data_injection   \n",
       "439618                            1              0  False_data_injection   \n",
       "394343                            1              0  False_data_injection   \n",
       "258425                            1              0  False_data_injection   \n",
       "\n",
       "           class2  class3  \n",
       "397665  Tampering  Attack  \n",
       "651139  Tampering  Attack  \n",
       "439618  Tampering  Attack  \n",
       "394343  Tampering  Attack  \n",
       "258425  Tampering  Attack  "
      ]
     },
     "execution_count": 14,
     "metadata": {},
     "output_type": "execute_result"
    }
   ],
   "source": [
    "data.head()"
   ]
  },
  {
   "cell_type": "code",
   "execution_count": 28,
   "metadata": {},
   "outputs": [
    {
     "data": {
      "text/plain": [
       "Service\n",
       "http                        237738\n",
       "dns                         222713\n",
       "coap                        167236\n",
       "other                        83699\n",
       "websocket                    58462\n",
       "mqtt                         17121\n",
       "https                         9517\n",
       "modbus                        6525\n",
       "smtp                          5322\n",
       "ssh                           5040\n",
       "private                       3607\n",
       "simple_service_discovery      1645\n",
       "netbios-ns                    1256\n",
       "echo                           642\n",
       "imap                           165\n",
       "dhcp                            91\n",
       "mysql                           55\n",
       "Name: count, dtype: int64"
      ]
     },
     "execution_count": 28,
     "metadata": {},
     "output_type": "execute_result"
    }
   ],
   "source": [
    "data['Service'].value_counts()"
   ]
  },
  {
   "cell_type": "code",
   "execution_count": 29,
   "metadata": {},
   "outputs": [
    {
     "data": {
      "text/plain": [
       "class1\n",
       "Normal                            421417\n",
       "RDOS                              141261\n",
       "Scanning_vulnerability             52852\n",
       "Generic_scanning                   50277\n",
       "BruteForce                         47241\n",
       "MQTT_cloud_broker_subscription     23524\n",
       "Discovering_resources              23148\n",
       "Exfiltration                       22134\n",
       "insider_malcious                   17447\n",
       "Modbus_register_reading             5953\n",
       "False_data_injection                5094\n",
       "C&C                                 2863\n",
       "Dictionary                          2572\n",
       "TCP Relay                           2119\n",
       "fuzzing                             1313\n",
       "Reverse_shell                       1016\n",
       "crypto-ransomware                    458\n",
       "MitM                                 117\n",
       "Fake_notification                     28\n",
       "Name: count, dtype: int64"
      ]
     },
     "execution_count": 29,
     "metadata": {},
     "output_type": "execute_result"
    }
   ],
   "source": [
    "# Let's see the classes and their distributions\n",
    "data['class1'].value_counts()"
   ]
  },
  {
   "cell_type": "code",
   "execution_count": 30,
   "metadata": {},
   "outputs": [
    {
     "data": {
      "text/plain": [
       "class2\n",
       "Normal               421417\n",
       "RDOS                 141261\n",
       "Reconnaissance       127590\n",
       "Weaponization         67260\n",
       "Lateral _movement     31596\n",
       "Exfiltration          22134\n",
       "Tampering              5122\n",
       "C&C                    2863\n",
       "Exploitation           1133\n",
       "crypto-ransomware       458\n",
       "Name: count, dtype: int64"
      ]
     },
     "execution_count": 30,
     "metadata": {},
     "output_type": "execute_result"
    }
   ],
   "source": [
    "data['class2'].value_counts()"
   ]
  },
  {
   "cell_type": "code",
   "execution_count": 31,
   "metadata": {},
   "outputs": [
    {
     "data": {
      "text/plain": [
       "class3\n",
       "Normal    421417\n",
       "Attack    399417\n",
       "Name: count, dtype: int64"
      ]
     },
     "execution_count": 31,
     "metadata": {},
     "output_type": "execute_result"
    }
   ],
   "source": [
    "data['class3'].value_counts()"
   ]
  },
  {
   "cell_type": "markdown",
   "metadata": {},
   "source": [
    "## Timespan Computation"
   ]
  },
  {
   "cell_type": "code",
   "execution_count": 18,
   "metadata": {},
   "outputs": [],
   "source": [
    "data_nonans = data.dropna()\n",
    "data_nonans.replace('Timestamp', data_nonans['Timestamp'].astype(np.int64))\n",
    "data_nonans = data_nonans.sort_values(by='Timestamp', ascending=False)"
   ]
  },
  {
   "cell_type": "code",
   "execution_count": 34,
   "metadata": {},
   "outputs": [
    {
     "data": {
      "text/plain": [
       "1557394756.0"
      ]
     },
     "execution_count": 34,
     "metadata": {},
     "output_type": "execute_result"
    }
   ],
   "source": [
    "# Cature start\n",
    "data_nonans['Timestamp'].iloc[-1]"
   ]
  },
  {
   "cell_type": "code",
   "execution_count": 33,
   "metadata": {},
   "outputs": [
    {
     "data": {
      "text/plain": [
       "1583569803.0"
      ]
     },
     "execution_count": 33,
     "metadata": {},
     "output_type": "execute_result"
    }
   ],
   "source": [
    "# Caputure end\n",
    "data_nonans['Timestamp'].iloc[0]"
   ]
  },
  {
   "cell_type": "markdown",
   "metadata": {},
   "source": [
    "Based on this analysis, the data in the dataset span almost a year (From May 2019 to March 2020). The data is also provided in a single file, so regardless of the outcome below, we consider it as discontinous. We don't even apply 1% continous rule here, as it would not make any sense here."
   ]
  },
  {
   "cell_type": "code",
   "execution_count": 26,
   "metadata": {},
   "outputs": [],
   "source": [
    "# Compute timespan of the capture and the contiguity\n",
    "def measure_real_capture_dur(data: pd.Series, gap_max_secs: int = 300) -> float:\n",
    "    \"\"\"Computes total timespan of the capture. Expects iterable containing timestamps objects sorted in a descending manner\"\"\"\n",
    "    total_dur = 0\n",
    "    last_tstamp = data.iloc[0]\n",
    "    contiguous = True\n",
    "\n",
    "    # Iterate through the dataframe to find out gaps\n",
    "    for cur_tstamp in data:\n",
    "        dur_gap = last_tstamp - cur_tstamp\n",
    "\n",
    "        if dur_gap <= gap_max_secs:\n",
    "            total_dur += dur_gap\n",
    "        elif contiguous:\n",
    "            contiguous = False\n",
    "\n",
    "        last_tstamp = cur_tstamp\n",
    "\n",
    "    return pd.Timedelta(seconds=total_dur), contiguous"
   ]
  },
  {
   "cell_type": "code",
   "execution_count": 27,
   "metadata": {},
   "outputs": [
    {
     "data": {
      "text/plain": [
       "(Timedelta('6 days 07:07:40'), False)"
      ]
     },
     "execution_count": 27,
     "metadata": {},
     "output_type": "execute_result"
    }
   ],
   "source": [
    "# Based just on the above analysis, the dataset\n",
    "measure_real_capture_dur(data_nonans['Timestamp'], 300)"
   ]
  }
 ],
 "metadata": {
  "kernelspec": {
   "display_name": "env",
   "language": "python",
   "name": "python3"
  },
  "language_info": {
   "codemirror_mode": {
    "name": "ipython",
    "version": 3
   },
   "file_extension": ".py",
   "mimetype": "text/x-python",
   "name": "python",
   "nbconvert_exporter": "python",
   "pygments_lexer": "ipython3",
   "version": "3.12.3"
  }
 },
 "nbformat": 4,
 "nbformat_minor": 2
}
