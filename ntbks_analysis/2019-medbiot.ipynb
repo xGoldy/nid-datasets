{
 "cells": [
  {
   "cell_type": "markdown",
   "metadata": {},
   "source": [
    "# MeDBIoT Dataset Analysis\n",
    "\n",
    "* **Author:** Patrik Goldschmidt (igoldschmidt@fit.vut.cz)\n",
    "* **Project:** Network Intrusion Datasets: A Survey, Limitations, and Recommendations\n",
    "* **Date:** 2024"
   ]
  },
  {
   "cell_type": "code",
   "execution_count": 1,
   "metadata": {},
   "outputs": [],
   "source": [
    "import pandas as pd\n",
    "import numpy as np"
   ]
  },
  {
   "cell_type": "code",
   "execution_count": 3,
   "metadata": {},
   "outputs": [],
   "source": [
    "RAW_DATA_PATH = '/data/kinit/gold_data/medBIoT/bulk/raw_dataset'\n",
    "CSV_DATA_PATH = '/data/kinit/gold_data/medBIoT/bulk/structured_dataset/malware/torii_mal_all.csv'"
   ]
  },
  {
   "cell_type": "code",
   "execution_count": 4,
   "metadata": {},
   "outputs": [],
   "source": [
    "# Read only a sample of TORII Malware traffic due to a huge amount of overall traffic.\n",
    "data_sample = pd.read_csv(CSV_DATA_PATH)"
   ]
  },
  {
   "cell_type": "code",
   "execution_count": 5,
   "metadata": {},
   "outputs": [
    {
     "name": "stdout",
     "output_type": "stream",
     "text": [
      "<class 'pandas.core.frame.DataFrame'>\n",
      "RangeIndex: 321776 entries, 0 to 321775\n",
      "Data columns (total 100 columns):\n",
      " #   Column                    Non-Null Count   Dtype  \n",
      "---  ------                    --------------   -----  \n",
      " 0   MI_dir_5_weight           321776 non-null  float64\n",
      " 1   MI_dir_5_mean             321776 non-null  float64\n",
      " 2   MI_dir_5_std              321776 non-null  float64\n",
      " 3   MI_dir_3_weight           321776 non-null  float64\n",
      " 4   MI_dir_3_mean             321776 non-null  float64\n",
      " 5   MI_dir_3_std              321776 non-null  float64\n",
      " 6   MI_dir_1_weight           321776 non-null  float64\n",
      " 7   MI_dir_1_mean             321776 non-null  float64\n",
      " 8   MI_dir_1_std              321776 non-null  float64\n",
      " 9   MI_dir_0.1_weight         321776 non-null  float64\n",
      " 10  MI_dir_0.1_mean           321776 non-null  float64\n",
      " 11  MI_dir_0.1_std            321776 non-null  float64\n",
      " 12  MI_dir_0.01_weight        321776 non-null  float64\n",
      " 13  MI_dir_0.01_mean          321776 non-null  float64\n",
      " 14  MI_dir_0.01_std           321776 non-null  float64\n",
      " 15  HH_5_weight_0             321776 non-null  float64\n",
      " 16  HH_5_mean_0               321776 non-null  float64\n",
      " 17  HH_5_std_0                321776 non-null  float64\n",
      " 18  HH_5_radius_0_1           321776 non-null  float64\n",
      " 19  HH_5_magnitude_0_1        321776 non-null  float64\n",
      " 20  HH_5_covariance_0_1       321776 non-null  float64\n",
      " 21  HH_5_pcc_0_1              321776 non-null  float64\n",
      " 22  HH_3_weight_0             321776 non-null  float64\n",
      " 23  HH_3_mean_0               321776 non-null  float64\n",
      " 24  HH_3_std_0                321776 non-null  float64\n",
      " 25  HH_3_radius_0_1           321776 non-null  float64\n",
      " 26  HH_3_magnitude_0_1        321776 non-null  float64\n",
      " 27  HH_3_covariance_0_1       321776 non-null  float64\n",
      " 28  HH_3_pcc_0_1              321776 non-null  float64\n",
      " 29  HH_1_weight_0             321776 non-null  float64\n",
      " 30  HH_1_mean_0               321776 non-null  float64\n",
      " 31  HH_1_std_0                321776 non-null  float64\n",
      " 32  HH_1_radius_0_1           321776 non-null  float64\n",
      " 33  HH_1_magnitude_0_1        321776 non-null  float64\n",
      " 34  HH_1_covariance_0_1       321776 non-null  float64\n",
      " 35  HH_1_pcc_0_1              321776 non-null  float64\n",
      " 36  HH_0.1_weight_0           321776 non-null  float64\n",
      " 37  HH_0.1_mean_0             321776 non-null  float64\n",
      " 38  HH_0.1_std_0              321776 non-null  float64\n",
      " 39  HH_0.1_radius_0_1         321776 non-null  float64\n",
      " 40  HH_0.1_magnitude_0_1      321776 non-null  float64\n",
      " 41  HH_0.1_covariance_0_1     321776 non-null  float64\n",
      " 42  HH_0.1_pcc_0_1            321776 non-null  float64\n",
      " 43  HH_0.01_weight_0          321776 non-null  float64\n",
      " 44  HH_0.01_mean_0            321776 non-null  float64\n",
      " 45  HH_0.01_std_0             321776 non-null  float64\n",
      " 46  HH_0.01_radius_0_1        321776 non-null  float64\n",
      " 47  HH_0.01_magnitude_0_1     321776 non-null  float64\n",
      " 48  HH_0.01_covariance_0_1    321776 non-null  float64\n",
      " 49  HH_0.01_pcc_0_1           321776 non-null  float64\n",
      " 50  HH_jit_5_weight           321776 non-null  float64\n",
      " 51  HH_jit_5_mean             321776 non-null  float64\n",
      " 52  HH_jit_5_std              321776 non-null  float64\n",
      " 53  HH_jit_3_weight           321776 non-null  float64\n",
      " 54  HH_jit_3_mean             321776 non-null  float64\n",
      " 55  HH_jit_3_std              321776 non-null  float64\n",
      " 56  HH_jit_1_weight           321776 non-null  float64\n",
      " 57  HH_jit_1_mean             321776 non-null  float64\n",
      " 58  HH_jit_1_std              321776 non-null  float64\n",
      " 59  HH_jit_0.1_weight         321776 non-null  float64\n",
      " 60  HH_jit_0.1_mean           321776 non-null  float64\n",
      " 61  HH_jit_0.1_std            321776 non-null  float64\n",
      " 62  HH_jit_0.01_weight        321776 non-null  float64\n",
      " 63  HH_jit_0.01_mean          321776 non-null  float64\n",
      " 64  HH_jit_0.01_std           321776 non-null  float64\n",
      " 65  HpHp_5_weight_0           321776 non-null  float64\n",
      " 66  HpHp_5_mean_0             321776 non-null  float64\n",
      " 67  HpHp_5_std_0              321776 non-null  float64\n",
      " 68  HpHp_5_radius_0_1         321776 non-null  float64\n",
      " 69  HpHp_5_magnitude_0_1      321776 non-null  float64\n",
      " 70  HpHp_5_covariance_0_1     321776 non-null  float64\n",
      " 71  HpHp_5_pcc_0_1            321776 non-null  float64\n",
      " 72  HpHp_3_weight_0           321776 non-null  float64\n",
      " 73  HpHp_3_mean_0             321776 non-null  float64\n",
      " 74  HpHp_3_std_0              321776 non-null  float64\n",
      " 75  HpHp_3_radius_0_1         321776 non-null  float64\n",
      " 76  HpHp_3_magnitude_0_1      321776 non-null  float64\n",
      " 77  HpHp_3_covariance_0_1     321776 non-null  float64\n",
      " 78  HpHp_3_pcc_0_1            321776 non-null  float64\n",
      " 79  HpHp_1_weight_0           321776 non-null  float64\n",
      " 80  HpHp_1_mean_0             321776 non-null  float64\n",
      " 81  HpHp_1_std_0              321776 non-null  float64\n",
      " 82  HpHp_1_radius_0_1         321776 non-null  float64\n",
      " 83  HpHp_1_magnitude_0_1      321776 non-null  float64\n",
      " 84  HpHp_1_covariance_0_1     321776 non-null  float64\n",
      " 85  HpHp_1_pcc_0_1            321776 non-null  float64\n",
      " 86  HpHp_0.1_weight_0         321776 non-null  float64\n",
      " 87  HpHp_0.1_mean_0           321776 non-null  float64\n",
      " 88  HpHp_0.1_std_0            321776 non-null  float64\n",
      " 89  HpHp_0.1_radius_0_1       321776 non-null  float64\n",
      " 90  HpHp_0.1_magnitude_0_1    321776 non-null  float64\n",
      " 91  HpHp_0.1_covariance_0_1   321776 non-null  float64\n",
      " 92  HpHp_0.1_pcc_0_1          321776 non-null  float64\n",
      " 93  HpHp_0.01_weight_0        321776 non-null  float64\n",
      " 94  HpHp_0.01_mean_0          321776 non-null  float64\n",
      " 95  HpHp_0.01_std_0           321776 non-null  float64\n",
      " 96  HpHp_0.01_radius_0_1      321776 non-null  float64\n",
      " 97  HpHp_0.01_magnitude_0_1   321776 non-null  float64\n",
      " 98  HpHp_0.01_covariance_0_1  321776 non-null  float64\n",
      " 99  HpHp_0.01_pcc_0_1         321776 non-null  float64\n",
      "dtypes: float64(100)\n",
      "memory usage: 245.5 MB\n"
     ]
    }
   ],
   "source": [
    "data_sample.info()"
   ]
  },
  {
   "cell_type": "markdown",
   "metadata": {},
   "source": [
    "As this is a per-packet dataset without time information, we deemed further analysis for the purpose if this project unecessary. Further analyses were performed via command line and were, unfortunately, not saved."
   ]
  }
 ],
 "metadata": {
  "kernelspec": {
   "display_name": "vnet",
   "language": "python",
   "name": "python3"
  },
  "language_info": {
   "codemirror_mode": {
    "name": "ipython",
    "version": 3
   },
   "file_extension": ".py",
   "mimetype": "text/x-python",
   "name": "python",
   "nbconvert_exporter": "python",
   "pygments_lexer": "ipython3",
   "version": "3.9.15"
  },
  "orig_nbformat": 4
 },
 "nbformat": 4,
 "nbformat_minor": 2
}
