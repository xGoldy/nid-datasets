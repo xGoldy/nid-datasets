{
 "cells": [
  {
   "cell_type": "markdown",
   "metadata": {},
   "source": [
    "# ISCX-IDS-2012 Dataset Analysis\n",
    "\n",
    "* **Author:** Patrik Goldschmidt (igoldschmidt@fit.vut.cz)\n",
    "* **Project:** Network Intrusion Datasets: A Survey, Limitations, and Recommendations\n",
    "* **Date:** 2024"
   ]
  },
  {
   "cell_type": "code",
   "execution_count": 1,
   "metadata": {},
   "outputs": [],
   "source": [
    "import pandas as pd\n",
    "import numpy as np\n",
    "import matplotlib.pyplot as plt\n",
    "import os\n",
    "\n",
    "pd.set_option('display.max_columns', None)"
   ]
  },
  {
   "cell_type": "code",
   "execution_count": 2,
   "metadata": {},
   "outputs": [],
   "source": [
    "CSVS_PATH = 'iscxids2012-master/data/CSV/'"
   ]
  },
  {
   "cell_type": "code",
   "execution_count": 3,
   "metadata": {},
   "outputs": [
    {
     "name": "stdout",
     "output_type": "stream",
     "text": [
      "TestbedWedJun16Flows.csv : 522263\n",
      "TestbedSunJun13Flows.csv : 275528\n",
      "TestbedTueJun15Flows.csv : 571698\n",
      "TestbedMonJun14Flows.csv : 171380\n",
      "TestbedThuJun17Flows.csv : 397595\n",
      "TestbedSatJun12Flows.csv : 133193\n"
     ]
    }
   ],
   "source": [
    "# Load all files within a single file\n",
    "data = pd.DataFrame()\n",
    "\n",
    "for file in os.listdir(CSVS_PATH):\n",
    "    fullpath = os.path.join(CSVS_PATH, file)\n",
    "    day_data =  pd.read_csv(fullpath)\n",
    "\n",
    "    print(f'{file} : {len(day_data)}')\n",
    "    data = pd.concat([data, day_data])"
   ]
  },
  {
   "cell_type": "code",
   "execution_count": 4,
   "metadata": {},
   "outputs": [
    {
     "data": {
      "text/plain": [
       "2071657"
      ]
     },
     "execution_count": 4,
     "metadata": {},
     "output_type": "execute_result"
    }
   ],
   "source": [
    "len(data)"
   ]
  },
  {
   "cell_type": "code",
   "execution_count": 5,
   "metadata": {},
   "outputs": [
    {
     "name": "stdout",
     "output_type": "stream",
     "text": [
      "<class 'pandas.core.frame.DataFrame'>\n",
      "Int64Index: 2071657 entries, 0 to 133192\n",
      "Data columns (total 21 columns):\n",
      " #   Column                          Dtype \n",
      "---  ------                          ----- \n",
      " 0   generated                       object\n",
      " 1   appName                         object\n",
      " 2   totalSourceBytes                int64 \n",
      " 3   totalDestinationBytes           int64 \n",
      " 4   totalDestinationPackets         int64 \n",
      " 5   totalSourcePackets              int64 \n",
      " 6   sourcePayloadAsBase64           object\n",
      " 7   sourcePayloadAsUTF              object\n",
      " 8   destinationPayloadAsBase64      object\n",
      " 9   destinationPayloadAsUTF         object\n",
      " 10  direction                       object\n",
      " 11  sourceTCPFlagsDescription       object\n",
      " 12  destinationTCPFlagsDescription  object\n",
      " 13  source                          object\n",
      " 14  protocolName                    object\n",
      " 15  sourcePort                      int64 \n",
      " 16  destination                     object\n",
      " 17  destinationPort                 int64 \n",
      " 18  startDateTime                   object\n",
      " 19  stopDateTime                    object\n",
      " 20  Label                           object\n",
      "dtypes: int64(6), object(15)\n",
      "memory usage: 347.7+ MB\n"
     ]
    }
   ],
   "source": [
    "data.info(verbose=True)"
   ]
  },
  {
   "cell_type": "code",
   "execution_count": 6,
   "metadata": {},
   "outputs": [
    {
     "data": {
      "text/html": [
       "<div>\n",
       "<style scoped>\n",
       "    .dataframe tbody tr th:only-of-type {\n",
       "        vertical-align: middle;\n",
       "    }\n",
       "\n",
       "    .dataframe tbody tr th {\n",
       "        vertical-align: top;\n",
       "    }\n",
       "\n",
       "    .dataframe thead th {\n",
       "        text-align: right;\n",
       "    }\n",
       "</style>\n",
       "<table border=\"1\" class=\"dataframe\">\n",
       "  <thead>\n",
       "    <tr style=\"text-align: right;\">\n",
       "      <th></th>\n",
       "      <th>totalSourceBytes</th>\n",
       "      <th>totalDestinationBytes</th>\n",
       "      <th>totalDestinationPackets</th>\n",
       "      <th>totalSourcePackets</th>\n",
       "      <th>sourcePort</th>\n",
       "      <th>destinationPort</th>\n",
       "    </tr>\n",
       "  </thead>\n",
       "  <tbody>\n",
       "    <tr>\n",
       "      <th>count</th>\n",
       "      <td>2.071657e+06</td>\n",
       "      <td>2.071657e+06</td>\n",
       "      <td>2.071657e+06</td>\n",
       "      <td>2.071657e+06</td>\n",
       "      <td>2.071657e+06</td>\n",
       "      <td>2.071657e+06</td>\n",
       "    </tr>\n",
       "    <tr>\n",
       "      <th>mean</th>\n",
       "      <td>2.460947e+03</td>\n",
       "      <td>3.448911e+04</td>\n",
       "      <td>3.030068e+01</td>\n",
       "      <td>1.984019e+01</td>\n",
       "      <td>1.413759e+04</td>\n",
       "      <td>1.882091e+03</td>\n",
       "    </tr>\n",
       "    <tr>\n",
       "      <th>std</th>\n",
       "      <td>7.517785e+05</td>\n",
       "      <td>1.187177e+06</td>\n",
       "      <td>9.834982e+02</td>\n",
       "      <td>6.679018e+02</td>\n",
       "      <td>2.014297e+04</td>\n",
       "      <td>8.623280e+03</td>\n",
       "    </tr>\n",
       "    <tr>\n",
       "      <th>min</th>\n",
       "      <td>0.000000e+00</td>\n",
       "      <td>0.000000e+00</td>\n",
       "      <td>0.000000e+00</td>\n",
       "      <td>0.000000e+00</td>\n",
       "      <td>0.000000e+00</td>\n",
       "      <td>0.000000e+00</td>\n",
       "    </tr>\n",
       "    <tr>\n",
       "      <th>25%</th>\n",
       "      <td>2.560000e+02</td>\n",
       "      <td>4.190000e+02</td>\n",
       "      <td>2.000000e+00</td>\n",
       "      <td>3.000000e+00</td>\n",
       "      <td>2.302000e+03</td>\n",
       "      <td>8.000000e+01</td>\n",
       "    </tr>\n",
       "    <tr>\n",
       "      <th>50%</th>\n",
       "      <td>4.420000e+02</td>\n",
       "      <td>1.177000e+03</td>\n",
       "      <td>5.000000e+00</td>\n",
       "      <td>6.000000e+00</td>\n",
       "      <td>3.744000e+03</td>\n",
       "      <td>8.000000e+01</td>\n",
       "    </tr>\n",
       "    <tr>\n",
       "      <th>75%</th>\n",
       "      <td>8.450000e+02</td>\n",
       "      <td>7.338000e+03</td>\n",
       "      <td>1.100000e+01</td>\n",
       "      <td>1.000000e+01</td>\n",
       "      <td>1.699300e+04</td>\n",
       "      <td>8.000000e+01</td>\n",
       "    </tr>\n",
       "    <tr>\n",
       "      <th>max</th>\n",
       "      <td>7.632776e+08</td>\n",
       "      <td>1.254005e+09</td>\n",
       "      <td>8.722240e+05</td>\n",
       "      <td>5.147940e+05</td>\n",
       "      <td>6.553500e+04</td>\n",
       "      <td>6.553500e+04</td>\n",
       "    </tr>\n",
       "  </tbody>\n",
       "</table>\n",
       "</div>"
      ],
      "text/plain": [
       "       totalSourceBytes  totalDestinationBytes  totalDestinationPackets  \\\n",
       "count      2.071657e+06           2.071657e+06             2.071657e+06   \n",
       "mean       2.460947e+03           3.448911e+04             3.030068e+01   \n",
       "std        7.517785e+05           1.187177e+06             9.834982e+02   \n",
       "min        0.000000e+00           0.000000e+00             0.000000e+00   \n",
       "25%        2.560000e+02           4.190000e+02             2.000000e+00   \n",
       "50%        4.420000e+02           1.177000e+03             5.000000e+00   \n",
       "75%        8.450000e+02           7.338000e+03             1.100000e+01   \n",
       "max        7.632776e+08           1.254005e+09             8.722240e+05   \n",
       "\n",
       "       totalSourcePackets    sourcePort  destinationPort  \n",
       "count        2.071657e+06  2.071657e+06     2.071657e+06  \n",
       "mean         1.984019e+01  1.413759e+04     1.882091e+03  \n",
       "std          6.679018e+02  2.014297e+04     8.623280e+03  \n",
       "min          0.000000e+00  0.000000e+00     0.000000e+00  \n",
       "25%          3.000000e+00  2.302000e+03     8.000000e+01  \n",
       "50%          6.000000e+00  3.744000e+03     8.000000e+01  \n",
       "75%          1.000000e+01  1.699300e+04     8.000000e+01  \n",
       "max          5.147940e+05  6.553500e+04     6.553500e+04  "
      ]
     },
     "execution_count": 6,
     "metadata": {},
     "output_type": "execute_result"
    }
   ],
   "source": [
    "data.describe()"
   ]
  },
  {
   "cell_type": "code",
   "execution_count": 7,
   "metadata": {},
   "outputs": [
    {
     "data": {
      "text/html": [
       "<div>\n",
       "<style scoped>\n",
       "    .dataframe tbody tr th:only-of-type {\n",
       "        vertical-align: middle;\n",
       "    }\n",
       "\n",
       "    .dataframe tbody tr th {\n",
       "        vertical-align: top;\n",
       "    }\n",
       "\n",
       "    .dataframe thead th {\n",
       "        text-align: right;\n",
       "    }\n",
       "</style>\n",
       "<table border=\"1\" class=\"dataframe\">\n",
       "  <thead>\n",
       "    <tr style=\"text-align: right;\">\n",
       "      <th></th>\n",
       "      <th>generated</th>\n",
       "      <th>appName</th>\n",
       "      <th>totalSourceBytes</th>\n",
       "      <th>totalDestinationBytes</th>\n",
       "      <th>totalDestinationPackets</th>\n",
       "      <th>totalSourcePackets</th>\n",
       "      <th>sourcePayloadAsBase64</th>\n",
       "      <th>sourcePayloadAsUTF</th>\n",
       "      <th>destinationPayloadAsBase64</th>\n",
       "      <th>destinationPayloadAsUTF</th>\n",
       "      <th>direction</th>\n",
       "      <th>sourceTCPFlagsDescription</th>\n",
       "      <th>destinationTCPFlagsDescription</th>\n",
       "      <th>source</th>\n",
       "      <th>protocolName</th>\n",
       "      <th>sourcePort</th>\n",
       "      <th>destination</th>\n",
       "      <th>destinationPort</th>\n",
       "      <th>startDateTime</th>\n",
       "      <th>stopDateTime</th>\n",
       "      <th>Label</th>\n",
       "    </tr>\n",
       "  </thead>\n",
       "  <tbody>\n",
       "    <tr>\n",
       "      <th>0</th>\n",
       "      <td>3/11/2014 16:49</td>\n",
       "      <td>DNS</td>\n",
       "      <td>2073</td>\n",
       "      <td>15834</td>\n",
       "      <td>48</td>\n",
       "      <td>26</td>\n",
       "      <td>ISQBAAABAAAAAAAAA3d3dwdsZHVodHJwA25ldAAAAQABIS...</td>\n",
       "      <td>!$wwwlduhtrpnet!%wwwafcyhfcom!g-ecximages-amaz...</td>\n",
       "      <td>NaN</td>\n",
       "      <td>NaN</td>\n",
       "      <td>L2L</td>\n",
       "      <td>NaN</td>\n",
       "      <td>NaN</td>\n",
       "      <td>192.168.4.118</td>\n",
       "      <td>udp_ip</td>\n",
       "      <td>1266</td>\n",
       "      <td>192.168.5.122</td>\n",
       "      <td>53</td>\n",
       "      <td>6/15/2010 23:54</td>\n",
       "      <td>6/16/2010 0:06</td>\n",
       "      <td>Normal</td>\n",
       "    </tr>\n",
       "    <tr>\n",
       "      <th>1</th>\n",
       "      <td>3/11/2014 16:49</td>\n",
       "      <td>HTTPImageTransfer</td>\n",
       "      <td>64</td>\n",
       "      <td>0</td>\n",
       "      <td>0</td>\n",
       "      <td>1</td>\n",
       "      <td>NaN</td>\n",
       "      <td>NaN</td>\n",
       "      <td>NaN</td>\n",
       "      <td>NaN</td>\n",
       "      <td>L2R</td>\n",
       "      <td>F,A</td>\n",
       "      <td>NaN</td>\n",
       "      <td>192.168.4.118</td>\n",
       "      <td>tcp_ip</td>\n",
       "      <td>1592</td>\n",
       "      <td>198.173.85.138</td>\n",
       "      <td>80</td>\n",
       "      <td>6/15/2010 23:55</td>\n",
       "      <td>6/15/2010 23:59</td>\n",
       "      <td>Normal</td>\n",
       "    </tr>\n",
       "    <tr>\n",
       "      <th>2</th>\n",
       "      <td>3/11/2014 16:49</td>\n",
       "      <td>HTTPWeb</td>\n",
       "      <td>399</td>\n",
       "      <td>0</td>\n",
       "      <td>0</td>\n",
       "      <td>3</td>\n",
       "      <td>R0VUIC9pbWFnZXMvYXVmYXN0bG9va2Jhbm5lcjc2NS5KUE...</td>\n",
       "      <td>GET /images/aufastlookbanner765.JPG HTTP/1.1Ho...</td>\n",
       "      <td>NaN</td>\n",
       "      <td>NaN</td>\n",
       "      <td>L2R</td>\n",
       "      <td>F,P,A</td>\n",
       "      <td>NaN</td>\n",
       "      <td>192.168.4.118</td>\n",
       "      <td>tcp_ip</td>\n",
       "      <td>1595</td>\n",
       "      <td>115.178.18.2</td>\n",
       "      <td>80</td>\n",
       "      <td>6/15/2010 23:56</td>\n",
       "      <td>6/16/2010 0:00</td>\n",
       "      <td>Normal</td>\n",
       "    </tr>\n",
       "    <tr>\n",
       "      <th>3</th>\n",
       "      <td>3/11/2014 16:49</td>\n",
       "      <td>HTTPWeb</td>\n",
       "      <td>384</td>\n",
       "      <td>0</td>\n",
       "      <td>0</td>\n",
       "      <td>6</td>\n",
       "      <td>NaN</td>\n",
       "      <td>NaN</td>\n",
       "      <td>NaN</td>\n",
       "      <td>NaN</td>\n",
       "      <td>L2R</td>\n",
       "      <td>F,A</td>\n",
       "      <td>NaN</td>\n",
       "      <td>192.168.2.109</td>\n",
       "      <td>tcp_ip</td>\n",
       "      <td>1683</td>\n",
       "      <td>95.154.240.242</td>\n",
       "      <td>80</td>\n",
       "      <td>6/15/2010 23:56</td>\n",
       "      <td>6/15/2010 23:59</td>\n",
       "      <td>Normal</td>\n",
       "    </tr>\n",
       "    <tr>\n",
       "      <th>4</th>\n",
       "      <td>3/11/2014 16:49</td>\n",
       "      <td>HTTPImageTransfer</td>\n",
       "      <td>3303</td>\n",
       "      <td>39226</td>\n",
       "      <td>48</td>\n",
       "      <td>35</td>\n",
       "      <td>NaN</td>\n",
       "      <td>NaN</td>\n",
       "      <td>NaN</td>\n",
       "      <td>NaN</td>\n",
       "      <td>L2R</td>\n",
       "      <td>P,A</td>\n",
       "      <td>P,A</td>\n",
       "      <td>192.168.4.119</td>\n",
       "      <td>tcp_ip</td>\n",
       "      <td>4576</td>\n",
       "      <td>72.247.111.188</td>\n",
       "      <td>80</td>\n",
       "      <td>6/15/2010 23:56</td>\n",
       "      <td>6/16/2010 0:03</td>\n",
       "      <td>Normal</td>\n",
       "    </tr>\n",
       "  </tbody>\n",
       "</table>\n",
       "</div>"
      ],
      "text/plain": [
       "         generated            appName  totalSourceBytes  \\\n",
       "0  3/11/2014 16:49                DNS              2073   \n",
       "1  3/11/2014 16:49  HTTPImageTransfer                64   \n",
       "2  3/11/2014 16:49            HTTPWeb               399   \n",
       "3  3/11/2014 16:49            HTTPWeb               384   \n",
       "4  3/11/2014 16:49  HTTPImageTransfer              3303   \n",
       "\n",
       "   totalDestinationBytes  totalDestinationPackets  totalSourcePackets  \\\n",
       "0                  15834                       48                  26   \n",
       "1                      0                        0                   1   \n",
       "2                      0                        0                   3   \n",
       "3                      0                        0                   6   \n",
       "4                  39226                       48                  35   \n",
       "\n",
       "                               sourcePayloadAsBase64  \\\n",
       "0  ISQBAAABAAAAAAAAA3d3dwdsZHVodHJwA25ldAAAAQABIS...   \n",
       "1                                                NaN   \n",
       "2  R0VUIC9pbWFnZXMvYXVmYXN0bG9va2Jhbm5lcjc2NS5KUE...   \n",
       "3                                                NaN   \n",
       "4                                                NaN   \n",
       "\n",
       "                                  sourcePayloadAsUTF  \\\n",
       "0  !$wwwlduhtrpnet!%wwwafcyhfcom!g-ecximages-amaz...   \n",
       "1                                                NaN   \n",
       "2  GET /images/aufastlookbanner765.JPG HTTP/1.1Ho...   \n",
       "3                                                NaN   \n",
       "4                                                NaN   \n",
       "\n",
       "  destinationPayloadAsBase64 destinationPayloadAsUTF direction  \\\n",
       "0                        NaN                     NaN       L2L   \n",
       "1                        NaN                     NaN       L2R   \n",
       "2                        NaN                     NaN       L2R   \n",
       "3                        NaN                     NaN       L2R   \n",
       "4                        NaN                     NaN       L2R   \n",
       "\n",
       "  sourceTCPFlagsDescription destinationTCPFlagsDescription         source  \\\n",
       "0                       NaN                            NaN  192.168.4.118   \n",
       "1                       F,A                            NaN  192.168.4.118   \n",
       "2                     F,P,A                            NaN  192.168.4.118   \n",
       "3                       F,A                            NaN  192.168.2.109   \n",
       "4                       P,A                            P,A  192.168.4.119   \n",
       "\n",
       "  protocolName  sourcePort     destination  destinationPort    startDateTime  \\\n",
       "0       udp_ip        1266   192.168.5.122               53  6/15/2010 23:54   \n",
       "1       tcp_ip        1592  198.173.85.138               80  6/15/2010 23:55   \n",
       "2       tcp_ip        1595    115.178.18.2               80  6/15/2010 23:56   \n",
       "3       tcp_ip        1683  95.154.240.242               80  6/15/2010 23:56   \n",
       "4       tcp_ip        4576  72.247.111.188               80  6/15/2010 23:56   \n",
       "\n",
       "      stopDateTime   Label  \n",
       "0   6/16/2010 0:06  Normal  \n",
       "1  6/15/2010 23:59  Normal  \n",
       "2   6/16/2010 0:00  Normal  \n",
       "3  6/15/2010 23:59  Normal  \n",
       "4   6/16/2010 0:03  Normal  "
      ]
     },
     "execution_count": 7,
     "metadata": {},
     "output_type": "execute_result"
    }
   ],
   "source": [
    "data.head(5)"
   ]
  },
  {
   "cell_type": "code",
   "execution_count": 8,
   "metadata": {},
   "outputs": [
    {
     "data": {
      "text/plain": [
       "generated                               0\n",
       "appName                                 0\n",
       "totalSourceBytes                        0\n",
       "totalDestinationBytes                   0\n",
       "totalDestinationPackets                 0\n",
       "totalSourcePackets                      0\n",
       "sourcePayloadAsBase64             1098051\n",
       "sourcePayloadAsUTF                1182855\n",
       "destinationPayloadAsBase64        1188626\n",
       "destinationPayloadAsUTF           1188687\n",
       "direction                               0\n",
       "sourceTCPFlagsDescription          430943\n",
       "destinationTCPFlagsDescription     493422\n",
       "source                                  0\n",
       "protocolName                            0\n",
       "sourcePort                              0\n",
       "destination                             0\n",
       "destinationPort                         0\n",
       "startDateTime                           0\n",
       "stopDateTime                            0\n",
       "Label                                   0\n",
       "dtype: int64"
      ]
     },
     "execution_count": 8,
     "metadata": {},
     "output_type": "execute_result"
    }
   ],
   "source": [
    "#There are NaNs in the data, what is their count?\n",
    "data.isna().sum(axis=0)"
   ]
  },
  {
   "cell_type": "code",
   "execution_count": 9,
   "metadata": {},
   "outputs": [
    {
     "data": {
      "text/plain": [
       "generated                         0.000000\n",
       "appName                           0.000000\n",
       "totalSourceBytes                  0.000000\n",
       "totalDestinationBytes             0.000000\n",
       "totalDestinationPackets           0.000000\n",
       "totalSourcePackets                0.000000\n",
       "sourcePayloadAsBase64             0.530035\n",
       "sourcePayloadAsUTF                0.570970\n",
       "destinationPayloadAsBase64        0.573756\n",
       "destinationPayloadAsUTF           0.573786\n",
       "direction                         0.000000\n",
       "sourceTCPFlagsDescription         0.208019\n",
       "destinationTCPFlagsDescription    0.238177\n",
       "source                            0.000000\n",
       "protocolName                      0.000000\n",
       "sourcePort                        0.000000\n",
       "destination                       0.000000\n",
       "destinationPort                   0.000000\n",
       "startDateTime                     0.000000\n",
       "stopDateTime                      0.000000\n",
       "Label                             0.000000\n",
       "dtype: float64"
      ]
     },
     "execution_count": 9,
     "metadata": {},
     "output_type": "execute_result"
    }
   ],
   "source": [
    "# Compute NaNs as a ratio relative to the whole dataset size\n",
    "data.isna().sum(axis=0) / len(data)"
   ]
  },
  {
   "cell_type": "code",
   "execution_count": 10,
   "metadata": {},
   "outputs": [
    {
     "data": {
      "text/plain": [
       "Normal    2002747\n",
       "Attack      68910\n",
       "Name: Label, dtype: int64"
      ]
     },
     "execution_count": 10,
     "metadata": {},
     "output_type": "execute_result"
    }
   ],
   "source": [
    "data['Label'].value_counts()"
   ]
  },
  {
   "cell_type": "markdown",
   "metadata": {},
   "source": [
    "Although the labels in this case are binary, documentation distintinguishes between different attacks. Since only 1 unique attack type is performed per day, the labels can be directly distinguished without ambiguities when the files are loaded separately. In this brief analysis, we load them all at once."
   ]
  },
  {
   "cell_type": "code",
   "execution_count": 11,
   "metadata": {},
   "outputs": [
    {
     "data": {
      "text/plain": [
       "HTTPWeb               738833\n",
       "HTTPImageTransfer     727295\n",
       "DNS                   314326\n",
       "Unknown_UDP            62682\n",
       "SecureWeb              57216\n",
       "NetBIOS-IP             29122\n",
       "Unknown_TCP            28569\n",
       "WindowsFileSharing     18037\n",
       "POP                    16362\n",
       "IMAP                   13763\n",
       "FTP                    13475\n",
       "BitTorrent             10195\n",
       "SSH                     9992\n",
       "SMTP                    9418\n",
       "ICMP                    8278\n",
       "WebMediaDocuments       4213\n",
       "Flowgen                 2541\n",
       "MiscApplication         1339\n",
       "WebFileTransfer          580\n",
       "IRC                      337\n",
       "XWindows                 337\n",
       "Oracle                   252\n",
       "WebMediaVideo            251\n",
       "Authentication           240\n",
       "Yahoo                    222\n",
       "Real                     183\n",
       "RPC                      144\n",
       "Telnet                   132\n",
       "Filenet                  121\n",
       "Webmin                   119\n",
       "DNS-Port                 112\n",
       "MSMQ                     106\n",
       "MSN                      104\n",
       "IPSec                     94\n",
       "Timbuktu                  89\n",
       "H.323                     84\n",
       "Common-P2P-Port           83\n",
       "AOL-ICQ                   77\n",
       "IGMP                      77\n",
       "Web-Port                  75\n",
       "MS-SQL                    73\n",
       "MSTerminalServices        68\n",
       "MSN-Zone                  68\n",
       "StreamingAudio            67\n",
       "Hotline                   65\n",
       "Misc-DB                   59\n",
       "NNTPNews                  58\n",
       "SNMP-Ports                58\n",
       "LDAP                      58\n",
       "WebMediaAudio             54\n",
       "Name: appName, dtype: int64"
      ]
     },
     "execution_count": 11,
     "metadata": {},
     "output_type": "execute_result"
    }
   ],
   "source": [
    "# appName distribution\n",
    "data['appName'].value_counts().head(50)"
   ]
  },
  {
   "cell_type": "code",
   "execution_count": 12,
   "metadata": {},
   "outputs": [
    {
     "data": {
      "text/plain": [
       "80       1470875\n",
       "53        314449\n",
       "443        53956\n",
       "138        19972\n",
       "137        17931\n",
       "          ...   \n",
       "33057          1\n",
       "37112          1\n",
       "50482          1\n",
       "21828          1\n",
       "51425          1\n",
       "Name: destinationPort, Length: 24238, dtype: int64"
      ]
     },
     "execution_count": 12,
     "metadata": {},
     "output_type": "execute_result"
    }
   ],
   "source": [
    "# Distribution of popular ports\n",
    "data['destinationPort'].value_counts()"
   ]
  },
  {
   "cell_type": "code",
   "execution_count": 13,
   "metadata": {},
   "outputs": [
    {
     "data": {
      "text/plain": [
       "192.168.5.122     268267\n",
       "192.168.2.107     208379\n",
       "192.168.4.118     135374\n",
       "192.168.1.101     116292\n",
       "192.168.4.121     105454\n",
       "                   ...  \n",
       "93.70.125.65           1\n",
       "96.47.114.210          1\n",
       "78.84.208.212          1\n",
       "58.153.70.147          1\n",
       "84.221.137.176         1\n",
       "Name: source, Length: 2478, dtype: int64"
      ]
     },
     "execution_count": 13,
     "metadata": {},
     "output_type": "execute_result"
    }
   ],
   "source": [
    "data['source'].value_counts()"
   ]
  },
  {
   "cell_type": "markdown",
   "metadata": {},
   "source": [
    "Despite the documentation declares the simulation network is small, there are over 2k unique IP addresses."
   ]
  },
  {
   "cell_type": "markdown",
   "metadata": {},
   "source": [
    "## Continuity Analysis\n",
    "\n",
    "Documentation declares that the data consist of a 7-day continuous capture. Let's verify this claim.\n"
   ]
  },
  {
   "cell_type": "code",
   "execution_count": 14,
   "metadata": {},
   "outputs": [
    {
     "data": {
      "text/plain": [
       "0    6/15/2010 23:54\n",
       "1    6/15/2010 23:55\n",
       "2    6/15/2010 23:56\n",
       "3    6/15/2010 23:56\n",
       "4    6/15/2010 23:56\n",
       "Name: startDateTime, dtype: object"
      ]
     },
     "metadata": {},
     "output_type": "display_data"
    },
    {
     "data": {
      "text/plain": [
       "0     6/16/2010 0:06\n",
       "1    6/15/2010 23:59\n",
       "2     6/16/2010 0:00\n",
       "3    6/15/2010 23:59\n",
       "4     6/16/2010 0:03\n",
       "Name: stopDateTime, dtype: object"
      ]
     },
     "metadata": {},
     "output_type": "display_data"
    }
   ],
   "source": [
    "# See how the timestamps look like\n",
    "display(data['startDateTime'].head())\n",
    "\n",
    "display(data['stopDateTime'].head())"
   ]
  },
  {
   "cell_type": "code",
   "execution_count": 15,
   "metadata": {},
   "outputs": [
    {
     "data": {
      "text/plain": [
       "0   2010-06-15 23:54:00\n",
       "1   2010-06-15 23:55:00\n",
       "2   2010-06-15 23:56:00\n",
       "3   2010-06-15 23:56:00\n",
       "4   2010-06-15 23:56:00\n",
       "Name: stime, dtype: datetime64[ns]"
      ]
     },
     "execution_count": 15,
     "metadata": {},
     "output_type": "execute_result"
    }
   ],
   "source": [
    "data['stime'] = pd.to_datetime(data['startDateTime'], format='%m/%d/%Y %H:%M')\n",
    "data['etime'] = pd.to_datetime(data['stopDateTime'], format='%m/%d/%Y %H:%M')\n",
    "\n",
    "data['stime'].head()"
   ]
  },
  {
   "cell_type": "code",
   "execution_count": 16,
   "metadata": {},
   "outputs": [
    {
     "data": {
      "text/plain": [
       "397553   2010-06-17 23:58:00\n",
       "397548   2010-06-17 23:58:00\n",
       "397563   2010-06-17 23:58:00\n",
       "397562   2010-06-17 23:58:00\n",
       "397561   2010-06-17 23:58:00\n",
       "Name: stime, dtype: datetime64[ns]"
      ]
     },
     "execution_count": 16,
     "metadata": {},
     "output_type": "execute_result"
    }
   ],
   "source": [
    "data_sorted = data.sort_values(by='stime', ascending=False)\n",
    "data_sorted['stime'].head()"
   ]
  },
  {
   "cell_type": "code",
   "execution_count": 17,
   "metadata": {},
   "outputs": [],
   "source": [
    "# Compute timespan of the capture and the contiguity\n",
    "# Based on the documentation, the capture time is 7 days -> 60 * 60 * 24 * 7 = 604800 -> 1% of if is 6048 - approx 100 minute gap is allowed\n",
    "def measure_real_capture_dur(data: pd.Series, gap_max_secs: int = 6048) -> float:\n",
    "    \"\"\"Computes total timespan of the capture. Expects iterable containing timestamps objects sorted in a descending manner\"\"\"\n",
    "    total_dur = pd.Timedelta(seconds=0)\n",
    "    current_dur = pd.Timedelta(seconds=0)\n",
    "    cont_durations = []\n",
    "    last_tstamp = data.iloc[0]\n",
    "    contiguous = True\n",
    "\n",
    "    # Iterate through the dataframe to find out gaps\n",
    "    for cur_tstamp in data:\n",
    "        dur_gap = last_tstamp - cur_tstamp\n",
    "\n",
    "        if dur_gap <= pd.Timedelta(seconds=gap_max_secs):\n",
    "            total_dur += dur_gap\n",
    "            current_dur += dur_gap\n",
    "        else:\n",
    "            cont_durations.append(current_dur)\n",
    "            current_dur = pd.Timedelta(seconds=0)\n",
    "\n",
    "            if contiguous:\n",
    "                contiguous = False\n",
    "\n",
    "        last_tstamp = cur_tstamp\n",
    "\n",
    "    cont_durations.sort(reverse=True)\n",
    "\n",
    "    return total_dur, contiguous, cont_durations\n"
   ]
  },
  {
   "cell_type": "code",
   "execution_count": 18,
   "metadata": {},
   "outputs": [
    {
     "data": {
      "text/plain": [
       "(Timedelta('6 days 00:02:00'), False, [Timedelta('6 days 00:02:00')])"
      ]
     },
     "execution_count": 18,
     "metadata": {},
     "output_type": "execute_result"
    }
   ],
   "source": [
    "measure_real_capture_dur(data_sorted['stime'])"
   ]
  },
  {
   "cell_type": "markdown",
   "metadata": {},
   "source": [
    "There is only one gap at the very end of the capture -- 3h 46m. The data can then be, in a way, considered contiguous."
   ]
  }
 ],
 "metadata": {
  "kernelspec": {
   "display_name": "replication-1-nWqEVJ",
   "language": "python",
   "name": "python3"
  },
  "language_info": {
   "codemirror_mode": {
    "name": "ipython",
    "version": 3
   },
   "file_extension": ".py",
   "mimetype": "text/x-python",
   "name": "python",
   "nbconvert_exporter": "python",
   "pygments_lexer": "ipython3",
   "version": "3.9.19"
  }
 },
 "nbformat": 4,
 "nbformat_minor": 2
}
