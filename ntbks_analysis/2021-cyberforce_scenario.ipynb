{
 "cells": [
  {
   "cell_type": "markdown",
   "metadata": {},
   "source": [
    "# CyberFORCE Scenario Analysis\n",
    "\n",
    "* **Author:** Patrik Goldschmidt (igoldschmidt@fit.vut.cz)\n",
    "* **Project:** Network Intrusion Datasets: A Survey, Limitations, and Recommendations\n",
    "* **Date:** 2024"
   ]
  },
  {
   "cell_type": "code",
   "execution_count": 1,
   "metadata": {},
   "outputs": [],
   "source": [
    "import os"
   ]
  },
  {
   "cell_type": "code",
   "execution_count": 2,
   "metadata": {},
   "outputs": [],
   "source": [
    "BASE_FOLDER = '/home/goldy/Downloads/cyberforce/03-02-2021-1'"
   ]
  },
  {
   "cell_type": "code",
   "execution_count": 3,
   "metadata": {},
   "outputs": [
    {
     "name": "stdout",
     "output_type": "stream",
     "text": [
      "AMP  IPFIX  IPTABLES  logs  pcap  README.md  SGUIL  UAT\n"
     ]
    }
   ],
   "source": [
    "!ls $BASE_FOLDER"
   ]
  },
  {
   "cell_type": "code",
   "execution_count": 4,
   "metadata": {},
   "outputs": [
    {
     "name": "stdout",
     "output_type": "stream",
     "text": [
      "B3-Admin1_01  B3CUW_02\t   B3CUWMSI_02\tB3-USER1_04  Exchange3\n",
      "B3CUL_01      B3CUW_03\t   B3-USER1_01\tB3-USER1_05  extfw\n",
      "B3CUL_02      B3CUW_04\t   B3-USER1_02\tB3-USER1_06  SECON\n",
      "B3CUW_01      B3CUWMSI_01  B3-USER1_03\tDC3\t     SharePoint3\n"
     ]
    }
   ],
   "source": [
    "!ls $BASE_FOLDER/logs"
   ]
  },
  {
   "cell_type": "code",
   "execution_count": 5,
   "metadata": {},
   "outputs": [
    {
     "name": "stdout",
     "output_type": "stream",
     "text": [
      "# Collection Timeline\n",
      "\n",
      "This file logs the exact timeline of high-activity for a particular run\n",
      "\n",
      "12:28 Collection starts \n",
      "\n",
      "12:28 Linux workstations start generating benign traffic\n",
      "12:31 Windows workstations join domain\n",
      "\n",
      "12:35 Windows workstations start generating benign traffic\n",
      "\n",
      "12:28 Attacker sends phishing email\n",
      "13:30 User clicks on phishing email\n",
      "13:32 Bot contacts C2\n",
      "13:32 Attacker gets network config of the compromised machine\n",
      "13:34 Attacker instructs bot to scan machines\n",
      "13:36 Attacker instructs bot to attack a workstation\n",
      "13:41 Attacker instructs bot to attack another workstation\n",
      "13:42 Attacker reaps reports \n",
      "\n",
      "14:48 Attacker does exfiltration \n",
      "\n",
      "14:45 Defender is called in \n",
      "\n",
      "14:52 Defender installs firewall rules \n",
      "\n",
      "15:00 Collection ends \n",
      "\n"
     ]
    }
   ],
   "source": [
    "# How does the readme file looks like\n",
    "!cat $BASE_FOLDER/README.md"
   ]
  },
  {
   "cell_type": "markdown",
   "metadata": {},
   "source": [
    "## PCAP Analysis"
   ]
  },
  {
   "cell_type": "code",
   "execution_count": 6,
   "metadata": {},
   "outputs": [],
   "source": [
    "PCAP = 'pcap/CL-1075-InternetRouter-2.pcap'\n",
    "\n",
    "PCAP_FULLPATH = os.path.join(BASE_FOLDER, PCAP)"
   ]
  },
  {
   "cell_type": "code",
   "execution_count": 7,
   "metadata": {},
   "outputs": [
    {
     "name": "stdout",
     "output_type": "stream",
     "text": [
      "File name:           /home/goldy/Downloads/cyberforce/03-02-2021-1/pcap/CL-1075-InternetRouter-2.pcap\n",
      "File type:           Wireshark/tcpdump/... - pcap\n",
      "File encapsulation:  Ethernet\n",
      "File timestamp precision:  microseconds (6)\n",
      "Packet size limit:   file hdr: 65535 bytes\n",
      "Number of packets:   184 k\n",
      "File size:           137 MB\n",
      "Data size:           134 MB\n",
      "Capture duration:    8925.776600 seconds\n",
      "First packet time:   2021-03-02 18:28:27.722759\n",
      "Last packet time:    2021-03-02 20:57:13.499359\n",
      "Data byte rate:      15 kBps\n",
      "Data bit rate:       120 kbps\n",
      "Average packet size: 729.03 bytes\n",
      "Average packet rate: 20 packets/s\n",
      "SHA256:              a506347913c7a41f6f8773fe687202b0dec86e5791005bea142d28b5aa286eef\n",
      "SHA1:                5de2f25faa1da2eb30ec4b4ca2f9aa048839b3b5\n",
      "Strict time order:   True\n",
      "Number of interfaces in file: 1\n",
      "Interface #0 info:\n",
      "                     Encapsulation = Ethernet (1 - ether)\n",
      "                     Capture length = 65535\n",
      "                     Time precision = microseconds (6)\n",
      "                     Time ticks per second = 1000000\n",
      "                     Number of stat entries = 0\n",
      "                     Number of packets = 184259\n"
     ]
    }
   ],
   "source": [
    "!capinfos $PCAP_FULLPATH"
   ]
  },
  {
   "cell_type": "code",
   "execution_count": 8,
   "metadata": {},
   "outputs": [
    {
     "name": "stdout",
     "output_type": "stream",
     "text": [
      "57\n"
     ]
    }
   ],
   "source": [
    "# Count the number of unique IP addresses to determine the network's size\n",
    "!tshark -r $PCAP_FULLPATH -T fields -e ip.src | sort | uniq | wc -l"
   ]
  }
 ],
 "metadata": {
  "kernelspec": {
   "display_name": "replication-1-nWqEVJ",
   "language": "python",
   "name": "python3"
  },
  "language_info": {
   "codemirror_mode": {
    "name": "ipython",
    "version": 3
   },
   "file_extension": ".py",
   "mimetype": "text/x-python",
   "name": "python",
   "nbconvert_exporter": "python",
   "pygments_lexer": "ipython3",
   "version": "3.9.19"
  }
 },
 "nbformat": 4,
 "nbformat_minor": 2
}
