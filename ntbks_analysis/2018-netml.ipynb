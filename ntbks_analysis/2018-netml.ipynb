{
 "cells": [
  {
   "cell_type": "markdown",
   "metadata": {},
   "source": [
    "# NetML Challenge Datasets Analysis\n",
    "\n",
    "* **Author:** Patrik Goldschmidt (igoldschmidt@fit.vut.cz)\n",
    "* **Project:** Network Intrusion Datasets: A Survey, Limitations, and Recommendations\n",
    "* **Date:** 2024"
   ]
  },
  {
   "cell_type": "code",
   "execution_count": 2,
   "metadata": {},
   "outputs": [],
   "source": [
    "%matplotlib inline\n",
    "\n",
    "import pandas as pd\n",
    "import matplotlib.pyplot as plt\n",
    "\n",
    "pd.set_option('display.max_columns', None)"
   ]
  },
  {
   "cell_type": "code",
   "execution_count": 3,
   "metadata": {},
   "outputs": [],
   "source": [
    "# Set file paths\n",
    "NETML_PATH_TEST_STD  = '/data/kinit/netml_2020/NetML-Competition2020/data/NetML/1_test-std_set/1_test-std_set.json.gz'\n",
    "NETML_PATH_TEST_CHAL = '/data/kinit/netml_2020/NetML-Competition2020/data/NetML/0_test-challenge_set/0_test-challenge_set.json.gz'\n",
    "NETML_PATH_TRAIN     = '/data/kinit/netml_2020/NetML-Competition2020/data/NetML/2_training_set/2_training_set.json.gz'"
   ]
  },
  {
   "cell_type": "code",
   "execution_count": 4,
   "metadata": {},
   "outputs": [],
   "source": [
    "# Load each dataset part\n",
    "netml_test_std   = pd.read_json(NETML_PATH_TEST_STD, compression='gzip', lines=True)\n",
    "netml_test_chal  = pd.read_json(NETML_PATH_TEST_CHAL, compression='gzip', lines=True)\n",
    "netml_train = pd.read_json(NETML_PATH_TRAIN, compression='gzip', lines=True)"
   ]
  },
  {
   "cell_type": "code",
   "execution_count": 8,
   "metadata": {},
   "outputs": [
    {
     "data": {
      "text/plain": [
       "48394"
      ]
     },
     "metadata": {},
     "output_type": "display_data"
    },
    {
     "data": {
      "text/plain": [
       "48394"
      ]
     },
     "metadata": {},
     "output_type": "display_data"
    },
    {
     "data": {
      "text/plain": [
       "387268"
      ]
     },
     "metadata": {},
     "output_type": "display_data"
    },
    {
     "name": "stdout",
     "output_type": "stream",
     "text": [
      "Sum: 484056\n"
     ]
    }
   ],
   "source": [
    "netml_total_size = len(netml_train) + len(netml_test_chal) + len(netml_test_chal)\n",
    "\n",
    "display(len(netml_test_chal))\n",
    "display(len(netml_test_chal))\n",
    "display(len(netml_train))\n",
    "\n",
    "print(f\"Sum: {netml_total_size}\")"
   ]
  },
  {
   "cell_type": "code",
   "execution_count": 9,
   "metadata": {},
   "outputs": [],
   "source": [
    "# Let's see the labels\n",
    "NETML_PATH_LABELS = '/data/kinit/netml_2020/NetML-Competition2020/data/NetML/2_training_annotations/2_training_anno_fine.json.gz'"
   ]
  },
  {
   "cell_type": "code",
   "execution_count": 14,
   "metadata": {},
   "outputs": [],
   "source": [
    "netml_train_labels = pd.read_json(NETML_PATH_LABELS, typ='series')"
   ]
  },
  {
   "cell_type": "code",
   "execution_count": 18,
   "metadata": {},
   "outputs": [
    {
     "data": {
      "text/plain": [
       "benign              75995\n",
       "Trickster           57796\n",
       "Emotet              45907\n",
       "TrickBot            37271\n",
       "MagicHound          31458\n",
       "HTBot               30442\n",
       "Tinba               18627\n",
       "WebCompanion        15767\n",
       "Adload              15289\n",
       "Dridex               9208\n",
       "Ursnif               8482\n",
       "Artemis              8238\n",
       "CCleaner             8139\n",
       "PUA                  6162\n",
       "MinerTrojan          4732\n",
       "BitCoinMiner         4074\n",
       "TrojanDownloader     4020\n",
       "Downware             3849\n",
       "Cobalt               1379\n",
       "Ramnit                400\n",
       "Sality                 33\n",
       "dtype: int64"
      ]
     },
     "execution_count": 18,
     "metadata": {},
     "output_type": "execute_result"
    }
   ],
   "source": [
    "netml_train_labels.value_counts()"
   ]
  },
  {
   "cell_type": "code",
   "execution_count": 17,
   "metadata": {},
   "outputs": [
    {
     "data": {
      "text/plain": [
       "21"
      ]
     },
     "execution_count": 17,
     "metadata": {},
     "output_type": "execute_result"
    }
   ],
   "source": [
    "len(netml_train_labels.value_counts())"
   ]
  },
  {
   "cell_type": "code",
   "execution_count": null,
   "metadata": {},
   "outputs": [
    {
     "data": {
      "text/html": [
       "<div>\n",
       "<style scoped>\n",
       "    .dataframe tbody tr th:only-of-type {\n",
       "        vertical-align: middle;\n",
       "    }\n",
       "\n",
       "    .dataframe tbody tr th {\n",
       "        vertical-align: top;\n",
       "    }\n",
       "\n",
       "    .dataframe thead th {\n",
       "        text-align: right;\n",
       "    }\n",
       "</style>\n",
       "<table border=\"1\" class=\"dataframe\">\n",
       "  <thead>\n",
       "    <tr style=\"text-align: right;\">\n",
       "      <th></th>\n",
       "      <th>sa</th>\n",
       "      <th>intervals_ccnt</th>\n",
       "      <th>rev_hdr_distinct</th>\n",
       "      <th>pr</th>\n",
       "      <th>rev_pld_max</th>\n",
       "      <th>rev_pld_mean</th>\n",
       "      <th>pld_mean</th>\n",
       "      <th>rev_pld_ccnt</th>\n",
       "      <th>pld_bin_inf</th>\n",
       "      <th>rev_ack_psh_rst_syn_fin_cnt</th>\n",
       "      <th>rev_intervals_ccnt</th>\n",
       "      <th>hdr_ccnt</th>\n",
       "      <th>rev_pld_distinct</th>\n",
       "      <th>dst_port</th>\n",
       "      <th>pld_median</th>\n",
       "      <th>ack_psh_rst_syn_fin_cnt</th>\n",
       "      <th>bytes_in</th>\n",
       "      <th>rev_hdr_ccnt</th>\n",
       "      <th>hdr_mean</th>\n",
       "      <th>rev_hdr_bin_40</th>\n",
       "      <th>rev_pld_var</th>\n",
       "      <th>pld_distinct</th>\n",
       "      <th>pld_max</th>\n",
       "      <th>num_pkts_in</th>\n",
       "      <th>num_pkts_out</th>\n",
       "      <th>rev_pld_bin_128</th>\n",
       "      <th>time_length</th>\n",
       "      <th>bytes_out</th>\n",
       "      <th>hdr_bin_40</th>\n",
       "      <th>pld_ccnt</th>\n",
       "      <th>src_port</th>\n",
       "      <th>hdr_distinct</th>\n",
       "      <th>da</th>\n",
       "      <th>id</th>\n",
       "      <th>dns_query_type</th>\n",
       "      <th>dns_query_class</th>\n",
       "      <th>dns_query_name_len</th>\n",
       "      <th>dns_query_name</th>\n",
       "      <th>dns_query_cnt</th>\n",
       "      <th>http_method</th>\n",
       "      <th>http_uri</th>\n",
       "      <th>http_host</th>\n",
       "      <th>http_code</th>\n",
       "      <th>http_content_len</th>\n",
       "      <th>http_content_type</th>\n",
       "      <th>tls_len</th>\n",
       "      <th>tls_key_exchange_len</th>\n",
       "      <th>tls_svr_ext_cnt</th>\n",
       "      <th>tls_svr_len</th>\n",
       "      <th>tls_svr_cs_cnt</th>\n",
       "      <th>tls_ext_cnt</th>\n",
       "      <th>tls_cnt</th>\n",
       "      <th>tls_svr_cs</th>\n",
       "      <th>tls_cs_cnt</th>\n",
       "      <th>tls_ext_types</th>\n",
       "      <th>tls_svr_key_exchange_len</th>\n",
       "      <th>tls_svr_ext_types</th>\n",
       "      <th>tls_svr_cnt</th>\n",
       "      <th>tls_cs</th>\n",
       "      <th>dns_answer_ip</th>\n",
       "      <th>dns_answer_ttl</th>\n",
       "      <th>dns_answer_cnt</th>\n",
       "    </tr>\n",
       "  </thead>\n",
       "  <tbody>\n",
       "    <tr>\n",
       "      <th>0</th>\n",
       "      <td>IP_masked</td>\n",
       "      <td>[3, 0, 0, 0, 0, 0, 0, 0, 0, 0, 0, 0, 0, 0, 0, 0]</td>\n",
       "      <td>0</td>\n",
       "      <td>17</td>\n",
       "      <td>0</td>\n",
       "      <td>0.0</td>\n",
       "      <td>174.0</td>\n",
       "      <td>[0, 0, 0, 0, 0, 0, 0, 0, 0, 0, 0, 0, 0, 0, 0, 0]</td>\n",
       "      <td>0</td>\n",
       "      <td>[0, 0, 0, 0, 0]</td>\n",
       "      <td>[0, 0, 0, 0, 0, 0, 0, 0, 0, 0, 0, 0, 0, 0, 0, 0]</td>\n",
       "      <td>[4, 0, 0, 0, 0, 0, 0, 0, 0, 0, 0, 0]</td>\n",
       "      <td>0</td>\n",
       "      <td>1900</td>\n",
       "      <td>174</td>\n",
       "      <td>[0, 0, 0, 0, 0]</td>\n",
       "      <td>0</td>\n",
       "      <td>[0, 0, 0, 0, 0, 0, 0, 0, 0, 0, 0, 0]</td>\n",
       "      <td>8.0</td>\n",
       "      <td>0</td>\n",
       "      <td>0.0</td>\n",
       "      <td>1</td>\n",
       "      <td>174</td>\n",
       "      <td>0</td>\n",
       "      <td>4</td>\n",
       "      <td>0</td>\n",
       "      <td>3.041219</td>\n",
       "      <td>696</td>\n",
       "      <td>0</td>\n",
       "      <td>[0, 0, 4, 0, 0, 0, 0, 0, 0, 0, 0, 0, 0, 0, 0, 0]</td>\n",
       "      <td>61706</td>\n",
       "      <td>1</td>\n",
       "      <td>IP_masked</td>\n",
       "      <td>1898859</td>\n",
       "      <td>NaN</td>\n",
       "      <td>NaN</td>\n",
       "      <td>NaN</td>\n",
       "      <td>NaN</td>\n",
       "      <td>NaN</td>\n",
       "      <td>NaN</td>\n",
       "      <td>NaN</td>\n",
       "      <td>NaN</td>\n",
       "      <td>NaN</td>\n",
       "      <td>NaN</td>\n",
       "      <td>NaN</td>\n",
       "      <td>NaN</td>\n",
       "      <td>NaN</td>\n",
       "      <td>NaN</td>\n",
       "      <td>NaN</td>\n",
       "      <td>NaN</td>\n",
       "      <td>NaN</td>\n",
       "      <td>NaN</td>\n",
       "      <td>NaN</td>\n",
       "      <td>NaN</td>\n",
       "      <td>NaN</td>\n",
       "      <td>NaN</td>\n",
       "      <td>NaN</td>\n",
       "      <td>NaN</td>\n",
       "      <td>NaN</td>\n",
       "      <td>NaN</td>\n",
       "      <td>NaN</td>\n",
       "      <td>NaN</td>\n",
       "    </tr>\n",
       "    <tr>\n",
       "      <th>1</th>\n",
       "      <td>IP_masked</td>\n",
       "      <td>[0, 0, 0, 0, 0, 0, 0, 0, 0, 0, 0, 0, 0, 0, 0, 0]</td>\n",
       "      <td>0</td>\n",
       "      <td>17</td>\n",
       "      <td>0</td>\n",
       "      <td>0.0</td>\n",
       "      <td>521.0</td>\n",
       "      <td>[0, 0, 0, 0, 0, 0, 0, 0, 0, 0, 0, 0, 0, 0, 0, 0]</td>\n",
       "      <td>0</td>\n",
       "      <td>[0, 0, 0, 0, 0]</td>\n",
       "      <td>[0, 0, 0, 0, 0, 0, 0, 0, 0, 0, 0, 0, 0, 0, 0, 0]</td>\n",
       "      <td>[1, 0, 0, 0, 0, 0, 0, 0, 0, 0, 0, 0]</td>\n",
       "      <td>0</td>\n",
       "      <td>1900</td>\n",
       "      <td>521</td>\n",
       "      <td>[0, 0, 0, 0, 0]</td>\n",
       "      <td>0</td>\n",
       "      <td>[0, 0, 0, 0, 0, 0, 0, 0, 0, 0, 0, 0]</td>\n",
       "      <td>8.0</td>\n",
       "      <td>0</td>\n",
       "      <td>0.0</td>\n",
       "      <td>1</td>\n",
       "      <td>521</td>\n",
       "      <td>0</td>\n",
       "      <td>1</td>\n",
       "      <td>0</td>\n",
       "      <td>0.000000</td>\n",
       "      <td>521</td>\n",
       "      <td>0</td>\n",
       "      <td>[0, 0, 0, 0, 0, 0, 0, 0, 1, 0, 0, 0, 0, 0, 0, 0]</td>\n",
       "      <td>34229</td>\n",
       "      <td>1</td>\n",
       "      <td>IP_masked</td>\n",
       "      <td>9164771</td>\n",
       "      <td>NaN</td>\n",
       "      <td>NaN</td>\n",
       "      <td>NaN</td>\n",
       "      <td>NaN</td>\n",
       "      <td>NaN</td>\n",
       "      <td>NaN</td>\n",
       "      <td>NaN</td>\n",
       "      <td>NaN</td>\n",
       "      <td>NaN</td>\n",
       "      <td>NaN</td>\n",
       "      <td>NaN</td>\n",
       "      <td>NaN</td>\n",
       "      <td>NaN</td>\n",
       "      <td>NaN</td>\n",
       "      <td>NaN</td>\n",
       "      <td>NaN</td>\n",
       "      <td>NaN</td>\n",
       "      <td>NaN</td>\n",
       "      <td>NaN</td>\n",
       "      <td>NaN</td>\n",
       "      <td>NaN</td>\n",
       "      <td>NaN</td>\n",
       "      <td>NaN</td>\n",
       "      <td>NaN</td>\n",
       "      <td>NaN</td>\n",
       "      <td>NaN</td>\n",
       "      <td>NaN</td>\n",
       "      <td>NaN</td>\n",
       "    </tr>\n",
       "    <tr>\n",
       "      <th>2</th>\n",
       "      <td>IP_masked</td>\n",
       "      <td>[3, 0, 0, 0, 0, 0, 0, 0, 0, 0, 0, 0, 0, 0, 0, 0]</td>\n",
       "      <td>0</td>\n",
       "      <td>17</td>\n",
       "      <td>0</td>\n",
       "      <td>0.0</td>\n",
       "      <td>172.0</td>\n",
       "      <td>[0, 0, 0, 0, 0, 0, 0, 0, 0, 0, 0, 0, 0, 0, 0, 0]</td>\n",
       "      <td>0</td>\n",
       "      <td>[0, 0, 0, 0, 0]</td>\n",
       "      <td>[0, 0, 0, 0, 0, 0, 0, 0, 0, 0, 0, 0, 0, 0, 0, 0]</td>\n",
       "      <td>[4, 0, 0, 0, 0, 0, 0, 0, 0, 0, 0, 0]</td>\n",
       "      <td>0</td>\n",
       "      <td>1900</td>\n",
       "      <td>172</td>\n",
       "      <td>[0, 0, 0, 0, 0]</td>\n",
       "      <td>0</td>\n",
       "      <td>[0, 0, 0, 0, 0, 0, 0, 0, 0, 0, 0, 0]</td>\n",
       "      <td>8.0</td>\n",
       "      <td>0</td>\n",
       "      <td>0.0</td>\n",
       "      <td>1</td>\n",
       "      <td>172</td>\n",
       "      <td>0</td>\n",
       "      <td>4</td>\n",
       "      <td>0</td>\n",
       "      <td>3.002623</td>\n",
       "      <td>688</td>\n",
       "      <td>0</td>\n",
       "      <td>[0, 0, 4, 0, 0, 0, 0, 0, 0, 0, 0, 0, 0, 0, 0, 0]</td>\n",
       "      <td>33130</td>\n",
       "      <td>1</td>\n",
       "      <td>IP_masked</td>\n",
       "      <td>2098703</td>\n",
       "      <td>NaN</td>\n",
       "      <td>NaN</td>\n",
       "      <td>NaN</td>\n",
       "      <td>NaN</td>\n",
       "      <td>NaN</td>\n",
       "      <td>NaN</td>\n",
       "      <td>NaN</td>\n",
       "      <td>NaN</td>\n",
       "      <td>NaN</td>\n",
       "      <td>NaN</td>\n",
       "      <td>NaN</td>\n",
       "      <td>NaN</td>\n",
       "      <td>NaN</td>\n",
       "      <td>NaN</td>\n",
       "      <td>NaN</td>\n",
       "      <td>NaN</td>\n",
       "      <td>NaN</td>\n",
       "      <td>NaN</td>\n",
       "      <td>NaN</td>\n",
       "      <td>NaN</td>\n",
       "      <td>NaN</td>\n",
       "      <td>NaN</td>\n",
       "      <td>NaN</td>\n",
       "      <td>NaN</td>\n",
       "      <td>NaN</td>\n",
       "      <td>NaN</td>\n",
       "      <td>NaN</td>\n",
       "      <td>NaN</td>\n",
       "    </tr>\n",
       "    <tr>\n",
       "      <th>3</th>\n",
       "      <td>IP_masked</td>\n",
       "      <td>[3, 0, 0, 0, 0, 0, 0, 0, 0, 0, 0, 0, 0, 0, 0, 0]</td>\n",
       "      <td>0</td>\n",
       "      <td>17</td>\n",
       "      <td>0</td>\n",
       "      <td>0.0</td>\n",
       "      <td>174.0</td>\n",
       "      <td>[0, 0, 0, 0, 0, 0, 0, 0, 0, 0, 0, 0, 0, 0, 0, 0]</td>\n",
       "      <td>0</td>\n",
       "      <td>[0, 0, 0, 0, 0]</td>\n",
       "      <td>[0, 0, 0, 0, 0, 0, 0, 0, 0, 0, 0, 0, 0, 0, 0, 0]</td>\n",
       "      <td>[4, 0, 0, 0, 0, 0, 0, 0, 0, 0, 0, 0]</td>\n",
       "      <td>0</td>\n",
       "      <td>1900</td>\n",
       "      <td>174</td>\n",
       "      <td>[0, 0, 0, 0, 0]</td>\n",
       "      <td>0</td>\n",
       "      <td>[0, 0, 0, 0, 0, 0, 0, 0, 0, 0, 0, 0]</td>\n",
       "      <td>8.0</td>\n",
       "      <td>0</td>\n",
       "      <td>0.0</td>\n",
       "      <td>1</td>\n",
       "      <td>174</td>\n",
       "      <td>0</td>\n",
       "      <td>4</td>\n",
       "      <td>0</td>\n",
       "      <td>3.026999</td>\n",
       "      <td>696</td>\n",
       "      <td>0</td>\n",
       "      <td>[0, 0, 4, 0, 0, 0, 0, 0, 0, 0, 0, 0, 0, 0, 0, 0]</td>\n",
       "      <td>64978</td>\n",
       "      <td>1</td>\n",
       "      <td>IP_masked</td>\n",
       "      <td>2019540</td>\n",
       "      <td>NaN</td>\n",
       "      <td>NaN</td>\n",
       "      <td>NaN</td>\n",
       "      <td>NaN</td>\n",
       "      <td>NaN</td>\n",
       "      <td>NaN</td>\n",
       "      <td>NaN</td>\n",
       "      <td>NaN</td>\n",
       "      <td>NaN</td>\n",
       "      <td>NaN</td>\n",
       "      <td>NaN</td>\n",
       "      <td>NaN</td>\n",
       "      <td>NaN</td>\n",
       "      <td>NaN</td>\n",
       "      <td>NaN</td>\n",
       "      <td>NaN</td>\n",
       "      <td>NaN</td>\n",
       "      <td>NaN</td>\n",
       "      <td>NaN</td>\n",
       "      <td>NaN</td>\n",
       "      <td>NaN</td>\n",
       "      <td>NaN</td>\n",
       "      <td>NaN</td>\n",
       "      <td>NaN</td>\n",
       "      <td>NaN</td>\n",
       "      <td>NaN</td>\n",
       "      <td>NaN</td>\n",
       "      <td>NaN</td>\n",
       "    </tr>\n",
       "    <tr>\n",
       "      <th>4</th>\n",
       "      <td>IP_masked</td>\n",
       "      <td>[3, 0, 0, 0, 0, 0, 0, 0, 0, 0, 0, 0, 0, 0, 0, 0]</td>\n",
       "      <td>0</td>\n",
       "      <td>17</td>\n",
       "      <td>0</td>\n",
       "      <td>0.0</td>\n",
       "      <td>174.0</td>\n",
       "      <td>[0, 0, 0, 0, 0, 0, 0, 0, 0, 0, 0, 0, 0, 0, 0, 0]</td>\n",
       "      <td>0</td>\n",
       "      <td>[0, 0, 0, 0, 0]</td>\n",
       "      <td>[0, 0, 0, 0, 0, 0, 0, 0, 0, 0, 0, 0, 0, 0, 0, 0]</td>\n",
       "      <td>[4, 0, 0, 0, 0, 0, 0, 0, 0, 0, 0, 0]</td>\n",
       "      <td>0</td>\n",
       "      <td>1900</td>\n",
       "      <td>174</td>\n",
       "      <td>[0, 0, 0, 0, 0]</td>\n",
       "      <td>0</td>\n",
       "      <td>[0, 0, 0, 0, 0, 0, 0, 0, 0, 0, 0, 0]</td>\n",
       "      <td>8.0</td>\n",
       "      <td>0</td>\n",
       "      <td>0.0</td>\n",
       "      <td>1</td>\n",
       "      <td>174</td>\n",
       "      <td>0</td>\n",
       "      <td>4</td>\n",
       "      <td>0</td>\n",
       "      <td>3.044839</td>\n",
       "      <td>696</td>\n",
       "      <td>0</td>\n",
       "      <td>[0, 0, 4, 0, 0, 0, 0, 0, 0, 0, 0, 0, 0, 0, 0, 0]</td>\n",
       "      <td>52182</td>\n",
       "      <td>1</td>\n",
       "      <td>IP_masked</td>\n",
       "      <td>2857244</td>\n",
       "      <td>NaN</td>\n",
       "      <td>NaN</td>\n",
       "      <td>NaN</td>\n",
       "      <td>NaN</td>\n",
       "      <td>NaN</td>\n",
       "      <td>NaN</td>\n",
       "      <td>NaN</td>\n",
       "      <td>NaN</td>\n",
       "      <td>NaN</td>\n",
       "      <td>NaN</td>\n",
       "      <td>NaN</td>\n",
       "      <td>NaN</td>\n",
       "      <td>NaN</td>\n",
       "      <td>NaN</td>\n",
       "      <td>NaN</td>\n",
       "      <td>NaN</td>\n",
       "      <td>NaN</td>\n",
       "      <td>NaN</td>\n",
       "      <td>NaN</td>\n",
       "      <td>NaN</td>\n",
       "      <td>NaN</td>\n",
       "      <td>NaN</td>\n",
       "      <td>NaN</td>\n",
       "      <td>NaN</td>\n",
       "      <td>NaN</td>\n",
       "      <td>NaN</td>\n",
       "      <td>NaN</td>\n",
       "      <td>NaN</td>\n",
       "    </tr>\n",
       "  </tbody>\n",
       "</table>\n",
       "</div>"
      ],
      "text/plain": [
       "          sa                                    intervals_ccnt  \\\n",
       "0  IP_masked  [3, 0, 0, 0, 0, 0, 0, 0, 0, 0, 0, 0, 0, 0, 0, 0]   \n",
       "1  IP_masked  [0, 0, 0, 0, 0, 0, 0, 0, 0, 0, 0, 0, 0, 0, 0, 0]   \n",
       "2  IP_masked  [3, 0, 0, 0, 0, 0, 0, 0, 0, 0, 0, 0, 0, 0, 0, 0]   \n",
       "3  IP_masked  [3, 0, 0, 0, 0, 0, 0, 0, 0, 0, 0, 0, 0, 0, 0, 0]   \n",
       "4  IP_masked  [3, 0, 0, 0, 0, 0, 0, 0, 0, 0, 0, 0, 0, 0, 0, 0]   \n",
       "\n",
       "   rev_hdr_distinct  pr  rev_pld_max  rev_pld_mean  pld_mean  \\\n",
       "0                 0  17            0           0.0     174.0   \n",
       "1                 0  17            0           0.0     521.0   \n",
       "2                 0  17            0           0.0     172.0   \n",
       "3                 0  17            0           0.0     174.0   \n",
       "4                 0  17            0           0.0     174.0   \n",
       "\n",
       "                                       rev_pld_ccnt  pld_bin_inf  \\\n",
       "0  [0, 0, 0, 0, 0, 0, 0, 0, 0, 0, 0, 0, 0, 0, 0, 0]            0   \n",
       "1  [0, 0, 0, 0, 0, 0, 0, 0, 0, 0, 0, 0, 0, 0, 0, 0]            0   \n",
       "2  [0, 0, 0, 0, 0, 0, 0, 0, 0, 0, 0, 0, 0, 0, 0, 0]            0   \n",
       "3  [0, 0, 0, 0, 0, 0, 0, 0, 0, 0, 0, 0, 0, 0, 0, 0]            0   \n",
       "4  [0, 0, 0, 0, 0, 0, 0, 0, 0, 0, 0, 0, 0, 0, 0, 0]            0   \n",
       "\n",
       "  rev_ack_psh_rst_syn_fin_cnt  \\\n",
       "0             [0, 0, 0, 0, 0]   \n",
       "1             [0, 0, 0, 0, 0]   \n",
       "2             [0, 0, 0, 0, 0]   \n",
       "3             [0, 0, 0, 0, 0]   \n",
       "4             [0, 0, 0, 0, 0]   \n",
       "\n",
       "                                 rev_intervals_ccnt  \\\n",
       "0  [0, 0, 0, 0, 0, 0, 0, 0, 0, 0, 0, 0, 0, 0, 0, 0]   \n",
       "1  [0, 0, 0, 0, 0, 0, 0, 0, 0, 0, 0, 0, 0, 0, 0, 0]   \n",
       "2  [0, 0, 0, 0, 0, 0, 0, 0, 0, 0, 0, 0, 0, 0, 0, 0]   \n",
       "3  [0, 0, 0, 0, 0, 0, 0, 0, 0, 0, 0, 0, 0, 0, 0, 0]   \n",
       "4  [0, 0, 0, 0, 0, 0, 0, 0, 0, 0, 0, 0, 0, 0, 0, 0]   \n",
       "\n",
       "                               hdr_ccnt  rev_pld_distinct  dst_port  \\\n",
       "0  [4, 0, 0, 0, 0, 0, 0, 0, 0, 0, 0, 0]                 0      1900   \n",
       "1  [1, 0, 0, 0, 0, 0, 0, 0, 0, 0, 0, 0]                 0      1900   \n",
       "2  [4, 0, 0, 0, 0, 0, 0, 0, 0, 0, 0, 0]                 0      1900   \n",
       "3  [4, 0, 0, 0, 0, 0, 0, 0, 0, 0, 0, 0]                 0      1900   \n",
       "4  [4, 0, 0, 0, 0, 0, 0, 0, 0, 0, 0, 0]                 0      1900   \n",
       "\n",
       "   pld_median ack_psh_rst_syn_fin_cnt  bytes_in  \\\n",
       "0         174         [0, 0, 0, 0, 0]         0   \n",
       "1         521         [0, 0, 0, 0, 0]         0   \n",
       "2         172         [0, 0, 0, 0, 0]         0   \n",
       "3         174         [0, 0, 0, 0, 0]         0   \n",
       "4         174         [0, 0, 0, 0, 0]         0   \n",
       "\n",
       "                           rev_hdr_ccnt  hdr_mean  rev_hdr_bin_40  \\\n",
       "0  [0, 0, 0, 0, 0, 0, 0, 0, 0, 0, 0, 0]       8.0               0   \n",
       "1  [0, 0, 0, 0, 0, 0, 0, 0, 0, 0, 0, 0]       8.0               0   \n",
       "2  [0, 0, 0, 0, 0, 0, 0, 0, 0, 0, 0, 0]       8.0               0   \n",
       "3  [0, 0, 0, 0, 0, 0, 0, 0, 0, 0, 0, 0]       8.0               0   \n",
       "4  [0, 0, 0, 0, 0, 0, 0, 0, 0, 0, 0, 0]       8.0               0   \n",
       "\n",
       "   rev_pld_var  pld_distinct  pld_max  num_pkts_in  num_pkts_out  \\\n",
       "0          0.0             1      174            0             4   \n",
       "1          0.0             1      521            0             1   \n",
       "2          0.0             1      172            0             4   \n",
       "3          0.0             1      174            0             4   \n",
       "4          0.0             1      174            0             4   \n",
       "\n",
       "   rev_pld_bin_128  time_length  bytes_out  hdr_bin_40  \\\n",
       "0                0     3.041219        696           0   \n",
       "1                0     0.000000        521           0   \n",
       "2                0     3.002623        688           0   \n",
       "3                0     3.026999        696           0   \n",
       "4                0     3.044839        696           0   \n",
       "\n",
       "                                           pld_ccnt  src_port  hdr_distinct  \\\n",
       "0  [0, 0, 4, 0, 0, 0, 0, 0, 0, 0, 0, 0, 0, 0, 0, 0]     61706             1   \n",
       "1  [0, 0, 0, 0, 0, 0, 0, 0, 1, 0, 0, 0, 0, 0, 0, 0]     34229             1   \n",
       "2  [0, 0, 4, 0, 0, 0, 0, 0, 0, 0, 0, 0, 0, 0, 0, 0]     33130             1   \n",
       "3  [0, 0, 4, 0, 0, 0, 0, 0, 0, 0, 0, 0, 0, 0, 0, 0]     64978             1   \n",
       "4  [0, 0, 4, 0, 0, 0, 0, 0, 0, 0, 0, 0, 0, 0, 0, 0]     52182             1   \n",
       "\n",
       "          da       id dns_query_type dns_query_class dns_query_name_len  \\\n",
       "0  IP_masked  1898859            NaN             NaN                NaN   \n",
       "1  IP_masked  9164771            NaN             NaN                NaN   \n",
       "2  IP_masked  2098703            NaN             NaN                NaN   \n",
       "3  IP_masked  2019540            NaN             NaN                NaN   \n",
       "4  IP_masked  2857244            NaN             NaN                NaN   \n",
       "\n",
       "  dns_query_name  dns_query_cnt  http_method http_uri http_host  http_code  \\\n",
       "0            NaN            NaN          NaN      NaN       NaN        NaN   \n",
       "1            NaN            NaN          NaN      NaN       NaN        NaN   \n",
       "2            NaN            NaN          NaN      NaN       NaN        NaN   \n",
       "3            NaN            NaN          NaN      NaN       NaN        NaN   \n",
       "4            NaN            NaN          NaN      NaN       NaN        NaN   \n",
       "\n",
       "   http_content_len http_content_type tls_len  tls_key_exchange_len  \\\n",
       "0               NaN               NaN     NaN                   NaN   \n",
       "1               NaN               NaN     NaN                   NaN   \n",
       "2               NaN               NaN     NaN                   NaN   \n",
       "3               NaN               NaN     NaN                   NaN   \n",
       "4               NaN               NaN     NaN                   NaN   \n",
       "\n",
       "   tls_svr_ext_cnt tls_svr_len  tls_svr_cs_cnt  tls_ext_cnt  tls_cnt  \\\n",
       "0              NaN         NaN             NaN          NaN      NaN   \n",
       "1              NaN         NaN             NaN          NaN      NaN   \n",
       "2              NaN         NaN             NaN          NaN      NaN   \n",
       "3              NaN         NaN             NaN          NaN      NaN   \n",
       "4              NaN         NaN             NaN          NaN      NaN   \n",
       "\n",
       "  tls_svr_cs  tls_cs_cnt tls_ext_types  tls_svr_key_exchange_len  \\\n",
       "0        NaN         NaN           NaN                       NaN   \n",
       "1        NaN         NaN           NaN                       NaN   \n",
       "2        NaN         NaN           NaN                       NaN   \n",
       "3        NaN         NaN           NaN                       NaN   \n",
       "4        NaN         NaN           NaN                       NaN   \n",
       "\n",
       "  tls_svr_ext_types  tls_svr_cnt tls_cs dns_answer_ip dns_answer_ttl  \\\n",
       "0               NaN          NaN    NaN           NaN            NaN   \n",
       "1               NaN          NaN    NaN           NaN            NaN   \n",
       "2               NaN          NaN    NaN           NaN            NaN   \n",
       "3               NaN          NaN    NaN           NaN            NaN   \n",
       "4               NaN          NaN    NaN           NaN            NaN   \n",
       "\n",
       "   dns_answer_cnt  \n",
       "0             NaN  \n",
       "1             NaN  \n",
       "2             NaN  \n",
       "3             NaN  \n",
       "4             NaN  "
      ]
     },
     "metadata": {},
     "output_type": "display_data"
    }
   ],
   "source": [
    "netml_train.head()"
   ]
  },
  {
   "cell_type": "code",
   "execution_count": null,
   "metadata": {},
   "outputs": [
    {
     "data": {
      "text/plain": [
       "0.0"
      ]
     },
     "metadata": {},
     "output_type": "display_data"
    }
   ],
   "source": [
    "len(netml_train.dropna()) / len(netml_train)"
   ]
  },
  {
   "cell_type": "code",
   "execution_count": null,
   "metadata": {},
   "outputs": [
    {
     "name": "stdout",
     "output_type": "stream",
     "text": [
      "<class 'pandas.core.frame.DataFrame'>\n",
      "RangeIndex: 387268 entries, 0 to 387267\n",
      "Data columns (total 62 columns):\n",
      " #   Column                       Non-Null Count   Dtype  \n",
      "---  ------                       --------------   -----  \n",
      " 0   sa                           387268 non-null  object \n",
      " 1   intervals_ccnt               387268 non-null  object \n",
      " 2   rev_hdr_distinct             387268 non-null  int64  \n",
      " 3   pr                           387268 non-null  int64  \n",
      " 4   rev_pld_max                  387268 non-null  int64  \n",
      " 5   rev_pld_mean                 387268 non-null  float64\n",
      " 6   pld_mean                     387268 non-null  float64\n",
      " 7   rev_pld_ccnt                 387268 non-null  object \n",
      " 8   pld_bin_inf                  387268 non-null  int64  \n",
      " 9   rev_ack_psh_rst_syn_fin_cnt  387268 non-null  object \n",
      " 10  rev_intervals_ccnt           387268 non-null  object \n",
      " 11  hdr_ccnt                     387268 non-null  object \n",
      " 12  rev_pld_distinct             387268 non-null  int64  \n",
      " 13  dst_port                     387268 non-null  int64  \n",
      " 14  pld_median                   387268 non-null  int64  \n",
      " 15  ack_psh_rst_syn_fin_cnt      387268 non-null  object \n",
      " 16  bytes_in                     387268 non-null  int64  \n",
      " 17  rev_hdr_ccnt                 387268 non-null  object \n",
      " 18  hdr_mean                     387268 non-null  float64\n",
      " 19  rev_hdr_bin_40               387268 non-null  int64  \n",
      " 20  rev_pld_var                  387268 non-null  float64\n",
      " 21  pld_distinct                 387268 non-null  int64  \n",
      " 22  pld_max                      387268 non-null  int64  \n",
      " 23  num_pkts_in                  387268 non-null  int64  \n",
      " 24  num_pkts_out                 387268 non-null  int64  \n",
      " 25  rev_pld_bin_128              387268 non-null  int64  \n",
      " 26  time_length                  387268 non-null  float64\n",
      " 27  bytes_out                    387268 non-null  int64  \n",
      " 28  hdr_bin_40                   387268 non-null  int64  \n",
      " 29  pld_ccnt                     387268 non-null  object \n",
      " 30  src_port                     387268 non-null  int64  \n",
      " 31  hdr_distinct                 387268 non-null  int64  \n",
      " 32  da                           387268 non-null  object \n",
      " 33  id                           387268 non-null  int64  \n",
      " 34  dns_query_type               60271 non-null   object \n",
      " 35  dns_query_class              60271 non-null   object \n",
      " 36  dns_query_name_len           60271 non-null   object \n",
      " 37  dns_query_name               60271 non-null   object \n",
      " 38  dns_query_cnt                60271 non-null   float64\n",
      " 39  http_method                  46503 non-null   float64\n",
      " 40  http_uri                     46503 non-null   object \n",
      " 41  http_host                    46503 non-null   object \n",
      " 42  http_code                    105763 non-null  float64\n",
      " 43  http_content_len             105763 non-null  float64\n",
      " 44  http_content_type            105763 non-null  object \n",
      " 45  tls_len                      114396 non-null  object \n",
      " 46  tls_key_exchange_len         114396 non-null  float64\n",
      " 47  tls_svr_ext_cnt              64288 non-null   float64\n",
      " 48  tls_svr_len                  64288 non-null   object \n",
      " 49  tls_svr_cs_cnt               64288 non-null   float64\n",
      " 50  tls_ext_cnt                  114396 non-null  float64\n",
      " 51  tls_cnt                      114396 non-null  float64\n",
      " 52  tls_svr_cs                   64288 non-null   object \n",
      " 53  tls_cs_cnt                   114396 non-null  float64\n",
      " 54  tls_ext_types                114396 non-null  object \n",
      " 55  tls_svr_key_exchange_len     64288 non-null   float64\n",
      " 56  tls_svr_ext_types            64288 non-null   object \n",
      " 57  tls_svr_cnt                  64288 non-null   float64\n",
      " 58  tls_cs                       114396 non-null  object \n",
      " 59  dns_answer_ip                46165 non-null   object \n",
      " 60  dns_answer_ttl               46165 non-null   object \n",
      " 61  dns_answer_cnt               53382 non-null   float64\n",
      "dtypes: float64(18), int64(19), object(25)\n",
      "memory usage: 183.2+ MB\n"
     ]
    }
   ],
   "source": [
    "netml_train.info()"
   ]
  },
  {
   "cell_type": "code",
   "execution_count": null,
   "metadata": {},
   "outputs": [
    {
     "data": {
      "text/plain": [
       "IP_masked    387268\n",
       "Name: sa, dtype: int64"
      ]
     },
     "metadata": {},
     "output_type": "display_data"
    }
   ],
   "source": [
    "netml_train['sa'].value_counts()"
   ]
  },
  {
   "cell_type": "code",
   "execution_count": null,
   "metadata": {},
   "outputs": [
    {
     "data": {
      "text/plain": [
       "IP_masked    387268\n",
       "Name: da, dtype: int64"
      ]
     },
     "metadata": {},
     "output_type": "display_data"
    }
   ],
   "source": [
    "netml_train['da'].value_counts()"
   ]
  },
  {
   "cell_type": "markdown",
   "metadata": {},
   "source": [
    "## CIC-IDS2017"
   ]
  },
  {
   "cell_type": "code",
   "execution_count": 19,
   "metadata": {},
   "outputs": [],
   "source": [
    "CICIDS_PATH_TEST_STD  = '/data/kinit/netml_2020/NetML-Competition2020/data/CICIDS2017/1_test-std_set/1_test-std_set.json.gz'\n",
    "CICIDS_PATH_TEST_CHAL = '/data/kinit/netml_2020/NetML-Competition2020/data/CICIDS2017/0_test-challenge_set/0_test-challenge_set.json.gz'\n",
    "CICIDS_PATH_TRAIN     = '/data/kinit/netml_2020/NetML-Competition2020/data/CICIDS2017/2_training_set/2_training_set.json.gz'\n",
    "CICIDS_PATH_LABELS = '/data/kinit/netml_2020/NetML-Competition2020/data/CICIDS2017/2_training_annotations/2_training_anno_fine.json.gz'"
   ]
  },
  {
   "cell_type": "code",
   "execution_count": 20,
   "metadata": {},
   "outputs": [],
   "source": [
    "# Load each dataset part\n",
    "cicids_test_std   = pd.read_json(CICIDS_PATH_TEST_STD, compression='gzip', lines=True)\n",
    "cicids_test_chal  = pd.read_json(CICIDS_PATH_TEST_CHAL, compression='gzip', lines=True)\n",
    "cicids_train = pd.read_json(CICIDS_PATH_TRAIN, compression='gzip', lines=True)\n",
    "cicids_train_labels = pd.read_json(CICIDS_PATH_LABELS, typ='series')"
   ]
  },
  {
   "cell_type": "code",
   "execution_count": 22,
   "metadata": {},
   "outputs": [
    {
     "data": {
      "text/plain": [
       "55128"
      ]
     },
     "metadata": {},
     "output_type": "display_data"
    },
    {
     "data": {
      "text/plain": [
       "55128"
      ]
     },
     "metadata": {},
     "output_type": "display_data"
    },
    {
     "data": {
      "text/plain": [
       "441116"
      ]
     },
     "metadata": {},
     "output_type": "display_data"
    },
    {
     "name": "stdout",
     "output_type": "stream",
     "text": [
      "Sum: 551372\n"
     ]
    }
   ],
   "source": [
    "cicids_total_size = len(cicids_test_std) + len(cicids_test_chal) + len(cicids_train)\n",
    "\n",
    "display(len(cicids_test_std))\n",
    "display(len(cicids_test_chal))\n",
    "display(len(cicids_train))\n",
    "\n",
    "print(f\"Sum: {cicids_total_size}\")"
   ]
  },
  {
   "cell_type": "code",
   "execution_count": 26,
   "metadata": {},
   "outputs": [
    {
     "data": {
      "text/plain": [
       "benign          198455\n",
       "portScan        122430\n",
       "infiltration     53532\n",
       "DDoS             36136\n",
       "DoS              23806\n",
       "ftp-patator       3168\n",
       "ssh-patator       1972\n",
       "webAttack         1617\n",
       "dtype: int64"
      ]
     },
     "execution_count": 26,
     "metadata": {},
     "output_type": "execute_result"
    }
   ],
   "source": [
    "cicids_train_labels.value_counts()"
   ]
  },
  {
   "cell_type": "code",
   "execution_count": 27,
   "metadata": {},
   "outputs": [
    {
     "data": {
      "text/plain": [
       "8"
      ]
     },
     "execution_count": 27,
     "metadata": {},
     "output_type": "execute_result"
    }
   ],
   "source": [
    "len(cicids_train_labels.value_counts())"
   ]
  }
 ],
 "metadata": {
  "kernelspec": {
   "display_name": "vnet",
   "language": "python",
   "name": "python3"
  },
  "language_info": {
   "codemirror_mode": {
    "name": "ipython",
    "version": 3
   },
   "file_extension": ".py",
   "mimetype": "text/x-python",
   "name": "python",
   "nbconvert_exporter": "python",
   "pygments_lexer": "ipython3",
   "version": "3.9.15"
  },
  "orig_nbformat": 4
 },
 "nbformat": 4,
 "nbformat_minor": 2
}
