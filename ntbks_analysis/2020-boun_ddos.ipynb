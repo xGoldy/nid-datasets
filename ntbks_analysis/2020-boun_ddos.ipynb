{
 "cells": [
  {
   "cell_type": "markdown",
   "metadata": {},
   "source": [
    "# BOUN DDoS Dataset Analysis\n",
    "\n",
    "* **Author:** Patrik Goldschmidt (igoldschmidt@fit.vut.cz)\n",
    "* **Project:** Network Intrusion Datasets: A Survey, Limitations, and Recommendations\n",
    "* **Date:** 2024"
   ]
  },
  {
   "cell_type": "code",
   "execution_count": 1,
   "metadata": {},
   "outputs": [],
   "source": [
    "import pandas as pd\n",
    "import numpy as np\n",
    "import matplotlib.pyplot as plt"
   ]
  },
  {
   "cell_type": "code",
   "execution_count": 2,
   "metadata": {},
   "outputs": [],
   "source": [
    "# There are essentially 2 ddos files with features based on frames, distinguished by TCP/UDP protocols\n",
    "DATA_TCP = '/data/bounddos/BOUN_TCP_Anon.csv'\n",
    "DATA_UDP = '/data/bounddos/BOUN_UDP_Anon.csv'"
   ]
  },
  {
   "cell_type": "code",
   "execution_count": 3,
   "metadata": {},
   "outputs": [],
   "source": [
    "tcp = pd.read_csv(DATA_TCP)\n",
    "udp = pd.read_csv(DATA_UDP)"
   ]
  },
  {
   "cell_type": "code",
   "execution_count": 6,
   "metadata": {},
   "outputs": [
    {
     "data": {
      "text/plain": [
       "17382940"
      ]
     },
     "execution_count": 6,
     "metadata": {},
     "output_type": "execute_result"
    }
   ],
   "source": [
    "# Give us a total length\n",
    "len(tcp) + len(udp)"
   ]
  },
  {
   "cell_type": "code",
   "execution_count": 4,
   "metadata": {},
   "outputs": [
    {
     "name": "stdout",
     "output_type": "stream",
     "text": [
      "<class 'pandas.core.frame.DataFrame'>\n",
      "RangeIndex: 9335605 entries, 0 to 9335604\n",
      "Data columns (total 12 columns):\n",
      " #   Column            Dtype  \n",
      "---  ------            -----  \n",
      " 0   Time              float64\n",
      " 1   Frame Number      int64  \n",
      " 2   Frame_length      int64  \n",
      " 3   Source_ip         object \n",
      " 4   Destination_IP    object \n",
      " 5   Source_Port       float64\n",
      " 6   Destination_Port  float64\n",
      " 7   SYN               object \n",
      " 8   ACK               object \n",
      " 9   RST               object \n",
      " 10  TTL               object \n",
      " 11  TCP_Protocol      object \n",
      "dtypes: float64(3), int64(2), object(7)\n",
      "memory usage: 854.7+ MB\n"
     ]
    }
   ],
   "source": [
    "tcp.info()"
   ]
  },
  {
   "cell_type": "code",
   "execution_count": 8,
   "metadata": {},
   "outputs": [
    {
     "name": "stdout",
     "output_type": "stream",
     "text": [
      "<class 'pandas.core.frame.DataFrame'>\n",
      "RangeIndex: 8047335 entries, 0 to 8047334\n",
      "Data columns (total 12 columns):\n",
      " #   Column            Dtype  \n",
      "---  ------            -----  \n",
      " 0   Time              float64\n",
      " 1   Frame Number      int64  \n",
      " 2   Frame_length      int64  \n",
      " 3   Source_ip         object \n",
      " 4   Destination_IP    object \n",
      " 5   Source_Port       float64\n",
      " 6   Destination_Port  float64\n",
      " 7   SYN               object \n",
      " 8   ACK               object \n",
      " 9   RST               object \n",
      " 10  TTL               object \n",
      " 11  TCP_Protocol      object \n",
      "dtypes: float64(3), int64(2), object(7)\n",
      "memory usage: 736.8+ MB\n"
     ]
    }
   ],
   "source": [
    "udp.info()"
   ]
  },
  {
   "cell_type": "code",
   "execution_count": 5,
   "metadata": {},
   "outputs": [
    {
     "data": {
      "text/html": [
       "<div>\n",
       "<style scoped>\n",
       "    .dataframe tbody tr th:only-of-type {\n",
       "        vertical-align: middle;\n",
       "    }\n",
       "\n",
       "    .dataframe tbody tr th {\n",
       "        vertical-align: top;\n",
       "    }\n",
       "\n",
       "    .dataframe thead th {\n",
       "        text-align: right;\n",
       "    }\n",
       "</style>\n",
       "<table border=\"1\" class=\"dataframe\">\n",
       "  <thead>\n",
       "    <tr style=\"text-align: right;\">\n",
       "      <th></th>\n",
       "      <th>Time</th>\n",
       "      <th>Frame Number</th>\n",
       "      <th>Frame_length</th>\n",
       "      <th>Source_ip</th>\n",
       "      <th>Destination_IP</th>\n",
       "      <th>Source_Port</th>\n",
       "      <th>Destination_Port</th>\n",
       "      <th>SYN</th>\n",
       "      <th>ACK</th>\n",
       "      <th>RST</th>\n",
       "      <th>TTL</th>\n",
       "      <th>TCP_Protocol</th>\n",
       "    </tr>\n",
       "  </thead>\n",
       "  <tbody>\n",
       "    <tr>\n",
       "      <th>0</th>\n",
       "      <td>0.000000</td>\n",
       "      <td>1</td>\n",
       "      <td>64</td>\n",
       "      <td>10.50.197.71</td>\n",
       "      <td>10.50.192.199</td>\n",
       "      <td>49543.0</td>\n",
       "      <td>443.0</td>\n",
       "      <td>Not set</td>\n",
       "      <td>Set</td>\n",
       "      <td>Not set</td>\n",
       "      <td>127</td>\n",
       "      <td>TCP</td>\n",
       "    </tr>\n",
       "    <tr>\n",
       "      <th>1</th>\n",
       "      <td>0.000002</td>\n",
       "      <td>2</td>\n",
       "      <td>2978</td>\n",
       "      <td>10.50.192.199</td>\n",
       "      <td>10.50.197.71</td>\n",
       "      <td>443.0</td>\n",
       "      <td>49543.0</td>\n",
       "      <td>Not set</td>\n",
       "      <td>Set</td>\n",
       "      <td>Not set</td>\n",
       "      <td>127</td>\n",
       "      <td>TCP</td>\n",
       "    </tr>\n",
       "    <tr>\n",
       "      <th>2</th>\n",
       "      <td>0.000040</td>\n",
       "      <td>3</td>\n",
       "      <td>64</td>\n",
       "      <td>10.50.197.71</td>\n",
       "      <td>10.50.192.199</td>\n",
       "      <td>49543.0</td>\n",
       "      <td>443.0</td>\n",
       "      <td>Not set</td>\n",
       "      <td>Set</td>\n",
       "      <td>Not set</td>\n",
       "      <td>127</td>\n",
       "      <td>TCP</td>\n",
       "    </tr>\n",
       "    <tr>\n",
       "      <th>3</th>\n",
       "      <td>0.000042</td>\n",
       "      <td>4</td>\n",
       "      <td>4438</td>\n",
       "      <td>10.50.192.199</td>\n",
       "      <td>10.50.197.71</td>\n",
       "      <td>443.0</td>\n",
       "      <td>49543.0</td>\n",
       "      <td>Not set</td>\n",
       "      <td>Set</td>\n",
       "      <td>Not set</td>\n",
       "      <td>127</td>\n",
       "      <td>TCP</td>\n",
       "    </tr>\n",
       "    <tr>\n",
       "      <th>4</th>\n",
       "      <td>0.000053</td>\n",
       "      <td>5</td>\n",
       "      <td>64</td>\n",
       "      <td>10.50.197.71</td>\n",
       "      <td>10.50.192.199</td>\n",
       "      <td>49543.0</td>\n",
       "      <td>443.0</td>\n",
       "      <td>Not set</td>\n",
       "      <td>Set</td>\n",
       "      <td>Not set</td>\n",
       "      <td>127</td>\n",
       "      <td>TCP</td>\n",
       "    </tr>\n",
       "  </tbody>\n",
       "</table>\n",
       "</div>"
      ],
      "text/plain": [
       "       Time  Frame Number  Frame_length      Source_ip Destination_IP  \\\n",
       "0  0.000000             1            64   10.50.197.71  10.50.192.199   \n",
       "1  0.000002             2          2978  10.50.192.199   10.50.197.71   \n",
       "2  0.000040             3            64   10.50.197.71  10.50.192.199   \n",
       "3  0.000042             4          4438  10.50.192.199   10.50.197.71   \n",
       "4  0.000053             5            64   10.50.197.71  10.50.192.199   \n",
       "\n",
       "   Source_Port  Destination_Port      SYN  ACK      RST  TTL TCP_Protocol  \n",
       "0      49543.0             443.0  Not set  Set  Not set  127          TCP  \n",
       "1        443.0           49543.0  Not set  Set  Not set  127          TCP  \n",
       "2      49543.0             443.0  Not set  Set  Not set  127          TCP  \n",
       "3        443.0           49543.0  Not set  Set  Not set  127          TCP  \n",
       "4      49543.0             443.0  Not set  Set  Not set  127          TCP  "
      ]
     },
     "execution_count": 5,
     "metadata": {},
     "output_type": "execute_result"
    }
   ],
   "source": [
    "tcp.head()"
   ]
  },
  {
   "cell_type": "code",
   "execution_count": 7,
   "metadata": {},
   "outputs": [
    {
     "data": {
      "text/plain": [
       "482.662914"
      ]
     },
     "execution_count": 7,
     "metadata": {},
     "output_type": "execute_result"
    }
   ],
   "source": [
    "# Get the total time of the TCP capture\n",
    "tcp.iloc[-1]['Time']"
   ]
  },
  {
   "cell_type": "code",
   "execution_count": 9,
   "metadata": {},
   "outputs": [
    {
     "data": {
      "text/plain": [
       "484.638749"
      ]
     },
     "execution_count": 9,
     "metadata": {},
     "output_type": "execute_result"
    }
   ],
   "source": [
    "# Get the total time of the UDP capture\n",
    "udp.iloc[-1]['Time']"
   ]
  },
  {
   "cell_type": "code",
   "execution_count": 10,
   "metadata": {},
   "outputs": [
    {
     "data": {
      "text/plain": [
       "967.301663"
      ]
     },
     "execution_count": 10,
     "metadata": {},
     "output_type": "execute_result"
    }
   ],
   "source": [
    "# Get the total time\n",
    "tcp.iloc[-1]['Time'] + udp.iloc[-1]['Time']"
   ]
  },
  {
   "cell_type": "markdown",
   "metadata": {},
   "source": [
    "## Search for Attacking Traffic"
   ]
  },
  {
   "cell_type": "code",
   "execution_count": 23,
   "metadata": {},
   "outputs": [],
   "source": [
    "# Victim IP based on the documentation\n",
    "victim_ip = '10.50.199.86'"
   ]
  },
  {
   "cell_type": "code",
   "execution_count": 16,
   "metadata": {},
   "outputs": [
    {
     "data": {
      "text/plain": [
       "Source_ip\n",
       "10.50.197.71                1027055\n",
       "10.50.211.244                455906\n",
       "92.45.54.178                 394649\n",
       "e8:e7:32:70:9b:c7            387919\n",
       "10.50.192.199                375232\n",
       "                             ...   \n",
       "119.8.142.82                      1\n",
       "200.75.168.203                    1\n",
       "168.212.173.238                   1\n",
       "165.250.129.151                   1\n",
       "fe80::e48:85ff:feff:dbbb          1\n",
       "Name: count, Length: 137521, dtype: int64"
      ]
     },
     "execution_count": 16,
     "metadata": {},
     "output_type": "execute_result"
    }
   ],
   "source": [
    "tcp['Source_ip'].value_counts()"
   ]
  },
  {
   "cell_type": "code",
   "execution_count": 17,
   "metadata": {},
   "outputs": [
    {
     "data": {
      "text/plain": [
       "Destination_IP\n",
       "10.50.197.71      754501\n",
       "216.58.208.111    611887\n",
       "10.50.209.134     394654\n",
       "10.50.192.199     369086\n",
       "10.50.211.244     354571\n",
       "                   ...  \n",
       "213.248.98.86          1\n",
       "157.56.52.20           1\n",
       "111.221.77.175         1\n",
       "77.58.129.241          1\n",
       "17.248.146.139         1\n",
       "Name: count, Length: 14630, dtype: int64"
      ]
     },
     "execution_count": 17,
     "metadata": {},
     "output_type": "execute_result"
    }
   ],
   "source": [
    "tcp['Destination_IP'].value_counts()"
   ]
  },
  {
   "cell_type": "code",
   "execution_count": 27,
   "metadata": {},
   "outputs": [
    {
     "data": {
      "text/plain": [
       "125557"
      ]
     },
     "execution_count": 27,
     "metadata": {},
     "output_type": "execute_result"
    }
   ],
   "source": [
    "# How many Destination IP victim packets are there for the TCP attack?\n",
    "(tcp['Destination_IP'] == victim_ip).sum()"
   ]
  },
  {
   "cell_type": "markdown",
   "metadata": {},
   "source": [
    "In line with the documentation"
   ]
  },
  {
   "cell_type": "code",
   "execution_count": 28,
   "metadata": {},
   "outputs": [
    {
     "data": {
      "text/plain": [
       "260646"
      ]
     },
     "execution_count": 28,
     "metadata": {},
     "output_type": "execute_result"
    }
   ],
   "source": [
    "(udp['Destination_IP'] == victim_ip).sum()"
   ]
  },
  {
   "cell_type": "code",
   "execution_count": 29,
   "metadata": {},
   "outputs": [
    {
     "data": {
      "text/html": [
       "<div>\n",
       "<style scoped>\n",
       "    .dataframe tbody tr th:only-of-type {\n",
       "        vertical-align: middle;\n",
       "    }\n",
       "\n",
       "    .dataframe tbody tr th {\n",
       "        vertical-align: top;\n",
       "    }\n",
       "\n",
       "    .dataframe thead th {\n",
       "        text-align: right;\n",
       "    }\n",
       "</style>\n",
       "<table border=\"1\" class=\"dataframe\">\n",
       "  <thead>\n",
       "    <tr style=\"text-align: right;\">\n",
       "      <th></th>\n",
       "      <th>Time</th>\n",
       "      <th>Frame Number</th>\n",
       "      <th>Frame_length</th>\n",
       "      <th>Source_ip</th>\n",
       "      <th>Destination_IP</th>\n",
       "      <th>Source_Port</th>\n",
       "      <th>Destination_Port</th>\n",
       "      <th>SYN</th>\n",
       "      <th>ACK</th>\n",
       "      <th>RST</th>\n",
       "      <th>TTL</th>\n",
       "      <th>TCP_Protocol</th>\n",
       "    </tr>\n",
       "  </thead>\n",
       "  <tbody>\n",
       "    <tr>\n",
       "      <th>1945580</th>\n",
       "      <td>80.222685</td>\n",
       "      <td>1945581</td>\n",
       "      <td>64</td>\n",
       "      <td>247.63.41.216</td>\n",
       "      <td>10.50.199.86</td>\n",
       "      <td>1984.0</td>\n",
       "      <td>80.0</td>\n",
       "      <td>Set</td>\n",
       "      <td>Not set</td>\n",
       "      <td>Not set</td>\n",
       "      <td>63</td>\n",
       "      <td>TCP</td>\n",
       "    </tr>\n",
       "    <tr>\n",
       "      <th>1945607</th>\n",
       "      <td>80.224990</td>\n",
       "      <td>1945608</td>\n",
       "      <td>64</td>\n",
       "      <td>56.122.27.45</td>\n",
       "      <td>10.50.199.86</td>\n",
       "      <td>1986.0</td>\n",
       "      <td>80.0</td>\n",
       "      <td>Set</td>\n",
       "      <td>Not set</td>\n",
       "      <td>Not set</td>\n",
       "      <td>63</td>\n",
       "      <td>TCP</td>\n",
       "    </tr>\n",
       "    <tr>\n",
       "      <th>1945622</th>\n",
       "      <td>80.226084</td>\n",
       "      <td>1945623</td>\n",
       "      <td>64</td>\n",
       "      <td>100.77.175.130</td>\n",
       "      <td>10.50.199.86</td>\n",
       "      <td>1987.0</td>\n",
       "      <td>80.0</td>\n",
       "      <td>Set</td>\n",
       "      <td>Not set</td>\n",
       "      <td>Not set</td>\n",
       "      <td>63</td>\n",
       "      <td>TCP</td>\n",
       "    </tr>\n",
       "    <tr>\n",
       "      <th>1945651</th>\n",
       "      <td>80.227203</td>\n",
       "      <td>1945652</td>\n",
       "      <td>64</td>\n",
       "      <td>135.63.45.32</td>\n",
       "      <td>10.50.199.86</td>\n",
       "      <td>1988.0</td>\n",
       "      <td>80.0</td>\n",
       "      <td>Set</td>\n",
       "      <td>Not set</td>\n",
       "      <td>Not set</td>\n",
       "      <td>63</td>\n",
       "      <td>TCP</td>\n",
       "    </tr>\n",
       "    <tr>\n",
       "      <th>1945673</th>\n",
       "      <td>80.228548</td>\n",
       "      <td>1945674</td>\n",
       "      <td>64</td>\n",
       "      <td>211.89.143.211</td>\n",
       "      <td>10.50.199.86</td>\n",
       "      <td>1989.0</td>\n",
       "      <td>80.0</td>\n",
       "      <td>Set</td>\n",
       "      <td>Not set</td>\n",
       "      <td>Not set</td>\n",
       "      <td>63</td>\n",
       "      <td>TCP</td>\n",
       "    </tr>\n",
       "    <tr>\n",
       "      <th>...</th>\n",
       "      <td>...</td>\n",
       "      <td>...</td>\n",
       "      <td>...</td>\n",
       "      <td>...</td>\n",
       "      <td>...</td>\n",
       "      <td>...</td>\n",
       "      <td>...</td>\n",
       "      <td>...</td>\n",
       "      <td>...</td>\n",
       "      <td>...</td>\n",
       "      <td>...</td>\n",
       "      <td>...</td>\n",
       "    </tr>\n",
       "    <tr>\n",
       "      <th>7885573</th>\n",
       "      <td>402.355771</td>\n",
       "      <td>7885574</td>\n",
       "      <td>64</td>\n",
       "      <td>179.211.46.142</td>\n",
       "      <td>10.50.199.86</td>\n",
       "      <td>52026.0</td>\n",
       "      <td>80.0</td>\n",
       "      <td>Set</td>\n",
       "      <td>Not set</td>\n",
       "      <td>Not set</td>\n",
       "      <td>63</td>\n",
       "      <td>TCP</td>\n",
       "    </tr>\n",
       "    <tr>\n",
       "      <th>7885580</th>\n",
       "      <td>402.356217</td>\n",
       "      <td>7885581</td>\n",
       "      <td>64</td>\n",
       "      <td>53.226.67.150</td>\n",
       "      <td>10.50.199.86</td>\n",
       "      <td>52027.0</td>\n",
       "      <td>80.0</td>\n",
       "      <td>Set</td>\n",
       "      <td>Not set</td>\n",
       "      <td>Not set</td>\n",
       "      <td>63</td>\n",
       "      <td>TCP</td>\n",
       "    </tr>\n",
       "    <tr>\n",
       "      <th>7885591</th>\n",
       "      <td>402.356663</td>\n",
       "      <td>7885592</td>\n",
       "      <td>64</td>\n",
       "      <td>14.183.36.188</td>\n",
       "      <td>10.50.199.86</td>\n",
       "      <td>52028.0</td>\n",
       "      <td>80.0</td>\n",
       "      <td>Set</td>\n",
       "      <td>Not set</td>\n",
       "      <td>Not set</td>\n",
       "      <td>63</td>\n",
       "      <td>TCP</td>\n",
       "    </tr>\n",
       "    <tr>\n",
       "      <th>7885596</th>\n",
       "      <td>402.357107</td>\n",
       "      <td>7885597</td>\n",
       "      <td>64</td>\n",
       "      <td>103.154.139.160</td>\n",
       "      <td>10.50.199.86</td>\n",
       "      <td>52029.0</td>\n",
       "      <td>80.0</td>\n",
       "      <td>Set</td>\n",
       "      <td>Not set</td>\n",
       "      <td>Not set</td>\n",
       "      <td>63</td>\n",
       "      <td>TCP</td>\n",
       "    </tr>\n",
       "    <tr>\n",
       "      <th>7885601</th>\n",
       "      <td>402.357553</td>\n",
       "      <td>7885602</td>\n",
       "      <td>64</td>\n",
       "      <td>23.113.80.218</td>\n",
       "      <td>10.50.199.86</td>\n",
       "      <td>52030.0</td>\n",
       "      <td>80.0</td>\n",
       "      <td>Set</td>\n",
       "      <td>Not set</td>\n",
       "      <td>Not set</td>\n",
       "      <td>63</td>\n",
       "      <td>TCP</td>\n",
       "    </tr>\n",
       "  </tbody>\n",
       "</table>\n",
       "<p>125557 rows × 12 columns</p>\n",
       "</div>"
      ],
      "text/plain": [
       "               Time  Frame Number  Frame_length        Source_ip  \\\n",
       "1945580   80.222685       1945581            64    247.63.41.216   \n",
       "1945607   80.224990       1945608            64     56.122.27.45   \n",
       "1945622   80.226084       1945623            64   100.77.175.130   \n",
       "1945651   80.227203       1945652            64     135.63.45.32   \n",
       "1945673   80.228548       1945674            64   211.89.143.211   \n",
       "...             ...           ...           ...              ...   \n",
       "7885573  402.355771       7885574            64   179.211.46.142   \n",
       "7885580  402.356217       7885581            64    53.226.67.150   \n",
       "7885591  402.356663       7885592            64    14.183.36.188   \n",
       "7885596  402.357107       7885597            64  103.154.139.160   \n",
       "7885601  402.357553       7885602            64    23.113.80.218   \n",
       "\n",
       "        Destination_IP  Source_Port  Destination_Port  SYN      ACK      RST  \\\n",
       "1945580   10.50.199.86       1984.0              80.0  Set  Not set  Not set   \n",
       "1945607   10.50.199.86       1986.0              80.0  Set  Not set  Not set   \n",
       "1945622   10.50.199.86       1987.0              80.0  Set  Not set  Not set   \n",
       "1945651   10.50.199.86       1988.0              80.0  Set  Not set  Not set   \n",
       "1945673   10.50.199.86       1989.0              80.0  Set  Not set  Not set   \n",
       "...                ...          ...               ...  ...      ...      ...   \n",
       "7885573   10.50.199.86      52026.0              80.0  Set  Not set  Not set   \n",
       "7885580   10.50.199.86      52027.0              80.0  Set  Not set  Not set   \n",
       "7885591   10.50.199.86      52028.0              80.0  Set  Not set  Not set   \n",
       "7885596   10.50.199.86      52029.0              80.0  Set  Not set  Not set   \n",
       "7885601   10.50.199.86      52030.0              80.0  Set  Not set  Not set   \n",
       "\n",
       "        TTL TCP_Protocol  \n",
       "1945580  63          TCP  \n",
       "1945607  63          TCP  \n",
       "1945622  63          TCP  \n",
       "1945651  63          TCP  \n",
       "1945673  63          TCP  \n",
       "...      ..          ...  \n",
       "7885573  63          TCP  \n",
       "7885580  63          TCP  \n",
       "7885591  63          TCP  \n",
       "7885596  63          TCP  \n",
       "7885601  63          TCP  \n",
       "\n",
       "[125557 rows x 12 columns]"
      ]
     },
     "execution_count": 29,
     "metadata": {},
     "output_type": "execute_result"
    }
   ],
   "source": [
    "# Does the timestamp and the packet ID of the 1st attack IP in line with the documentation?\n",
    "tcp[tcp['Destination_IP'] == victim_ip]"
   ]
  }
 ],
 "metadata": {
  "kernelspec": {
   "display_name": "env",
   "language": "python",
   "name": "python3"
  },
  "language_info": {
   "codemirror_mode": {
    "name": "ipython",
    "version": 3
   },
   "file_extension": ".py",
   "mimetype": "text/x-python",
   "name": "python",
   "nbconvert_exporter": "python",
   "pygments_lexer": "ipython3",
   "version": "3.12.2"
  }
 },
 "nbformat": 4,
 "nbformat_minor": 2
}
