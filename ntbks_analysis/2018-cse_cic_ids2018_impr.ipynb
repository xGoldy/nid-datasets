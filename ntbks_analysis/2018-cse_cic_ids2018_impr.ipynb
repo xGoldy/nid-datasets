{
 "cells": [
  {
   "attachments": {},
   "cell_type": "markdown",
   "metadata": {},
   "source": [
    "## CSE-CIC-IDS2018\n",
    "\n",
    "* **Author:** Patrik Goldschmidt (igoldschmidt@fit.vut.cz)\n",
    "* **Project:** Network Intrusion Datasets: A Survey, Limitations, and Recommendations\n",
    "* **Date:** 2024"
   ]
  },
  {
   "cell_type": "code",
   "execution_count": 1,
   "metadata": {},
   "outputs": [],
   "source": [
    "import pandas as pd\n",
    "import numpy as np\n",
    "import matplotlib.pyplot as plt\n",
    "import os"
   ]
  },
  {
   "cell_type": "code",
   "execution_count": 2,
   "metadata": {},
   "outputs": [
    {
     "data": {
      "text/plain": [
       "['2018-02-16-Friday.csv',\n",
       " '2018-02-14-Wednesday.csv',\n",
       " '2018-02-21-Wednesday.csv',\n",
       " '2018-02-28-Wednesday.csv',\n",
       " '2018-03-02-Friday.csv',\n",
       " '2018-02-23-Friday.csv',\n",
       " '2018-02-15-Thursday.csv',\n",
       " '2018-02-20-Tuesday.csv',\n",
       " '2018-03-01-Thursday.csv',\n",
       " '2018-02-22-Thursday.csv']"
      ]
     },
     "execution_count": 2,
     "metadata": {},
     "output_type": "execute_result"
    }
   ],
   "source": [
    "# Data path\n",
    "PATH = '/data/datasets_cic_impr/cse_cicids2018'\n",
    "\n",
    "files = os.listdir(PATH)\n",
    "files"
   ]
  },
  {
   "cell_type": "code",
   "execution_count": 5,
   "metadata": {},
   "outputs": [
    {
     "name": "stdout",
     "output_type": "stream",
     "text": [
      "7390267 /data/datasets_cic_impr/cse_cicids2018/2018-02-16-Friday.csv\n",
      "5898351 /data/datasets_cic_impr/cse_cicids2018/2018-02-14-Wednesday.csv\n",
      "6962594 /data/datasets_cic_impr/cse_cicids2018/2018-02-21-Wednesday.csv\n",
      "6568727 /data/datasets_cic_impr/cse_cicids2018/2018-02-28-Wednesday.csv\n",
      "6311372 /data/datasets_cic_impr/cse_cicids2018/2018-03-02-Friday.csv\n",
      "5976482 /data/datasets_cic_impr/cse_cicids2018/2018-02-23-Friday.csv\n",
      "5410103 /data/datasets_cic_impr/cse_cicids2018/2018-02-15-Thursday.csv\n",
      "6054703 /data/datasets_cic_impr/cse_cicids2018/2018-02-20-Tuesday.csv\n",
      "6551402 /data/datasets_cic_impr/cse_cicids2018/2018-03-01-Thursday.csv\n",
      "6071154 /data/datasets_cic_impr/cse_cicids2018/2018-02-22-Thursday.csv\n"
     ]
    }
   ],
   "source": [
    "for file in files:\n",
    "    filepath = os.path.join(PATH, file)\n",
    "\n",
    "    !wc -l $filepath"
   ]
  },
  {
   "cell_type": "code",
   "execution_count": null,
   "metadata": {},
   "outputs": [],
   "source": [
    "# We load only 3 first files due to the size\n",
    "data = pd.DataFrame()\n",
    "\n",
    "for file in files:\n",
    "    filepath = os.path.join(PATH, file)\n",
    "\n",
    "    print(file)\n",
    "    data = pd.concat([data, pd.read_csv(filepath)])"
   ]
  },
  {
   "cell_type": "code",
   "execution_count": 5,
   "metadata": {},
   "outputs": [
    {
     "name": "stdout",
     "output_type": "stream",
     "text": [
      "<class 'pandas.core.frame.DataFrame'>\n",
      "Int64Index: 63195145 entries, 0 to 6071152\n",
      "Data columns (total 91 columns):\n",
      " #   Column                      Dtype  \n",
      "---  ------                      -----  \n",
      " 0   id                          int64  \n",
      " 1   Flow ID                     object \n",
      " 2   Src IP                      object \n",
      " 3   Src Port                    int64  \n",
      " 4   Dst IP                      object \n",
      " 5   Dst Port                    int64  \n",
      " 6   Protocol                    int64  \n",
      " 7   Timestamp                   object \n",
      " 8   Flow Duration               int64  \n",
      " 9   Total Fwd Packet            int64  \n",
      " 10  Total Bwd packets           int64  \n",
      " 11  Total Length of Fwd Packet  int64  \n",
      " 12  Total Length of Bwd Packet  int64  \n",
      " 13  Fwd Packet Length Max       int64  \n",
      " 14  Fwd Packet Length Min       int64  \n",
      " 15  Fwd Packet Length Mean      float64\n",
      " 16  Fwd Packet Length Std       float64\n",
      " 17  Bwd Packet Length Max       int64  \n",
      " 18  Bwd Packet Length Min       int64  \n",
      " 19  Bwd Packet Length Mean      float64\n",
      " 20  Bwd Packet Length Std       float64\n",
      " 21  Flow Bytes/s                float64\n",
      " 22  Flow Packets/s              float64\n",
      " 23  Flow IAT Mean               float64\n",
      " 24  Flow IAT Std                float64\n",
      " 25  Flow IAT Max                int64  \n",
      " 26  Flow IAT Min                int64  \n",
      " 27  Fwd IAT Total               int64  \n",
      " 28  Fwd IAT Mean                float64\n",
      " 29  Fwd IAT Std                 float64\n",
      " 30  Fwd IAT Max                 int64  \n",
      " 31  Fwd IAT Min                 int64  \n",
      " 32  Bwd IAT Total               int64  \n",
      " 33  Bwd IAT Mean                float64\n",
      " 34  Bwd IAT Std                 float64\n",
      " 35  Bwd IAT Max                 int64  \n",
      " 36  Bwd IAT Min                 int64  \n",
      " 37  Fwd PSH Flags               int64  \n",
      " 38  Bwd PSH Flags               int64  \n",
      " 39  Fwd URG Flags               int64  \n",
      " 40  Bwd URG Flags               int64  \n",
      " 41  Fwd RST Flags               float64\n",
      " 42  Bwd RST Flags               float64\n",
      " 43  Fwd Header Length           int64  \n",
      " 44  Bwd Header Length           int64  \n",
      " 45  Fwd Packets/s               float64\n",
      " 46  Bwd Packets/s               float64\n",
      " 47  Packet Length Min           int64  \n",
      " 48  Packet Length Max           int64  \n",
      " 49  Packet Length Mean          float64\n",
      " 50  Packet Length Std           float64\n",
      " 51  Packet Length Variance      float64\n",
      " 52  FIN Flag Count              int64  \n",
      " 53  SYN Flag Count              int64  \n",
      " 54  RST Flag Count              int64  \n",
      " 55  PSH Flag Count              int64  \n",
      " 56  ACK Flag Count              int64  \n",
      " 57  URG Flag Count              int64  \n",
      " 58  CWR Flag Count              int64  \n",
      " 59  ECE Flag Count              int64  \n",
      " 60  Down/Up Ratio               float64\n",
      " 61  Average Packet Size         float64\n",
      " 62  Fwd Segment Size Avg        float64\n",
      " 63  Bwd Segment Size Avg        float64\n",
      " 64  Fwd Bytes/Bulk Avg          int64  \n",
      " 65  Fwd Packet/Bulk Avg         int64  \n",
      " 66  Fwd Bulk Rate Avg           int64  \n",
      " 67  Bwd Bytes/Bulk Avg          int64  \n",
      " 68  Bwd Packet/Bulk Avg         int64  \n",
      " 69  Bwd Bulk Rate Avg           int64  \n",
      " 70  Subflow Fwd Packets         int64  \n",
      " 71  Subflow Fwd Bytes           int64  \n",
      " 72  Subflow Bwd Packets         int64  \n",
      " 73  Subflow Bwd Bytes           int64  \n",
      " 74  FWD Init Win Bytes          int64  \n",
      " 75  Bwd Init Win Bytes          int64  \n",
      " 76  Fwd Act Data Pkts           int64  \n",
      " 77  Fwd Seg Size Min            int64  \n",
      " 78  Active Mean                 float64\n",
      " 79  Active Std                  float64\n",
      " 80  Active Max                  int64  \n",
      " 81  Active Min                  int64  \n",
      " 82  Idle Mean                   float64\n",
      " 83  Idle Std                    float64\n",
      " 84  Idle Max                    int64  \n",
      " 85  Idle Min                    int64  \n",
      " 86  ICMP Code                   int64  \n",
      " 87  ICMP Type                   int64  \n",
      " 88  Total TCP Flow Time         int64  \n",
      " 89  Label                       object \n",
      " 90  Attempted Category          int64  \n",
      "dtypes: float64(27), int64(59), object(5)\n",
      "memory usage: 43.3+ GB\n"
     ]
    }
   ],
   "source": [
    "data.info(verbose=True, show_counts=True)"
   ]
  },
  {
   "cell_type": "code",
   "execution_count": 6,
   "metadata": {},
   "outputs": [
    {
     "data": {
      "text/plain": [
       "BENIGN                                          59353486\n",
       "DoS Hulk                                         1803160\n",
       "DDoS-HOIC                                        1082293\n",
       "FTP-BruteForce - Attempted                        298874\n",
       "DDoS-LOIC-HTTP                                    289328\n",
       "Botnet Ares                                       142921\n",
       "SSH-BruteForce                                     94197\n",
       "Infiltration - NMAP Portscan                       89374\n",
       "DoS GoldenEye                                      22560\n",
       "DoS Slowloris                                       8490\n",
       "DoS GoldenEye - Attempted                           4301\n",
       "DDoS-LOIC-UDP                                       2527\n",
       "DoS Slowloris - Attempted                           2280\n",
       "Botnet Ares - Attempted                              262\n",
       "DDoS-LOIC-UDP - Attempted                            251\n",
       "Infiltration - Communication Victim Attacker         204\n",
       "Web Attack - Brute Force - Attempted                 137\n",
       "Web Attack - Brute Force                             131\n",
       "Web Attack - XSS                                     113\n",
       "DoS Hulk - Attempted                                  86\n",
       "Infiltration - Dropbox Download                       85\n",
       "Web Attack - SQL                                      39\n",
       "Infiltration - Dropbox Download - Attempted           28\n",
       "Web Attack - SQL - Attempted                          14\n",
       "Web Attack - XSS - Attempted                           4\n",
       "Name: Label, dtype: int64"
      ]
     },
     "execution_count": 6,
     "metadata": {},
     "output_type": "execute_result"
    }
   ],
   "source": [
    "data['Label'].value_counts()"
   ]
  },
  {
   "cell_type": "code",
   "execution_count": 7,
   "metadata": {},
   "outputs": [
    {
     "data": {
      "text/plain": [
       "63195145"
      ]
     },
     "execution_count": 7,
     "metadata": {},
     "output_type": "execute_result"
    }
   ],
   "source": [
    "len(data)"
   ]
  },
  {
   "cell_type": "code",
   "execution_count": 9,
   "metadata": {},
   "outputs": [
    {
     "data": {
      "text/plain": [
       "BENIGN                                          59353486\n",
       "DoS Hulk                                         1803160\n",
       "DDoS-HOIC                                        1082293\n",
       "DDoS-LOIC-HTTP                                    289328\n",
       "Botnet Ares                                       142921\n",
       "SSH-BruteForce                                     94197\n",
       "Infiltration - NMAP Portscan                       89374\n",
       "DoS GoldenEye                                      22560\n",
       "DoS Slowloris                                       8490\n",
       "DDoS-LOIC-UDP                                       2527\n",
       "Infiltration - Communication Victim Attacker         204\n",
       "Web Attack - Brute Force                             131\n",
       "Web Attack - XSS                                     113\n",
       "Infiltration - Dropbox Download                       85\n",
       "Web Attack - SQL                                      39\n",
       "Name: Label, dtype: int64"
      ]
     },
     "execution_count": 9,
     "metadata": {},
     "output_type": "execute_result"
    }
   ],
   "source": [
    "data[data['Attempted Category'] == -1]['Label'].value_counts()"
   ]
  },
  {
   "cell_type": "markdown",
   "metadata": {},
   "source": [
    "Unfortunately, only this brief class analysis was initially performed. Nevertheless, our subsequent experience with Improved CIC-IDS2018 shows much better overall data quality than the original CIC-IDS2018, containing data inconsistencies, as shown in the corresponding notebook. Time continuity analysis was not performed due to being the same as the original CIC-IDS2018 data."
   ]
  }
 ],
 "metadata": {
  "kernelspec": {
   "display_name": "vnet",
   "language": "python",
   "name": "python3"
  },
  "language_info": {
   "codemirror_mode": {
    "name": "ipython",
    "version": 3
   },
   "file_extension": ".py",
   "mimetype": "text/x-python",
   "name": "python",
   "nbconvert_exporter": "python",
   "pygments_lexer": "ipython3",
   "version": "3.12.3"
  },
  "orig_nbformat": 4
 },
 "nbformat": 4,
 "nbformat_minor": 2
}
