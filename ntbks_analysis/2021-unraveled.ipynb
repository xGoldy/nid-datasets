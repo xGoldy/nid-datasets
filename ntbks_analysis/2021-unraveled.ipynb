{
 "cells": [
  {
   "cell_type": "markdown",
   "metadata": {},
   "source": [
    "# Unraveled Dataset Analysis\n",
    "\n",
    "* **Author:** Patrik Goldschmidt (igoldschmidt@fit.vut.cz)\n",
    "* **Project:** Network Intrusion Datasets: A Survey, Limitations, and Recommendations\n",
    "* **Date:** 2024\n",
    "\n",
    "The dataset was downloaded as follows based on the documentation from GitHub:\n",
    "\n",
    "`aws --no-sign-request --recursive --region eu-central-1 s3 cp s3://dapt2021 .`"
   ]
  },
  {
   "cell_type": "code",
   "execution_count": 4,
   "metadata": {},
   "outputs": [],
   "source": [
    "import pandas as pd\n",
    "import pathlib\n",
    "import numpy as np\n",
    "import os"
   ]
  },
  {
   "cell_type": "code",
   "execution_count": 2,
   "metadata": {},
   "outputs": [],
   "source": [
    "DATA_FOLDER_FLOWS = '/data/hypermnt/processed/network-flows'"
   ]
  },
  {
   "cell_type": "code",
   "execution_count": 27,
   "metadata": {},
   "outputs": [
    {
     "name": "stdout",
     "output_type": "stream",
     "text": [
      "/data/hypermnt/processed/network-flows/Week5_Day4_06242021/net1013x_Flow_labeled.csv\n",
      "/data/hypermnt/processed/network-flows/Week5_Day4_06242021/net1015x_Flow_labeled.csv\n",
      "/data/hypermnt/processed/network-flows/Week5_Day4_06242021/netgw_Flow_labeled.csv\n",
      "/data/hypermnt/processed/network-flows/Week5_Day4_06242021/net1014x_Flow_labeled.csv\n",
      "/data/hypermnt/processed/network-flows/Week3_Day5-7_06112021-06132021/net1012x_Flow_labeled.csv\n",
      "/data/hypermnt/processed/network-flows/Week3_Day5-7_06112021-06132021/net1013x_Flow_labeled.csv\n",
      "/data/hypermnt/processed/network-flows/Week3_Day5-7_06112021-06132021/net1015x_Flow_labeled.csv\n",
      "/data/hypermnt/processed/network-flows/Week3_Day5-7_06112021-06132021/netgw_Flow_labeled.csv\n",
      "/data/hypermnt/processed/network-flows/Week3_Day5-7_06112021-06132021/net1011x_Flow_labeled.csv\n",
      "/data/hypermnt/processed/network-flows/Week3_Day5-7_06112021-06132021/net1014x_Flow_labeled.csv\n",
      "/data/hypermnt/processed/network-flows/Week1_Day3_05282021/net1012x_Flow_labeled.csv\n",
      "/data/hypermnt/processed/network-flows/Week1_Day3_05282021/net1013x_Flow_labeled.csv\n",
      "/data/hypermnt/processed/network-flows/Week1_Day3_05282021/net1015x_Flow_labeled.csv\n",
      "/data/hypermnt/processed/network-flows/Week1_Day3_05282021/net1011x_Flow_labeled.csv\n",
      "/data/hypermnt/processed/network-flows/Week1_Day3_05282021/net1014x_Flow_labeled.csv\n",
      "/data/hypermnt/processed/network-flows/Week6_Day4_07012021/net1012x_Flow_labeled.csv\n",
      "/data/hypermnt/processed/network-flows/Week6_Day4_07012021/net1013x_Flow_labeled.csv\n",
      "/data/hypermnt/processed/network-flows/Week6_Day4_07012021/net1015x_Flow_labeled.csv\n",
      "/data/hypermnt/processed/network-flows/Week6_Day4_07012021/netgw_Flow_labeled.csv\n",
      "/data/hypermnt/processed/network-flows/Week6_Day4_07012021/net1011x_Flow_labeled.csv\n",
      "/data/hypermnt/processed/network-flows/Week6_Day4_07012021/net1014x_Flow_labeled.csv\n",
      "/data/hypermnt/processed/network-flows/Week3_Day4_06102021/netgw_Flow_labeled.csv\n",
      "/data/hypermnt/processed/network-flows/Week5_Day6_06272021/net1012x_Flow_labeled.csv\n",
      "/data/hypermnt/processed/network-flows/Week5_Day6_06272021/net1013x_Flow_labeled.csv\n",
      "/data/hypermnt/processed/network-flows/Week5_Day6_06272021/net1015x_Flow_labeled.csv\n",
      "/data/hypermnt/processed/network-flows/Week5_Day6_06272021/netgw_Flow_labeled.csv\n",
      "/data/hypermnt/processed/network-flows/Week5_Day6_06272021/net1011x_Flow_labeled.csv\n",
      "/data/hypermnt/processed/network-flows/Week5_Day6_06272021/net1014x_Flow_labeled.csv\n",
      "/data/hypermnt/processed/network-flows/Week5_Day3_06232021/net1012x_Flow_labeled.csv\n",
      "/data/hypermnt/processed/network-flows/Week5_Day3_06232021/net1013x_Flow_labeled.csv\n",
      "/data/hypermnt/processed/network-flows/Week5_Day3_06232021/net1015x_Flow_labeled.csv\n",
      "/data/hypermnt/processed/network-flows/Week5_Day3_06232021/netgw_Flow_labeled.csv\n",
      "/data/hypermnt/processed/network-flows/Week5_Day3_06232021/net1011x_Flow_labeled.csv\n",
      "/data/hypermnt/processed/network-flows/Week5_Day3_06232021/net1014x_Flow_labeled.csv\n",
      "/data/hypermnt/processed/network-flows/Week2_Day2_06012021/netgw_Flow_labeled.csv\n",
      "/data/hypermnt/processed/network-flows/Week2_Day2_06012021/net1014x_Flow_labeled.csv\n",
      "/data/hypermnt/processed/network-flows/Week1_Day1-2_05262021-05272021/net1012x_Flow_labeled.csv\n",
      "/data/hypermnt/processed/network-flows/Week1_Day1-2_05262021-05272021/net1013x_Flow_labeled.csv\n",
      "/data/hypermnt/processed/network-flows/Week1_Day1-2_05262021-05272021/net1015x_Flow_labeled.csv\n",
      "/data/hypermnt/processed/network-flows/Week1_Day1-2_05262021-05272021/net1011x_Flow_labeled.csv\n",
      "/data/hypermnt/processed/network-flows/Week1_Day1-2_05262021-05272021/net1014x_Flow_labeled.csv\n",
      "/data/hypermnt/processed/network-flows/Week3_Day1_06072021/net1012x_Flow_labeled.csv\n",
      "/data/hypermnt/processed/network-flows/Week3_Day1_06072021/net1013x_Flow_labeled.csv\n",
      "/data/hypermnt/processed/network-flows/Week3_Day1_06072021/net1015x_Flow_labeled.csv\n",
      "/data/hypermnt/processed/network-flows/Week3_Day1_06072021/netgw_Flow_labeled.csv\n",
      "/data/hypermnt/processed/network-flows/Week3_Day1_06072021/net1011x_Flow_labeled.csv\n",
      "/data/hypermnt/processed/network-flows/Week3_Day1_06072021/net1014x_Flow_labeled.csv\n",
      "/data/hypermnt/processed/network-flows/Week6_Day3_06302021/net1012x_Flow_labeled.csv\n",
      "/data/hypermnt/processed/network-flows/Week6_Day3_06302021/net1013x_Flow_labeled.csv\n",
      "/data/hypermnt/processed/network-flows/Week6_Day3_06302021/net1015x_Flow_labeled.csv\n",
      "/data/hypermnt/processed/network-flows/Week6_Day3_06302021/netgw_Flow_labeled.csv\n",
      "/data/hypermnt/processed/network-flows/Week6_Day3_06302021/net1011x_Flow_labeled.csv\n",
      "/data/hypermnt/processed/network-flows/Week6_Day3_06302021/net1014x_Flow_labeled.csv\n",
      "/data/hypermnt/processed/network-flows/Week4_Day2_06152021/net1011x_Week4_Day2_06152021_part_Flow_labeled.csv\n",
      "/data/hypermnt/processed/network-flows/Week4_Day2_06152021/net1012x_Flow_labeled.csv\n",
      "/data/hypermnt/processed/network-flows/Week4_Day2_06152021/net1013x_Week4_Day2_06152021_part_Flow_labeled.csv\n",
      "/data/hypermnt/processed/network-flows/Week4_Day2_06152021/net1014x_Week4_Day2_06152021_part_Flow_labeled.csv\n",
      "/data/hypermnt/processed/network-flows/Week4_Day2_06152021/net1013x_Flow_labeled.csv\n",
      "/data/hypermnt/processed/network-flows/Week4_Day2_06152021/net1012x_Week4_Day2_06152021_part_Flow_labeled.csv\n",
      "/data/hypermnt/processed/network-flows/Week4_Day2_06152021/net1015x_Flow_labeled.csv\n",
      "/data/hypermnt/processed/network-flows/Week4_Day2_06152021/netgw_Flow_labeled.csv\n",
      "/data/hypermnt/processed/network-flows/Week4_Day2_06152021/net1015x_Week4_Day2_06152021_part_Flow_labeled.csv\n",
      "/data/hypermnt/processed/network-flows/Week4_Day2_06152021/net1011x_Flow_labeled.csv\n",
      "/data/hypermnt/processed/network-flows/Week4_Day2_06152021/net1014x_Flow_labeled.csv\n",
      "/data/hypermnt/processed/network-flows/Week6_Day5_07022021_part2/net1012x_Flow_labeled.csv\n",
      "/data/hypermnt/processed/network-flows/Week6_Day5_07022021_part2/net1013x_Flow_labeled.csv\n",
      "/data/hypermnt/processed/network-flows/Week6_Day5_07022021_part2/net1015x_Flow_labeled.csv\n",
      "/data/hypermnt/processed/network-flows/Week6_Day5_07022021_part2/netgw_Flow_labeled.csv\n",
      "/data/hypermnt/processed/network-flows/Week6_Day5_07022021_part2/net1011x_Flow_labeled.csv\n",
      "/data/hypermnt/processed/network-flows/Week6_Day5_07022021_part2/net1014x_Flow_labeled.csv\n",
      "/data/hypermnt/processed/network-flows/Week5_Day1_06212021/net1012x_Flow_labeled.csv\n",
      "/data/hypermnt/processed/network-flows/Week5_Day1_06212021/net1013x_Flow_labeled.csv\n",
      "/data/hypermnt/processed/network-flows/Week5_Day1_06212021/net1015x_Flow_labeled.csv\n",
      "/data/hypermnt/processed/network-flows/Week5_Day1_06212021/netgw_Flow_labeled.csv\n",
      "/data/hypermnt/processed/network-flows/Week5_Day1_06212021/net1011x_Flow_labeled.csv\n",
      "/data/hypermnt/processed/network-flows/Week5_Day1_06212021/net1014x_Flow_labeled.csv\n",
      "/data/hypermnt/processed/network-flows/Week3_Day2_06082021/net1012x_Flow_labeled.csv\n",
      "/data/hypermnt/processed/network-flows/Week3_Day2_06082021/net1013x_Flow_labeled.csv\n",
      "/data/hypermnt/processed/network-flows/Week3_Day2_06082021/net1015x_Flow_labeled.csv\n",
      "/data/hypermnt/processed/network-flows/Week3_Day2_06082021/netgw_Flow_labeled.csv\n",
      "/data/hypermnt/processed/network-flows/Week3_Day2_06082021/net1011x_Flow_labeled.csv\n",
      "/data/hypermnt/processed/network-flows/Week3_Day2_06082021/net1014x_Flow_labeled.csv\n",
      "/data/hypermnt/processed/network-flows/Week4_Day4_06172021/net1012x_Flow_labeled.csv\n",
      "/data/hypermnt/processed/network-flows/Week4_Day4_06172021/net1013x_Flow_labeled.csv\n",
      "/data/hypermnt/processed/network-flows/Week4_Day4_06172021/net1015x_Flow_labeled.csv\n",
      "/data/hypermnt/processed/network-flows/Week4_Day4_06172021/netgw_Flow_labeled.csv\n",
      "/data/hypermnt/processed/network-flows/Week4_Day4_06172021/net1011x_Flow_labeled.csv\n",
      "/data/hypermnt/processed/network-flows/Week4_Day4_06172021/net1014x_Flow_labeled.csv\n",
      "/data/hypermnt/processed/network-flows/Week5_Day2_06222021/net1012x_Flow_labeled.csv\n",
      "/data/hypermnt/processed/network-flows/Week5_Day2_06222021/net1013x_Flow_labeled.csv\n",
      "/data/hypermnt/processed/network-flows/Week5_Day2_06222021/net1015x_Flow_labeled.csv\n",
      "/data/hypermnt/processed/network-flows/Week5_Day2_06222021/netgw_Flow_labeled.csv\n",
      "/data/hypermnt/processed/network-flows/Week5_Day2_06222021/net1014x_Flow_labeled.csv\n",
      "/data/hypermnt/processed/network-flows/Week5_Day5-6_06252021-06262021/net1012x_Flow_labeled.csv\n",
      "/data/hypermnt/processed/network-flows/Week5_Day5-6_06252021-06262021/net1013x_Flow_labeled.csv\n",
      "/data/hypermnt/processed/network-flows/Week5_Day5-6_06252021-06262021/net1015x_Flow_labeled.csv\n",
      "/data/hypermnt/processed/network-flows/Week5_Day5-6_06252021-06262021/netgw_Flow_labeled.csv\n",
      "/data/hypermnt/processed/network-flows/Week5_Day5-6_06252021-06262021/net1011x_Flow_labeled.csv\n",
      "/data/hypermnt/processed/network-flows/Week5_Day5-6_06252021-06262021/net1014x_Flow_labeled.csv\n",
      "/data/hypermnt/processed/network-flows/Week6_Day6-7_07032021-07042021/net1012x_Flow_labeled.csv\n",
      "/data/hypermnt/processed/network-flows/Week6_Day6-7_07032021-07042021/net1013x_Flow_labeled.csv\n",
      "/data/hypermnt/processed/network-flows/Week6_Day6-7_07032021-07042021/net1015x_Flow_labeled.csv\n",
      "/data/hypermnt/processed/network-flows/Week6_Day6-7_07032021-07042021/netgw_Flow_labeled.csv\n",
      "/data/hypermnt/processed/network-flows/Week6_Day6-7_07032021-07042021/net1011x_Flow_labeled.csv\n",
      "/data/hypermnt/processed/network-flows/Week6_Day6-7_07032021-07042021/net1014x_Flow_labeled.csv\n",
      "/data/hypermnt/processed/network-flows/Week4_Day03_06162021/net1012x_Flow_labeled.csv\n",
      "/data/hypermnt/processed/network-flows/Week4_Day03_06162021/net1013x_Flow_labeled.csv\n",
      "/data/hypermnt/processed/network-flows/Week4_Day03_06162021/net1015x_Flow_labeled.csv\n",
      "/data/hypermnt/processed/network-flows/Week4_Day03_06162021/netgw_Flow_labeled.csv\n",
      "/data/hypermnt/processed/network-flows/Week4_Day03_06162021/net1011x_Flow_labeled.csv\n",
      "/data/hypermnt/processed/network-flows/Week4_Day03_06162021/net1014x_Flow_labeled.csv\n",
      "/data/hypermnt/processed/network-flows/Week4_Day1_06152021/net1012x_Flow_labeled.csv\n",
      "/data/hypermnt/processed/network-flows/Week4_Day1_06152021/net1013x_Flow_labeled.csv\n",
      "/data/hypermnt/processed/network-flows/Week4_Day1_06152021/net1015x_Flow_labeled.csv\n",
      "/data/hypermnt/processed/network-flows/Week4_Day1_06152021/netgw_Flow_labeled.csv\n",
      "/data/hypermnt/processed/network-flows/Week4_Day1_06152021/net1011x_Flow_labeled.csv\n",
      "/data/hypermnt/processed/network-flows/Week4_Day1_06152021/net1014x_Flow_labeled.csv\n",
      "/data/hypermnt/processed/network-flows/Week2_Day4_06032021/net1012x_Flow_labeled.csv\n",
      "/data/hypermnt/processed/network-flows/Week2_Day4_06032021/net1013x_Flow_labeled.csv\n",
      "/data/hypermnt/processed/network-flows/Week2_Day4_06032021/net1015x_Flow_labeled.csv\n",
      "/data/hypermnt/processed/network-flows/Week2_Day4_06032021/netgw_Flow_labeled.csv\n",
      "/data/hypermnt/processed/network-flows/Week2_Day4_06032021/net1011x_Flow_labeled.csv\n",
      "/data/hypermnt/processed/network-flows/Week2_Day4_06032021/net1014x_Flow_labeled.csv\n",
      "/data/hypermnt/processed/network-flows/Week6_Day5_07022021_part1/netgw_Flow_labeled.csv\n",
      "/data/hypermnt/processed/network-flows/Week1_Day5_05302021/net1012x_Flow_labeled.csv\n",
      "/data/hypermnt/processed/network-flows/Week1_Day5_05302021/net1013x_Flow_labeled.csv\n",
      "/data/hypermnt/processed/network-flows/Week1_Day5_05302021/net1015x_Flow_labeled.csv\n",
      "/data/hypermnt/processed/network-flows/Week1_Day5_05302021/net1011x_Flow_labeled.csv\n",
      "/data/hypermnt/processed/network-flows/Week1_Day5_05302021/net1014x_Flow_labeled.csv\n",
      "/data/hypermnt/processed/network-flows/Week6_Day2_06292021/net1012x_Flow_labeled.csv\n",
      "/data/hypermnt/processed/network-flows/Week6_Day2_06292021/net1013x_Flow_labeled.csv\n",
      "/data/hypermnt/processed/network-flows/Week6_Day2_06292021/net1015x_Flow_labeled.csv\n",
      "/data/hypermnt/processed/network-flows/Week6_Day2_06292021/netgw_Flow_labeled.csv\n",
      "/data/hypermnt/processed/network-flows/Week6_Day2_06292021/net1011x_Flow_labeled.csv\n",
      "/data/hypermnt/processed/network-flows/Week6_Day2_06292021/net1014x_Flow_labeled.csv\n",
      "/data/hypermnt/processed/network-flows/Week4_Day3_7_06162021_06202021/net1012x_Flow_labeled.csv\n",
      "/data/hypermnt/processed/network-flows/Week4_Day3_7_06162021_06202021/net1013x_Flow_labeled.csv\n",
      "/data/hypermnt/processed/network-flows/Week4_Day3_7_06162021_06202021/net1015x_Flow_labeled.csv\n",
      "/data/hypermnt/processed/network-flows/Week4_Day3_7_06162021_06202021/netgw_Flow_labeled.csv\n",
      "/data/hypermnt/processed/network-flows/Week4_Day3_7_06162021_06202021/net1011x_Flow_labeled.csv\n",
      "/data/hypermnt/processed/network-flows/Week4_Day3_7_06162021_06202021/net1014x_Flow_labeled.csv\n",
      "/data/hypermnt/processed/network-flows/Week2_Day5-7_06042021-06062021/net1012x_Flow_labeled.csv\n",
      "/data/hypermnt/processed/network-flows/Week2_Day5-7_06042021-06062021/net1013x_Flow_labeled.csv\n",
      "/data/hypermnt/processed/network-flows/Week2_Day5-7_06042021-06062021/net1015x_Flow_labeled.csv\n",
      "/data/hypermnt/processed/network-flows/Week2_Day5-7_06042021-06062021/netgw_Flow_labeled.csv\n",
      "/data/hypermnt/processed/network-flows/Week2_Day5-7_06042021-06062021/net1011x_Flow_labeled.csv\n",
      "/data/hypermnt/processed/network-flows/Week2_Day5-7_06042021-06062021/net1014x_Flow_labeled.csv\n",
      "/data/hypermnt/processed/network-flows/Week3_Day3_06092021/net1012x_Flow_labeled.csv\n",
      "/data/hypermnt/processed/network-flows/Week3_Day3_06092021/net1013x_Flow_labeled.csv\n",
      "/data/hypermnt/processed/network-flows/Week3_Day3_06092021/net1015x_Flow_labeled.csv\n",
      "/data/hypermnt/processed/network-flows/Week3_Day3_06092021/netgw_Flow_labeled.csv\n",
      "/data/hypermnt/processed/network-flows/Week3_Day3_06092021/net1011x_Flow_labeled.csv\n",
      "/data/hypermnt/processed/network-flows/Week3_Day3_06092021/net1014x_Flow_labeled.csv\n",
      "/data/hypermnt/processed/network-flows/Week2_Day1_05312021/net1012x_Flow_labeled.csv\n",
      "/data/hypermnt/processed/network-flows/Week2_Day1_05312021/net1013x_Flow_labeled.csv\n",
      "/data/hypermnt/processed/network-flows/Week2_Day1_05312021/net1015x_Flow_labeled.csv\n",
      "/data/hypermnt/processed/network-flows/Week2_Day1_05312021/net1011x_Flow_labeled.csv\n",
      "/data/hypermnt/processed/network-flows/Week2_Day1_05312021/net1014x_Flow_labeled.csv\n",
      "/data/hypermnt/processed/network-flows/Week1_Day4_05292021/net1012x_Flow_labeled.csv\n",
      "/data/hypermnt/processed/network-flows/Week1_Day4_05292021/net1013x_Flow_labeled.csv\n",
      "/data/hypermnt/processed/network-flows/Week1_Day4_05292021/net1015x_Flow_labeled.csv\n",
      "/data/hypermnt/processed/network-flows/Week1_Day4_05292021/net1011x_Flow_labeled.csv\n",
      "/data/hypermnt/processed/network-flows/Week1_Day4_05292021/net1014x_Flow_labeled.csv\n",
      "/data/hypermnt/processed/network-flows/Week2_Day3_06022021/net1012x_Flow_labeled.csv\n",
      "/data/hypermnt/processed/network-flows/Week2_Day3_06022021/net1013x_Flow_labeled.csv\n",
      "/data/hypermnt/processed/network-flows/Week2_Day3_06022021/net1015x_Flow_labeled.csv\n",
      "/data/hypermnt/processed/network-flows/Week2_Day3_06022021/netgw_Flow_labeled.csv\n",
      "/data/hypermnt/processed/network-flows/Week2_Day3_06022021/net1011x_Flow_labeled.csv\n",
      "/data/hypermnt/processed/network-flows/Week2_Day3_06022021/net1014x_Flow_labeled.csv\n"
     ]
    }
   ],
   "source": [
    "# Load all available flows, but some files seem to cause an error\n",
    "all_data = pd.DataFrame()\n",
    "all_files = pathlib.Path(DATA_FOLDER_FLOWS).rglob('*.csv')\n",
    "corrupted_files = 0\n",
    "fine_files = 0\n",
    "\n",
    "for csv_file in all_files:\n",
    "\n",
    "    try:\n",
    "        this_data = pd.read_csv(csv_file)\n",
    "        all_data = pd.concat([all_data, this_data])\n",
    "        fine_files += 1\n",
    "    except:\n",
    "        print(csv_file)\n",
    "        corrupted_files += 1\n",
    "        os.remove(csv_file)"
   ]
  },
  {
   "cell_type": "code",
   "execution_count": 28,
   "metadata": {},
   "outputs": [
    {
     "data": {
      "text/plain": [
       "4"
      ]
     },
     "metadata": {},
     "output_type": "display_data"
    },
    {
     "data": {
      "text/plain": [
       "169"
      ]
     },
     "metadata": {},
     "output_type": "display_data"
    }
   ],
   "source": [
    "display(fine_files)\n",
    "display(corrupted_files)"
   ]
  },
  {
   "cell_type": "markdown",
   "metadata": {},
   "source": [
    "Ok, the problem must be elsewhere, since most of the data cause an error. Investigate."
   ]
  },
  {
   "cell_type": "code",
   "execution_count": 29,
   "metadata": {},
   "outputs": [
    {
     "ename": "ParserError",
     "evalue": "Error tokenizing data. C error: Expected 89 fields in line 924, saw 104\n",
     "output_type": "error",
     "traceback": [
      "\u001b[0;31m---------------------------------------------------------------------------\u001b[0m",
      "\u001b[0;31mParserError\u001b[0m                               Traceback (most recent call last)",
      "Cell \u001b[0;32mIn[29], line 2\u001b[0m\n\u001b[1;32m      1\u001b[0m \u001b[38;5;66;03m# What's the precise error?\u001b[39;00m\n\u001b[0;32m----> 2\u001b[0m \u001b[43mpd\u001b[49m\u001b[38;5;241;43m.\u001b[39;49m\u001b[43mread_csv\u001b[49m\u001b[43m(\u001b[49m\u001b[38;5;124;43m'\u001b[39;49m\u001b[38;5;124;43m/data/hypermnt/processed/network-flows/Week5_Day4_06242021/net1013x_Flow_labeled.csv\u001b[39;49m\u001b[38;5;124;43m'\u001b[39;49m\u001b[43m)\u001b[49m\n",
      "File \u001b[0;32m~/env/lib/python3.12/site-packages/pandas/io/parsers/readers.py:1026\u001b[0m, in \u001b[0;36mread_csv\u001b[0;34m(filepath_or_buffer, sep, delimiter, header, names, index_col, usecols, dtype, engine, converters, true_values, false_values, skipinitialspace, skiprows, skipfooter, nrows, na_values, keep_default_na, na_filter, verbose, skip_blank_lines, parse_dates, infer_datetime_format, keep_date_col, date_parser, date_format, dayfirst, cache_dates, iterator, chunksize, compression, thousands, decimal, lineterminator, quotechar, quoting, doublequote, escapechar, comment, encoding, encoding_errors, dialect, on_bad_lines, delim_whitespace, low_memory, memory_map, float_precision, storage_options, dtype_backend)\u001b[0m\n\u001b[1;32m   1013\u001b[0m kwds_defaults \u001b[38;5;241m=\u001b[39m _refine_defaults_read(\n\u001b[1;32m   1014\u001b[0m     dialect,\n\u001b[1;32m   1015\u001b[0m     delimiter,\n\u001b[0;32m   (...)\u001b[0m\n\u001b[1;32m   1022\u001b[0m     dtype_backend\u001b[38;5;241m=\u001b[39mdtype_backend,\n\u001b[1;32m   1023\u001b[0m )\n\u001b[1;32m   1024\u001b[0m kwds\u001b[38;5;241m.\u001b[39mupdate(kwds_defaults)\n\u001b[0;32m-> 1026\u001b[0m \u001b[38;5;28;01mreturn\u001b[39;00m \u001b[43m_read\u001b[49m\u001b[43m(\u001b[49m\u001b[43mfilepath_or_buffer\u001b[49m\u001b[43m,\u001b[49m\u001b[43m \u001b[49m\u001b[43mkwds\u001b[49m\u001b[43m)\u001b[49m\n",
      "File \u001b[0;32m~/env/lib/python3.12/site-packages/pandas/io/parsers/readers.py:626\u001b[0m, in \u001b[0;36m_read\u001b[0;34m(filepath_or_buffer, kwds)\u001b[0m\n\u001b[1;32m    623\u001b[0m     \u001b[38;5;28;01mreturn\u001b[39;00m parser\n\u001b[1;32m    625\u001b[0m \u001b[38;5;28;01mwith\u001b[39;00m parser:\n\u001b[0;32m--> 626\u001b[0m     \u001b[38;5;28;01mreturn\u001b[39;00m \u001b[43mparser\u001b[49m\u001b[38;5;241;43m.\u001b[39;49m\u001b[43mread\u001b[49m\u001b[43m(\u001b[49m\u001b[43mnrows\u001b[49m\u001b[43m)\u001b[49m\n",
      "File \u001b[0;32m~/env/lib/python3.12/site-packages/pandas/io/parsers/readers.py:1923\u001b[0m, in \u001b[0;36mTextFileReader.read\u001b[0;34m(self, nrows)\u001b[0m\n\u001b[1;32m   1916\u001b[0m nrows \u001b[38;5;241m=\u001b[39m validate_integer(\u001b[38;5;124m\"\u001b[39m\u001b[38;5;124mnrows\u001b[39m\u001b[38;5;124m\"\u001b[39m, nrows)\n\u001b[1;32m   1917\u001b[0m \u001b[38;5;28;01mtry\u001b[39;00m:\n\u001b[1;32m   1918\u001b[0m     \u001b[38;5;66;03m# error: \"ParserBase\" has no attribute \"read\"\u001b[39;00m\n\u001b[1;32m   1919\u001b[0m     (\n\u001b[1;32m   1920\u001b[0m         index,\n\u001b[1;32m   1921\u001b[0m         columns,\n\u001b[1;32m   1922\u001b[0m         col_dict,\n\u001b[0;32m-> 1923\u001b[0m     ) \u001b[38;5;241m=\u001b[39m \u001b[38;5;28;43mself\u001b[39;49m\u001b[38;5;241;43m.\u001b[39;49m\u001b[43m_engine\u001b[49m\u001b[38;5;241;43m.\u001b[39;49m\u001b[43mread\u001b[49m\u001b[43m(\u001b[49m\u001b[43m  \u001b[49m\u001b[38;5;66;43;03m# type: ignore[attr-defined]\u001b[39;49;00m\n\u001b[1;32m   1924\u001b[0m \u001b[43m        \u001b[49m\u001b[43mnrows\u001b[49m\n\u001b[1;32m   1925\u001b[0m \u001b[43m    \u001b[49m\u001b[43m)\u001b[49m\n\u001b[1;32m   1926\u001b[0m \u001b[38;5;28;01mexcept\u001b[39;00m \u001b[38;5;167;01mException\u001b[39;00m:\n\u001b[1;32m   1927\u001b[0m     \u001b[38;5;28mself\u001b[39m\u001b[38;5;241m.\u001b[39mclose()\n",
      "File \u001b[0;32m~/env/lib/python3.12/site-packages/pandas/io/parsers/c_parser_wrapper.py:234\u001b[0m, in \u001b[0;36mCParserWrapper.read\u001b[0;34m(self, nrows)\u001b[0m\n\u001b[1;32m    232\u001b[0m \u001b[38;5;28;01mtry\u001b[39;00m:\n\u001b[1;32m    233\u001b[0m     \u001b[38;5;28;01mif\u001b[39;00m \u001b[38;5;28mself\u001b[39m\u001b[38;5;241m.\u001b[39mlow_memory:\n\u001b[0;32m--> 234\u001b[0m         chunks \u001b[38;5;241m=\u001b[39m \u001b[38;5;28;43mself\u001b[39;49m\u001b[38;5;241;43m.\u001b[39;49m\u001b[43m_reader\u001b[49m\u001b[38;5;241;43m.\u001b[39;49m\u001b[43mread_low_memory\u001b[49m\u001b[43m(\u001b[49m\u001b[43mnrows\u001b[49m\u001b[43m)\u001b[49m\n\u001b[1;32m    235\u001b[0m         \u001b[38;5;66;03m# destructive to chunks\u001b[39;00m\n\u001b[1;32m    236\u001b[0m         data \u001b[38;5;241m=\u001b[39m _concatenate_chunks(chunks)\n",
      "File \u001b[0;32mparsers.pyx:838\u001b[0m, in \u001b[0;36mpandas._libs.parsers.TextReader.read_low_memory\u001b[0;34m()\u001b[0m\n",
      "File \u001b[0;32mparsers.pyx:905\u001b[0m, in \u001b[0;36mpandas._libs.parsers.TextReader._read_rows\u001b[0;34m()\u001b[0m\n",
      "File \u001b[0;32mparsers.pyx:874\u001b[0m, in \u001b[0;36mpandas._libs.parsers.TextReader._tokenize_rows\u001b[0;34m()\u001b[0m\n",
      "File \u001b[0;32mparsers.pyx:891\u001b[0m, in \u001b[0;36mpandas._libs.parsers.TextReader._check_tokenize_status\u001b[0;34m()\u001b[0m\n",
      "File \u001b[0;32mparsers.pyx:2061\u001b[0m, in \u001b[0;36mpandas._libs.parsers.raise_parser_error\u001b[0;34m()\u001b[0m\n",
      "\u001b[0;31mParserError\u001b[0m: Error tokenizing data. C error: Expected 89 fields in line 924, saw 104\n"
     ]
    }
   ],
   "source": [
    "# What's the precise error?\n",
    "pd.read_csv('/data/hypermnt/processed/network-flows/Week5_Day4_06242021/net1013x_Flow_labeled.csv')"
   ]
  },
  {
   "cell_type": "code",
   "execution_count": 24,
   "metadata": {},
   "outputs": [
    {
     "name": "stdout",
     "output_type": "stream",
     "text": [
      "<class 'pandas.core.frame.DataFrame'>\n",
      "Index: 2013 entries, 0 to 902\n",
      "Data columns (total 89 columns):\n",
      " #   Column                        Non-Null Count  Dtype  \n",
      "---  ------                        --------------  -----  \n",
      " 0   id                            2013 non-null   int64  \n",
      " 1   expiration_id                 2013 non-null   int64  \n",
      " 2   src_ip                        2013 non-null   object \n",
      " 3   src_mac                       2013 non-null   object \n",
      " 4   src_oui                       2013 non-null   object \n",
      " 5   src_port                      2013 non-null   int64  \n",
      " 6   dst_ip                        2013 non-null   object \n",
      " 7   dst_mac                       2013 non-null   object \n",
      " 8   dst_oui                       2013 non-null   object \n",
      " 9   dst_port                      2013 non-null   int64  \n",
      " 10  protocol                      2013 non-null   int64  \n",
      " 11  ip_version                    2013 non-null   int64  \n",
      " 12  vlan_id                       2013 non-null   int64  \n",
      " 13  tunnel_id                     2013 non-null   int64  \n",
      " 14  bidirectional_first_seen_ms   2013 non-null   int64  \n",
      " 15  bidirectional_last_seen_ms    2013 non-null   int64  \n",
      " 16  bidirectional_duration_ms     2013 non-null   int64  \n",
      " 17  bidirectional_packets         2013 non-null   int64  \n",
      " 18  bidirectional_bytes           2013 non-null   int64  \n",
      " 19  src2dst_first_seen_ms         2013 non-null   int64  \n",
      " 20  src2dst_last_seen_ms          2013 non-null   int64  \n",
      " 21  src2dst_duration_ms           2013 non-null   int64  \n",
      " 22  src2dst_packets               2013 non-null   int64  \n",
      " 23  src2dst_bytes                 2013 non-null   int64  \n",
      " 24  dst2src_first_seen_ms         2013 non-null   int64  \n",
      " 25  dst2src_last_seen_ms          2013 non-null   int64  \n",
      " 26  dst2src_duration_ms           2013 non-null   int64  \n",
      " 27  dst2src_packets               2013 non-null   int64  \n",
      " 28  dst2src_bytes                 2013 non-null   int64  \n",
      " 29  bidirectional_min_ps          2013 non-null   int64  \n",
      " 30  bidirectional_mean_ps         2013 non-null   float64\n",
      " 31  bidirectional_stddev_ps       2013 non-null   float64\n",
      " 32  bidirectional_max_ps          2013 non-null   int64  \n",
      " 33  src2dst_min_ps                2013 non-null   int64  \n",
      " 34  src2dst_mean_ps               2013 non-null   float64\n",
      " 35  src2dst_stddev_ps             2013 non-null   float64\n",
      " 36  src2dst_max_ps                2013 non-null   int64  \n",
      " 37  dst2src_min_ps                2013 non-null   int64  \n",
      " 38  dst2src_mean_ps               2013 non-null   float64\n",
      " 39  dst2src_stddev_ps             2013 non-null   float64\n",
      " 40  dst2src_max_ps                2013 non-null   int64  \n",
      " 41  bidirectional_min_piat_ms     2013 non-null   int64  \n",
      " 42  bidirectional_mean_piat_ms    2013 non-null   float64\n",
      " 43  bidirectional_stddev_piat_ms  2013 non-null   float64\n",
      " 44  bidirectional_max_piat_ms     2013 non-null   int64  \n",
      " 45  src2dst_min_piat_ms           2013 non-null   int64  \n",
      " 46  src2dst_mean_piat_ms          2013 non-null   float64\n",
      " 47  src2dst_stddev_piat_ms        2013 non-null   float64\n",
      " 48  src2dst_max_piat_ms           2013 non-null   int64  \n",
      " 49  dst2src_min_piat_ms           2013 non-null   int64  \n",
      " 50  dst2src_mean_piat_ms          2013 non-null   float64\n",
      " 51  dst2src_stddev_piat_ms        2013 non-null   float64\n",
      " 52  dst2src_max_piat_ms           2013 non-null   int64  \n",
      " 53  bidirectional_syn_packets     2013 non-null   int64  \n",
      " 54  bidirectional_cwr_packets     2013 non-null   int64  \n",
      " 55  bidirectional_ece_packets     2013 non-null   int64  \n",
      " 56  bidirectional_urg_packets     2013 non-null   int64  \n",
      " 57  bidirectional_ack_packets     2013 non-null   int64  \n",
      " 58  bidirectional_psh_packets     2013 non-null   int64  \n",
      " 59  bidirectional_rst_packets     2013 non-null   int64  \n",
      " 60  bidirectional_fin_packets     2013 non-null   int64  \n",
      " 61  src2dst_syn_packets           2013 non-null   int64  \n",
      " 62  src2dst_cwr_packets           2013 non-null   int64  \n",
      " 63  src2dst_ece_packets           2013 non-null   int64  \n",
      " 64  src2dst_urg_packets           2013 non-null   int64  \n",
      " 65  src2dst_ack_packets           2013 non-null   int64  \n",
      " 66  src2dst_psh_packets           2013 non-null   int64  \n",
      " 67  src2dst_rst_packets           2013 non-null   int64  \n",
      " 68  src2dst_fin_packets           2013 non-null   int64  \n",
      " 69  dst2src_syn_packets           2013 non-null   int64  \n",
      " 70  dst2src_cwr_packets           2013 non-null   int64  \n",
      " 71  dst2src_ece_packets           2013 non-null   int64  \n",
      " 72  dst2src_urg_packets           2013 non-null   int64  \n",
      " 73  dst2src_ack_packets           2013 non-null   int64  \n",
      " 74  dst2src_psh_packets           2013 non-null   int64  \n",
      " 75  dst2src_rst_packets           2013 non-null   int64  \n",
      " 76  dst2src_fin_packets           2013 non-null   int64  \n",
      " 77  application_name              2013 non-null   object \n",
      " 78  application_category_name     2013 non-null   object \n",
      " 79  application_is_guessed        2013 non-null   int64  \n",
      " 80  requested_server_name         978 non-null    object \n",
      " 81  client_fingerprint            199 non-null    object \n",
      " 82  server_fingerprint            182 non-null    object \n",
      " 83  user_agent                    35 non-null     object \n",
      " 84  content_type                  33 non-null     object \n",
      " 85  Activity                      2013 non-null   object \n",
      " 86  Stage                         2013 non-null   object \n",
      " 87  DefenderResponse              2013 non-null   object \n",
      " 88  Signature                     0 non-null      float64\n",
      "dtypes: float64(13), int64(60), object(16)\n",
      "memory usage: 1.4+ MB\n"
     ]
    }
   ],
   "source": [
    "# Work with what we have\n",
    "all_data.info()"
   ]
  },
  {
   "cell_type": "code",
   "execution_count": null,
   "metadata": {},
   "outputs": [
    {
     "data": {
      "text/plain": [
       "Activity\n",
       "Normal    2013\n",
       "Name: count, dtype: int64"
      ]
     },
     "execution_count": 26,
     "metadata": {},
     "output_type": "execute_result"
    }
   ],
   "source": [
    "all_data['Activity'].value_counts()"
   ]
  },
  {
   "cell_type": "markdown",
   "metadata": {},
   "source": [
    "Ok, we cannot work with this, as even the traffic classes cannot be recognized."
   ]
  },
  {
   "cell_type": "markdown",
   "metadata": {},
   "source": [
    "## Fixing the Files"
   ]
  },
  {
   "cell_type": "code",
   "execution_count": 58,
   "metadata": {},
   "outputs": [],
   "source": [
    "# Istead of deleting the whole file, attempt to detele particular lines only:\n",
    "# Delete lines not containing \"88 commas --> 89 columns in total\"\n",
    "all_files = pathlib.Path(DATA_FOLDER_FLOWS).rglob('*.csv')\n",
    "\n",
    "for csv_file in all_files:\n",
    "    # Read the contests from the file\n",
    "    with open(csv_file, 'r', encoding='utf8') as rfhandle:\n",
    "        in_text = rfhandle.readlines()\n",
    "\n",
    "    # Strip the longer lines than 89 columns\n",
    "    out_text = []\n",
    "\n",
    "    for line in in_text:\n",
    "        if line.count(',') == 88:\n",
    "            out_text.append(line)\n",
    "\n",
    "    # Overwrite the file with the corrrect contents\n",
    "    with open(csv_file, 'w', encoding='utf8') as wfhandle:\n",
    "        wfhandle.writelines(out_text)"
   ]
  },
  {
   "cell_type": "code",
   "execution_count": 59,
   "metadata": {},
   "outputs": [
    {
     "name": "stderr",
     "output_type": "stream",
     "text": [
      "/tmp/ipykernel_2562/918823577.py:6: DtypeWarning: Columns (88) have mixed types. Specify dtype option on import or set low_memory=False.\n",
      "  all_data = pd.concat([all_data, pd.read_csv(csv_file)])\n",
      "/tmp/ipykernel_2562/918823577.py:6: DtypeWarning: Columns (83,88) have mixed types. Specify dtype option on import or set low_memory=False.\n",
      "  all_data = pd.concat([all_data, pd.read_csv(csv_file)])\n",
      "/tmp/ipykernel_2562/918823577.py:6: DtypeWarning: Columns (88) have mixed types. Specify dtype option on import or set low_memory=False.\n",
      "  all_data = pd.concat([all_data, pd.read_csv(csv_file)])\n",
      "/tmp/ipykernel_2562/918823577.py:6: DtypeWarning: Columns (88) have mixed types. Specify dtype option on import or set low_memory=False.\n",
      "  all_data = pd.concat([all_data, pd.read_csv(csv_file)])\n",
      "/tmp/ipykernel_2562/918823577.py:6: DtypeWarning: Columns (88) have mixed types. Specify dtype option on import or set low_memory=False.\n",
      "  all_data = pd.concat([all_data, pd.read_csv(csv_file)])\n",
      "/tmp/ipykernel_2562/918823577.py:6: DtypeWarning: Columns (88) have mixed types. Specify dtype option on import or set low_memory=False.\n",
      "  all_data = pd.concat([all_data, pd.read_csv(csv_file)])\n",
      "/tmp/ipykernel_2562/918823577.py:6: DtypeWarning: Columns (88) have mixed types. Specify dtype option on import or set low_memory=False.\n",
      "  all_data = pd.concat([all_data, pd.read_csv(csv_file)])\n",
      "/tmp/ipykernel_2562/918823577.py:6: DtypeWarning: Columns (88) have mixed types. Specify dtype option on import or set low_memory=False.\n",
      "  all_data = pd.concat([all_data, pd.read_csv(csv_file)])\n",
      "/tmp/ipykernel_2562/918823577.py:6: DtypeWarning: Columns (88) have mixed types. Specify dtype option on import or set low_memory=False.\n",
      "  all_data = pd.concat([all_data, pd.read_csv(csv_file)])\n",
      "/tmp/ipykernel_2562/918823577.py:6: DtypeWarning: Columns (83) have mixed types. Specify dtype option on import or set low_memory=False.\n",
      "  all_data = pd.concat([all_data, pd.read_csv(csv_file)])\n",
      "/tmp/ipykernel_2562/918823577.py:6: DtypeWarning: Columns (88) have mixed types. Specify dtype option on import or set low_memory=False.\n",
      "  all_data = pd.concat([all_data, pd.read_csv(csv_file)])\n",
      "/tmp/ipykernel_2562/918823577.py:6: DtypeWarning: Columns (88) have mixed types. Specify dtype option on import or set low_memory=False.\n",
      "  all_data = pd.concat([all_data, pd.read_csv(csv_file)])\n",
      "/tmp/ipykernel_2562/918823577.py:6: DtypeWarning: Columns (88) have mixed types. Specify dtype option on import or set low_memory=False.\n",
      "  all_data = pd.concat([all_data, pd.read_csv(csv_file)])\n",
      "/tmp/ipykernel_2562/918823577.py:6: DtypeWarning: Columns (88) have mixed types. Specify dtype option on import or set low_memory=False.\n",
      "  all_data = pd.concat([all_data, pd.read_csv(csv_file)])\n",
      "/tmp/ipykernel_2562/918823577.py:6: DtypeWarning: Columns (88) have mixed types. Specify dtype option on import or set low_memory=False.\n",
      "  all_data = pd.concat([all_data, pd.read_csv(csv_file)])\n",
      "/tmp/ipykernel_2562/918823577.py:6: DtypeWarning: Columns (83) have mixed types. Specify dtype option on import or set low_memory=False.\n",
      "  all_data = pd.concat([all_data, pd.read_csv(csv_file)])\n",
      "/tmp/ipykernel_2562/918823577.py:6: DtypeWarning: Columns (88) have mixed types. Specify dtype option on import or set low_memory=False.\n",
      "  all_data = pd.concat([all_data, pd.read_csv(csv_file)])\n",
      "/tmp/ipykernel_2562/918823577.py:6: DtypeWarning: Columns (88) have mixed types. Specify dtype option on import or set low_memory=False.\n",
      "  all_data = pd.concat([all_data, pd.read_csv(csv_file)])\n",
      "/tmp/ipykernel_2562/918823577.py:6: DtypeWarning: Columns (81,82,83,84) have mixed types. Specify dtype option on import or set low_memory=False.\n",
      "  all_data = pd.concat([all_data, pd.read_csv(csv_file)])\n",
      "/tmp/ipykernel_2562/918823577.py:6: DtypeWarning: Columns (83,84) have mixed types. Specify dtype option on import or set low_memory=False.\n",
      "  all_data = pd.concat([all_data, pd.read_csv(csv_file)])\n",
      "/tmp/ipykernel_2562/918823577.py:6: DtypeWarning: Columns (81,82,83,84) have mixed types. Specify dtype option on import or set low_memory=False.\n",
      "  all_data = pd.concat([all_data, pd.read_csv(csv_file)])\n",
      "/tmp/ipykernel_2562/918823577.py:6: DtypeWarning: Columns (81,82) have mixed types. Specify dtype option on import or set low_memory=False.\n",
      "  all_data = pd.concat([all_data, pd.read_csv(csv_file)])\n"
     ]
    }
   ],
   "source": [
    "# After the fixing, let's read the files again...\n",
    "all_data = pd.DataFrame()\n",
    "all_files = pathlib.Path(DATA_FOLDER_FLOWS).rglob('*.csv')\n",
    "\n",
    "for csv_file in all_files:\n",
    "    all_data = pd.concat([all_data, pd.read_csv(csv_file)])"
   ]
  },
  {
   "cell_type": "code",
   "execution_count": 60,
   "metadata": {},
   "outputs": [
    {
     "name": "stdout",
     "output_type": "stream",
     "text": [
      "<class 'pandas.core.frame.DataFrame'>\n",
      "Index: 6863988 entries, 0 to 33816\n",
      "Data columns (total 89 columns):\n",
      " #   Column                        Dtype  \n",
      "---  ------                        -----  \n",
      " 0   id                            int64  \n",
      " 1   expiration_id                 int64  \n",
      " 2   src_ip                        object \n",
      " 3   src_mac                       object \n",
      " 4   src_oui                       object \n",
      " 5   src_port                      int64  \n",
      " 6   dst_ip                        object \n",
      " 7   dst_mac                       object \n",
      " 8   dst_oui                       object \n",
      " 9   dst_port                      int64  \n",
      " 10  protocol                      int64  \n",
      " 11  ip_version                    int64  \n",
      " 12  vlan_id                       int64  \n",
      " 13  tunnel_id                     int64  \n",
      " 14  bidirectional_first_seen_ms   int64  \n",
      " 15  bidirectional_last_seen_ms    int64  \n",
      " 16  bidirectional_duration_ms     int64  \n",
      " 17  bidirectional_packets         int64  \n",
      " 18  bidirectional_bytes           int64  \n",
      " 19  src2dst_first_seen_ms         int64  \n",
      " 20  src2dst_last_seen_ms          int64  \n",
      " 21  src2dst_duration_ms           int64  \n",
      " 22  src2dst_packets               int64  \n",
      " 23  src2dst_bytes                 int64  \n",
      " 24  dst2src_first_seen_ms         int64  \n",
      " 25  dst2src_last_seen_ms          int64  \n",
      " 26  dst2src_duration_ms           int64  \n",
      " 27  dst2src_packets               int64  \n",
      " 28  dst2src_bytes                 int64  \n",
      " 29  bidirectional_min_ps          int64  \n",
      " 30  bidirectional_mean_ps         float64\n",
      " 31  bidirectional_stddev_ps       float64\n",
      " 32  bidirectional_max_ps          int64  \n",
      " 33  src2dst_min_ps                int64  \n",
      " 34  src2dst_mean_ps               float64\n",
      " 35  src2dst_stddev_ps             float64\n",
      " 36  src2dst_max_ps                int64  \n",
      " 37  dst2src_min_ps                int64  \n",
      " 38  dst2src_mean_ps               float64\n",
      " 39  dst2src_stddev_ps             float64\n",
      " 40  dst2src_max_ps                int64  \n",
      " 41  bidirectional_min_piat_ms     int64  \n",
      " 42  bidirectional_mean_piat_ms    float64\n",
      " 43  bidirectional_stddev_piat_ms  float64\n",
      " 44  bidirectional_max_piat_ms     int64  \n",
      " 45  src2dst_min_piat_ms           int64  \n",
      " 46  src2dst_mean_piat_ms          float64\n",
      " 47  src2dst_stddev_piat_ms        float64\n",
      " 48  src2dst_max_piat_ms           int64  \n",
      " 49  dst2src_min_piat_ms           int64  \n",
      " 50  dst2src_mean_piat_ms          float64\n",
      " 51  dst2src_stddev_piat_ms        float64\n",
      " 52  dst2src_max_piat_ms           int64  \n",
      " 53  bidirectional_syn_packets     int64  \n",
      " 54  bidirectional_cwr_packets     int64  \n",
      " 55  bidirectional_ece_packets     int64  \n",
      " 56  bidirectional_urg_packets     int64  \n",
      " 57  bidirectional_ack_packets     int64  \n",
      " 58  bidirectional_psh_packets     int64  \n",
      " 59  bidirectional_rst_packets     int64  \n",
      " 60  bidirectional_fin_packets     int64  \n",
      " 61  src2dst_syn_packets           int64  \n",
      " 62  src2dst_cwr_packets           int64  \n",
      " 63  src2dst_ece_packets           int64  \n",
      " 64  src2dst_urg_packets           int64  \n",
      " 65  src2dst_ack_packets           int64  \n",
      " 66  src2dst_psh_packets           int64  \n",
      " 67  src2dst_rst_packets           int64  \n",
      " 68  src2dst_fin_packets           int64  \n",
      " 69  dst2src_syn_packets           int64  \n",
      " 70  dst2src_cwr_packets           int64  \n",
      " 71  dst2src_ece_packets           int64  \n",
      " 72  dst2src_urg_packets           int64  \n",
      " 73  dst2src_ack_packets           int64  \n",
      " 74  dst2src_psh_packets           int64  \n",
      " 75  dst2src_rst_packets           int64  \n",
      " 76  dst2src_fin_packets           int64  \n",
      " 77  application_name              object \n",
      " 78  application_category_name     object \n",
      " 79  application_is_guessed        int64  \n",
      " 80  requested_server_name         object \n",
      " 81  client_fingerprint            object \n",
      " 82  server_fingerprint            object \n",
      " 83  user_agent                    object \n",
      " 84  content_type                  object \n",
      " 85  Activity                      object \n",
      " 86  Stage                         object \n",
      " 87  DefenderResponse              object \n",
      " 88  Signature                     object \n",
      "dtypes: float64(12), int64(60), object(17)\n",
      "memory usage: 4.6+ GB\n"
     ]
    }
   ],
   "source": [
    "all_data.info(verbose=True)"
   ]
  },
  {
   "cell_type": "code",
   "execution_count": 61,
   "metadata": {},
   "outputs": [
    {
     "data": {
      "text/plain": [
       "6863988"
      ]
     },
     "execution_count": 61,
     "metadata": {},
     "output_type": "execute_result"
    }
   ],
   "source": [
    "len(all_data)"
   ]
  },
  {
   "cell_type": "code",
   "execution_count": 62,
   "metadata": {},
   "outputs": [
    {
     "data": {
      "text/plain": [
       "Activity\n",
       "Normal                                                                   6766747\n",
       "Maintain Access                                                            27128\n",
       "Encrypted Channel: Symmetric Cryptography                                  27111\n",
       "Bruteforce: Password Guessing                                              22654\n",
       "Active Scanning: Scanning IP Blocks                                        11450\n",
       "Data Transfer Size Limits                                                   6988\n",
       "Remote System Discovery                                                     1002\n",
       "Exfiltration over C2 channel                                                 446\n",
       "Remove Traces                                                                362\n",
       "Unsecured Credentials                                                         88\n",
       "Hijack Execution Flow: Path Interception by PATH Environment Variable          7\n",
       "Active Scanning: Vulnerability Scanning                                        5\n",
       "Name: count, dtype: int64"
      ]
     },
     "execution_count": 62,
     "metadata": {},
     "output_type": "execute_result"
    }
   ],
   "source": [
    "all_data['Activity'].value_counts()"
   ]
  },
  {
   "cell_type": "code",
   "execution_count": 63,
   "metadata": {},
   "outputs": [
    {
     "data": {
      "text/plain": [
       "Stage\n",
       "Benign                6766747\n",
       "Reconnaissance          34794\n",
       "Lateral Movement        27445\n",
       "Establish Foothold      27118\n",
       "Data Exfiltration        7522\n",
       "Cover up                  362\n",
       "Name: count, dtype: int64"
      ]
     },
     "execution_count": 63,
     "metadata": {},
     "output_type": "execute_result"
    }
   ],
   "source": [
    "all_data['Stage'].value_counts()"
   ]
  },
  {
   "cell_type": "code",
   "execution_count": 64,
   "metadata": {},
   "outputs": [
    {
     "data": {
      "text/plain": [
       "DefenderResponse\n",
       "Benign      6829194\n",
       "Detected      34794\n",
       "Name: count, dtype: int64"
      ]
     },
     "execution_count": 64,
     "metadata": {},
     "output_type": "execute_result"
    }
   ],
   "source": [
    "all_data['DefenderResponse'].value_counts()"
   ]
  },
  {
   "cell_type": "code",
   "execution_count": 65,
   "metadata": {},
   "outputs": [
    {
     "data": {
      "text/plain": [
       "Signature\n",
       "APT    63125\n",
       "AA     34109\n",
       "Name: count, dtype: int64"
      ]
     },
     "execution_count": 65,
     "metadata": {},
     "output_type": "execute_result"
    }
   ],
   "source": [
    "all_data['Signature'].value_counts()"
   ]
  },
  {
   "cell_type": "code",
   "execution_count": 66,
   "metadata": {},
   "outputs": [],
   "source": [
    "# Compute the Span, although PCAP analysis will provide better info (to s):\n",
    "start = all_data['bidirectional_first_seen_ms'].sort_values().iloc[0] / 1000\n",
    "end   = all_data['bidirectional_last_seen_ms'].sort_values().iloc[-1] / 1000"
   ]
  },
  {
   "cell_type": "code",
   "execution_count": 68,
   "metadata": {},
   "outputs": [
    {
     "data": {
      "text/plain": [
       "datetime.timedelta(days=40, seconds=45564, microseconds=322000)"
      ]
     },
     "execution_count": 68,
     "metadata": {},
     "output_type": "execute_result"
    }
   ],
   "source": [
    "# Seconds to timedate\n",
    "import datetime\n",
    "\n",
    "datetime.timedelta(seconds=end - start)"
   ]
  },
  {
   "cell_type": "code",
   "execution_count": 69,
   "metadata": {},
   "outputs": [
    {
     "data": {
      "text/plain": [
       "12.656666666666666"
      ]
     },
     "execution_count": 69,
     "metadata": {},
     "output_type": "execute_result"
    }
   ],
   "source": [
    "45564 / 60 / 60"
   ]
  },
  {
   "cell_type": "markdown",
   "metadata": {},
   "source": [
    "So 40 days and 13 hours - however, this cannot be precisely determined as we removed some data lines... Further analysis will be performed using PCAP files in the console off this notebook. Since this data does not provide any timestamps, temporal analysis is also not possible via flow data."
   ]
  }
 ],
 "metadata": {
  "kernelspec": {
   "display_name": "env",
   "language": "python",
   "name": "python3"
  },
  "language_info": {
   "codemirror_mode": {
    "name": "ipython",
    "version": 3
   },
   "file_extension": ".py",
   "mimetype": "text/x-python",
   "name": "python",
   "nbconvert_exporter": "python",
   "pygments_lexer": "ipython3",
   "version": "3.12.2"
  }
 },
 "nbformat": 4,
 "nbformat_minor": 2
}
