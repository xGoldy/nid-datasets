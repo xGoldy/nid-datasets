{
 "cells": [
  {
   "cell_type": "markdown",
   "metadata": {},
   "source": [
    "# DAPT 2020 Dataset Analysis\n",
    "\n",
    "* **Author:** Patrik Goldschmidt (igoldschmidt@fit.vut.cz)\n",
    "* **Project:** Network Intrusion Datasets: A Survey, Limitations, and Recommendations\n",
    "* **Date:** 2024"
   ]
  },
  {
   "cell_type": "code",
   "execution_count": 64,
   "metadata": {},
   "outputs": [],
   "source": [
    "import pandas as pd\n",
    "import numpy as np\n",
    "import matplotlib.pyplot as plt\n",
    "import os\n",
    "import shutil"
   ]
  },
  {
   "cell_type": "markdown",
   "metadata": {},
   "source": [
    "We will select a sample file due to the sheer amount of the data."
   ]
  },
  {
   "cell_type": "code",
   "execution_count": 13,
   "metadata": {},
   "outputs": [],
   "source": [
    "DATA_PATH_CSVS = '/data/dapt2020/csv/'\n",
    "\n",
    "# Sample CSV file from public network for analysis - pick one where the attacks should be located\n",
    "SAMPLE_PUB_CSV_PATH = DATA_PATH_CSVS + 'enp0s3-public-tuesday.pcap_Flow.csv'\n",
    "\n",
    "# Sample CSV from the same day from the private network\n",
    "SAMPLE_PRIV_CSV_PATH = DATA_PATH_CSVS + 'enp0s3-pvt-tuesday.pcap_Flow.csv'"
   ]
  },
  {
   "cell_type": "code",
   "execution_count": 8,
   "metadata": {},
   "outputs": [],
   "source": [
    "sample = pd.read_csv(SAMPLE_PUB_CSV_PATH)\n"
   ]
  },
  {
   "cell_type": "code",
   "execution_count": 9,
   "metadata": {},
   "outputs": [
    {
     "name": "stdout",
     "output_type": "stream",
     "text": [
      "<class 'pandas.core.frame.DataFrame'>\n",
      "RangeIndex: 29242 entries, 0 to 29241\n",
      "Data columns (total 85 columns):\n",
      " #   Column                      Non-Null Count  Dtype  \n",
      "---  ------                      --------------  -----  \n",
      " 0   Flow ID                     29242 non-null  object \n",
      " 1   Src IP                      29242 non-null  object \n",
      " 2   Src Port                    29242 non-null  int64  \n",
      " 3   Dst IP                      29242 non-null  object \n",
      " 4   Dst Port                    29242 non-null  int64  \n",
      " 5   Protocol                    29242 non-null  int64  \n",
      " 6   Timestamp                   29242 non-null  object \n",
      " 7   Flow Duration               29242 non-null  int64  \n",
      " 8   Total Fwd Packet            29242 non-null  int64  \n",
      " 9   Total Bwd packets           29242 non-null  int64  \n",
      " 10  Total Length of Fwd Packet  29242 non-null  float64\n",
      " 11  Total Length of Bwd Packet  29242 non-null  float64\n",
      " 12  Fwd Packet Length Max       29242 non-null  float64\n",
      " 13  Fwd Packet Length Min       29242 non-null  float64\n",
      " 14  Fwd Packet Length Mean      29242 non-null  float64\n",
      " 15  Fwd Packet Length Std       29242 non-null  float64\n",
      " 16  Bwd Packet Length Max       29242 non-null  float64\n",
      " 17  Bwd Packet Length Min       29242 non-null  float64\n",
      " 18  Bwd Packet Length Mean      29242 non-null  float64\n",
      " 19  Bwd Packet Length Std       29242 non-null  float64\n",
      " 20  Flow Bytes/s                29242 non-null  float64\n",
      " 21  Flow Packets/s              29242 non-null  float64\n",
      " 22  Flow IAT Mean               29242 non-null  float64\n",
      " 23  Flow IAT Std                29242 non-null  float64\n",
      " 24  Flow IAT Max                29242 non-null  float64\n",
      " 25  Flow IAT Min                29242 non-null  float64\n",
      " 26  Fwd IAT Total               29242 non-null  float64\n",
      " 27  Fwd IAT Mean                29242 non-null  float64\n",
      " 28  Fwd IAT Std                 29242 non-null  float64\n",
      " 29  Fwd IAT Max                 29242 non-null  float64\n",
      " 30  Fwd IAT Min                 29242 non-null  float64\n",
      " 31  Bwd IAT Total               29242 non-null  float64\n",
      " 32  Bwd IAT Mean                29242 non-null  float64\n",
      " 33  Bwd IAT Std                 29242 non-null  float64\n",
      " 34  Bwd IAT Max                 29242 non-null  float64\n",
      " 35  Bwd IAT Min                 29242 non-null  float64\n",
      " 36  Fwd PSH Flags               29242 non-null  int64  \n",
      " 37  Bwd PSH Flags               29242 non-null  int64  \n",
      " 38  Fwd URG Flags               29242 non-null  int64  \n",
      " 39  Bwd URG Flags               29242 non-null  int64  \n",
      " 40  Fwd Header Length           29242 non-null  int64  \n",
      " 41  Bwd Header Length           29242 non-null  int64  \n",
      " 42  Fwd Packets/s               29242 non-null  float64\n",
      " 43  Bwd Packets/s               29242 non-null  float64\n",
      " 44  Packet Length Min           29242 non-null  float64\n",
      " 45  Packet Length Max           29242 non-null  float64\n",
      " 46  Packet Length Mean          29242 non-null  float64\n",
      " 47  Packet Length Std           29242 non-null  float64\n",
      " 48  Packet Length Variance      29242 non-null  float64\n",
      " 49  FIN Flag Count              29242 non-null  int64  \n",
      " 50  SYN Flag Count              29242 non-null  int64  \n",
      " 51  RST Flag Count              29242 non-null  int64  \n",
      " 52  PSH Flag Count              29242 non-null  int64  \n",
      " 53  ACK Flag Count              29242 non-null  int64  \n",
      " 54  URG Flag Count              29242 non-null  int64  \n",
      " 55  CWR Flag Count              29242 non-null  int64  \n",
      " 56  ECE Flag Count              29242 non-null  int64  \n",
      " 57  Down/Up Ratio               29242 non-null  float64\n",
      " 58  Average Packet Size         29242 non-null  float64\n",
      " 59  Fwd Segment Size Avg        29242 non-null  float64\n",
      " 60  Bwd Segment Size Avg        29242 non-null  float64\n",
      " 61  Fwd Bytes/Bulk Avg          29242 non-null  int64  \n",
      " 62  Fwd Packet/Bulk Avg         29242 non-null  int64  \n",
      " 63  Fwd Bulk Rate Avg           29242 non-null  int64  \n",
      " 64  Bwd Bytes/Bulk Avg          29242 non-null  int64  \n",
      " 65  Bwd Packet/Bulk Avg         29242 non-null  int64  \n",
      " 66  Bwd Bulk Rate Avg           29242 non-null  int64  \n",
      " 67  Subflow Fwd Packets         29242 non-null  int64  \n",
      " 68  Subflow Fwd Bytes           29242 non-null  int64  \n",
      " 69  Subflow Bwd Packets         29242 non-null  int64  \n",
      " 70  Subflow Bwd Bytes           29242 non-null  int64  \n",
      " 71  FWD Init Win Bytes          29242 non-null  int64  \n",
      " 72  Bwd Init Win Bytes          29242 non-null  int64  \n",
      " 73  Fwd Act Data Pkts           29242 non-null  int64  \n",
      " 74  Fwd Seg Size Min            29242 non-null  int64  \n",
      " 75  Active Mean                 29242 non-null  float64\n",
      " 76  Active Std                  29242 non-null  float64\n",
      " 77  Active Max                  29242 non-null  float64\n",
      " 78  Active Min                  29242 non-null  float64\n",
      " 79  Idle Mean                   29242 non-null  float64\n",
      " 80  Idle Std                    29242 non-null  float64\n",
      " 81  Idle Max                    29242 non-null  float64\n",
      " 82  Idle Min                    29242 non-null  float64\n",
      " 83  Activity                    29242 non-null  object \n",
      " 84  Stage                       29242 non-null  object \n",
      "dtypes: float64(45), int64(34), object(6)\n",
      "memory usage: 19.0+ MB\n"
     ]
    }
   ],
   "source": [
    "sample.info()"
   ]
  },
  {
   "cell_type": "code",
   "execution_count": 10,
   "metadata": {},
   "outputs": [
    {
     "data": {
      "text/html": [
       "<div>\n",
       "<style scoped>\n",
       "    .dataframe tbody tr th:only-of-type {\n",
       "        vertical-align: middle;\n",
       "    }\n",
       "\n",
       "    .dataframe tbody tr th {\n",
       "        vertical-align: top;\n",
       "    }\n",
       "\n",
       "    .dataframe thead th {\n",
       "        text-align: right;\n",
       "    }\n",
       "</style>\n",
       "<table border=\"1\" class=\"dataframe\">\n",
       "  <thead>\n",
       "    <tr style=\"text-align: right;\">\n",
       "      <th></th>\n",
       "      <th>Flow ID</th>\n",
       "      <th>Src IP</th>\n",
       "      <th>Src Port</th>\n",
       "      <th>Dst IP</th>\n",
       "      <th>Dst Port</th>\n",
       "      <th>Protocol</th>\n",
       "      <th>Timestamp</th>\n",
       "      <th>Flow Duration</th>\n",
       "      <th>Total Fwd Packet</th>\n",
       "      <th>Total Bwd packets</th>\n",
       "      <th>...</th>\n",
       "      <th>Active Mean</th>\n",
       "      <th>Active Std</th>\n",
       "      <th>Active Max</th>\n",
       "      <th>Active Min</th>\n",
       "      <th>Idle Mean</th>\n",
       "      <th>Idle Std</th>\n",
       "      <th>Idle Max</th>\n",
       "      <th>Idle Min</th>\n",
       "      <th>Activity</th>\n",
       "      <th>Stage</th>\n",
       "    </tr>\n",
       "  </thead>\n",
       "  <tbody>\n",
       "    <tr>\n",
       "      <th>0</th>\n",
       "      <td>255.255.255.255-0.0.0.0-67-68-17</td>\n",
       "      <td>0.0.0.0</td>\n",
       "      <td>68</td>\n",
       "      <td>255.255.255.255</td>\n",
       "      <td>67</td>\n",
       "      <td>17</td>\n",
       "      <td>16/07/2019 11:59:02 AM</td>\n",
       "      <td>116171923</td>\n",
       "      <td>86</td>\n",
       "      <td>1</td>\n",
       "      <td>...</td>\n",
       "      <td>0.00</td>\n",
       "      <td>0.000000e+00</td>\n",
       "      <td>0.0</td>\n",
       "      <td>0.0</td>\n",
       "      <td>0.000000e+00</td>\n",
       "      <td>0.000000e+00</td>\n",
       "      <td>0.0</td>\n",
       "      <td>0.0</td>\n",
       "      <td>BENIGN</td>\n",
       "      <td>BENIGN</td>\n",
       "    </tr>\n",
       "    <tr>\n",
       "      <th>1</th>\n",
       "      <td>192.168.3.10-239.2.11.71-53569-8662-17</td>\n",
       "      <td>192.168.3.10</td>\n",
       "      <td>53569</td>\n",
       "      <td>239.2.11.71</td>\n",
       "      <td>8662</td>\n",
       "      <td>17</td>\n",
       "      <td>16/07/2019 11:59:09 AM</td>\n",
       "      <td>119738502</td>\n",
       "      <td>31</td>\n",
       "      <td>1</td>\n",
       "      <td>...</td>\n",
       "      <td>3244690.75</td>\n",
       "      <td>2.304140e+06</td>\n",
       "      <td>5448741.0</td>\n",
       "      <td>64.0</td>\n",
       "      <td>1.525138e+07</td>\n",
       "      <td>5.298373e+06</td>\n",
       "      <td>20016015.0</td>\n",
       "      <td>7732663.0</td>\n",
       "      <td>BENIGN</td>\n",
       "      <td>BENIGN</td>\n",
       "    </tr>\n",
       "    <tr>\n",
       "      <th>2</th>\n",
       "      <td>192.168.3.29-35.164.43.181-44100-443-6</td>\n",
       "      <td>192.168.3.29</td>\n",
       "      <td>44100</td>\n",
       "      <td>35.164.43.181</td>\n",
       "      <td>443</td>\n",
       "      <td>6</td>\n",
       "      <td>16/07/2019 11:59:47 AM</td>\n",
       "      <td>79615889</td>\n",
       "      <td>8</td>\n",
       "      <td>6</td>\n",
       "      <td>...</td>\n",
       "      <td>84656.50</td>\n",
       "      <td>7.983236e+02</td>\n",
       "      <td>85221.0</td>\n",
       "      <td>84092.0</td>\n",
       "      <td>3.890854e+07</td>\n",
       "      <td>5.918482e+06</td>\n",
       "      <td>43093543.0</td>\n",
       "      <td>34723545.0</td>\n",
       "      <td>BENIGN</td>\n",
       "      <td>BENIGN</td>\n",
       "    </tr>\n",
       "    <tr>\n",
       "      <th>3</th>\n",
       "      <td>192.168.3.29-35.222.85.5-40260-80-6</td>\n",
       "      <td>192.168.3.29</td>\n",
       "      <td>40260</td>\n",
       "      <td>35.222.85.5</td>\n",
       "      <td>80</td>\n",
       "      <td>6</td>\n",
       "      <td>16/07/2019 12:02:19 PM</td>\n",
       "      <td>103545</td>\n",
       "      <td>3</td>\n",
       "      <td>5</td>\n",
       "      <td>...</td>\n",
       "      <td>0.00</td>\n",
       "      <td>0.000000e+00</td>\n",
       "      <td>0.0</td>\n",
       "      <td>0.0</td>\n",
       "      <td>0.000000e+00</td>\n",
       "      <td>0.000000e+00</td>\n",
       "      <td>0.0</td>\n",
       "      <td>0.0</td>\n",
       "      <td>BENIGN</td>\n",
       "      <td>BENIGN</td>\n",
       "    </tr>\n",
       "    <tr>\n",
       "      <th>4</th>\n",
       "      <td>192.168.3.29-23.219.38.65-46040-80-6</td>\n",
       "      <td>192.168.3.29</td>\n",
       "      <td>46040</td>\n",
       "      <td>23.219.38.65</td>\n",
       "      <td>80</td>\n",
       "      <td>6</td>\n",
       "      <td>16/07/2019 12:00:21 PM</td>\n",
       "      <td>110640799</td>\n",
       "      <td>21</td>\n",
       "      <td>18</td>\n",
       "      <td>...</td>\n",
       "      <td>865855.20</td>\n",
       "      <td>1.801662e+06</td>\n",
       "      <td>4736597.0</td>\n",
       "      <td>15742.0</td>\n",
       "      <td>1.019663e+07</td>\n",
       "      <td>6.411008e+04</td>\n",
       "      <td>10236479.0</td>\n",
       "      <td>10046091.0</td>\n",
       "      <td>BENIGN</td>\n",
       "      <td>BENIGN</td>\n",
       "    </tr>\n",
       "  </tbody>\n",
       "</table>\n",
       "<p>5 rows × 85 columns</p>\n",
       "</div>"
      ],
      "text/plain": [
       "                                  Flow ID        Src IP  Src Port  \\\n",
       "0        255.255.255.255-0.0.0.0-67-68-17       0.0.0.0        68   \n",
       "1  192.168.3.10-239.2.11.71-53569-8662-17  192.168.3.10     53569   \n",
       "2  192.168.3.29-35.164.43.181-44100-443-6  192.168.3.29     44100   \n",
       "3     192.168.3.29-35.222.85.5-40260-80-6  192.168.3.29     40260   \n",
       "4    192.168.3.29-23.219.38.65-46040-80-6  192.168.3.29     46040   \n",
       "\n",
       "            Dst IP  Dst Port  Protocol               Timestamp  Flow Duration  \\\n",
       "0  255.255.255.255        67        17  16/07/2019 11:59:02 AM      116171923   \n",
       "1      239.2.11.71      8662        17  16/07/2019 11:59:09 AM      119738502   \n",
       "2    35.164.43.181       443         6  16/07/2019 11:59:47 AM       79615889   \n",
       "3      35.222.85.5        80         6  16/07/2019 12:02:19 PM         103545   \n",
       "4     23.219.38.65        80         6  16/07/2019 12:00:21 PM      110640799   \n",
       "\n",
       "   Total Fwd Packet  Total Bwd packets  ...  Active Mean    Active Std  \\\n",
       "0                86                  1  ...         0.00  0.000000e+00   \n",
       "1                31                  1  ...   3244690.75  2.304140e+06   \n",
       "2                 8                  6  ...     84656.50  7.983236e+02   \n",
       "3                 3                  5  ...         0.00  0.000000e+00   \n",
       "4                21                 18  ...    865855.20  1.801662e+06   \n",
       "\n",
       "   Active Max  Active Min     Idle Mean      Idle Std    Idle Max    Idle Min  \\\n",
       "0         0.0         0.0  0.000000e+00  0.000000e+00         0.0         0.0   \n",
       "1   5448741.0        64.0  1.525138e+07  5.298373e+06  20016015.0   7732663.0   \n",
       "2     85221.0     84092.0  3.890854e+07  5.918482e+06  43093543.0  34723545.0   \n",
       "3         0.0         0.0  0.000000e+00  0.000000e+00         0.0         0.0   \n",
       "4   4736597.0     15742.0  1.019663e+07  6.411008e+04  10236479.0  10046091.0   \n",
       "\n",
       "   Activity   Stage  \n",
       "0    BENIGN  BENIGN  \n",
       "1    BENIGN  BENIGN  \n",
       "2    BENIGN  BENIGN  \n",
       "3    BENIGN  BENIGN  \n",
       "4    BENIGN  BENIGN  \n",
       "\n",
       "[5 rows x 85 columns]"
      ]
     },
     "execution_count": 10,
     "metadata": {},
     "output_type": "execute_result"
    }
   ],
   "source": [
    "sample.head()"
   ]
  },
  {
   "cell_type": "code",
   "execution_count": 11,
   "metadata": {},
   "outputs": [
    {
     "data": {
      "text/plain": [
       "Activity\n",
       "BENIGN                    16842\n",
       "Network Scan               7614\n",
       "Web Vulnerability Scan     2574\n",
       "Directory Bruteforce       1503\n",
       "Normal                      535\n",
       "Account Discovery           124\n",
       "Account Bruteforce           50\n",
       "Name: count, dtype: int64"
      ]
     },
     "execution_count": 11,
     "metadata": {},
     "output_type": "execute_result"
    }
   ],
   "source": [
    "sample['Activity'].value_counts()"
   ]
  },
  {
   "cell_type": "code",
   "execution_count": 12,
   "metadata": {},
   "outputs": [
    {
     "data": {
      "text/plain": [
       "Stage\n",
       "BENIGN            16842\n",
       "Reconnaissance    11865\n",
       "Benign              535\n",
       "Name: count, dtype: int64"
      ]
     },
     "execution_count": 12,
     "metadata": {},
     "output_type": "execute_result"
    }
   ],
   "source": [
    "sample['Stage'].value_counts()"
   ]
  },
  {
   "cell_type": "code",
   "execution_count": 19,
   "metadata": {},
   "outputs": [
    {
     "data": {
      "text/plain": [
       "11865"
      ]
     },
     "execution_count": 19,
     "metadata": {},
     "output_type": "execute_result"
    }
   ],
   "source": [
    "# Do the stage and activity match - sanity check?\n",
    "len(sample[sample['Stage'] == 'Reconnaissance'])"
   ]
  },
  {
   "cell_type": "code",
   "execution_count": 22,
   "metadata": {},
   "outputs": [
    {
     "data": {
      "text/plain": [
       "11865"
      ]
     },
     "execution_count": 22,
     "metadata": {},
     "output_type": "execute_result"
    }
   ],
   "source": [
    "len(sample[(sample['Activity'] != 'Normal') & (sample['Activity'] != 'BENIGN')])"
   ]
  },
  {
   "cell_type": "markdown",
   "metadata": {},
   "source": [
    "All good."
   ]
  },
  {
   "cell_type": "code",
   "execution_count": 14,
   "metadata": {},
   "outputs": [],
   "source": [
    "# Lets see internal network sample CSV\n",
    "sample_priv = pd.read_csv(SAMPLE_PRIV_CSV_PATH)"
   ]
  },
  {
   "cell_type": "code",
   "execution_count": 15,
   "metadata": {},
   "outputs": [
    {
     "name": "stdout",
     "output_type": "stream",
     "text": [
      "<class 'pandas.core.frame.DataFrame'>\n",
      "RangeIndex: 2615 entries, 0 to 2614\n",
      "Data columns (total 85 columns):\n",
      " #   Column                      Non-Null Count  Dtype  \n",
      "---  ------                      --------------  -----  \n",
      " 0   Flow ID                     2615 non-null   object \n",
      " 1   Src IP                      2615 non-null   object \n",
      " 2   Src Port                    2615 non-null   int64  \n",
      " 3   Dst IP                      2615 non-null   object \n",
      " 4   Dst Port                    2615 non-null   int64  \n",
      " 5   Protocol                    2615 non-null   int64  \n",
      " 6   Timestamp                   2615 non-null   object \n",
      " 7   Flow Duration               2615 non-null   int64  \n",
      " 8   Total Fwd Packet            2615 non-null   int64  \n",
      " 9   Total Bwd packets           2615 non-null   int64  \n",
      " 10  Total Length of Fwd Packet  2615 non-null   float64\n",
      " 11  Total Length of Bwd Packet  2615 non-null   float64\n",
      " 12  Fwd Packet Length Max       2615 non-null   float64\n",
      " 13  Fwd Packet Length Min       2615 non-null   float64\n",
      " 14  Fwd Packet Length Mean      2615 non-null   float64\n",
      " 15  Fwd Packet Length Std       2615 non-null   float64\n",
      " 16  Bwd Packet Length Max       2615 non-null   float64\n",
      " 17  Bwd Packet Length Min       2615 non-null   float64\n",
      " 18  Bwd Packet Length Mean      2615 non-null   float64\n",
      " 19  Bwd Packet Length Std       2615 non-null   float64\n",
      " 20  Flow Bytes/s                2615 non-null   float64\n",
      " 21  Flow Packets/s              2615 non-null   float64\n",
      " 22  Flow IAT Mean               2615 non-null   float64\n",
      " 23  Flow IAT Std                2615 non-null   float64\n",
      " 24  Flow IAT Max                2615 non-null   float64\n",
      " 25  Flow IAT Min                2615 non-null   float64\n",
      " 26  Fwd IAT Total               2615 non-null   float64\n",
      " 27  Fwd IAT Mean                2615 non-null   float64\n",
      " 28  Fwd IAT Std                 2615 non-null   float64\n",
      " 29  Fwd IAT Max                 2615 non-null   float64\n",
      " 30  Fwd IAT Min                 2615 non-null   float64\n",
      " 31  Bwd IAT Total               2615 non-null   float64\n",
      " 32  Bwd IAT Mean                2615 non-null   float64\n",
      " 33  Bwd IAT Std                 2615 non-null   float64\n",
      " 34  Bwd IAT Max                 2615 non-null   float64\n",
      " 35  Bwd IAT Min                 2615 non-null   float64\n",
      " 36  Fwd PSH Flags               2615 non-null   int64  \n",
      " 37  Bwd PSH Flags               2615 non-null   int64  \n",
      " 38  Fwd URG Flags               2615 non-null   int64  \n",
      " 39  Bwd URG Flags               2615 non-null   int64  \n",
      " 40  Fwd Header Length           2615 non-null   int64  \n",
      " 41  Bwd Header Length           2615 non-null   int64  \n",
      " 42  Fwd Packets/s               2615 non-null   float64\n",
      " 43  Bwd Packets/s               2615 non-null   float64\n",
      " 44  Packet Length Min           2615 non-null   float64\n",
      " 45  Packet Length Max           2615 non-null   float64\n",
      " 46  Packet Length Mean          2615 non-null   float64\n",
      " 47  Packet Length Std           2615 non-null   float64\n",
      " 48  Packet Length Variance      2615 non-null   float64\n",
      " 49  FIN Flag Count              2615 non-null   int64  \n",
      " 50  SYN Flag Count              2615 non-null   int64  \n",
      " 51  RST Flag Count              2615 non-null   int64  \n",
      " 52  PSH Flag Count              2615 non-null   int64  \n",
      " 53  ACK Flag Count              2615 non-null   int64  \n",
      " 54  URG Flag Count              2615 non-null   int64  \n",
      " 55  CWR Flag Count              2615 non-null   int64  \n",
      " 56  ECE Flag Count              2615 non-null   int64  \n",
      " 57  Down/Up Ratio               2615 non-null   float64\n",
      " 58  Average Packet Size         2615 non-null   float64\n",
      " 59  Fwd Segment Size Avg        2615 non-null   float64\n",
      " 60  Bwd Segment Size Avg        2615 non-null   float64\n",
      " 61  Fwd Bytes/Bulk Avg          2615 non-null   int64  \n",
      " 62  Fwd Packet/Bulk Avg         2615 non-null   int64  \n",
      " 63  Fwd Bulk Rate Avg           2615 non-null   int64  \n",
      " 64  Bwd Bytes/Bulk Avg          2615 non-null   int64  \n",
      " 65  Bwd Packet/Bulk Avg         2615 non-null   int64  \n",
      " 66  Bwd Bulk Rate Avg           2615 non-null   int64  \n",
      " 67  Subflow Fwd Packets         2615 non-null   int64  \n",
      " 68  Subflow Fwd Bytes           2615 non-null   int64  \n",
      " 69  Subflow Bwd Packets         2615 non-null   int64  \n",
      " 70  Subflow Bwd Bytes           2615 non-null   int64  \n",
      " 71  FWD Init Win Bytes          2615 non-null   int64  \n",
      " 72  Bwd Init Win Bytes          2615 non-null   int64  \n",
      " 73  Fwd Act Data Pkts           2615 non-null   int64  \n",
      " 74  Fwd Seg Size Min            2615 non-null   int64  \n",
      " 75  Active Mean                 2615 non-null   float64\n",
      " 76  Active Std                  2615 non-null   float64\n",
      " 77  Active Max                  2615 non-null   float64\n",
      " 78  Active Min                  2615 non-null   float64\n",
      " 79  Idle Mean                   2615 non-null   float64\n",
      " 80  Idle Std                    2615 non-null   float64\n",
      " 81  Idle Max                    2615 non-null   float64\n",
      " 82  Idle Min                    2615 non-null   float64\n",
      " 83  Activity                    2615 non-null   object \n",
      " 84  Stage                       2615 non-null   object \n",
      "dtypes: float64(45), int64(34), object(6)\n",
      "memory usage: 1.7+ MB\n"
     ]
    }
   ],
   "source": [
    "sample_priv.info()"
   ]
  },
  {
   "cell_type": "code",
   "execution_count": 16,
   "metadata": {},
   "outputs": [
    {
     "data": {
      "text/plain": [
       "Activity\n",
       "Normal    2615\n",
       "Name: count, dtype: int64"
      ]
     },
     "execution_count": 16,
     "metadata": {},
     "output_type": "execute_result"
    }
   ],
   "source": [
    "sample_priv['Activity'].value_counts()"
   ]
  },
  {
   "cell_type": "code",
   "execution_count": 17,
   "metadata": {},
   "outputs": [
    {
     "data": {
      "text/plain": [
       "Stage\n",
       "Benign    2615\n",
       "Name: count, dtype: int64"
      ]
     },
     "execution_count": 17,
     "metadata": {},
     "output_type": "execute_result"
    }
   ],
   "source": [
    "sample_priv['Stage'].value_counts()"
   ]
  },
  {
   "cell_type": "code",
   "execution_count": 30,
   "metadata": {},
   "outputs": [
    {
     "name": "stdout",
     "output_type": "stream",
     "text": [
      "enp0s3-monday.pcap_Flow.csv\n",
      "enp0s3-public-thursday.pcap_Flow.csv\n",
      "enp0s3-public-tuesday.pcap_Flow.csv\n",
      "enp0s3-tcpdump-pvt-friday.pcap_Flow.csv\n",
      "enp0s3-tcpdump-friday.pcap_Flow.csv\n",
      "enp0s3-pvt-thursday.pcap_Flow.csv\n",
      "enp0s3-monday-pvt.pcap_Flow.csv\n",
      "enp0s3-public-wednesday.pcap_Flow.csv\n",
      "enp0s3-pvt-wednesday.pcap_Flow.csv\n",
      "enp0s3-pvt-tuesday.pcap_Flow.csv\n"
     ]
    }
   ],
   "source": [
    "# Ok, load all CSVs into a single variable\n",
    "data_all = pd.DataFrame()\n",
    "\n",
    "for file in os.listdir(DATA_PATH_CSVS):\n",
    "    if file.endswith('.csv'):\n",
    "        # Load the file and merge with existing DataFrame\n",
    "        data_part = pd.read_csv(os.path.join(DATA_PATH_CSVS, file))\n",
    "\n",
    "        data_all = pd.concat([data_all, data_part])"
   ]
  },
  {
   "cell_type": "code",
   "execution_count": 29,
   "metadata": {},
   "outputs": [
    {
     "name": "stdout",
     "output_type": "stream",
     "text": [
      "<class 'pandas.core.frame.DataFrame'>\n",
      "Index: 86690 entries, 0 to 2614\n",
      "Data columns (total 170 columns):\n",
      " #    Column                      Dtype  \n",
      "---   ------                      -----  \n",
      " 0    Flow ID                     object \n",
      " 1    Src IP                      object \n",
      " 2    Src Port                    float64\n",
      " 3    Dst IP                      object \n",
      " 4    Dst Port                    float64\n",
      " 5    Protocol                    float64\n",
      " 6    Timestamp                   object \n",
      " 7    Flow Duration               float64\n",
      " 8    Total Fwd Packet            float64\n",
      " 9    Total Bwd packets           float64\n",
      " 10   Total Length of Fwd Packet  float64\n",
      " 11   Total Length of Bwd Packet  float64\n",
      " 12   Fwd Packet Length Max       float64\n",
      " 13   Fwd Packet Length Min       float64\n",
      " 14   Fwd Packet Length Mean      float64\n",
      " 15   Fwd Packet Length Std       float64\n",
      " 16   Bwd Packet Length Max       float64\n",
      " 17   Bwd Packet Length Min       float64\n",
      " 18   Bwd Packet Length Mean      float64\n",
      " 19   Bwd Packet Length Std       float64\n",
      " 20   Flow Bytes/s                float64\n",
      " 21   Flow Packets/s              float64\n",
      " 22   Flow IAT Mean               float64\n",
      " 23   Flow IAT Std                float64\n",
      " 24   Flow IAT Max                float64\n",
      " 25   Flow IAT Min                float64\n",
      " 26   Fwd IAT Total               float64\n",
      " 27   Fwd IAT Mean                float64\n",
      " 28   Fwd IAT Std                 float64\n",
      " 29   Fwd IAT Max                 float64\n",
      " 30   Fwd IAT Min                 float64\n",
      " 31   Bwd IAT Total               float64\n",
      " 32   Bwd IAT Mean                float64\n",
      " 33   Bwd IAT Std                 float64\n",
      " 34   Bwd IAT Max                 float64\n",
      " 35   Bwd IAT Min                 float64\n",
      " 36   Fwd PSH Flags               float64\n",
      " 37   Bwd PSH Flags               float64\n",
      " 38   Fwd URG Flags               float64\n",
      " 39   Bwd URG Flags               float64\n",
      " 40   Fwd Header Length           float64\n",
      " 41   Bwd Header Length           float64\n",
      " 42   Fwd Packets/s               float64\n",
      " 43   Bwd Packets/s               float64\n",
      " 44   Packet Length Min           float64\n",
      " 45   Packet Length Max           float64\n",
      " 46   Packet Length Mean          float64\n",
      " 47   Packet Length Std           float64\n",
      " 48   Packet Length Variance      float64\n",
      " 49   FIN Flag Count              float64\n",
      " 50   SYN Flag Count              float64\n",
      " 51   RST Flag Count              float64\n",
      " 52   PSH Flag Count              float64\n",
      " 53   ACK Flag Count              float64\n",
      " 54   URG Flag Count              float64\n",
      " 55   CWR Flag Count              float64\n",
      " 56   ECE Flag Count              float64\n",
      " 57   Down/Up Ratio               float64\n",
      " 58   Average Packet Size         float64\n",
      " 59   Fwd Segment Size Avg        float64\n",
      " 60   Bwd Segment Size Avg        float64\n",
      " 61   Fwd Bytes/Bulk Avg          float64\n",
      " 62   Fwd Packet/Bulk Avg         float64\n",
      " 63   Fwd Bulk Rate Avg           float64\n",
      " 64   Bwd Bytes/Bulk Avg          float64\n",
      " 65   Bwd Packet/Bulk Avg         float64\n",
      " 66   Bwd Bulk Rate Avg           float64\n",
      " 67   Subflow Fwd Packets         float64\n",
      " 68   Subflow Fwd Bytes           float64\n",
      " 69   Subflow Bwd Packets         float64\n",
      " 70   Subflow Bwd Bytes           float64\n",
      " 71   FWD Init Win Bytes          float64\n",
      " 72   Bwd Init Win Bytes          float64\n",
      " 73   Fwd Act Data Pkts           float64\n",
      " 74   Fwd Seg Size Min            float64\n",
      " 75   Active Mean                 float64\n",
      " 76   Active Std                  float64\n",
      " 77   Active Max                  float64\n",
      " 78   Active Min                  float64\n",
      " 79   Idle Mean                   float64\n",
      " 80   Idle Std                    float64\n",
      " 81   Idle Max                    float64\n",
      " 82   Idle Min                    float64\n",
      " 83   Activity                    object \n",
      " 84   Stage                       object \n",
      " 85   0.87.248.248-3.0.0.0-0-0-0  object \n",
      " 86   0.87.248.248                object \n",
      " 87   0                           float64\n",
      " 88   3.0.0.0                     object \n",
      " 89   0.1                         float64\n",
      " 90   0.2                         float64\n",
      " 91   18/07/2019 11:31:58 AM      object \n",
      " 92   119999645                   float64\n",
      " 93   2                           float64\n",
      " 94   1                           float64\n",
      " 95   0.0                         float64\n",
      " 96   0.0.1                       float64\n",
      " 97   0.0.2                       float64\n",
      " 98   0.0.3                       float64\n",
      " 99   0.0.4                       float64\n",
      " 100  0.0.5                       float64\n",
      " 101  0.0.6                       float64\n",
      " 102  0.0.7                       float64\n",
      " 103  0.0.8                       float64\n",
      " 104  0.0.9                       float64\n",
      " 105  0.0.10                      float64\n",
      " 106  0.0250000739586             float64\n",
      " 107  59999822.5                  float64\n",
      " 108  238.29498526                float64\n",
      " 109  59999991.0                  float64\n",
      " 110  59999654.0                  float64\n",
      " 111  59999991.0.1                float64\n",
      " 112  59999991.0.2                float64\n",
      " 113  0.0.11                      float64\n",
      " 114  59999991.0.3                float64\n",
      " 115  59999991.0.4                float64\n",
      " 116  0.0.12                      float64\n",
      " 117  0.0.13                      float64\n",
      " 118  0.0.14                      float64\n",
      " 119  0.0.15                      float64\n",
      " 120  0.0.16                      float64\n",
      " 121  0.3                         float64\n",
      " 122  0.4                         float64\n",
      " 123  0.5                         float64\n",
      " 124  0.6                         float64\n",
      " 125  0.7                         float64\n",
      " 126  0.8                         float64\n",
      " 127  0.0166667159724             float64\n",
      " 128  0.00833335798618            float64\n",
      " 129  0.0.17                      float64\n",
      " 130  0.0.18                      float64\n",
      " 131  0.0.19                      float64\n",
      " 132  0.0.20                      float64\n",
      " 133  0.0.21                      float64\n",
      " 134  0.9                         float64\n",
      " 135  0.10                        float64\n",
      " 136  0.11                        float64\n",
      " 137  0.12                        float64\n",
      " 138  0.13                        float64\n",
      " 139  0.14                        float64\n",
      " 140  0.15                        float64\n",
      " 141  0.16                        float64\n",
      " 142  0.0.22                      float64\n",
      " 143  0.0.23                      float64\n",
      " 144  0.0.24                      float64\n",
      " 145  0.0.25                      float64\n",
      " 146  0.17                        float64\n",
      " 147  0.18                        float64\n",
      " 148  0.19                        float64\n",
      " 149  0.20                        float64\n",
      " 150  0.21                        float64\n",
      " 151  0.22                        float64\n",
      " 152  2.1                         float64\n",
      " 153  0.23                        float64\n",
      " 154  1.1                         float64\n",
      " 155  0.24                        float64\n",
      " 156  -1                          float64\n",
      " 157  -1.1                        float64\n",
      " 158  0.25                        float64\n",
      " 159  0.26                        float64\n",
      " 160  0.0.26                      float64\n",
      " 161  0.0.27                      float64\n",
      " 162  0.0.28                      float64\n",
      " 163  0.0.29                      float64\n",
      " 164  59999822.5.1                float64\n",
      " 165  238.29498526.1              float64\n",
      " 166  59999991.0.5                float64\n",
      " 167  59999654.0.1                float64\n",
      " 168  Normal                      object \n",
      " 169  Benign                      object \n",
      "dtypes: float64(158), object(12)\n",
      "memory usage: 113.1+ MB\n"
     ]
    }
   ],
   "source": [
    "data_all.info(verbose=True)"
   ]
  },
  {
   "cell_type": "markdown",
   "metadata": {},
   "source": [
    "It was found by manual analysis that the thursday private file does not have a header. Therefore, we append the header manually and rerun the loading process."
   ]
  },
  {
   "cell_type": "code",
   "execution_count": 49,
   "metadata": {},
   "outputs": [],
   "source": [
    "THURSDAY_PATH = DATA_PATH_CSVS + 'enp0s3-pvt-thursday.pcap_Flow.csv'\n",
    "HEADER = \"\""
   ]
  },
  {
   "cell_type": "code",
   "execution_count": 63,
   "metadata": {},
   "outputs": [
    {
     "data": {
      "text/plain": [
       "'Flow ID,Src IP,Src Port,Dst IP,Dst Port,Protocol,Timestamp,Flow Duration,Total Fwd Packet,Total Bwd packets,Total Length of Fwd Packet,Total Length of Bwd Packet,Fwd Packet Length Max,Fwd Packet Length Min,Fwd Packet Length Mean,Fwd Packet Length Std,Bwd Packet Length Max,Bwd Packet Length Min,Bwd Packet Length Mean,Bwd Packet Length Std,Flow Bytes/s,Flow Packets/s,Flow IAT Mean,Flow IAT Std,Flow IAT Max,Flow IAT Min,Fwd IAT Total,Fwd IAT Mean,Fwd IAT Std,Fwd IAT Max,Fwd IAT Min,Bwd IAT Total,Bwd IAT Mean,Bwd IAT Std,Bwd IAT Max,Bwd IAT Min,Fwd PSH Flags,Bwd PSH Flags,Fwd URG Flags,Bwd URG Flags,Fwd Header Length,Bwd Header Length,Fwd Packets/s,Bwd Packets/s,Packet Length Min,Packet Length Max,Packet Length Mean,Packet Length Std,Packet Length Variance,FIN Flag Count,SYN Flag Count,RST Flag Count,PSH Flag Count,ACK Flag Count,URG Flag Count,CWR Flag Count,ECE Flag Count,Down/Up Ratio,Average Packet Size,Fwd Segment Size Avg,Bwd Segment Size Avg,Fwd Bytes/Bulk Avg,Fwd Packet/Bulk Avg,Fwd Bulk Rate Avg,Bwd Bytes/Bulk Avg,Bwd Packet/Bulk Avg,Bwd Bulk Rate Avg,Subflow Fwd Packets,Subflow Fwd Bytes,Subflow Bwd Packets,Subflow Bwd Bytes,FWD Init Win Bytes,Bwd Init Win Bytes,Fwd Act Data Pkts,Fwd Seg Size Min,Active Mean,Active Std,Active Max,Active Min,Idle Mean,Idle Std,Idle Max,Idle Min,Activity,Stage\\n'"
      ]
     },
     "execution_count": 63,
     "metadata": {},
     "output_type": "execute_result"
    }
   ],
   "source": [
    "with open(SAMPLE_PRIV_CSV_PATH) as f:\n",
    "    HEADER = f.readline()\n",
    "\n",
    "HEADER"
   ]
  },
  {
   "cell_type": "code",
   "execution_count": 69,
   "metadata": {},
   "outputs": [
    {
     "data": {
      "text/plain": [
       "'/data/dapt2020/csv/enp0s3-pvt-thursday.pcap_Flow.csv2'"
      ]
     },
     "execution_count": 69,
     "metadata": {},
     "output_type": "execute_result"
    }
   ],
   "source": [
    "# Copy a an old file as a backup and give it csv2 extension so it would not be included in the next loop\n",
    "shutil.copyfile(THURSDAY_PATH, f'{THURSDAY_PATH}2')\n"
   ]
  },
  {
   "cell_type": "code",
   "execution_count": 80,
   "metadata": {},
   "outputs": [],
   "source": [
    "# Copy an old file contents\n",
    "with open(f'{THURSDAY_PATH}2', 'r') as f:\n",
    "    contents_old = f.read()"
   ]
  },
  {
   "cell_type": "code",
   "execution_count": 90,
   "metadata": {},
   "outputs": [],
   "source": [
    "# Append the header to the original CSV file\n",
    "with open(THURSDAY_PATH, 'w', encoding='UTF-8') as f:\n",
    "    f.write(f'{HEADER}{contents_old}')"
   ]
  },
  {
   "cell_type": "code",
   "execution_count": 91,
   "metadata": {},
   "outputs": [
    {
     "name": "stdout",
     "output_type": "stream",
     "text": [
      "Flow ID,Src IP,Src Port,Dst IP,Dst Port,Protocol,Timestamp,Flow Duration,Total Fwd Packet,Total Bwd packets,Total Length of Fwd Packet,Total Length of Bwd Packet,Fwd Packet Length Max,Fwd Packet Length Min,Fwd Packet Length Mean,Fwd Packet Length Std,Bwd Packet Length Max,Bwd Packet Length Min,Bwd Packet Length Mean,Bwd Packet Length Std,Flow Bytes/s,Flow Packets/s,Flow IAT Mean,Flow IAT Std,Flow IAT Max,Flow IAT Min,Fwd IAT Total,Fwd IAT Mean,Fwd IAT Std,Fwd IAT Max,Fwd IAT Min,Bwd IAT Total,Bwd IAT Mean,Bwd IAT Std,Bwd IAT Max,Bwd IAT Min,Fwd PSH Flags,Bwd PSH Flags,Fwd URG Flags,Bwd URG Flags,Fwd Header Length,Bwd Header Length,Fwd Packets/s,Bwd Packets/s,Packet Length Min,Packet Length Max,Packet Length Mean,Packet Length Std,Packet Length Variance,FIN Flag Count,SYN Flag Count,RST Flag Count,PSH Flag Count,ACK Flag Count,URG Flag Count,CWR Flag Count,ECE Flag Count,Down/Up Ratio,Average Packet Size,Fwd Segment Size Avg,Bwd Segment Size Avg,Fwd Bytes/Bulk Avg,Fwd Packet/Bulk Avg,Fwd Bulk Rate Avg,Bwd Bytes/Bulk Avg,Bwd Packet/Bulk Avg,Bwd Bulk Rate Avg,Subflow Fwd Packets,Subflow Fwd Bytes,Subflow Bwd Packets,Subflow Bwd Bytes,FWD Init Win Bytes,Bwd Init Win Bytes,Fwd Act Data Pkts,Fwd Seg Size Min,Active Mean,Active Std,Active Max,Active Min,Idle Mean,Idle Std,Idle Max,Idle Min,Activity,Stage\n",
      "0.87.248.248-3.0.0.0-0-0-0,0.87.248.248,0,3.0.0.0,0,0,18/07/2019 11:31:58 AM,119999645,2,1,0.0,0.0,0.0,0.0,0.0,0.0,0.0,0.0,0.0,0.0,0.0,0.0250000739586,59999822.5,238.29498526,59999991.0,59999654.0,59999991.0,59999991.0,0.0,59999991.0,59999991.0,0.0,0.0,0.0,0.0,0.0,0,0,0,0,0,0,0.0166667159724,0.00833335798618,0.0,0.0,0.0,0.0,0.0,0,0,0,0,0,0,0,0,0.0,0.0,0.0,0.0,0,0,0,0,0,0,2,0,1,0,-1,-1,0,0,0.0,0.0,0.0,0.0,59999822.5,238.29498526,59999991.0,59999654.0,Normal,Benign\n",
      "192.168.3.1-192.168.3.30-59591-22-6,192.168.3.30,22,192.168.3.1,59591,6,18/07/2019 11:33:21 AM,119999805,439076,219571,25845736.0,4216.0,1936.0,40.0,58.8639233299,49.826551280699995,56.0,0.0,0.019201078466599998,0.878497954868,215416.616719,5488.73391919,182.191655305,127.837428286,9510.0,7.0,119999502.0,273.300693503,138.814823953,9644.0,51.0,119999725.0,546.5214965609999,202.89867839299998,11553.0,7.0,0,1,0,0,14050432,7026272,3658.9726125,1829.7613067000002,0.0,1936.0,39.2470758281,49.2424838801,2424.82221868,0,0,0,1,1,0,0,0,0.0,39.247135415500004,58.8639233299,0.019201078466599998,0,0,0,0,0,0,439076,25845736,219571,4216,-1,1444,439076,0,0.0,0.0,0.0,0.0,0.0,0.0,0.0,0.0,Normal,Benign\n",
      "192.168.3.10-239.2.11.71-53569-8662-17,192.168.3.10,53569,239.2.11.71,8662,17,18/07/2019 11:33:22 AM,100030818,22,1,1108.0,52.0,52.0,48.0,50.363636363599994,2.01294511896,52.0,52.0,52.0,0.0,11.5964262134,0.229929140438,4546855.36364,7101534.499969999,20006777.0,2.0,98004570.0,4666884.2857099995,7254004.515,20006777.0,2.0,0.0,0.0,0.0,0.0,0.0,0,0,0,0,176,8,0.21993222128800002,0.009996919149459998,48.0,52.0,50.5,1.9781414201900003,3.9130434782599997,0,0,0,0,0,0,0,0,0.0,52.6956521739,50.363636363599994,52.0,0,0,0,0,0,0,22,1108,1,52,-1,-1,22,0,1489875.3333299998,1115097.30367,2235410.0,207946.0,13651598.8571,5776164.92527,20006777.0,6328398.0,Normal,Benign\n",
      "8.0.6.4-8.6.0.1-0-0-0,8.6.0.1,0,8.0.6.4,0,0,18/07/2019 11:33:21 AM,118783234,244,1,0.0,0.0,0.0,0.0,0.0,0.0,0.0,0.0,0.0,0.0,0.0,2.0625806500599997,486816.532787,396069.838221,2216708.0,7.0,118177594.0,486327.547325,396813.51059699996,2216708.0,7.0,0.0,0.0,0.0,0.0,0.0,0,0,0,0,0,0,2.05416195353,0.00841869653086,0.0,0.0,0.0,0.0,0.0,0,0,0,0,0,0,0,0,0.0,0.0,0.0,0.0,0,0,0,0,0,0,244,0,1,0,-1,-1,0,0,0.0,0.0,0.0,0.0,0.0,0.0,0.0,0.0,Normal,Benign\n",
      "192.168.3.30-192.168.3.31-42004-9200-6,192.168.3.30,42004,192.168.3.31,9200,6,18/07/2019 11:33:23 AM,85023456,7,9,6049.0,3362.0,2019.0,0.0,864.142857143,1077.77694485,2017.0,0.0,373.555555556,638.813179089,110.687102627,0.18818336436500002,5668230.4,11930844.8176,35001940.0,8.0,85014206.0,14169034.3333,15938595.1711,35001940.0,6366.0,85023444.0,10627930.5,14981873.3001,35002240.0,330.0,0,1,0,0,224,288,0.0823302219096,0.10585314245500001,0.0,2019.0,672.2352941180001,904.963917058,818959.691176,0,0,0,1,1,0,0,0,1.0,714.25,864.142857143,373.555555556,0,0,0,0,0,0,7,6049,9,3362,-1,2053,3,0,7491.33333333,1542.78881683,9250.0,6366.0,28331495.3333,5776775.5083800005,35001940.0,24992921.0,Normal,Benign\n",
      "255.255.255.255-0.0.0.0-67-68-17,0.0.0.0,68,255.255.255.255,67,17,18/07/2019 11:33:23 AM,119255106,88,1,25523.0,296.0,296.0,289.0,290.03409090900004,2.49803998402,296.0,296.0,296.0,0.0,216.50226028900002,0.7462992821459999,1355171.65909,1365667.2055600001,5126778.0,33343.0,119161125.0,1369668.10345,1366757.31103,5126778.0,33343.0,0.0,0.0,0.0,0.0,0.0,0,0,0,0,704,8,0.737913896953,0.00838538519265,289.0,296.0,290.166666667,2.6233609114900003,6.882022471910001,0,0,0,0,0,0,0,0,0.0,293.42696629200003,290.03409090900004,296.0,0,0,0,0,0,0,88,25523,1,296,-1,-1,88,0,19101456.25,9657390.17694,23930781.0,4615371.0,5113883.75,8612.15119758,5126778.0,5108853.0,Normal,Benign\n",
      "192.168.3.1-192.168.3.30-59591-22-6,192.168.3.30,22,192.168.3.1,59591,6,18/07/2019 11:35:21 AM,119999917,441206,220625,25672936.0,4176.0,1752.0,40.0,58.1880935436,41.347264583699996,56.0,0.0,0.0189280453258,0.872254653439,213976.08133299998,5515.26214806,181.315318133,127.703390649,16206.0,5.0,119999423.0,271.981104022,139.848193238,18536.0,51.0,119999917.0,543.911437559,203.51484059900002,20370.0,5.0,0,1,0,0,14118592,7060000,3676.71920973,1838.54293833,0.0,1752.0,38.7971086318,43.495885791999996,1891.89208083,0,0,0,1,1,0,0,0,0.0,38.7971672527,58.1880935436,0.0189280453258,0,0,0,0,0,0,441206,25672936,220625,4176,-1,1444,441206,0,0.0,0.0,0.0,0.0,0.0,0.0,0.0,0.0,Normal,Benign\n",
      "192.168.3.10-239.2.11.71-53569-8662-17,192.168.3.10,53569,239.2.11.71,8662,17,18/07/2019 11:35:22 AM,100023399,23,1,1176.0,52.0,56.0,48.0,51.130434782600005,2.39894575,52.0,52.0,52.0,0.0,12.277127275,0.239943855537,4348843.434780001,7522767.248380001,20006371.0,2.0,80017028.0,3637137.63636,6861635.48809,19898629.0,2.0,0.0,0.0,0.0,0.0,0.0,0,0,0,0,184,8,0.22994619489,0.00999766064739,48.0,56.0,51.2,2.30940107676,5.33333333333,0,0,0,0,0,0,0,0,0.0,53.3333333333,51.130434782600005,52.0,0,0,0,0,0,0,23,1176,1,52,-1,-1,23,0,1287383.6666700002,2142591.59969,3760743.0,19.0,16026874.6667,5148394.29344,20006371.0,6816617.0,Normal,Benign\n",
      "8.0.6.4-8.6.0.1-0-0-0,8.6.0.1,0,8.0.6.4,0,0,18/07/2019 11:35:22 AM,119002516,246,1,0.0,0.0,0.0,0.0,0.0,0.0,0.0,0.0,0.0,0.0,0.0,2.07558636827,483750.06504099997,390442.58785999997,2216555.0,8.0,118396700.0,483251.836735,391163.48948000005,2216555.0,8.0,0.0,0.0,0.0,0.0,0.0,0,0,0,0,0,0,2.0671831846,0.00840318367723,0.0,0.0,0.0,0.0,0.0,0,0,0,0,0,0,0,0,0.0,0.0,0.0,0.0,0,0,0,0,0,0,246,0,1,0,-1,-1,0,0,0.0,0.0,0.0,0.0,0.0,0.0,0.0,0.0,Normal,Benign\n"
     ]
    }
   ],
   "source": [
    "!head $THURSDAY_PATH"
   ]
  },
  {
   "cell_type": "markdown",
   "metadata": {},
   "source": [
    "# The Entire Dataset"
   ]
  },
  {
   "cell_type": "code",
   "execution_count": 92,
   "metadata": {},
   "outputs": [],
   "source": [
    "# Let's go once again\n",
    "data_all = pd.DataFrame()\n",
    "\n",
    "for file in os.listdir(DATA_PATH_CSVS):\n",
    "    if file.endswith('.csv'):\n",
    "        # Load the file and merge with existing DataFrame\n",
    "        data_part = pd.read_csv(os.path.join(DATA_PATH_CSVS, file))\n",
    "\n",
    "        data_all = pd.concat([data_all, data_part])"
   ]
  },
  {
   "cell_type": "code",
   "execution_count": 93,
   "metadata": {},
   "outputs": [
    {
     "name": "stdout",
     "output_type": "stream",
     "text": [
      "<class 'pandas.core.frame.DataFrame'>\n",
      "Index: 86691 entries, 0 to 2614\n",
      "Data columns (total 85 columns):\n",
      " #   Column                      Non-Null Count  Dtype  \n",
      "---  ------                      --------------  -----  \n",
      " 0   Flow ID                     86691 non-null  object \n",
      " 1   Src IP                      86691 non-null  object \n",
      " 2   Src Port                    86691 non-null  int64  \n",
      " 3   Dst IP                      86691 non-null  object \n",
      " 4   Dst Port                    86691 non-null  int64  \n",
      " 5   Protocol                    86691 non-null  int64  \n",
      " 6   Timestamp                   86691 non-null  object \n",
      " 7   Flow Duration               86691 non-null  int64  \n",
      " 8   Total Fwd Packet            86691 non-null  int64  \n",
      " 9   Total Bwd packets           86691 non-null  int64  \n",
      " 10  Total Length of Fwd Packet  86691 non-null  float64\n",
      " 11  Total Length of Bwd Packet  86691 non-null  float64\n",
      " 12  Fwd Packet Length Max       86691 non-null  float64\n",
      " 13  Fwd Packet Length Min       86691 non-null  float64\n",
      " 14  Fwd Packet Length Mean      86691 non-null  float64\n",
      " 15  Fwd Packet Length Std       86691 non-null  float64\n",
      " 16  Bwd Packet Length Max       86691 non-null  float64\n",
      " 17  Bwd Packet Length Min       86691 non-null  float64\n",
      " 18  Bwd Packet Length Mean      86691 non-null  float64\n",
      " 19  Bwd Packet Length Std       86691 non-null  float64\n",
      " 20  Flow Bytes/s                86691 non-null  float64\n",
      " 21  Flow Packets/s              86691 non-null  float64\n",
      " 22  Flow IAT Mean               86691 non-null  float64\n",
      " 23  Flow IAT Std                86691 non-null  float64\n",
      " 24  Flow IAT Max                86691 non-null  float64\n",
      " 25  Flow IAT Min                86691 non-null  float64\n",
      " 26  Fwd IAT Total               86691 non-null  float64\n",
      " 27  Fwd IAT Mean                86691 non-null  float64\n",
      " 28  Fwd IAT Std                 86691 non-null  float64\n",
      " 29  Fwd IAT Max                 86691 non-null  float64\n",
      " 30  Fwd IAT Min                 86691 non-null  float64\n",
      " 31  Bwd IAT Total               86691 non-null  float64\n",
      " 32  Bwd IAT Mean                86691 non-null  float64\n",
      " 33  Bwd IAT Std                 86691 non-null  float64\n",
      " 34  Bwd IAT Max                 86691 non-null  float64\n",
      " 35  Bwd IAT Min                 86691 non-null  float64\n",
      " 36  Fwd PSH Flags               86691 non-null  int64  \n",
      " 37  Bwd PSH Flags               86691 non-null  int64  \n",
      " 38  Fwd URG Flags               86691 non-null  int64  \n",
      " 39  Bwd URG Flags               86691 non-null  int64  \n",
      " 40  Fwd Header Length           86691 non-null  int64  \n",
      " 41  Bwd Header Length           86691 non-null  int64  \n",
      " 42  Fwd Packets/s               86691 non-null  float64\n",
      " 43  Bwd Packets/s               86691 non-null  float64\n",
      " 44  Packet Length Min           86691 non-null  float64\n",
      " 45  Packet Length Max           86691 non-null  float64\n",
      " 46  Packet Length Mean          86691 non-null  float64\n",
      " 47  Packet Length Std           86691 non-null  float64\n",
      " 48  Packet Length Variance      86691 non-null  float64\n",
      " 49  FIN Flag Count              86691 non-null  int64  \n",
      " 50  SYN Flag Count              86691 non-null  int64  \n",
      " 51  RST Flag Count              86691 non-null  int64  \n",
      " 52  PSH Flag Count              86691 non-null  int64  \n",
      " 53  ACK Flag Count              86691 non-null  int64  \n",
      " 54  URG Flag Count              86691 non-null  int64  \n",
      " 55  CWR Flag Count              86691 non-null  int64  \n",
      " 56  ECE Flag Count              86691 non-null  int64  \n",
      " 57  Down/Up Ratio               86691 non-null  float64\n",
      " 58  Average Packet Size         86691 non-null  float64\n",
      " 59  Fwd Segment Size Avg        86691 non-null  float64\n",
      " 60  Bwd Segment Size Avg        86691 non-null  float64\n",
      " 61  Fwd Bytes/Bulk Avg          86691 non-null  int64  \n",
      " 62  Fwd Packet/Bulk Avg         86691 non-null  int64  \n",
      " 63  Fwd Bulk Rate Avg           86691 non-null  int64  \n",
      " 64  Bwd Bytes/Bulk Avg          86691 non-null  int64  \n",
      " 65  Bwd Packet/Bulk Avg         86691 non-null  int64  \n",
      " 66  Bwd Bulk Rate Avg           86691 non-null  int64  \n",
      " 67  Subflow Fwd Packets         86691 non-null  int64  \n",
      " 68  Subflow Fwd Bytes           86691 non-null  int64  \n",
      " 69  Subflow Bwd Packets         86691 non-null  int64  \n",
      " 70  Subflow Bwd Bytes           86691 non-null  int64  \n",
      " 71  FWD Init Win Bytes          86691 non-null  int64  \n",
      " 72  Bwd Init Win Bytes          86691 non-null  int64  \n",
      " 73  Fwd Act Data Pkts           86691 non-null  int64  \n",
      " 74  Fwd Seg Size Min            86691 non-null  int64  \n",
      " 75  Active Mean                 86691 non-null  float64\n",
      " 76  Active Std                  86691 non-null  float64\n",
      " 77  Active Max                  86691 non-null  float64\n",
      " 78  Active Min                  86691 non-null  float64\n",
      " 79  Idle Mean                   86691 non-null  float64\n",
      " 80  Idle Std                    86691 non-null  float64\n",
      " 81  Idle Max                    86691 non-null  float64\n",
      " 82  Idle Min                    86691 non-null  float64\n",
      " 83  Activity                    86691 non-null  object \n",
      " 84  Stage                       86691 non-null  object \n",
      "dtypes: float64(45), int64(34), object(6)\n",
      "memory usage: 56.9+ MB\n"
     ]
    }
   ],
   "source": [
    "data_all.info()"
   ]
  },
  {
   "cell_type": "code",
   "execution_count": 94,
   "metadata": {},
   "outputs": [
    {
     "data": {
      "text/plain": [
       "Activity\n",
       "Normal                    44258\n",
       "BENIGN                    19454\n",
       "Directory Bruteforce       9970\n",
       "Network Scan               7742\n",
       "Web Vulnerability Scan     2574\n",
       "Account Discovery          2408\n",
       "Account Bruteforce          141\n",
       "SQL Injection                84\n",
       "Backdoor                     20\n",
       "Privilege Escalation         13\n",
       "Command Injection            12\n",
       "CSRF                          7\n",
       "Data Exfiltration             6\n",
       "Malware Download              2\n",
       "Name: count, dtype: int64"
      ]
     },
     "execution_count": 94,
     "metadata": {},
     "output_type": "execute_result"
    }
   ],
   "source": [
    "data_all['Activity'].value_counts()"
   ]
  },
  {
   "cell_type": "code",
   "execution_count": 111,
   "metadata": {},
   "outputs": [
    {
     "data": {
      "image/png": "[encoded data removed]",
      "text/plain": [
       "<Figure size 640x480 with 1 Axes>"
      ]
     },
     "metadata": {},
     "output_type": "display_data"
    }
   ],
   "source": [
    "data_all['Activity'].value_counts().plot.pie()"
   ]
  },
  {
   "cell_type": "code",
   "execution_count": 95,
   "metadata": {},
   "outputs": [
    {
     "data": {
      "text/plain": [
       "Stage\n",
       "Benign                44258\n",
       "BENIGN                19454\n",
       "Reconnaissance        11909\n",
       "Establish Foothold     8604\n",
       "Lateral Movement       2451\n",
       "Data Exfiltration        15\n",
       "Name: count, dtype: int64"
      ]
     },
     "execution_count": 95,
     "metadata": {},
     "output_type": "execute_result"
    }
   ],
   "source": [
    "data_all['Stage'].value_counts()"
   ]
  },
  {
   "cell_type": "code",
   "execution_count": 124,
   "metadata": {},
   "outputs": [
    {
     "data": {
      "text/plain": [
       "Src IP\n",
       "192.168.3.29       39805\n",
       "206.207.50.50      18327\n",
       "184.98.36.245       5268\n",
       "192.168.3.30        3132\n",
       "192.168.3.10        2693\n",
       "                   ...  \n",
       "172.217.11.67         23\n",
       "172.217.5.66          23\n",
       "52.42.232.148         23\n",
       "173.194.162.171       23\n",
       "172.217.14.102        22\n",
       "Name: count, Length: 63, dtype: int64"
      ]
     },
     "execution_count": 124,
     "metadata": {},
     "output_type": "execute_result"
    }
   ],
   "source": [
    "src_ips = data_all['Src IP'].value_counts()\n",
    "\n",
    "# Lets filter out only IPs with 100 or more flows over 5 days\n",
    "src_ips[src_ips > 20]"
   ]
  },
  {
   "cell_type": "code",
   "execution_count": 131,
   "metadata": {},
   "outputs": [
    {
     "data": {
      "text/plain": [
       "100239471"
      ]
     },
     "execution_count": 131,
     "metadata": {},
     "output_type": "execute_result"
    }
   ],
   "source": [
    "# 77,139,733 packets were counted from PCAP analysis - flows are disproportionate. Verify if the counts match\n",
    "data_all['Total Fwd Packet'].sum() + data_all['Total Bwd packets'].sum()"
   ]
  },
  {
   "cell_type": "markdown",
   "metadata": {},
   "source": [
    "100,239,471 from flows vs. 77,139,733 based on packets... some PCAP data are apparently missing."
   ]
  },
  {
   "cell_type": "code",
   "execution_count": 112,
   "metadata": {},
   "outputs": [],
   "source": [
    "# Let's verify the time -- e.g., Monday\n",
    "FILE_PATH_MONDAY = DATA_PATH_CSVS + 'enp0s3-monday.pcap_Flow.csv'"
   ]
  },
  {
   "cell_type": "code",
   "execution_count": 113,
   "metadata": {},
   "outputs": [],
   "source": [
    "mon_data = pd.read_csv(FILE_PATH_MONDAY)"
   ]
  },
  {
   "cell_type": "code",
   "execution_count": 116,
   "metadata": {},
   "outputs": [
    {
     "data": {
      "text/plain": [
       "0       15/07/2019 01:45:37 PM\n",
       "2       15/07/2019 01:45:38 PM\n",
       "3       15/07/2019 01:45:38 PM\n",
       "3310    15/07/2019 01:45:38 PM\n",
       "141     15/07/2019 01:45:39 PM\n",
       "                 ...          \n",
       "4929    15/07/2019 09:29:56 PM\n",
       "5931    15/07/2019 09:29:56 PM\n",
       "6926    15/07/2019 09:29:56 PM\n",
       "3584    15/07/2019 09:30:09 PM\n",
       "7550    15/07/2019 09:30:10 PM\n",
       "Name: Timestamp, Length: 8728, dtype: object"
      ]
     },
     "execution_count": 116,
     "metadata": {},
     "output_type": "execute_result"
    }
   ],
   "source": [
    "mon_data['Timestamp'].sort_values()"
   ]
  },
  {
   "cell_type": "code",
   "execution_count": 117,
   "metadata": {},
   "outputs": [
    {
     "data": {
      "text/plain": [
       "198      16/07/2019 01:00:43 PM\n",
       "205      16/07/2019 01:00:58 PM\n",
       "202      16/07/2019 01:01:10 PM\n",
       "19998    16/07/2019 01:01:17 PM\n",
       "203      16/07/2019 01:01:20 PM\n",
       "                  ...          \n",
       "25113    16/07/2019 12:59:21 PM\n",
       "26105    16/07/2019 12:59:21 PM\n",
       "12083    16/07/2019 12:59:21 PM\n",
       "206      16/07/2019 12:59:22 PM\n",
       "200      16/07/2019 12:59:38 PM\n",
       "Name: Timestamp, Length: 29242, dtype: object"
      ]
     },
     "execution_count": 117,
     "metadata": {},
     "output_type": "execute_result"
    }
   ],
   "source": [
    "sample['Timestamp'].sort_values()"
   ]
  },
  {
   "cell_type": "code",
   "execution_count": 118,
   "metadata": {},
   "outputs": [
    {
     "data": {
      "text/plain": [
       "240     16/07/2019 01:00:11 PM\n",
       "2054    16/07/2019 01:00:41 PM\n",
       "247     16/07/2019 01:01:00 PM\n",
       "248     16/07/2019 01:01:10 PM\n",
       "244     16/07/2019 01:01:11 PM\n",
       "                 ...          \n",
       "241     16/07/2019 12:58:59 PM\n",
       "242     16/07/2019 12:59:10 PM\n",
       "239     16/07/2019 12:59:11 PM\n",
       "243     16/07/2019 12:59:29 PM\n",
       "2549    16/07/2019 12:59:41 PM\n",
       "Name: Timestamp, Length: 2615, dtype: object"
      ]
     },
     "execution_count": 118,
     "metadata": {},
     "output_type": "execute_result"
    }
   ],
   "source": [
    "sample_priv['Timestamp'].sort_values()"
   ]
  },
  {
   "cell_type": "markdown",
   "metadata": {},
   "source": [
    "In this case, sine the capture is declared to be periodic, it cannot be continuous as mearued in other datasets."
   ]
  }
 ],
 "metadata": {
  "kernelspec": {
   "display_name": "env",
   "language": "python",
   "name": "python3"
  },
  "language_info": {
   "codemirror_mode": {
    "name": "ipython",
    "version": 3
   },
   "file_extension": ".py",
   "mimetype": "text/x-python",
   "name": "python",
   "nbconvert_exporter": "python",
   "pygments_lexer": "ipython3",
   "version": "3.12.2"
  }
 },
 "nbformat": 4,
 "nbformat_minor": 2
}
