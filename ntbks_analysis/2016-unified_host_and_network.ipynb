{
 "cells": [
  {
   "cell_type": "markdown",
   "metadata": {},
   "source": [
    "# Unified Host and Network Dataset Analysis\n",
    "\n",
    "* **Author:** Patrik Goldschmidt (igoldschmidt@fit.vut.cz)\n",
    "* **Project:** Network Intrusion Datasets: A Survey, Limitations, and Recommendations\n",
    "* **Date:** 2024"
   ]
  },
  {
   "cell_type": "code",
   "execution_count": 1,
   "metadata": {},
   "outputs": [],
   "source": [
    "import pandas as pd\n",
    "import numpy as np\n",
    "\n",
    "pd.set_option('display.max_columns', None)"
   ]
  },
  {
   "cell_type": "code",
   "execution_count": 2,
   "metadata": {},
   "outputs": [],
   "source": [
    "FILE_SAMPLE_PATH = '/data/disk2/unified/netflow_day-48'"
   ]
  },
  {
   "cell_type": "code",
   "execution_count": 3,
   "metadata": {},
   "outputs": [],
   "source": [
    "# Specify file header\n",
    "FLOWS_FEATURES = [\n",
    "    'Time',\n",
    "    'Duration',\n",
    "    'SrcDevice',\n",
    "    'DstDevice',\n",
    "    'Protocol',\n",
    "    'SrcPort',\n",
    "    'DstPort',\n",
    "    'SrcPackets',\n",
    "    'DstPackets',\n",
    "    'SrcBytes',\n",
    "    'DstBytes',\n",
    "]"
   ]
  },
  {
   "cell_type": "code",
   "execution_count": 4,
   "metadata": {},
   "outputs": [
    {
     "name": "stdout",
     "output_type": "stream",
     "text": [
      "174830805 /data/disk2/unified/netflow_day-48\n"
     ]
    }
   ],
   "source": [
    "!wc -l $FILE_SAMPLE_PATH"
   ]
  },
  {
   "cell_type": "code",
   "execution_count": 5,
   "metadata": {},
   "outputs": [],
   "source": [
    "# The file looks big, load only 10M rows\n",
    "data = pd.read_csv(FILE_SAMPLE_PATH, names=FLOWS_FEATURES, nrows=25000000)"
   ]
  },
  {
   "cell_type": "code",
   "execution_count": 6,
   "metadata": {},
   "outputs": [
    {
     "name": "stdout",
     "output_type": "stream",
     "text": [
      "<class 'pandas.core.frame.DataFrame'>\n",
      "RangeIndex: 25000000 entries, 0 to 24999999\n",
      "Data columns (total 11 columns):\n",
      " #   Column      Dtype \n",
      "---  ------      ----- \n",
      " 0   Time        int64 \n",
      " 1   Duration    int64 \n",
      " 2   SrcDevice   object\n",
      " 3   DstDevice   object\n",
      " 4   Protocol    int64 \n",
      " 5   SrcPort     object\n",
      " 6   DstPort     object\n",
      " 7   SrcPackets  int64 \n",
      " 8   DstPackets  int64 \n",
      " 9   SrcBytes    int64 \n",
      " 10  DstBytes    int64 \n",
      "dtypes: int64(7), object(4)\n",
      "memory usage: 2.0+ GB\n"
     ]
    }
   ],
   "source": [
    "data.info()"
   ]
  },
  {
   "cell_type": "code",
   "execution_count": 7,
   "metadata": {},
   "outputs": [
    {
     "data": {
      "text/html": [
       "<div>\n",
       "<style scoped>\n",
       "    .dataframe tbody tr th:only-of-type {\n",
       "        vertical-align: middle;\n",
       "    }\n",
       "\n",
       "    .dataframe tbody tr th {\n",
       "        vertical-align: top;\n",
       "    }\n",
       "\n",
       "    .dataframe thead th {\n",
       "        text-align: right;\n",
       "    }\n",
       "</style>\n",
       "<table border=\"1\" class=\"dataframe\">\n",
       "  <thead>\n",
       "    <tr style=\"text-align: right;\">\n",
       "      <th></th>\n",
       "      <th>Time</th>\n",
       "      <th>Duration</th>\n",
       "      <th>Protocol</th>\n",
       "      <th>SrcPackets</th>\n",
       "      <th>DstPackets</th>\n",
       "      <th>SrcBytes</th>\n",
       "      <th>DstBytes</th>\n",
       "    </tr>\n",
       "  </thead>\n",
       "  <tbody>\n",
       "    <tr>\n",
       "      <th>count</th>\n",
       "      <td>2.500000e+07</td>\n",
       "      <td>2.500000e+07</td>\n",
       "      <td>2.500000e+07</td>\n",
       "      <td>2.500000e+07</td>\n",
       "      <td>2.500000e+07</td>\n",
       "      <td>2.500000e+07</td>\n",
       "      <td>2.500000e+07</td>\n",
       "    </tr>\n",
       "    <tr>\n",
       "      <th>mean</th>\n",
       "      <td>4.067552e+06</td>\n",
       "      <td>7.241933e+02</td>\n",
       "      <td>8.951324e+00</td>\n",
       "      <td>9.698847e+01</td>\n",
       "      <td>6.401048e+01</td>\n",
       "      <td>3.077075e+04</td>\n",
       "      <td>2.970177e+04</td>\n",
       "    </tr>\n",
       "    <tr>\n",
       "      <th>std</th>\n",
       "      <td>3.901965e+03</td>\n",
       "      <td>1.528002e+04</td>\n",
       "      <td>4.876554e+00</td>\n",
       "      <td>8.771516e+04</td>\n",
       "      <td>3.127444e+04</td>\n",
       "      <td>1.144353e+07</td>\n",
       "      <td>6.214358e+06</td>\n",
       "    </tr>\n",
       "    <tr>\n",
       "      <th>min</th>\n",
       "      <td>4.060800e+06</td>\n",
       "      <td>0.000000e+00</td>\n",
       "      <td>1.000000e+00</td>\n",
       "      <td>0.000000e+00</td>\n",
       "      <td>0.000000e+00</td>\n",
       "      <td>0.000000e+00</td>\n",
       "      <td>0.000000e+00</td>\n",
       "    </tr>\n",
       "    <tr>\n",
       "      <th>25%</th>\n",
       "      <td>4.064132e+06</td>\n",
       "      <td>1.000000e+00</td>\n",
       "      <td>6.000000e+00</td>\n",
       "      <td>0.000000e+00</td>\n",
       "      <td>0.000000e+00</td>\n",
       "      <td>0.000000e+00</td>\n",
       "      <td>0.000000e+00</td>\n",
       "    </tr>\n",
       "    <tr>\n",
       "      <th>50%</th>\n",
       "      <td>4.067351e+06</td>\n",
       "      <td>1.000000e+00</td>\n",
       "      <td>6.000000e+00</td>\n",
       "      <td>2.000000e+00</td>\n",
       "      <td>1.000000e+00</td>\n",
       "      <td>1.970000e+02</td>\n",
       "      <td>4.600000e+01</td>\n",
       "    </tr>\n",
       "    <tr>\n",
       "      <th>75%</th>\n",
       "      <td>4.071134e+06</td>\n",
       "      <td>1.000000e+00</td>\n",
       "      <td>1.700000e+01</td>\n",
       "      <td>5.000000e+00</td>\n",
       "      <td>4.000000e+00</td>\n",
       "      <td>6.150000e+02</td>\n",
       "      <td>4.650000e+02</td>\n",
       "    </tr>\n",
       "    <tr>\n",
       "      <th>max</th>\n",
       "      <td>4.074591e+06</td>\n",
       "      <td>1.222324e+06</td>\n",
       "      <td>1.700000e+01</td>\n",
       "      <td>2.941236e+08</td>\n",
       "      <td>5.791101e+07</td>\n",
       "      <td>3.577329e+10</td>\n",
       "      <td>1.137884e+10</td>\n",
       "    </tr>\n",
       "  </tbody>\n",
       "</table>\n",
       "</div>"
      ],
      "text/plain": [
       "               Time      Duration      Protocol    SrcPackets    DstPackets  \\\n",
       "count  2.500000e+07  2.500000e+07  2.500000e+07  2.500000e+07  2.500000e+07   \n",
       "mean   4.067552e+06  7.241933e+02  8.951324e+00  9.698847e+01  6.401048e+01   \n",
       "std    3.901965e+03  1.528002e+04  4.876554e+00  8.771516e+04  3.127444e+04   \n",
       "min    4.060800e+06  0.000000e+00  1.000000e+00  0.000000e+00  0.000000e+00   \n",
       "25%    4.064132e+06  1.000000e+00  6.000000e+00  0.000000e+00  0.000000e+00   \n",
       "50%    4.067351e+06  1.000000e+00  6.000000e+00  2.000000e+00  1.000000e+00   \n",
       "75%    4.071134e+06  1.000000e+00  1.700000e+01  5.000000e+00  4.000000e+00   \n",
       "max    4.074591e+06  1.222324e+06  1.700000e+01  2.941236e+08  5.791101e+07   \n",
       "\n",
       "           SrcBytes      DstBytes  \n",
       "count  2.500000e+07  2.500000e+07  \n",
       "mean   3.077075e+04  2.970177e+04  \n",
       "std    1.144353e+07  6.214358e+06  \n",
       "min    0.000000e+00  0.000000e+00  \n",
       "25%    0.000000e+00  0.000000e+00  \n",
       "50%    1.970000e+02  4.600000e+01  \n",
       "75%    6.150000e+02  4.650000e+02  \n",
       "max    3.577329e+10  1.137884e+10  "
      ]
     },
     "execution_count": 7,
     "metadata": {},
     "output_type": "execute_result"
    }
   ],
   "source": [
    "data.describe()"
   ]
  },
  {
   "cell_type": "code",
   "execution_count": 8,
   "metadata": {},
   "outputs": [
    {
     "data": {
      "text/html": [
       "<div>\n",
       "<style scoped>\n",
       "    .dataframe tbody tr th:only-of-type {\n",
       "        vertical-align: middle;\n",
       "    }\n",
       "\n",
       "    .dataframe tbody tr th {\n",
       "        vertical-align: top;\n",
       "    }\n",
       "\n",
       "    .dataframe thead th {\n",
       "        text-align: right;\n",
       "    }\n",
       "</style>\n",
       "<table border=\"1\" class=\"dataframe\">\n",
       "  <thead>\n",
       "    <tr style=\"text-align: right;\">\n",
       "      <th></th>\n",
       "      <th>Time</th>\n",
       "      <th>Duration</th>\n",
       "      <th>SrcDevice</th>\n",
       "      <th>DstDevice</th>\n",
       "      <th>Protocol</th>\n",
       "      <th>SrcPort</th>\n",
       "      <th>DstPort</th>\n",
       "      <th>SrcPackets</th>\n",
       "      <th>DstPackets</th>\n",
       "      <th>SrcBytes</th>\n",
       "      <th>DstBytes</th>\n",
       "    </tr>\n",
       "  </thead>\n",
       "  <tbody>\n",
       "    <tr>\n",
       "      <th>0</th>\n",
       "      <td>4060800</td>\n",
       "      <td>0</td>\n",
       "      <td>Comp546437</td>\n",
       "      <td>Comp576843</td>\n",
       "      <td>6</td>\n",
       "      <td>Port67184</td>\n",
       "      <td>443</td>\n",
       "      <td>11</td>\n",
       "      <td>0</td>\n",
       "      <td>2454</td>\n",
       "      <td>0</td>\n",
       "    </tr>\n",
       "    <tr>\n",
       "      <th>1</th>\n",
       "      <td>4060800</td>\n",
       "      <td>0</td>\n",
       "      <td>Comp621354</td>\n",
       "      <td>Comp275646</td>\n",
       "      <td>17</td>\n",
       "      <td>Port47461</td>\n",
       "      <td>53</td>\n",
       "      <td>1</td>\n",
       "      <td>0</td>\n",
       "      <td>63</td>\n",
       "      <td>0</td>\n",
       "    </tr>\n",
       "    <tr>\n",
       "      <th>2</th>\n",
       "      <td>4060800</td>\n",
       "      <td>0</td>\n",
       "      <td>Comp621354</td>\n",
       "      <td>Comp275646</td>\n",
       "      <td>17</td>\n",
       "      <td>Port03657</td>\n",
       "      <td>53</td>\n",
       "      <td>1</td>\n",
       "      <td>0</td>\n",
       "      <td>63</td>\n",
       "      <td>0</td>\n",
       "    </tr>\n",
       "    <tr>\n",
       "      <th>3</th>\n",
       "      <td>4060800</td>\n",
       "      <td>0</td>\n",
       "      <td>Comp621354</td>\n",
       "      <td>ActiveDirectory</td>\n",
       "      <td>17</td>\n",
       "      <td>Port31492</td>\n",
       "      <td>389</td>\n",
       "      <td>1</td>\n",
       "      <td>0</td>\n",
       "      <td>171</td>\n",
       "      <td>0</td>\n",
       "    </tr>\n",
       "    <tr>\n",
       "      <th>4</th>\n",
       "      <td>4060800</td>\n",
       "      <td>0</td>\n",
       "      <td>Comp621354</td>\n",
       "      <td>ActiveDirectory</td>\n",
       "      <td>17</td>\n",
       "      <td>Port53645</td>\n",
       "      <td>389</td>\n",
       "      <td>1</td>\n",
       "      <td>0</td>\n",
       "      <td>171</td>\n",
       "      <td>0</td>\n",
       "    </tr>\n",
       "  </tbody>\n",
       "</table>\n",
       "</div>"
      ],
      "text/plain": [
       "      Time  Duration   SrcDevice        DstDevice  Protocol    SrcPort  \\\n",
       "0  4060800         0  Comp546437       Comp576843         6  Port67184   \n",
       "1  4060800         0  Comp621354       Comp275646        17  Port47461   \n",
       "2  4060800         0  Comp621354       Comp275646        17  Port03657   \n",
       "3  4060800         0  Comp621354  ActiveDirectory        17  Port31492   \n",
       "4  4060800         0  Comp621354  ActiveDirectory        17  Port53645   \n",
       "\n",
       "  DstPort  SrcPackets  DstPackets  SrcBytes  DstBytes  \n",
       "0     443          11           0      2454         0  \n",
       "1      53           1           0        63         0  \n",
       "2      53           1           0        63         0  \n",
       "3     389           1           0       171         0  \n",
       "4     389           1           0       171         0  "
      ]
     },
     "execution_count": 8,
     "metadata": {},
     "output_type": "execute_result"
    }
   ],
   "source": [
    "data.head(5)"
   ]
  },
  {
   "cell_type": "code",
   "execution_count": 9,
   "metadata": {},
   "outputs": [
    {
     "data": {
      "text/plain": [
       "SrcDevice\n",
       "Comp030334    1381218\n",
       "Comp257274    1380289\n",
       "Comp866402    1379894\n",
       "Comp965575    1379411\n",
       "Comp844043     848297\n",
       "               ...   \n",
       "Comp455916          1\n",
       "Comp269470          1\n",
       "Comp530442          1\n",
       "Comp023028          1\n",
       "Comp645475          1\n",
       "Name: count, Length: 21414, dtype: int64"
      ]
     },
     "execution_count": 9,
     "metadata": {},
     "output_type": "execute_result"
    }
   ],
   "source": [
    "data['SrcDevice'].value_counts()"
   ]
  },
  {
   "cell_type": "code",
   "execution_count": 10,
   "metadata": {},
   "outputs": [
    {
     "data": {
      "text/plain": [
       "DstDevice\n",
       "Comp275646             3365418\n",
       "ActiveDirectory        1565397\n",
       "EnterpriseAppServer    1523014\n",
       "Comp576843             1481947\n",
       "Comp576031             1370069\n",
       "                        ...   \n",
       "IP696748                     1\n",
       "IP733202                     1\n",
       "IP530273                     1\n",
       "IP452958                     1\n",
       "IP407296                     1\n",
       "Name: count, Length: 46620, dtype: int64"
      ]
     },
     "execution_count": 10,
     "metadata": {},
     "output_type": "execute_result"
    }
   ],
   "source": [
    "data['DstDevice'].value_counts()"
   ]
  },
  {
   "cell_type": "code",
   "execution_count": 11,
   "metadata": {},
   "outputs": [
    {
     "data": {
      "text/plain": [
       "Protocol\n",
       "6     18280388\n",
       "17     6711322\n",
       "1         8290\n",
       "Name: count, dtype: int64"
      ]
     },
     "execution_count": 11,
     "metadata": {},
     "output_type": "execute_result"
    }
   ],
   "source": [
    "data['Protocol'].value_counts()"
   ]
  },
  {
   "cell_type": "code",
   "execution_count": 12,
   "metadata": {},
   "outputs": [
    {
     "data": {
      "text/plain": [
       "SrcPort\n",
       "Port87103    44726\n",
       "Port95765    41923\n",
       "Port59844    21412\n",
       "137          18850\n",
       "Port20995    18554\n",
       "             ...  \n",
       "Port34251        1\n",
       "Port29457        1\n",
       "515              1\n",
       "Port71531        1\n",
       "533              1\n",
       "Name: count, Length: 64962, dtype: int64"
      ]
     },
     "execution_count": 12,
     "metadata": {},
     "output_type": "execute_result"
    }
   ],
   "source": [
    "data['SrcPort'].value_counts()"
   ]
  },
  {
   "cell_type": "code",
   "execution_count": 13,
   "metadata": {},
   "outputs": [
    {
     "data": {
      "text/plain": [
       "DstPort\n",
       "53           3671860\n",
       "80           3114892\n",
       "443          3051519\n",
       "514          1579977\n",
       "389           764749\n",
       "427           539379\n",
       "88            486279\n",
       "Port92667     426792\n",
       "445           417521\n",
       "Port95765     413952\n",
       "Name: count, dtype: int64"
      ]
     },
     "execution_count": 13,
     "metadata": {},
     "output_type": "execute_result"
    }
   ],
   "source": [
    "data['DstPort'].value_counts().head(10)"
   ]
  },
  {
   "cell_type": "markdown",
   "metadata": {},
   "source": [
    "## Time Continuity Analysis"
   ]
  },
  {
   "cell_type": "code",
   "execution_count": 14,
   "metadata": {},
   "outputs": [
    {
     "data": {
      "text/plain": [
       "13791"
      ]
     },
     "execution_count": 14,
     "metadata": {},
     "output_type": "execute_result"
    }
   ],
   "source": [
    "data['Time'].iloc[-1] - data['Time'].iloc[0]"
   ]
  },
  {
   "cell_type": "code",
   "execution_count": 15,
   "metadata": {},
   "outputs": [
    {
     "data": {
      "text/plain": [
       "0.14299539489050572"
      ]
     },
     "execution_count": 15,
     "metadata": {},
     "output_type": "execute_result"
    }
   ],
   "source": [
    "# Compute how much does the current load cover from the whole file\n",
    "25000000 / 174830805"
   ]
  },
  {
   "cell_type": "markdown",
   "metadata": {},
   "source": [
    "So, 14.3% covers 13791 seconds (~3h 50m)"
   ]
  },
  {
   "cell_type": "code",
   "execution_count": 16,
   "metadata": {},
   "outputs": [],
   "source": [
    "data_sorted = data.sort_values(by='Time', ascending=False)"
   ]
  },
  {
   "cell_type": "code",
   "execution_count": 17,
   "metadata": {},
   "outputs": [],
   "source": [
    "data_sorted['tstamp'] = pd.to_datetime(data_sorted['Time'], unit='s')"
   ]
  },
  {
   "cell_type": "code",
   "execution_count": 18,
   "metadata": {},
   "outputs": [],
   "source": [
    "def measure_real_capture_dur(data: pd.Series, gap_max_secs: int = 300) -> float:\n",
    "    \"\"\"Computes total timespan of the capture. Expects iterable containing timestamps objects sorted in a descending manner\"\"\"\n",
    "    total_dur = pd.Timedelta(seconds=0)\n",
    "    current_dur = pd.Timedelta(seconds=0)\n",
    "    cont_durations = []\n",
    "    last_tstamp = data.iloc[0]\n",
    "    contiguous = True\n",
    "\n",
    "    # Iterate through the dataframe to find out gaps\n",
    "    for cur_tstamp in data:\n",
    "        dur_gap = last_tstamp - cur_tstamp\n",
    "\n",
    "        if dur_gap <= pd.Timedelta(seconds=gap_max_secs):\n",
    "            total_dur += dur_gap\n",
    "            current_dur += dur_gap\n",
    "        else:\n",
    "            cont_durations.append(current_dur)\n",
    "            current_dur = 0\n",
    "\n",
    "            if contiguous:\n",
    "                contiguous = False\n",
    "\n",
    "        last_tstamp = cur_tstamp\n",
    "\n",
    "    cont_durations.sort(reverse=True)\n",
    "\n",
    "    return total_dur, contiguous, cont_durations\n"
   ]
  },
  {
   "cell_type": "code",
   "execution_count": 19,
   "metadata": {},
   "outputs": [
    {
     "data": {
      "text/plain": [
       "(Timedelta('0 days 03:49:51'), True, [])"
      ]
     },
     "execution_count": 19,
     "metadata": {},
     "output_type": "execute_result"
    }
   ],
   "source": [
    "measure_real_capture_dur(data_sorted['tstamp'], 138)"
   ]
  },
  {
   "cell_type": "markdown",
   "metadata": {},
   "source": [
    "This loaded capture part is continuous. Since it is infeasible to analyze the whole notebook, and we trust the documentation, we consider the whole capture as continuous."
   ]
  }
 ],
 "metadata": {
  "kernelspec": {
   "display_name": "env",
   "language": "python",
   "name": "python3"
  },
  "language_info": {
   "codemirror_mode": {
    "name": "ipython",
    "version": 3
   },
   "file_extension": ".py",
   "mimetype": "text/x-python",
   "name": "python",
   "nbconvert_exporter": "python",
   "pygments_lexer": "ipython3",
   "version": "3.12.3"
  }
 },
 "nbformat": 4,
 "nbformat_minor": 2
}
