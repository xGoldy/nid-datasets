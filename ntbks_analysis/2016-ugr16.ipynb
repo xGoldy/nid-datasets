{
 "cells": [
  {
   "cell_type": "markdown",
   "id": "33a79e8d-82f2-49c4-8178-e73067c198d8",
   "metadata": {},
   "source": [
    "# UGR'16 dataset brief analysis"
   ]
  },
  {
   "cell_type": "markdown",
   "id": "5a175570-35f7-49fb-ac1d-8ccfadb29414",
   "metadata": {},
   "source": [
    "* **Author:** Patrik Goldschmidt (igoldschmidt@fit.vut.cz)\n",
    "* **Project:** Network Intrusion Datasets: A Survey, Limitations, and Recommendations\n",
    "* **Date:** 2022, 2024\n",
    "\n",
    "This analysis was also performed as a part of an other project, so its structure may be different from other notebooks."
   ]
  },
  {
   "cell_type": "markdown",
   "id": "c371d29b-f89e-42e8-9314-8b9796b3f14a",
   "metadata": {},
   "source": [
    "Dataset homepage:\n",
    "- https://nesg.ugr.es/nesg-ugr16/index.php\n",
    "\n",
    "Dataset paper:\n",
    "- https://nesg.ugr.es/nesg-ugr16/dataset_AuthorVersionFinal.pdf"
   ]
  },
  {
   "cell_type": "markdown",
   "id": "e6245654-6142-4205-8675-bfb231b54013",
   "metadata": {},
   "source": [
    "This analysis uses the following subsets:\n",
    "- https://nesg.ugr.es/nesg-ugr16/march_week3.php#INI\n",
    "- https://nesg.ugr.es/nesg-ugr16/may_week1.php#INI"
   ]
  },
  {
   "cell_type": "code",
   "execution_count": 1,
   "id": "ff2023e4-ebed-469d-8750-3e1e88f725d8",
   "metadata": {},
   "outputs": [],
   "source": [
    "# Imports and settings\n",
    "%matplotlib inline\n",
    "\n",
    "import matplotlib.pyplot as plt\n",
    "import numpy as np\n",
    "import pandas as pd\n",
    "import seaborn as sns\n",
    "\n",
    "pd.set_option(\"display.precision\", 4)\n",
    "pd.set_option('display.max_columns', None)"
   ]
  },
  {
   "cell_type": "markdown",
   "id": "0d2e966e-0249-4fe4-8530-aca926a36a85",
   "metadata": {},
   "source": [
    "## Dataset features"
   ]
  },
  {
   "cell_type": "code",
   "execution_count": 2,
   "id": "eacf9b9a-392e-4568-92b6-1ec83f9989a4",
   "metadata": {},
   "outputs": [],
   "source": [
    "# Column names as derived from the UGR'16 dataset documentation\n",
    "colnames = ['te',  # timestamp of the end of the flow\n",
    "            'td',  # duration of the flow\n",
    "            'sa',  # source IP address\n",
    "            'da',  # destination IP address\n",
    "            'sp',  # source port\n",
    "            'dp',  # destination port\n",
    "            'pro', # L4 protocol\n",
    "            'flg', # flags\n",
    "            'fwd', # forwarding status\n",
    "            'tos', # type of service\n",
    "            'pkt', # number of packets exchanged in the flow\n",
    "            'byt', # number of bytes exchanged in the flow\n",
    "            'label']"
   ]
  },
  {
   "cell_type": "markdown",
   "id": "fb0c1a36-8852-4883-b54c-17e139b90bce",
   "metadata": {},
   "source": [
    "## Dataset attacks span information example"
   ]
  },
  {
   "cell_type": "markdown",
   "id": "240e9822-9148-4c47-9bd2-37a500256fbc",
   "metadata": {},
   "source": [
    "Each week is provided with a CSV file with timestamps defining when is which attack happening\n",
    "\n",
    "Example of a timestamps file for March, week 3rd"
   ]
  },
  {
   "cell_type": "code",
   "execution_count": 3,
   "id": "f0ced474-be04-4ace-8739-3c89091c37f8",
   "metadata": {},
   "outputs": [],
   "source": [
    "# Read the attacks timestamp information\n",
    "ugr_times = pd.read_csv('attack_ts_march_week3.csv')"
   ]
  },
  {
   "cell_type": "code",
   "execution_count": 4,
   "id": "8a99e0f0-484d-4607-adc0-d42af92680b5",
   "metadata": {},
   "outputs": [
    {
     "data": {
      "text/html": [
       "<div>\n",
       "<style scoped>\n",
       "    .dataframe tbody tr th:only-of-type {\n",
       "        vertical-align: middle;\n",
       "    }\n",
       "\n",
       "    .dataframe tbody tr th {\n",
       "        vertical-align: top;\n",
       "    }\n",
       "\n",
       "    .dataframe thead th {\n",
       "        text-align: right;\n",
       "    }\n",
       "</style>\n",
       "<table border=\"1\" class=\"dataframe\">\n",
       "  <thead>\n",
       "    <tr style=\"text-align: right;\">\n",
       "      <th></th>\n",
       "      <th>Unnamed: 0</th>\n",
       "      <th>counter(mins)</th>\n",
       "      <th>Dos</th>\n",
       "      <th>scan44</th>\n",
       "      <th>scan11</th>\n",
       "      <th>nerisbotnet</th>\n",
       "      <th>blacklist</th>\n",
       "      <th>anomaly-udpscan</th>\n",
       "      <th>anomaly-sshscan</th>\n",
       "      <th>anomaly-spam</th>\n",
       "    </tr>\n",
       "  </thead>\n",
       "  <tbody>\n",
       "    <tr>\n",
       "      <th>0</th>\n",
       "      <td>2016-03-18 10:47:00</td>\n",
       "      <td>0</td>\n",
       "      <td>0</td>\n",
       "      <td>0</td>\n",
       "      <td>0</td>\n",
       "      <td>0</td>\n",
       "      <td>0</td>\n",
       "      <td>0</td>\n",
       "      <td>0</td>\n",
       "      <td>0</td>\n",
       "    </tr>\n",
       "    <tr>\n",
       "      <th>1</th>\n",
       "      <td>2016-03-18 10:48:00</td>\n",
       "      <td>1</td>\n",
       "      <td>0</td>\n",
       "      <td>0</td>\n",
       "      <td>0</td>\n",
       "      <td>0</td>\n",
       "      <td>0</td>\n",
       "      <td>0</td>\n",
       "      <td>0</td>\n",
       "      <td>0</td>\n",
       "    </tr>\n",
       "    <tr>\n",
       "      <th>2</th>\n",
       "      <td>2016-03-18 10:49:00</td>\n",
       "      <td>2</td>\n",
       "      <td>0</td>\n",
       "      <td>0</td>\n",
       "      <td>0</td>\n",
       "      <td>0</td>\n",
       "      <td>0</td>\n",
       "      <td>0</td>\n",
       "      <td>0</td>\n",
       "      <td>0</td>\n",
       "    </tr>\n",
       "    <tr>\n",
       "      <th>3</th>\n",
       "      <td>2016-03-18 10:50:00</td>\n",
       "      <td>3</td>\n",
       "      <td>0</td>\n",
       "      <td>0</td>\n",
       "      <td>0</td>\n",
       "      <td>0</td>\n",
       "      <td>0</td>\n",
       "      <td>0</td>\n",
       "      <td>0</td>\n",
       "      <td>0</td>\n",
       "    </tr>\n",
       "    <tr>\n",
       "      <th>4</th>\n",
       "      <td>2016-03-18 10:51:00</td>\n",
       "      <td>4</td>\n",
       "      <td>0</td>\n",
       "      <td>0</td>\n",
       "      <td>0</td>\n",
       "      <td>0</td>\n",
       "      <td>0</td>\n",
       "      <td>0</td>\n",
       "      <td>0</td>\n",
       "      <td>0</td>\n",
       "    </tr>\n",
       "  </tbody>\n",
       "</table>\n",
       "</div>"
      ],
      "text/plain": [
       "            Unnamed: 0  counter(mins)  Dos  scan44  scan11  nerisbotnet  \\\n",
       "0  2016-03-18 10:47:00              0    0       0       0            0   \n",
       "1  2016-03-18 10:48:00              1    0       0       0            0   \n",
       "2  2016-03-18 10:49:00              2    0       0       0            0   \n",
       "3  2016-03-18 10:50:00              3    0       0       0            0   \n",
       "4  2016-03-18 10:51:00              4    0       0       0            0   \n",
       "\n",
       "   blacklist  anomaly-udpscan  anomaly-sshscan  anomaly-spam  \n",
       "0          0                0                0             0  \n",
       "1          0                0                0             0  \n",
       "2          0                0                0             0  \n",
       "3          0                0                0             0  \n",
       "4          0                0                0             0  "
      ]
     },
     "execution_count": 4,
     "metadata": {},
     "output_type": "execute_result"
    }
   ],
   "source": [
    "# See a few dataset timing fields\n",
    "ugr_times.head()"
   ]
  },
  {
   "cell_type": "code",
   "execution_count": 5,
   "id": "0131c1c4-d265-4d42-9952-8c568c1c50e0",
   "metadata": {},
   "outputs": [
    {
     "data": {
      "text/html": [
       "<div>\n",
       "<style scoped>\n",
       "    .dataframe tbody tr th:only-of-type {\n",
       "        vertical-align: middle;\n",
       "    }\n",
       "\n",
       "    .dataframe tbody tr th {\n",
       "        vertical-align: top;\n",
       "    }\n",
       "\n",
       "    .dataframe thead th {\n",
       "        text-align: right;\n",
       "    }\n",
       "</style>\n",
       "<table border=\"1\" class=\"dataframe\">\n",
       "  <thead>\n",
       "    <tr style=\"text-align: right;\">\n",
       "      <th></th>\n",
       "      <th>Unnamed: 0</th>\n",
       "      <th>counter(mins)</th>\n",
       "      <th>Dos</th>\n",
       "      <th>scan44</th>\n",
       "      <th>scan11</th>\n",
       "      <th>nerisbotnet</th>\n",
       "      <th>blacklist</th>\n",
       "      <th>anomaly-udpscan</th>\n",
       "      <th>anomaly-sshscan</th>\n",
       "      <th>anomaly-spam</th>\n",
       "    </tr>\n",
       "  </thead>\n",
       "  <tbody>\n",
       "    <tr>\n",
       "      <th>3668</th>\n",
       "      <td>2016-03-20 23:55:00</td>\n",
       "      <td>3668</td>\n",
       "      <td>0</td>\n",
       "      <td>0</td>\n",
       "      <td>0</td>\n",
       "      <td>0</td>\n",
       "      <td>1</td>\n",
       "      <td>0</td>\n",
       "      <td>0</td>\n",
       "      <td>0</td>\n",
       "    </tr>\n",
       "    <tr>\n",
       "      <th>3669</th>\n",
       "      <td>2016-03-20 23:56:00</td>\n",
       "      <td>3669</td>\n",
       "      <td>0</td>\n",
       "      <td>0</td>\n",
       "      <td>0</td>\n",
       "      <td>0</td>\n",
       "      <td>1</td>\n",
       "      <td>0</td>\n",
       "      <td>0</td>\n",
       "      <td>0</td>\n",
       "    </tr>\n",
       "    <tr>\n",
       "      <th>3670</th>\n",
       "      <td>2016-03-20 23:57:00</td>\n",
       "      <td>3670</td>\n",
       "      <td>0</td>\n",
       "      <td>0</td>\n",
       "      <td>0</td>\n",
       "      <td>0</td>\n",
       "      <td>1</td>\n",
       "      <td>0</td>\n",
       "      <td>0</td>\n",
       "      <td>0</td>\n",
       "    </tr>\n",
       "    <tr>\n",
       "      <th>3671</th>\n",
       "      <td>2016-03-20 23:58:00</td>\n",
       "      <td>3671</td>\n",
       "      <td>0</td>\n",
       "      <td>0</td>\n",
       "      <td>0</td>\n",
       "      <td>0</td>\n",
       "      <td>1</td>\n",
       "      <td>0</td>\n",
       "      <td>0</td>\n",
       "      <td>0</td>\n",
       "    </tr>\n",
       "    <tr>\n",
       "      <th>3672</th>\n",
       "      <td>2016-03-20 23:59:00</td>\n",
       "      <td>3672</td>\n",
       "      <td>0</td>\n",
       "      <td>0</td>\n",
       "      <td>0</td>\n",
       "      <td>0</td>\n",
       "      <td>1</td>\n",
       "      <td>0</td>\n",
       "      <td>0</td>\n",
       "      <td>0</td>\n",
       "    </tr>\n",
       "  </tbody>\n",
       "</table>\n",
       "</div>"
      ],
      "text/plain": [
       "               Unnamed: 0  counter(mins)  Dos  scan44  scan11  nerisbotnet  \\\n",
       "3668  2016-03-20 23:55:00           3668    0       0       0            0   \n",
       "3669  2016-03-20 23:56:00           3669    0       0       0            0   \n",
       "3670  2016-03-20 23:57:00           3670    0       0       0            0   \n",
       "3671  2016-03-20 23:58:00           3671    0       0       0            0   \n",
       "3672  2016-03-20 23:59:00           3672    0       0       0            0   \n",
       "\n",
       "      blacklist  anomaly-udpscan  anomaly-sshscan  anomaly-spam  \n",
       "3668          1                0                0             0  \n",
       "3669          1                0                0             0  \n",
       "3670          1                0                0             0  \n",
       "3671          1                0                0             0  \n",
       "3672          1                0                0             0  "
      ]
     },
     "execution_count": 5,
     "metadata": {},
     "output_type": "execute_result"
    }
   ],
   "source": [
    "ugr_times.tail()"
   ]
  },
  {
   "cell_type": "markdown",
   "id": "95a6d816-c91e-4e32-97ee-ce56459cc8f4",
   "metadata": {},
   "source": [
    "As it can be seen, dataset from 3rd week of March spans somewhat over 2 and half days."
   ]
  },
  {
   "cell_type": "markdown",
   "id": "50fb9c82-242b-476e-9b5d-15583512ae18",
   "metadata": {},
   "source": [
    "## 3rd Week of March Dataset Analysis"
   ]
  },
  {
   "cell_type": "code",
   "execution_count": 6,
   "id": "60c71f18-bcfa-4eab-8a0b-f7907d9648b5",
   "metadata": {},
   "outputs": [],
   "source": [
    "dset_name = 'march.week3.csv.uniqblacklistremoved'\n",
    "subset_name = 'march.week3_sub.csv'"
   ]
  },
  {
   "cell_type": "code",
   "execution_count": 7,
   "id": "7fd82af2-9183-47f8-8b08-24ae3b2e8ec0",
   "metadata": {},
   "outputs": [
    {
     "name": "stdout",
     "output_type": "stream",
     "text": [
      "240669887 march.week3.csv.uniqblacklistremoved\n"
     ]
    }
   ],
   "source": [
    "!wc -l $dset_name"
   ]
  },
  {
   "cell_type": "markdown",
   "id": "7a2925c6-115c-49bb-85cb-36c07e80d400",
   "metadata": {},
   "source": [
    "The dataset itself is too big, lets select first 1 000 000 samples for a brief analysis"
   ]
  },
  {
   "cell_type": "code",
   "execution_count": 8,
   "id": "c7a4dfa8-2914-4db2-90a2-a34c1b13bbad",
   "metadata": {},
   "outputs": [],
   "source": [
    "!head -n 1000000 $dset_name > $subset_name"
   ]
  },
  {
   "cell_type": "code",
   "execution_count": 9,
   "id": "d20c4918-4c4a-4495-a950-bfd399d10553",
   "metadata": {},
   "outputs": [],
   "source": [
    "ugr = pd.read_csv(subset_name, names=colnames)\n",
    "\n",
    "# The dataset is so big that trying to load whole dataset crashes the Jupyter Lab instance\n",
    "#ugr = pd.read_csv(dset_name)"
   ]
  },
  {
   "cell_type": "markdown",
   "id": "febc7a32-8859-4044-9538-a10a21fc33de",
   "metadata": {},
   "source": [
    "### Basic exploratory analysis"
   ]
  },
  {
   "cell_type": "code",
   "execution_count": 10,
   "id": "d8cd6246-30e1-44b3-bebc-43464f4d7d54",
   "metadata": {},
   "outputs": [
    {
     "name": "stdout",
     "output_type": "stream",
     "text": [
      "<class 'pandas.core.frame.DataFrame'>\n",
      "RangeIndex: 999999 entries, 0 to 999998\n",
      "Data columns (total 13 columns):\n",
      " #   Column  Non-Null Count   Dtype  \n",
      "---  ------  --------------   -----  \n",
      " 0   te      999999 non-null  object \n",
      " 1   td      999999 non-null  float64\n",
      " 2   sa      999999 non-null  object \n",
      " 3   da      999999 non-null  object \n",
      " 4   sp      999999 non-null  int64  \n",
      " 5   dp      999999 non-null  int64  \n",
      " 6   pro     999999 non-null  object \n",
      " 7   flg     999999 non-null  object \n",
      " 8   fwd     999999 non-null  int64  \n",
      " 9   tos     999999 non-null  int64  \n",
      " 10  pkt     999999 non-null  int64  \n",
      " 11  byt     999999 non-null  int64  \n",
      " 12  label   999999 non-null  object \n",
      "dtypes: float64(1), int64(6), object(6)\n",
      "memory usage: 99.2+ MB\n"
     ]
    }
   ],
   "source": [
    "ugr.info()"
   ]
  },
  {
   "cell_type": "code",
   "execution_count": 11,
   "id": "e179f05b-c5a6-42bd-90b5-60628addf9b5",
   "metadata": {},
   "outputs": [
    {
     "data": {
      "text/plain": [
       "(999999, 13)"
      ]
     },
     "execution_count": 11,
     "metadata": {},
     "output_type": "execute_result"
    }
   ],
   "source": [
    "ugr.shape"
   ]
  },
  {
   "cell_type": "code",
   "execution_count": 12,
   "id": "5600558e-853e-4a03-ae4e-27eae7ed10a8",
   "metadata": {},
   "outputs": [
    {
     "data": {
      "text/html": [
       "<div>\n",
       "<style scoped>\n",
       "    .dataframe tbody tr th:only-of-type {\n",
       "        vertical-align: middle;\n",
       "    }\n",
       "\n",
       "    .dataframe tbody tr th {\n",
       "        vertical-align: top;\n",
       "    }\n",
       "\n",
       "    .dataframe thead th {\n",
       "        text-align: right;\n",
       "    }\n",
       "</style>\n",
       "<table border=\"1\" class=\"dataframe\">\n",
       "  <thead>\n",
       "    <tr style=\"text-align: right;\">\n",
       "      <th></th>\n",
       "      <th>te</th>\n",
       "      <th>td</th>\n",
       "      <th>sa</th>\n",
       "      <th>da</th>\n",
       "      <th>sp</th>\n",
       "      <th>dp</th>\n",
       "      <th>pro</th>\n",
       "      <th>flg</th>\n",
       "      <th>fwd</th>\n",
       "      <th>tos</th>\n",
       "      <th>pkt</th>\n",
       "      <th>byt</th>\n",
       "      <th>label</th>\n",
       "    </tr>\n",
       "  </thead>\n",
       "  <tbody>\n",
       "    <tr>\n",
       "      <th>0</th>\n",
       "      <td>2016-03-18 10:52:40</td>\n",
       "      <td>0.0</td>\n",
       "      <td>127.204.60.89</td>\n",
       "      <td>42.219.153.89</td>\n",
       "      <td>123</td>\n",
       "      <td>425</td>\n",
       "      <td>UDP</td>\n",
       "      <td>.A....</td>\n",
       "      <td>0</td>\n",
       "      <td>0</td>\n",
       "      <td>1</td>\n",
       "      <td>76</td>\n",
       "      <td>background</td>\n",
       "    </tr>\n",
       "    <tr>\n",
       "      <th>1</th>\n",
       "      <td>2016-03-18 10:52:40</td>\n",
       "      <td>0.0</td>\n",
       "      <td>143.72.8.137</td>\n",
       "      <td>42.219.154.108</td>\n",
       "      <td>53</td>\n",
       "      <td>41294</td>\n",
       "      <td>UDP</td>\n",
       "      <td>.A....</td>\n",
       "      <td>0</td>\n",
       "      <td>0</td>\n",
       "      <td>1</td>\n",
       "      <td>140</td>\n",
       "      <td>background</td>\n",
       "    </tr>\n",
       "    <tr>\n",
       "      <th>2</th>\n",
       "      <td>2016-03-18 10:52:40</td>\n",
       "      <td>0.0</td>\n",
       "      <td>143.72.8.137</td>\n",
       "      <td>42.219.154.108</td>\n",
       "      <td>53</td>\n",
       "      <td>46784</td>\n",
       "      <td>UDP</td>\n",
       "      <td>.A....</td>\n",
       "      <td>0</td>\n",
       "      <td>0</td>\n",
       "      <td>1</td>\n",
       "      <td>141</td>\n",
       "      <td>background</td>\n",
       "    </tr>\n",
       "    <tr>\n",
       "      <th>3</th>\n",
       "      <td>2016-03-18 10:52:40</td>\n",
       "      <td>0.0</td>\n",
       "      <td>143.72.8.137</td>\n",
       "      <td>42.219.158.161</td>\n",
       "      <td>53</td>\n",
       "      <td>35972</td>\n",
       "      <td>UDP</td>\n",
       "      <td>.A....</td>\n",
       "      <td>0</td>\n",
       "      <td>0</td>\n",
       "      <td>1</td>\n",
       "      <td>113</td>\n",
       "      <td>background</td>\n",
       "    </tr>\n",
       "    <tr>\n",
       "      <th>4</th>\n",
       "      <td>2016-03-18 10:52:40</td>\n",
       "      <td>0.0</td>\n",
       "      <td>143.72.8.137</td>\n",
       "      <td>42.219.158.164</td>\n",
       "      <td>53</td>\n",
       "      <td>41853</td>\n",
       "      <td>UDP</td>\n",
       "      <td>.A....</td>\n",
       "      <td>0</td>\n",
       "      <td>0</td>\n",
       "      <td>1</td>\n",
       "      <td>103</td>\n",
       "      <td>background</td>\n",
       "    </tr>\n",
       "  </tbody>\n",
       "</table>\n",
       "</div>"
      ],
      "text/plain": [
       "                    te   td             sa              da   sp     dp  pro  \\\n",
       "0  2016-03-18 10:52:40  0.0  127.204.60.89   42.219.153.89  123    425  UDP   \n",
       "1  2016-03-18 10:52:40  0.0   143.72.8.137  42.219.154.108   53  41294  UDP   \n",
       "2  2016-03-18 10:52:40  0.0   143.72.8.137  42.219.154.108   53  46784  UDP   \n",
       "3  2016-03-18 10:52:40  0.0   143.72.8.137  42.219.158.161   53  35972  UDP   \n",
       "4  2016-03-18 10:52:40  0.0   143.72.8.137  42.219.158.164   53  41853  UDP   \n",
       "\n",
       "      flg  fwd  tos  pkt  byt       label  \n",
       "0  .A....    0    0    1   76  background  \n",
       "1  .A....    0    0    1  140  background  \n",
       "2  .A....    0    0    1  141  background  \n",
       "3  .A....    0    0    1  113  background  \n",
       "4  .A....    0    0    1  103  background  "
      ]
     },
     "execution_count": 12,
     "metadata": {},
     "output_type": "execute_result"
    }
   ],
   "source": [
    "ugr.head()"
   ]
  },
  {
   "cell_type": "code",
   "execution_count": 13,
   "id": "93bfe6d8-c00f-4277-8979-80a94fc515f4",
   "metadata": {},
   "outputs": [
    {
     "data": {
      "text/html": [
       "<div>\n",
       "<style scoped>\n",
       "    .dataframe tbody tr th:only-of-type {\n",
       "        vertical-align: middle;\n",
       "    }\n",
       "\n",
       "    .dataframe tbody tr th {\n",
       "        vertical-align: top;\n",
       "    }\n",
       "\n",
       "    .dataframe thead th {\n",
       "        text-align: right;\n",
       "    }\n",
       "</style>\n",
       "<table border=\"1\" class=\"dataframe\">\n",
       "  <thead>\n",
       "    <tr style=\"text-align: right;\">\n",
       "      <th></th>\n",
       "      <th>td</th>\n",
       "      <th>sp</th>\n",
       "      <th>dp</th>\n",
       "      <th>fwd</th>\n",
       "      <th>tos</th>\n",
       "      <th>pkt</th>\n",
       "      <th>byt</th>\n",
       "    </tr>\n",
       "  </thead>\n",
       "  <tbody>\n",
       "    <tr>\n",
       "      <th>count</th>\n",
       "      <td>999999.0000</td>\n",
       "      <td>999999.000</td>\n",
       "      <td>999999.0000</td>\n",
       "      <td>999999.0</td>\n",
       "      <td>999999.0000</td>\n",
       "      <td>999999.0000</td>\n",
       "      <td>1.0000e+06</td>\n",
       "    </tr>\n",
       "    <tr>\n",
       "      <th>mean</th>\n",
       "      <td>3.8027</td>\n",
       "      <td>27394.080</td>\n",
       "      <td>16862.7451</td>\n",
       "      <td>0.0</td>\n",
       "      <td>15.7055</td>\n",
       "      <td>21.2618</td>\n",
       "      <td>1.1405e+04</td>\n",
       "    </tr>\n",
       "    <tr>\n",
       "      <th>std</th>\n",
       "      <td>23.1971</td>\n",
       "      <td>24296.331</td>\n",
       "      <td>23516.5037</td>\n",
       "      <td>0.0</td>\n",
       "      <td>24.4813</td>\n",
       "      <td>818.5496</td>\n",
       "      <td>9.0144e+05</td>\n",
       "    </tr>\n",
       "    <tr>\n",
       "      <th>min</th>\n",
       "      <td>0.0000</td>\n",
       "      <td>0.000</td>\n",
       "      <td>0.0000</td>\n",
       "      <td>0.0</td>\n",
       "      <td>0.0000</td>\n",
       "      <td>1.0000</td>\n",
       "      <td>2.6000e+01</td>\n",
       "    </tr>\n",
       "    <tr>\n",
       "      <th>25%</th>\n",
       "      <td>0.0000</td>\n",
       "      <td>443.000</td>\n",
       "      <td>80.0000</td>\n",
       "      <td>0.0</td>\n",
       "      <td>0.0000</td>\n",
       "      <td>1.0000</td>\n",
       "      <td>8.0000e+01</td>\n",
       "    </tr>\n",
       "    <tr>\n",
       "      <th>50%</th>\n",
       "      <td>0.0520</td>\n",
       "      <td>30523.000</td>\n",
       "      <td>443.0000</td>\n",
       "      <td>0.0</td>\n",
       "      <td>0.0000</td>\n",
       "      <td>2.0000</td>\n",
       "      <td>1.9600e+02</td>\n",
       "    </tr>\n",
       "    <tr>\n",
       "      <th>75%</th>\n",
       "      <td>1.3160</td>\n",
       "      <td>50934.000</td>\n",
       "      <td>41794.0000</td>\n",
       "      <td>0.0</td>\n",
       "      <td>40.0000</td>\n",
       "      <td>8.0000</td>\n",
       "      <td>1.0630e+03</td>\n",
       "    </tr>\n",
       "    <tr>\n",
       "      <th>max</th>\n",
       "      <td>312.9480</td>\n",
       "      <td>65535.000</td>\n",
       "      <td>65535.0000</td>\n",
       "      <td>0.0</td>\n",
       "      <td>224.0000</td>\n",
       "      <td>300410.0000</td>\n",
       "      <td>4.5059e+08</td>\n",
       "    </tr>\n",
       "  </tbody>\n",
       "</table>\n",
       "</div>"
      ],
      "text/plain": [
       "                td          sp           dp       fwd          tos  \\\n",
       "count  999999.0000  999999.000  999999.0000  999999.0  999999.0000   \n",
       "mean        3.8027   27394.080   16862.7451       0.0      15.7055   \n",
       "std        23.1971   24296.331   23516.5037       0.0      24.4813   \n",
       "min         0.0000       0.000       0.0000       0.0       0.0000   \n",
       "25%         0.0000     443.000      80.0000       0.0       0.0000   \n",
       "50%         0.0520   30523.000     443.0000       0.0       0.0000   \n",
       "75%         1.3160   50934.000   41794.0000       0.0      40.0000   \n",
       "max       312.9480   65535.000   65535.0000       0.0     224.0000   \n",
       "\n",
       "               pkt         byt  \n",
       "count  999999.0000  1.0000e+06  \n",
       "mean       21.2618  1.1405e+04  \n",
       "std       818.5496  9.0144e+05  \n",
       "min         1.0000  2.6000e+01  \n",
       "25%         1.0000  8.0000e+01  \n",
       "50%         2.0000  1.9600e+02  \n",
       "75%         8.0000  1.0630e+03  \n",
       "max    300410.0000  4.5059e+08  "
      ]
     },
     "execution_count": 13,
     "metadata": {},
     "output_type": "execute_result"
    }
   ],
   "source": [
    "ugr.describe()"
   ]
  },
  {
   "cell_type": "code",
   "execution_count": 14,
   "id": "d906042b-d62a-4e8b-98e9-b93937978512",
   "metadata": {},
   "outputs": [
    {
     "data": {
      "text/plain": [
       "0"
      ]
     },
     "execution_count": 14,
     "metadata": {},
     "output_type": "execute_result"
    }
   ],
   "source": [
    "# Determine if theere may be any NaN values to guess the dataset quality\n",
    "ugr.isnull().sum().sum()"
   ]
  },
  {
   "cell_type": "markdown",
   "id": "54dec0c7-5c6b-4a64-8ce5-ab76ead87b5a",
   "metadata": {},
   "source": [
    "#### Information about labels"
   ]
  },
  {
   "cell_type": "code",
   "execution_count": 15,
   "id": "620e1102-67c0-4638-a264-7859321f8472",
   "metadata": {},
   "outputs": [
    {
     "data": {
      "text/plain": [
       "<AxesSubplot:xlabel='label', ylabel='count'>"
      ]
     },
     "execution_count": 15,
     "metadata": {},
     "output_type": "execute_result"
    },
    {
     "data": {
      "image/png": "[encoded data removed]",
      "text/plain": [
       "<Figure size 432x288 with 1 Axes>"
      ]
     },
     "metadata": {
      "needs_background": "light"
     },
     "output_type": "display_data"
    }
   ],
   "source": [
    "sns.countplot(x='label', data=ugr, log=True)"
   ]
  },
  {
   "cell_type": "code",
   "execution_count": 16,
   "id": "e7b61a79-0153-4534-83e7-77d0f08f6652",
   "metadata": {},
   "outputs": [
    {
     "data": {
      "text/plain": [
       "label\n",
       "background    997366\n",
       "blacklist       2633\n",
       "Name: te, dtype: int64"
      ]
     },
     "execution_count": 16,
     "metadata": {},
     "output_type": "execute_result"
    }
   ],
   "source": [
    "ugr.groupby(by='label').count()['te']"
   ]
  },
  {
   "cell_type": "markdown",
   "id": "c54207a7-f0b2-4cad-a840-74d0c7febd21",
   "metadata": {
    "tags": []
   },
   "source": [
    "#### Information about protocol shares"
   ]
  },
  {
   "cell_type": "code",
   "execution_count": 17,
   "id": "57d1c8f1-0fed-4c5a-b247-cbee25f29488",
   "metadata": {},
   "outputs": [
    {
     "data": {
      "text/plain": [
       "pro\n",
       "ESP     0.0006\n",
       "GRE     0.0006\n",
       "ICMP    0.0102\n",
       "IPIP    0.0001\n",
       "IPv6    0.0000\n",
       "TCP     0.6178\n",
       "UDP     0.3707\n",
       "Name: label, dtype: float64"
      ]
     },
     "execution_count": 17,
     "metadata": {},
     "output_type": "execute_result"
    }
   ],
   "source": [
    "# Existing protocols and their ratios within the dataset\n",
    "(ugr.groupby('pro').count()['label'] / len(ugr)).round(4)"
   ]
  },
  {
   "cell_type": "markdown",
   "id": "cd3a9688-3366-4c01-8323-390fdae8d023",
   "metadata": {},
   "source": [
    "Let's try to look at the end of the data"
   ]
  },
  {
   "cell_type": "code",
   "execution_count": 18,
   "id": "3e03a5a4-da98-472a-beda-3db2973ebe4a",
   "metadata": {},
   "outputs": [],
   "source": [
    "!tail -n 1000000 $dset_name > dset_tail.csv\n",
    "ugrt = pd.read_csv('dset_tail.csv', names=colnames)"
   ]
  },
  {
   "cell_type": "code",
   "execution_count": 19,
   "id": "7a441ceb-b456-4e87-8b2b-84a1d1da8c7e",
   "metadata": {},
   "outputs": [
    {
     "data": {
      "text/plain": [
       "label\n",
       "background    997221\n",
       "blacklist       2779\n",
       "Name: te, dtype: int64"
      ]
     },
     "execution_count": 19,
     "metadata": {},
     "output_type": "execute_result"
    }
   ],
   "source": [
    "ugrt.groupby(by='label').count()['te']"
   ]
  },
  {
   "cell_type": "markdown",
   "id": "9fe43d9b-09c3-4f64-b39b-c598f0339c04",
   "metadata": {},
   "source": [
    "There are only blacklists and background labels in the first and last 1M flows in the 3rd March dataset subset."
   ]
  },
  {
   "cell_type": "markdown",
   "id": "13917c3f-f903-4892-af41-ca897607d0ee",
   "metadata": {},
   "source": [
    "## 1st week of August Dataset Analysis"
   ]
  },
  {
   "cell_type": "code",
   "execution_count": 20,
   "id": "c7cb8bf7-4deb-4e8d-87a8-46fc477d6189",
   "metadata": {},
   "outputs": [],
   "source": [
    "dset_name = 'august.week1.csv'\n",
    "attacks_file = 'aug1_attacks.csv'"
   ]
  },
  {
   "cell_type": "code",
   "execution_count": 21,
   "id": "6bfe6774-ee21-4d00-84ba-970279806509",
   "metadata": {},
   "outputs": [
    {
     "name": "stdout",
     "output_type": "stream",
     "text": [
      "851614543 august.week1.csv\n"
     ]
    }
   ],
   "source": [
    "!wc -l $dset_name"
   ]
  },
  {
   "cell_type": "markdown",
   "id": "d4f8252d-f09d-4e63-bcca-15ee4d482296",
   "metadata": {},
   "source": [
    "This is again extremely big (77GB after unzipping), use regex filters to select non-background traffic only"
   ]
  },
  {
   "cell_type": "code",
   "execution_count": 22,
   "id": "e2342739-24ec-4c55-8646-a7d9bb3bee1f",
   "metadata": {},
   "outputs": [],
   "source": [
    "!cat $dset_name | grep -v 'background' > $attacks_file"
   ]
  },
  {
   "cell_type": "code",
   "execution_count": 23,
   "id": "aff0c340-a8de-4a5e-89df-9813d12c5738",
   "metadata": {},
   "outputs": [],
   "source": [
    "ugr_att = pd.read_csv(attacks_file, names=colnames)"
   ]
  },
  {
   "cell_type": "code",
   "execution_count": 24,
   "id": "f72e4561-cf93-4c95-8395-f80c041505a2",
   "metadata": {},
   "outputs": [
    {
     "data": {
      "text/plain": [
       "40526401"
      ]
     },
     "execution_count": 24,
     "metadata": {},
     "output_type": "execute_result"
    }
   ],
   "source": [
    "# Number of extracted non-background entries in the 1st week of august\n",
    "len(ugr_att)"
   ]
  },
  {
   "cell_type": "markdown",
   "id": "ca636ecb-d10e-495d-af0a-429b73ea55cc",
   "metadata": {},
   "source": [
    "_Note: There is also a possibility to download only flows from the particular attacks, so this manual cleansing does not need to be made_"
   ]
  },
  {
   "cell_type": "code",
   "execution_count": 25,
   "id": "0476eb88-f0f2-4440-9bbc-cfc017d68f0e",
   "metadata": {},
   "outputs": [
    {
     "data": {
      "image/png": "[encoded data removed]",
      "text/plain": [
       "<Figure size 432x288 with 1 Axes>"
      ]
     },
     "metadata": {
      "needs_background": "light"
     },
     "output_type": "display_data"
    }
   ],
   "source": [
    "ax = sns.countplot(x='label', data=ugr_att, log=True)\n",
    "ax.set_xticklabels(ax.get_xticklabels(), rotation=40, ha=\"right\")\n",
    "plt.tight_layout()\n",
    "plt.show()"
   ]
  },
  {
   "cell_type": "code",
   "execution_count": 26,
   "id": "7b4dff8e-6f51-492a-826f-0f3b74625309",
   "metadata": {},
   "outputs": [
    {
     "data": {
      "text/plain": [
       "label\n",
       "anomaly-spam       27970000\n",
       "anomaly-sshscan          16\n",
       "anomaly-udpscan      989872\n",
       "blacklist           2464585\n",
       "dos                 5093132\n",
       "nerisbotnet          992575\n",
       "scan11               539018\n",
       "scan44              2477203\n",
       "Name: te, dtype: int64"
      ]
     },
     "execution_count": 26,
     "metadata": {},
     "output_type": "execute_result"
    }
   ],
   "source": [
    "ugr_att.groupby(by='label').count()['te']"
   ]
  },
  {
   "cell_type": "markdown",
   "id": "25ad7509-e95a-49de-9ba6-964f320d612f",
   "metadata": {},
   "source": [
    "_Note: This is not a a comprehensive list of attacks, as only 1st week from August is taken, and some attacks are also reported in other weeks_"
   ]
  },
  {
   "cell_type": "markdown",
   "id": "63c62e19-43a2-453a-a604-a4e154106c78",
   "metadata": {},
   "source": [
    "### Timestamps analysis\n",
    "There is often a problem with correct timestamping in NIDS datasets. Let's have a brief look whether the timestamps in this dataset correspond to ones declared in the documentation and the separate file.\n",
    "\n",
    "According to the dataset paper, new attack batch should start at Mon, 08/01/2016 08:00. Let's see the timestamps file if this is true."
   ]
  },
  {
   "cell_type": "code",
   "execution_count": 27,
   "id": "120a9430-fd4a-4c6f-b951-bb53cdb5a296",
   "metadata": {},
   "outputs": [],
   "source": [
    "tstamps_file = 'attack_ts_august_week1.csv'"
   ]
  },
  {
   "cell_type": "code",
   "execution_count": 28,
   "id": "ce913cea-5485-4ac3-93f1-99b3d8633be6",
   "metadata": {},
   "outputs": [],
   "source": [
    "tstamps = pd.read_csv(tstamps_file)"
   ]
  },
  {
   "cell_type": "code",
   "execution_count": 29,
   "id": "74dc2e94-7d01-4a10-b5d0-ca42be0c4306",
   "metadata": {},
   "outputs": [
    {
     "data": {
      "text/html": [
       "<div>\n",
       "<style scoped>\n",
       "    .dataframe tbody tr th:only-of-type {\n",
       "        vertical-align: middle;\n",
       "    }\n",
       "\n",
       "    .dataframe tbody tr th {\n",
       "        vertical-align: top;\n",
       "    }\n",
       "\n",
       "    .dataframe thead th {\n",
       "        text-align: right;\n",
       "    }\n",
       "</style>\n",
       "<table border=\"1\" class=\"dataframe\">\n",
       "  <thead>\n",
       "    <tr style=\"text-align: right;\">\n",
       "      <th></th>\n",
       "      <th>Unnamed: 0</th>\n",
       "      <th>counter(mins)</th>\n",
       "      <th>Dos</th>\n",
       "      <th>scan44</th>\n",
       "      <th>scan11</th>\n",
       "      <th>nerisbotnet</th>\n",
       "      <th>blacklist</th>\n",
       "      <th>anomaly-udpscan</th>\n",
       "      <th>anomaly-sshscan</th>\n",
       "      <th>anomaly-spam</th>\n",
       "    </tr>\n",
       "  </thead>\n",
       "  <tbody>\n",
       "    <tr>\n",
       "      <th>0</th>\n",
       "      <td>2016-08-01 00:00:00</td>\n",
       "      <td>6382</td>\n",
       "      <td>0</td>\n",
       "      <td>0</td>\n",
       "      <td>0</td>\n",
       "      <td>0</td>\n",
       "      <td>1</td>\n",
       "      <td>0</td>\n",
       "      <td>0</td>\n",
       "      <td>0</td>\n",
       "    </tr>\n",
       "    <tr>\n",
       "      <th>1</th>\n",
       "      <td>2016-08-01 00:01:00</td>\n",
       "      <td>6383</td>\n",
       "      <td>0</td>\n",
       "      <td>0</td>\n",
       "      <td>0</td>\n",
       "      <td>0</td>\n",
       "      <td>1</td>\n",
       "      <td>0</td>\n",
       "      <td>0</td>\n",
       "      <td>0</td>\n",
       "    </tr>\n",
       "    <tr>\n",
       "      <th>2</th>\n",
       "      <td>2016-08-01 00:02:00</td>\n",
       "      <td>6384</td>\n",
       "      <td>0</td>\n",
       "      <td>0</td>\n",
       "      <td>0</td>\n",
       "      <td>0</td>\n",
       "      <td>1</td>\n",
       "      <td>0</td>\n",
       "      <td>0</td>\n",
       "      <td>0</td>\n",
       "    </tr>\n",
       "    <tr>\n",
       "      <th>3</th>\n",
       "      <td>2016-08-01 00:03:00</td>\n",
       "      <td>6385</td>\n",
       "      <td>0</td>\n",
       "      <td>0</td>\n",
       "      <td>0</td>\n",
       "      <td>0</td>\n",
       "      <td>1</td>\n",
       "      <td>0</td>\n",
       "      <td>0</td>\n",
       "      <td>0</td>\n",
       "    </tr>\n",
       "    <tr>\n",
       "      <th>4</th>\n",
       "      <td>2016-08-01 00:04:00</td>\n",
       "      <td>6386</td>\n",
       "      <td>0</td>\n",
       "      <td>0</td>\n",
       "      <td>0</td>\n",
       "      <td>0</td>\n",
       "      <td>1</td>\n",
       "      <td>0</td>\n",
       "      <td>0</td>\n",
       "      <td>0</td>\n",
       "    </tr>\n",
       "  </tbody>\n",
       "</table>\n",
       "</div>"
      ],
      "text/plain": [
       "            Unnamed: 0  counter(mins)  Dos  scan44  scan11  nerisbotnet  \\\n",
       "0  2016-08-01 00:00:00           6382    0       0       0            0   \n",
       "1  2016-08-01 00:01:00           6383    0       0       0            0   \n",
       "2  2016-08-01 00:02:00           6384    0       0       0            0   \n",
       "3  2016-08-01 00:03:00           6385    0       0       0            0   \n",
       "4  2016-08-01 00:04:00           6386    0       0       0            0   \n",
       "\n",
       "   blacklist  anomaly-udpscan  anomaly-sshscan  anomaly-spam  \n",
       "0          1                0                0             0  \n",
       "1          1                0                0             0  \n",
       "2          1                0                0             0  \n",
       "3          1                0                0             0  \n",
       "4          1                0                0             0  "
      ]
     },
     "execution_count": 29,
     "metadata": {},
     "output_type": "execute_result"
    }
   ],
   "source": [
    "tstamps.head()"
   ]
  },
  {
   "cell_type": "markdown",
   "id": "fca9b838-6e60-45ce-86e3-10d70e9a7166",
   "metadata": {},
   "source": [
    "As it may be seen, the timestamp file starts at 2016-08-01 00:00:00 with some blacklist flows already marked. Let's try to get to 8:00 see if the attack vector changes.\n",
    "\n",
    "60 minutes per hour * 8 hours"
   ]
  },
  {
   "cell_type": "code",
   "execution_count": 30,
   "id": "70eb036c-d1e3-4016-b514-c630adc1dfcc",
   "metadata": {},
   "outputs": [
    {
     "data": {
      "text/html": [
       "<div>\n",
       "<style scoped>\n",
       "    .dataframe tbody tr th:only-of-type {\n",
       "        vertical-align: middle;\n",
       "    }\n",
       "\n",
       "    .dataframe tbody tr th {\n",
       "        vertical-align: top;\n",
       "    }\n",
       "\n",
       "    .dataframe thead th {\n",
       "        text-align: right;\n",
       "    }\n",
       "</style>\n",
       "<table border=\"1\" class=\"dataframe\">\n",
       "  <thead>\n",
       "    <tr style=\"text-align: right;\">\n",
       "      <th></th>\n",
       "      <th>Unnamed: 0</th>\n",
       "      <th>counter(mins)</th>\n",
       "      <th>Dos</th>\n",
       "      <th>scan44</th>\n",
       "      <th>scan11</th>\n",
       "      <th>nerisbotnet</th>\n",
       "      <th>blacklist</th>\n",
       "      <th>anomaly-udpscan</th>\n",
       "      <th>anomaly-sshscan</th>\n",
       "      <th>anomaly-spam</th>\n",
       "    </tr>\n",
       "  </thead>\n",
       "  <tbody>\n",
       "    <tr>\n",
       "      <th>475</th>\n",
       "      <td>2016-08-01 07:55:00</td>\n",
       "      <td>6857</td>\n",
       "      <td>0</td>\n",
       "      <td>0</td>\n",
       "      <td>0</td>\n",
       "      <td>0</td>\n",
       "      <td>1</td>\n",
       "      <td>0</td>\n",
       "      <td>0</td>\n",
       "      <td>0</td>\n",
       "    </tr>\n",
       "    <tr>\n",
       "      <th>476</th>\n",
       "      <td>2016-08-01 07:56:00</td>\n",
       "      <td>6858</td>\n",
       "      <td>0</td>\n",
       "      <td>0</td>\n",
       "      <td>0</td>\n",
       "      <td>0</td>\n",
       "      <td>1</td>\n",
       "      <td>0</td>\n",
       "      <td>0</td>\n",
       "      <td>0</td>\n",
       "    </tr>\n",
       "    <tr>\n",
       "      <th>477</th>\n",
       "      <td>2016-08-01 07:57:00</td>\n",
       "      <td>6859</td>\n",
       "      <td>0</td>\n",
       "      <td>0</td>\n",
       "      <td>0</td>\n",
       "      <td>0</td>\n",
       "      <td>1</td>\n",
       "      <td>0</td>\n",
       "      <td>0</td>\n",
       "      <td>0</td>\n",
       "    </tr>\n",
       "    <tr>\n",
       "      <th>478</th>\n",
       "      <td>2016-08-01 07:58:00</td>\n",
       "      <td>6860</td>\n",
       "      <td>0</td>\n",
       "      <td>0</td>\n",
       "      <td>0</td>\n",
       "      <td>0</td>\n",
       "      <td>1</td>\n",
       "      <td>0</td>\n",
       "      <td>0</td>\n",
       "      <td>0</td>\n",
       "    </tr>\n",
       "    <tr>\n",
       "      <th>479</th>\n",
       "      <td>2016-08-01 07:59:00</td>\n",
       "      <td>6861</td>\n",
       "      <td>1</td>\n",
       "      <td>0</td>\n",
       "      <td>0</td>\n",
       "      <td>0</td>\n",
       "      <td>1</td>\n",
       "      <td>0</td>\n",
       "      <td>0</td>\n",
       "      <td>0</td>\n",
       "    </tr>\n",
       "    <tr>\n",
       "      <th>480</th>\n",
       "      <td>2016-08-01 08:00:00</td>\n",
       "      <td>6862</td>\n",
       "      <td>1</td>\n",
       "      <td>0</td>\n",
       "      <td>0</td>\n",
       "      <td>0</td>\n",
       "      <td>1</td>\n",
       "      <td>0</td>\n",
       "      <td>0</td>\n",
       "      <td>0</td>\n",
       "    </tr>\n",
       "    <tr>\n",
       "      <th>481</th>\n",
       "      <td>2016-08-01 08:01:00</td>\n",
       "      <td>6863</td>\n",
       "      <td>1</td>\n",
       "      <td>0</td>\n",
       "      <td>0</td>\n",
       "      <td>0</td>\n",
       "      <td>1</td>\n",
       "      <td>0</td>\n",
       "      <td>0</td>\n",
       "      <td>0</td>\n",
       "    </tr>\n",
       "    <tr>\n",
       "      <th>482</th>\n",
       "      <td>2016-08-01 08:02:00</td>\n",
       "      <td>6864</td>\n",
       "      <td>1</td>\n",
       "      <td>0</td>\n",
       "      <td>0</td>\n",
       "      <td>0</td>\n",
       "      <td>1</td>\n",
       "      <td>0</td>\n",
       "      <td>0</td>\n",
       "      <td>0</td>\n",
       "    </tr>\n",
       "    <tr>\n",
       "      <th>483</th>\n",
       "      <td>2016-08-01 08:03:00</td>\n",
       "      <td>6865</td>\n",
       "      <td>0</td>\n",
       "      <td>0</td>\n",
       "      <td>0</td>\n",
       "      <td>0</td>\n",
       "      <td>1</td>\n",
       "      <td>0</td>\n",
       "      <td>0</td>\n",
       "      <td>0</td>\n",
       "    </tr>\n",
       "    <tr>\n",
       "      <th>484</th>\n",
       "      <td>2016-08-01 08:04:00</td>\n",
       "      <td>6866</td>\n",
       "      <td>0</td>\n",
       "      <td>0</td>\n",
       "      <td>0</td>\n",
       "      <td>0</td>\n",
       "      <td>1</td>\n",
       "      <td>0</td>\n",
       "      <td>0</td>\n",
       "      <td>0</td>\n",
       "    </tr>\n",
       "  </tbody>\n",
       "</table>\n",
       "</div>"
      ],
      "text/plain": [
       "              Unnamed: 0  counter(mins)  Dos  scan44  scan11  nerisbotnet  \\\n",
       "475  2016-08-01 07:55:00           6857    0       0       0            0   \n",
       "476  2016-08-01 07:56:00           6858    0       0       0            0   \n",
       "477  2016-08-01 07:57:00           6859    0       0       0            0   \n",
       "478  2016-08-01 07:58:00           6860    0       0       0            0   \n",
       "479  2016-08-01 07:59:00           6861    1       0       0            0   \n",
       "480  2016-08-01 08:00:00           6862    1       0       0            0   \n",
       "481  2016-08-01 08:01:00           6863    1       0       0            0   \n",
       "482  2016-08-01 08:02:00           6864    1       0       0            0   \n",
       "483  2016-08-01 08:03:00           6865    0       0       0            0   \n",
       "484  2016-08-01 08:04:00           6866    0       0       0            0   \n",
       "\n",
       "     blacklist  anomaly-udpscan  anomaly-sshscan  anomaly-spam  \n",
       "475          1                0                0             0  \n",
       "476          1                0                0             0  \n",
       "477          1                0                0             0  \n",
       "478          1                0                0             0  \n",
       "479          1                0                0             0  \n",
       "480          1                0                0             0  \n",
       "481          1                0                0             0  \n",
       "482          1                0                0             0  \n",
       "483          1                0                0             0  \n",
       "484          1                0                0             0  "
      ]
     },
     "execution_count": 30,
     "metadata": {},
     "output_type": "execute_result"
    }
   ],
   "source": [
    "tstamps.iloc[60*8 - 5 : 60*8 + 5]"
   ]
  },
  {
   "cell_type": "markdown",
   "id": "6e3134ba-d00a-4cbe-846f-f529cd762bde",
   "metadata": {},
   "source": [
    "Well, there is a change in DoS attack vector at 7:59, which is one minute sooner than declared in the documentation. According to the documentation, the DoS should last 3 minutes. In this example, it lasts 4 minutes, however, one should consider a fact when the attack started 1 second before 8:00, and thus the DoS mark was created. Let's check the actual flows if this corresponds."
   ]
  },
  {
   "cell_type": "code",
   "execution_count": 31,
   "id": "843800f0-4761-4887-a510-2f9616045fdf",
   "metadata": {},
   "outputs": [
    {
     "data": {
      "text/html": [
       "<div>\n",
       "<style scoped>\n",
       "    .dataframe tbody tr th:only-of-type {\n",
       "        vertical-align: middle;\n",
       "    }\n",
       "\n",
       "    .dataframe tbody tr th {\n",
       "        vertical-align: top;\n",
       "    }\n",
       "\n",
       "    .dataframe thead th {\n",
       "        text-align: right;\n",
       "    }\n",
       "</style>\n",
       "<table border=\"1\" class=\"dataframe\">\n",
       "  <thead>\n",
       "    <tr style=\"text-align: right;\">\n",
       "      <th></th>\n",
       "      <th>te</th>\n",
       "      <th>td</th>\n",
       "      <th>sa</th>\n",
       "      <th>da</th>\n",
       "      <th>sp</th>\n",
       "      <th>dp</th>\n",
       "      <th>pro</th>\n",
       "      <th>flg</th>\n",
       "      <th>fwd</th>\n",
       "      <th>tos</th>\n",
       "      <th>pkt</th>\n",
       "      <th>byt</th>\n",
       "      <th>label</th>\n",
       "    </tr>\n",
       "  </thead>\n",
       "  <tbody>\n",
       "    <tr>\n",
       "      <th>1059523</th>\n",
       "      <td>2016-08-01 07:59:44</td>\n",
       "      <td>0.0</td>\n",
       "      <td>42.219.150.246</td>\n",
       "      <td>42.219.158.16</td>\n",
       "      <td>2195</td>\n",
       "      <td>80</td>\n",
       "      <td>TCP</td>\n",
       "      <td>....S.</td>\n",
       "      <td>0</td>\n",
       "      <td>0</td>\n",
       "      <td>1</td>\n",
       "      <td>160</td>\n",
       "      <td>dos</td>\n",
       "    </tr>\n",
       "    <tr>\n",
       "      <th>1059524</th>\n",
       "      <td>2016-08-01 07:59:44</td>\n",
       "      <td>0.0</td>\n",
       "      <td>42.219.150.246</td>\n",
       "      <td>42.219.158.16</td>\n",
       "      <td>2196</td>\n",
       "      <td>80</td>\n",
       "      <td>TCP</td>\n",
       "      <td>....S.</td>\n",
       "      <td>0</td>\n",
       "      <td>0</td>\n",
       "      <td>1</td>\n",
       "      <td>160</td>\n",
       "      <td>dos</td>\n",
       "    </tr>\n",
       "    <tr>\n",
       "      <th>1059525</th>\n",
       "      <td>2016-08-01 07:59:44</td>\n",
       "      <td>0.0</td>\n",
       "      <td>42.219.150.246</td>\n",
       "      <td>42.219.158.16</td>\n",
       "      <td>2197</td>\n",
       "      <td>80</td>\n",
       "      <td>TCP</td>\n",
       "      <td>....S.</td>\n",
       "      <td>0</td>\n",
       "      <td>0</td>\n",
       "      <td>1</td>\n",
       "      <td>160</td>\n",
       "      <td>dos</td>\n",
       "    </tr>\n",
       "    <tr>\n",
       "      <th>1059526</th>\n",
       "      <td>2016-08-01 07:59:44</td>\n",
       "      <td>0.0</td>\n",
       "      <td>42.219.150.246</td>\n",
       "      <td>42.219.158.16</td>\n",
       "      <td>2198</td>\n",
       "      <td>80</td>\n",
       "      <td>TCP</td>\n",
       "      <td>....S.</td>\n",
       "      <td>0</td>\n",
       "      <td>0</td>\n",
       "      <td>1</td>\n",
       "      <td>160</td>\n",
       "      <td>dos</td>\n",
       "    </tr>\n",
       "    <tr>\n",
       "      <th>1059527</th>\n",
       "      <td>2016-08-01 07:59:44</td>\n",
       "      <td>0.0</td>\n",
       "      <td>42.219.150.246</td>\n",
       "      <td>42.219.158.16</td>\n",
       "      <td>2199</td>\n",
       "      <td>80</td>\n",
       "      <td>TCP</td>\n",
       "      <td>....S.</td>\n",
       "      <td>0</td>\n",
       "      <td>0</td>\n",
       "      <td>1</td>\n",
       "      <td>160</td>\n",
       "      <td>dos</td>\n",
       "    </tr>\n",
       "  </tbody>\n",
       "</table>\n",
       "</div>"
      ],
      "text/plain": [
       "                          te   td              sa             da    sp  dp  \\\n",
       "1059523  2016-08-01 07:59:44  0.0  42.219.150.246  42.219.158.16  2195  80   \n",
       "1059524  2016-08-01 07:59:44  0.0  42.219.150.246  42.219.158.16  2196  80   \n",
       "1059525  2016-08-01 07:59:44  0.0  42.219.150.246  42.219.158.16  2197  80   \n",
       "1059526  2016-08-01 07:59:44  0.0  42.219.150.246  42.219.158.16  2198  80   \n",
       "1059527  2016-08-01 07:59:44  0.0  42.219.150.246  42.219.158.16  2199  80   \n",
       "\n",
       "         pro     flg  fwd  tos  pkt  byt label  \n",
       "1059523  TCP  ....S.    0    0    1  160   dos  \n",
       "1059524  TCP  ....S.    0    0    1  160   dos  \n",
       "1059525  TCP  ....S.    0    0    1  160   dos  \n",
       "1059526  TCP  ....S.    0    0    1  160   dos  \n",
       "1059527  TCP  ....S.    0    0    1  160   dos  "
      ]
     },
     "execution_count": 31,
     "metadata": {},
     "output_type": "execute_result"
    }
   ],
   "source": [
    "ugr_att.loc[ugr_att['label'] == 'dos'].head()"
   ]
  },
  {
   "cell_type": "markdown",
   "id": "633e3ba1-617e-41a6-b275-81ad7c1d8b40",
   "metadata": {},
   "source": [
    "As apparent, the attack started 16 second before the declared time in the documentation. Now, let's see if it really lasts exactly 3 minutes as declared."
   ]
  },
  {
   "cell_type": "code",
   "execution_count": 32,
   "id": "42377413-61fd-4441-bb01-0a4976f9d0d4",
   "metadata": {},
   "outputs": [
    {
     "data": {
      "text/html": [
       "<div>\n",
       "<style scoped>\n",
       "    .dataframe tbody tr th:only-of-type {\n",
       "        vertical-align: middle;\n",
       "    }\n",
       "\n",
       "    .dataframe tbody tr th {\n",
       "        vertical-align: top;\n",
       "    }\n",
       "\n",
       "    .dataframe thead th {\n",
       "        text-align: right;\n",
       "    }\n",
       "</style>\n",
       "<table border=\"1\" class=\"dataframe\">\n",
       "  <thead>\n",
       "    <tr style=\"text-align: right;\">\n",
       "      <th></th>\n",
       "      <th>te</th>\n",
       "      <th>td</th>\n",
       "      <th>sa</th>\n",
       "      <th>da</th>\n",
       "      <th>sp</th>\n",
       "      <th>dp</th>\n",
       "      <th>pro</th>\n",
       "      <th>flg</th>\n",
       "      <th>fwd</th>\n",
       "      <th>tos</th>\n",
       "      <th>pkt</th>\n",
       "      <th>byt</th>\n",
       "      <th>label</th>\n",
       "    </tr>\n",
       "  </thead>\n",
       "  <tbody>\n",
       "    <tr>\n",
       "      <th>1095574</th>\n",
       "      <td>2016-08-01 08:02:44</td>\n",
       "      <td>0.004</td>\n",
       "      <td>42.219.150.246</td>\n",
       "      <td>42.219.158.16</td>\n",
       "      <td>20016</td>\n",
       "      <td>80</td>\n",
       "      <td>TCP</td>\n",
       "      <td>...RS.</td>\n",
       "      <td>0</td>\n",
       "      <td>0</td>\n",
       "      <td>2</td>\n",
       "      <td>200</td>\n",
       "      <td>dos</td>\n",
       "    </tr>\n",
       "    <tr>\n",
       "      <th>1095575</th>\n",
       "      <td>2016-08-01 08:02:44</td>\n",
       "      <td>0.004</td>\n",
       "      <td>42.219.150.246</td>\n",
       "      <td>42.219.158.16</td>\n",
       "      <td>20025</td>\n",
       "      <td>80</td>\n",
       "      <td>TCP</td>\n",
       "      <td>...RS.</td>\n",
       "      <td>0</td>\n",
       "      <td>0</td>\n",
       "      <td>2</td>\n",
       "      <td>200</td>\n",
       "      <td>dos</td>\n",
       "    </tr>\n",
       "    <tr>\n",
       "      <th>1096530</th>\n",
       "      <td>2016-08-01 08:09:44</td>\n",
       "      <td>0.000</td>\n",
       "      <td>42.219.150.242</td>\n",
       "      <td>42.219.152.20</td>\n",
       "      <td>2293</td>\n",
       "      <td>80</td>\n",
       "      <td>TCP</td>\n",
       "      <td>....S.</td>\n",
       "      <td>0</td>\n",
       "      <td>0</td>\n",
       "      <td>1</td>\n",
       "      <td>160</td>\n",
       "      <td>dos</td>\n",
       "    </tr>\n",
       "    <tr>\n",
       "      <th>1096531</th>\n",
       "      <td>2016-08-01 08:09:44</td>\n",
       "      <td>0.000</td>\n",
       "      <td>42.219.150.242</td>\n",
       "      <td>42.219.152.20</td>\n",
       "      <td>2294</td>\n",
       "      <td>80</td>\n",
       "      <td>TCP</td>\n",
       "      <td>....S.</td>\n",
       "      <td>0</td>\n",
       "      <td>0</td>\n",
       "      <td>1</td>\n",
       "      <td>160</td>\n",
       "      <td>dos</td>\n",
       "    </tr>\n",
       "  </tbody>\n",
       "</table>\n",
       "</div>"
      ],
      "text/plain": [
       "                          te     td              sa             da     sp  dp  \\\n",
       "1095574  2016-08-01 08:02:44  0.004  42.219.150.246  42.219.158.16  20016  80   \n",
       "1095575  2016-08-01 08:02:44  0.004  42.219.150.246  42.219.158.16  20025  80   \n",
       "1096530  2016-08-01 08:09:44  0.000  42.219.150.242  42.219.152.20   2293  80   \n",
       "1096531  2016-08-01 08:09:44  0.000  42.219.150.242  42.219.152.20   2294  80   \n",
       "\n",
       "         pro     flg  fwd  tos  pkt  byt label  \n",
       "1095574  TCP  ...RS.    0    0    2  200   dos  \n",
       "1095575  TCP  ...RS.    0    0    2  200   dos  \n",
       "1096530  TCP  ....S.    0    0    1  160   dos  \n",
       "1096531  TCP  ....S.    0    0    1  160   dos  "
      ]
     },
     "execution_count": 32,
     "metadata": {},
     "output_type": "execute_result"
    }
   ],
   "source": [
    "ugr_att.loc[ugr_att['label'] == 'dos'].iloc[35662 : 35666]"
   ]
  },
  {
   "cell_type": "markdown",
   "id": "8cc40419-3639-4e5e-8df4-6411831c7def",
   "metadata": {},
   "source": [
    "In this case, the exact 3 minute attack period was kept."
   ]
  },
  {
   "cell_type": "code",
   "execution_count": 33,
   "id": "4467515c-12b0-4780-9565-b5f0dc673ac1",
   "metadata": {},
   "outputs": [
    {
     "data": {
      "text/html": [
       "<div>\n",
       "<style scoped>\n",
       "    .dataframe tbody tr th:only-of-type {\n",
       "        vertical-align: middle;\n",
       "    }\n",
       "\n",
       "    .dataframe tbody tr th {\n",
       "        vertical-align: top;\n",
       "    }\n",
       "\n",
       "    .dataframe thead th {\n",
       "        text-align: right;\n",
       "    }\n",
       "</style>\n",
       "<table border=\"1\" class=\"dataframe\">\n",
       "  <thead>\n",
       "    <tr style=\"text-align: right;\">\n",
       "      <th></th>\n",
       "      <th>te</th>\n",
       "      <th>td</th>\n",
       "      <th>sa</th>\n",
       "      <th>da</th>\n",
       "      <th>sp</th>\n",
       "      <th>dp</th>\n",
       "      <th>pro</th>\n",
       "      <th>flg</th>\n",
       "      <th>fwd</th>\n",
       "      <th>tos</th>\n",
       "      <th>pkt</th>\n",
       "      <th>byt</th>\n",
       "      <th>label</th>\n",
       "    </tr>\n",
       "  </thead>\n",
       "  <tbody>\n",
       "    <tr>\n",
       "      <th>37234995</th>\n",
       "      <td>2016-08-07 20:29:32</td>\n",
       "      <td>0.000</td>\n",
       "      <td>42.219.154.69</td>\n",
       "      <td>42.219.150.241</td>\n",
       "      <td>80</td>\n",
       "      <td>19921</td>\n",
       "      <td>TCP</td>\n",
       "      <td>.A..S.</td>\n",
       "      <td>0</td>\n",
       "      <td>0</td>\n",
       "      <td>1</td>\n",
       "      <td>40</td>\n",
       "      <td>dos</td>\n",
       "    </tr>\n",
       "    <tr>\n",
       "      <th>37234996</th>\n",
       "      <td>2016-08-07 20:29:32</td>\n",
       "      <td>0.000</td>\n",
       "      <td>42.219.154.69</td>\n",
       "      <td>42.219.150.241</td>\n",
       "      <td>80</td>\n",
       "      <td>19922</td>\n",
       "      <td>TCP</td>\n",
       "      <td>.A..S.</td>\n",
       "      <td>0</td>\n",
       "      <td>0</td>\n",
       "      <td>1</td>\n",
       "      <td>40</td>\n",
       "      <td>dos</td>\n",
       "    </tr>\n",
       "    <tr>\n",
       "      <th>37234997</th>\n",
       "      <td>2016-08-07 20:29:32</td>\n",
       "      <td>0.000</td>\n",
       "      <td>42.219.154.69</td>\n",
       "      <td>42.219.150.241</td>\n",
       "      <td>80</td>\n",
       "      <td>19923</td>\n",
       "      <td>TCP</td>\n",
       "      <td>.A..S.</td>\n",
       "      <td>0</td>\n",
       "      <td>0</td>\n",
       "      <td>1</td>\n",
       "      <td>40</td>\n",
       "      <td>dos</td>\n",
       "    </tr>\n",
       "    <tr>\n",
       "      <th>37234998</th>\n",
       "      <td>2016-08-07 20:29:32</td>\n",
       "      <td>0.004</td>\n",
       "      <td>42.219.150.241</td>\n",
       "      <td>42.219.154.69</td>\n",
       "      <td>19907</td>\n",
       "      <td>80</td>\n",
       "      <td>TCP</td>\n",
       "      <td>...RS.</td>\n",
       "      <td>0</td>\n",
       "      <td>0</td>\n",
       "      <td>2</td>\n",
       "      <td>200</td>\n",
       "      <td>dos</td>\n",
       "    </tr>\n",
       "    <tr>\n",
       "      <th>37234999</th>\n",
       "      <td>2016-08-07 20:29:32</td>\n",
       "      <td>0.004</td>\n",
       "      <td>42.219.150.241</td>\n",
       "      <td>42.219.154.69</td>\n",
       "      <td>19913</td>\n",
       "      <td>80</td>\n",
       "      <td>TCP</td>\n",
       "      <td>...RS.</td>\n",
       "      <td>0</td>\n",
       "      <td>0</td>\n",
       "      <td>2</td>\n",
       "      <td>200</td>\n",
       "      <td>dos</td>\n",
       "    </tr>\n",
       "  </tbody>\n",
       "</table>\n",
       "</div>"
      ],
      "text/plain": [
       "                           te     td              sa              da     sp  \\\n",
       "37234995  2016-08-07 20:29:32  0.000   42.219.154.69  42.219.150.241     80   \n",
       "37234996  2016-08-07 20:29:32  0.000   42.219.154.69  42.219.150.241     80   \n",
       "37234997  2016-08-07 20:29:32  0.000   42.219.154.69  42.219.150.241     80   \n",
       "37234998  2016-08-07 20:29:32  0.004  42.219.150.241   42.219.154.69  19907   \n",
       "37234999  2016-08-07 20:29:32  0.004  42.219.150.241   42.219.154.69  19913   \n",
       "\n",
       "             dp  pro     flg  fwd  tos  pkt  byt label  \n",
       "37234995  19921  TCP  .A..S.    0    0    1   40   dos  \n",
       "37234996  19922  TCP  .A..S.    0    0    1   40   dos  \n",
       "37234997  19923  TCP  .A..S.    0    0    1   40   dos  \n",
       "37234998     80  TCP  ...RS.    0    0    2  200   dos  \n",
       "37234999     80  TCP  ...RS.    0    0    2  200   dos  "
      ]
     },
     "execution_count": 33,
     "metadata": {},
     "output_type": "execute_result"
    }
   ],
   "source": [
    "# Another interesting finding - the server's responses are marked as DoS as well, this could be problematic for classifiers\n",
    "ugr_att.loc[ugr_att['label'] == 'dos'].tail()"
   ]
  },
  {
   "cell_type": "markdown",
   "id": "2eddb4d7-8201-4cb2-8bc6-36b7a955bbbb",
   "metadata": {},
   "source": [
    "## Conclusions"
   ]
  },
  {
   "cell_type": "markdown",
   "id": "4428727f-c11b-4569-9445-08ede2f4ba20",
   "metadata": {},
   "source": [
    "- Dataset contains lot of data and is undoubtedly of an above-average quality\n",
    "- It contains several amulated attacks and tons of background traffic with a few anomalies in it detected\n",
    "   - These anomalies are marked as \"anomaly-XXX\"\n",
    "- However, it can still contain a lot of attacks and anomalies that were undetected\n",
    "- The provided scope of attacks is rather limited and it is questionable if provided Netflow data would be able to sufficiently distinguish between them when ML techniques would be used\n",
    "- According to the brief analysis, some timestamps are slightly shifted than declared in the dataset's paper\n",
    "   - Nevertheless, attached file with attack timestamps seems to be precise\n",
    "- Only a very brief data exploration was performed here. If the dataset would be decided to be used, more effort would need to be put to understanding the data - e.g. pair plots, histograms, scatter plots of different features etc.\n",
    "- During the biref analysis, answers to attacks (such as DoS) were marked as attacking flows as well. If this is the case for the whole dataset, classifiers trained on this data may be unable to classify the traffic properly or other actions would need to be made\n",
    "   - This could be potentially mitigated by merging the flows and creating bidirectional ones, or completely ignoring the answers"
   ]
  }
 ],
 "metadata": {
  "kernelspec": {
   "display_name": "Python 3 (ipykernel)",
   "language": "python",
   "name": "python3"
  },
  "language_info": {
   "codemirror_mode": {
    "name": "ipython",
    "version": 3
   },
   "file_extension": ".py",
   "mimetype": "text/x-python",
   "name": "python",
   "nbconvert_exporter": "python",
   "pygments_lexer": "ipython3",
   "version": "3.9.7"
  }
 },
 "nbformat": 4,
 "nbformat_minor": 5
}
