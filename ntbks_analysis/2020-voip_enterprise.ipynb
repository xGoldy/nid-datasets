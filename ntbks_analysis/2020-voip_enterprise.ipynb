{
 "cells": [
  {
   "cell_type": "markdown",
   "metadata": {},
   "source": [
    "# VOIP Enterprise - Attack Dataset Analysis\n",
    "\n",
    "* **Author:** Patrik Goldschmidt (igoldschmidt@fit.vut.cz)\n",
    "* **Project:** Network Intrusion Datasets: A Survey, Limitations, and Recommendations\n",
    "* **Date:** 2024"
   ]
  },
  {
   "cell_type": "code",
   "execution_count": 2,
   "metadata": {},
   "outputs": [],
   "source": [
    "# Supposes we have already merged files from each scenario to determine dataset duration\n",
    "PATH = '/data/voip-enterprise/processed'"
   ]
  },
  {
   "cell_type": "code",
   "execution_count": 3,
   "metadata": {},
   "outputs": [],
   "source": [
    "import os"
   ]
  },
  {
   "cell_type": "code",
   "execution_count": 4,
   "metadata": {},
   "outputs": [
    {
     "data": {
      "text/plain": [
       "['/data/voip-enterprise/processed/bye_a_hosts.pcap',\n",
       " '/data/voip-enterprise/processed/invite_a.pcap',\n",
       " '/data/voip-enterprise/processed/sipsak.pcap',\n",
       " '/data/voip-enterprise/processed/register_hijack_a.pcap',\n",
       " '/data/voip-enterprise/processed/register_hijack_b.pcap',\n",
       " '/data/voip-enterprise/processed/bye_a_attacker.pcap',\n",
       " '/data/voip-enterprise/processed/invite_b.pcap',\n",
       " '/data/voip-enterprise/processed/rtpf_a.pcap',\n",
       " '/data/voip-enterprise/processed/rtpf_b.pcap',\n",
       " '/data/voip-enterprise/processed/spit.pcap',\n",
       " '/data/voip-enterprise/processed/bye_b_hosts.pcap',\n",
       " '/data/voip-enterprise/processed/bye_b_attacker.pcap']"
      ]
     },
     "execution_count": 4,
     "metadata": {},
     "output_type": "execute_result"
    }
   ],
   "source": [
    "# List all dataset files\n",
    "ALL_FILES = [os.path.join(PATH, fname) for fname in os.listdir(PATH)]\n",
    "ALL_FILES"
   ]
  },
  {
   "cell_type": "code",
   "execution_count": 5,
   "metadata": {},
   "outputs": [
    {
     "name": "stdout",
     "output_type": "stream",
     "text": [
      "File name:           /data/voip-enterprise/processed/bye_a_hosts.pcap\n",
      "Capture duration:    734.168354 seconds\n",
      "File name:           /data/voip-enterprise/processed/invite_a.pcap\n",
      "Capture duration:    1013.857646 seconds\n",
      "File name:           /data/voip-enterprise/processed/sipsak.pcap\n",
      "Capture duration:    1019.951040 seconds\n",
      "File name:           /data/voip-enterprise/processed/register_hijack_a.pcap\n",
      "Capture duration:    1024.256731 seconds\n",
      "File name:           /data/voip-enterprise/processed/register_hijack_b.pcap\n",
      "Capture duration:    1067.504594 seconds\n",
      "File name:           /data/voip-enterprise/processed/bye_a_attacker.pcap\n",
      "Capture duration:    322.619373 seconds\n",
      "File name:           /data/voip-enterprise/processed/invite_b.pcap\n",
      "Capture duration:    1022.451182 seconds\n",
      "File name:           /data/voip-enterprise/processed/rtpf_a.pcap\n",
      "Capture duration:    1043230.035390 seconds\n",
      "File name:           /data/voip-enterprise/processed/rtpf_b.pcap\n",
      "Capture duration:    1047729.447956 seconds\n",
      "File name:           /data/voip-enterprise/processed/spit.pcap\n",
      "Capture duration:    1078.722351 seconds\n",
      "File name:           /data/voip-enterprise/processed/bye_b_hosts.pcap\n",
      "Capture duration:    995.211222 seconds\n",
      "File name:           /data/voip-enterprise/processed/bye_b_attacker.pcap\n",
      "Capture duration:    486.083771 seconds\n"
     ]
    }
   ],
   "source": [
    "# Measure files capture durations to determine the capture length\n",
    "for file in ALL_FILES:\n",
    "    !capinfos -u $file"
   ]
  },
  {
   "cell_type": "markdown",
   "metadata": {},
   "source": [
    "Apparently, RTP Flood captures take too long time, therefore, there must be a gap between the scenario's captures."
   ]
  },
  {
   "cell_type": "code",
   "execution_count": 6,
   "metadata": {},
   "outputs": [
    {
     "data": {
      "text/plain": [
       "['/data/voip-enterprise/rtp_flood/RTP_A_Host_Asterisk_IP-PBX.pcap',\n",
       " '/data/voip-enterprise/rtp_flood/RTP_A_Host_Client2.pcap',\n",
       " '/data/voip-enterprise/rtp_flood/RTP_B_Host_Client2.pcap',\n",
       " '/data/voip-enterprise/rtp_flood/RTP_B_Host_Client3.pcap',\n",
       " '/data/voip-enterprise/rtp_flood/RTP_A_Host_Client4.pcap',\n",
       " '/data/voip-enterprise/rtp_flood/RTP_B_Host_Client1.pcap',\n",
       " '/data/voip-enterprise/rtp_flood/RTP_A_Host_Client3.pcap',\n",
       " '/data/voip-enterprise/rtp_flood/RTP_B_Host_Asterisk_IP-PBX.pcap',\n",
       " '/data/voip-enterprise/rtp_flood/RTP_B_Host_Client4.pcap',\n",
       " '/data/voip-enterprise/rtp_flood/RTP_B_Host_Attacker.pcap',\n",
       " '/data/voip-enterprise/rtp_flood/RTP_A_Host_Attacker.pcap',\n",
       " '/data/voip-enterprise/rtp_flood/RTP_A_Host_Client1.pcap']"
      ]
     },
     "execution_count": 6,
     "metadata": {},
     "output_type": "execute_result"
    }
   ],
   "source": [
    "# Analyze RTP Flood capinfos durations\n",
    "RTPF_DIR = '/data/voip-enterprise/rtp_flood'\n",
    "RTPF_FILES = [os.path.join(RTPF_DIR, fname) for fname in os.listdir(RTPF_DIR)]\n",
    "RTPF_FILES"
   ]
  },
  {
   "cell_type": "code",
   "execution_count": 8,
   "metadata": {},
   "outputs": [
    {
     "name": "stdout",
     "output_type": "stream",
     "text": [
      "File name:           /data/voip-enterprise/rtp_flood/RTP_A_Host_Asterisk_IP-PBX.pcap\n",
      "First packet time:   2020-08-16 10:54:19.775853\n",
      "Last packet time:    2020-08-16 11:11:00.418120\n",
      "File name:           /data/voip-enterprise/rtp_flood/RTP_A_Host_Attacker.pcap\n",
      "First packet time:   2020-08-16 10:54:19.575910\n",
      "Last packet time:    2020-08-16 11:11:51.842283\n",
      "File name:           /data/voip-enterprise/rtp_flood/RTP_A_Host_Client1.pcap\n",
      "First packet time:   2020-08-16 10:55:07.035600\n",
      "Last packet time:    2020-08-16 11:11:07.191101\n",
      "File name:           /data/voip-enterprise/rtp_flood/RTP_A_Host_Client2.pcap\n",
      "First packet time:   2020-08-04 09:24:41.806893\n",
      "Last packet time:    2020-08-04 09:45:00.757702\n",
      "File name:           /data/voip-enterprise/rtp_flood/RTP_A_Host_Client3.pcap\n",
      "First packet time:   2020-08-16 10:54:31.261114\n",
      "Last packet time:    2020-08-16 11:11:03.729486\n",
      "File name:           /data/voip-enterprise/rtp_flood/RTP_A_Host_Client4.pcap\n",
      "First packet time:   2020-08-16 10:54:06.374536\n",
      "Last packet time:    2020-08-16 11:11:08.767131\n",
      "File name:           /data/voip-enterprise/rtp_flood/RTP_B_Host_Asterisk_IP-PBX.pcap\n",
      "First packet time:   2020-08-16 14:24:08.238271\n",
      "Last packet time:    2020-08-16 14:41:01.048844\n",
      "File name:           /data/voip-enterprise/rtp_flood/RTP_B_Host_Attacker.pcap\n",
      "First packet time:   2020-08-16 14:24:05.298355\n",
      "Last packet time:    2020-08-16 14:41:20.350439\n",
      "File name:           /data/voip-enterprise/rtp_flood/RTP_B_Host_Client1.pcap\n",
      "First packet time:   2020-08-16 14:24:07.581103\n",
      "Last packet time:    2020-08-16 14:40:57.663672\n",
      "File name:           /data/voip-enterprise/rtp_flood/RTP_B_Host_Client2.pcap\n",
      "First packet time:   2020-08-04 11:39:10.902483\n",
      "Last packet time:    2020-08-04 11:55:55.153567\n",
      "File name:           /data/voip-enterprise/rtp_flood/RTP_B_Host_Client3.pcap\n",
      "First packet time:   2020-08-16 14:24:10.398836\n",
      "Last packet time:    2020-08-16 14:41:01.024309\n",
      "File name:           /data/voip-enterprise/rtp_flood/RTP_B_Host_Client4.pcap\n",
      "First packet time:   2020-08-16 14:23:59.526922\n",
      "Last packet time:    2020-08-16 14:41:09.726696\n"
     ]
    }
   ],
   "source": [
    "for rtpf_file in sorted(RTPF_FILES):\n",
    "    !capinfos -a -e $rtpf_file"
   ]
  },
  {
   "cell_type": "markdown",
   "metadata": {},
   "source": [
    "Apparently, the client 3 is not in-line with other traffic -- adding to time discontiguousness of the capture and finding the root of the problem. Fix in normal terminal."
   ]
  }
 ],
 "metadata": {
  "kernelspec": {
   "display_name": "env",
   "language": "python",
   "name": "python3"
  },
  "language_info": {
   "codemirror_mode": {
    "name": "ipython",
    "version": 3
   },
   "file_extension": ".py",
   "mimetype": "text/x-python",
   "name": "python",
   "nbconvert_exporter": "python",
   "pygments_lexer": "ipython3",
   "version": "3.12.2"
  }
 },
 "nbformat": 4,
 "nbformat_minor": 2
}
