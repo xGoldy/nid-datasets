{
 "cells": [
  {
   "cell_type": "markdown",
   "metadata": {},
   "source": [
    "# FLNET2023 Dataset Analysis\n",
    "\n",
    "* **Author:** Patrik Goldschmidt (igoldschmidt@fit.vut.cz)\n",
    "* **Project:** Network Intrusion Datasets: A Survey, Limitations, and Recommendations\n",
    "* **Date:** 2024"
   ]
  },
  {
   "cell_type": "code",
   "execution_count": 1,
   "metadata": {},
   "outputs": [],
   "source": [
    "import pandas as pd\n",
    "import numpy as np\n",
    "import os"
   ]
  },
  {
   "cell_type": "code",
   "execution_count": 2,
   "metadata": {},
   "outputs": [],
   "source": [
    "BASE_FOLDER = '/data/ciciot23/flnet2023/'"
   ]
  },
  {
   "cell_type": "markdown",
   "metadata": {},
   "source": [
    "### Preparation"
   ]
  },
  {
   "cell_type": "code",
   "execution_count": 3,
   "metadata": {},
   "outputs": [],
   "source": [
    "def normalize_names(folder: str, new_prefix: str) -> None:\n",
    "    \"\"\"Normalization of all data files within a directory by prefixing a certain string to their filenames.\n",
    "    Performed for easier handling and ability to load by-event (e.g., certain attacks)\"\"\"\n",
    "    # Find out files in the given directory\n",
    "    files = os.listdir(folder)\n",
    "\n",
    "    # Go through determined files and rename them accordingly\n",
    "    for fname in files:\n",
    "        if os.path.isfile(os.path.join(folder, fname)):\n",
    "            # Split extension and the file parts by '-'\n",
    "            fpath, fext = os.path.splitext(fname)\n",
    "            fpath_parts = fpath.split('-')\n",
    "\n",
    "            # Search for a number a normalize into two digits\n",
    "            for idx in range(len(fpath_parts)):\n",
    "                if fpath_parts[idx].isnumeric():\n",
    "                    fpath_parts[idx] = f'{int(fpath_parts[idx]):>02}'\n",
    "\n",
    "            # Rename 1st part with the desired prefix\n",
    "            if fpath_parts[0] == 'Dataset':\n",
    "                fpath_parts[0] = new_prefix\n",
    "\n",
    "            # Create a new file name by merging the file path parts back together\n",
    "            new_fname = '-'.join(fpath_parts) + fext\n",
    "\n",
    "            fullpath_old = os.path.join(folder, fname)\n",
    "            fullpath_new = os.path.join(folder, new_fname)\n",
    "\n",
    "            os.rename(fullpath_old, fullpath_new)\n"
   ]
  },
  {
   "cell_type": "code",
   "execution_count": 4,
   "metadata": {},
   "outputs": [],
   "source": [
    "normalize_names(BASE_FOLDER + '/DoS/CSV', 'dos')\n",
    "normalize_names(BASE_FOLDER + '/DoS/PCAP', 'dos')"
   ]
  },
  {
   "cell_type": "code",
   "execution_count": 5,
   "metadata": {},
   "outputs": [],
   "source": [
    "normalize_names(BASE_FOLDER + '/Infiltration/CSV', 'infilt')\n",
    "normalize_names(BASE_FOLDER + '/Infiltration/PCAP', 'infilt')"
   ]
  },
  {
   "cell_type": "code",
   "execution_count": 6,
   "metadata": {},
   "outputs": [],
   "source": [
    "normalize_names(BASE_FOLDER + '/Normal/CSV', 'normal')\n",
    "normalize_names(BASE_FOLDER + '/Normal/PCAP', 'normal')"
   ]
  },
  {
   "cell_type": "markdown",
   "metadata": {},
   "source": [
    "## CSV Files Analysis"
   ]
  },
  {
   "cell_type": "code",
   "execution_count": 9,
   "metadata": {},
   "outputs": [],
   "source": [
    "FOLDER_CSV_TRAIN = '/data/ciciot23/flnet2023/train/csv/'"
   ]
  },
  {
   "cell_type": "code",
   "execution_count": 10,
   "metadata": {},
   "outputs": [],
   "source": [
    "# Are data properly discriminated? Load 2-3 random files to see label distribution\n",
    "data = pd.read_csv(FOLDER_CSV_TRAIN + 'dos-01.csv')"
   ]
  },
  {
   "cell_type": "code",
   "execution_count": 11,
   "metadata": {},
   "outputs": [
    {
     "name": "stdout",
     "output_type": "stream",
     "text": [
      "<class 'pandas.core.frame.DataFrame'>\n",
      "RangeIndex: 10590 entries, 0 to 10589\n",
      "Data columns (total 83 columns):\n",
      " #   Column             Non-Null Count  Dtype  \n",
      "---  ------             --------------  -----  \n",
      " 0   src_ip             10590 non-null  object \n",
      " 1   dst_ip             10590 non-null  object \n",
      " 2   src_port           10590 non-null  int64  \n",
      " 3   dst_port           10590 non-null  int64  \n",
      " 4   protocol           10590 non-null  int64  \n",
      " 5   timestamp          10590 non-null  object \n",
      " 6   flow_duration      10590 non-null  int64  \n",
      " 7   flow_byts_s        10590 non-null  float64\n",
      " 8   flow_pkts_s        10590 non-null  float64\n",
      " 9   fwd_pkts_s         10590 non-null  float64\n",
      " 10  bwd_pkts_s         10590 non-null  float64\n",
      " 11  tot_fwd_pkts       10590 non-null  int64  \n",
      " 12  tot_bwd_pkts       10590 non-null  int64  \n",
      " 13  totlen_fwd_pkts    10590 non-null  int64  \n",
      " 14  totlen_bwd_pkts    10590 non-null  int64  \n",
      " 15  fwd_pkt_len_max    10590 non-null  int64  \n",
      " 16  fwd_pkt_len_min    10590 non-null  int64  \n",
      " 17  fwd_pkt_len_mean   10590 non-null  float64\n",
      " 18  fwd_pkt_len_std    10590 non-null  float64\n",
      " 19  bwd_pkt_len_max    10590 non-null  int64  \n",
      " 20  bwd_pkt_len_min    10590 non-null  int64  \n",
      " 21  bwd_pkt_len_mean   10590 non-null  float64\n",
      " 22  bwd_pkt_len_std    10590 non-null  float64\n",
      " 23  pkt_len_max        10590 non-null  int64  \n",
      " 24  pkt_len_min        10590 non-null  int64  \n",
      " 25  pkt_len_mean       10590 non-null  float64\n",
      " 26  pkt_len_std        10590 non-null  float64\n",
      " 27  pkt_len_var        10590 non-null  float64\n",
      " 28  fwd_header_len     10590 non-null  int64  \n",
      " 29  bwd_header_len     10590 non-null  int64  \n",
      " 30  fwd_seg_size_min   10590 non-null  int64  \n",
      " 31  fwd_act_data_pkts  10590 non-null  int64  \n",
      " 32  flow_iat_mean      10590 non-null  float64\n",
      " 33  flow_iat_max       10590 non-null  int64  \n",
      " 34  flow_iat_min       10590 non-null  int64  \n",
      " 35  flow_iat_std       10590 non-null  float64\n",
      " 36  fwd_iat_tot        10590 non-null  int64  \n",
      " 37  fwd_iat_max        10590 non-null  int64  \n",
      " 38  fwd_iat_min        10590 non-null  int64  \n",
      " 39  fwd_iat_mean       10590 non-null  float64\n",
      " 40  fwd_iat_std        10590 non-null  float64\n",
      " 41  bwd_iat_tot        10590 non-null  int64  \n",
      " 42  bwd_iat_max        10590 non-null  int64  \n",
      " 43  bwd_iat_min        10590 non-null  int64  \n",
      " 44  bwd_iat_mean       10590 non-null  float64\n",
      " 45  bwd_iat_std        10590 non-null  float64\n",
      " 46  fwd_psh_flags      10590 non-null  int64  \n",
      " 47  bwd_psh_flags      10590 non-null  int64  \n",
      " 48  fwd_urg_flags      10590 non-null  int64  \n",
      " 49  bwd_urg_flags      10590 non-null  int64  \n",
      " 50  fin_flag_cnt       10590 non-null  int64  \n",
      " 51  syn_flag_cnt       10590 non-null  int64  \n",
      " 52  rst_flag_cnt       10590 non-null  int64  \n",
      " 53  psh_flag_cnt       10590 non-null  int64  \n",
      " 54  ack_flag_cnt       10590 non-null  int64  \n",
      " 55  urg_flag_cnt       10590 non-null  int64  \n",
      " 56  ece_flag_cnt       10590 non-null  int64  \n",
      " 57  down_up_ratio      10590 non-null  float64\n",
      " 58  pkt_size_avg       10590 non-null  float64\n",
      " 59  init_fwd_win_byts  10590 non-null  int64  \n",
      " 60  init_bwd_win_byts  10590 non-null  int64  \n",
      " 61  active_max         10590 non-null  int64  \n",
      " 62  active_min         10590 non-null  int64  \n",
      " 63  active_mean        10590 non-null  float64\n",
      " 64  active_std         10590 non-null  float64\n",
      " 65  idle_max           10590 non-null  int64  \n",
      " 66  idle_min           10590 non-null  int64  \n",
      " 67  idle_mean          10590 non-null  float64\n",
      " 68  idle_std           10590 non-null  float64\n",
      " 69  fwd_byts_b_avg     10590 non-null  int64  \n",
      " 70  fwd_pkts_b_avg     10590 non-null  int64  \n",
      " 71  bwd_byts_b_avg     10590 non-null  int64  \n",
      " 72  bwd_pkts_b_avg     10590 non-null  int64  \n",
      " 73  fwd_blk_rate_avg   10590 non-null  float64\n",
      " 74  bwd_blk_rate_avg   10590 non-null  float64\n",
      " 75  fwd_seg_size_avg   10590 non-null  float64\n",
      " 76  bwd_seg_size_avg   10590 non-null  float64\n",
      " 77  cwe_flag_count     10590 non-null  int64  \n",
      " 78  subflow_fwd_pkts   10590 non-null  int64  \n",
      " 79  subflow_bwd_pkts   10590 non-null  int64  \n",
      " 80  subflow_fwd_byts   10590 non-null  int64  \n",
      " 81  subflow_bwd_byts   10590 non-null  int64  \n",
      " 82  label              10590 non-null  object \n",
      "dtypes: float64(27), int64(52), object(4)\n",
      "memory usage: 6.7+ MB\n"
     ]
    }
   ],
   "source": [
    "data.info()"
   ]
  },
  {
   "cell_type": "code",
   "execution_count": 12,
   "metadata": {},
   "outputs": [
    {
     "data": {
      "text/plain": [
       "label\n",
       "DoS-slowhttp    10590\n",
       "Name: count, dtype: int64"
      ]
     },
     "execution_count": 12,
     "metadata": {},
     "output_type": "execute_result"
    }
   ],
   "source": [
    "data['label'].value_counts()"
   ]
  },
  {
   "cell_type": "code",
   "execution_count": 16,
   "metadata": {},
   "outputs": [
    {
     "data": {
      "text/plain": [
       "label\n",
       "Infiltration-mitm    2216\n",
       "Name: count, dtype: int64"
      ]
     },
     "execution_count": 16,
     "metadata": {},
     "output_type": "execute_result"
    }
   ],
   "source": [
    "data = pd.read_csv(FOLDER_CSV_TRAIN + 'infilt-04.csv')\n",
    "data['label'].value_counts()"
   ]
  },
  {
   "cell_type": "code",
   "execution_count": 17,
   "metadata": {},
   "outputs": [
    {
     "data": {
      "text/plain": [
       "label\n",
       "Normal    446469\n",
       "Name: count, dtype: int64"
      ]
     },
     "execution_count": 17,
     "metadata": {},
     "output_type": "execute_result"
    }
   ],
   "source": [
    "data = pd.read_csv(FOLDER_CSV_TRAIN + 'normal-10.csv')\n",
    "data['label'].value_counts()"
   ]
  },
  {
   "cell_type": "markdown",
   "metadata": {},
   "source": [
    "Ok, this seems fine. Load all at once."
   ]
  },
  {
   "cell_type": "code",
   "execution_count": 20,
   "metadata": {},
   "outputs": [],
   "source": [
    "data_train = pd.DataFrame()\n",
    "\n",
    "for csv_file in os.listdir(FOLDER_CSV_TRAIN):\n",
    "    data_train = pd.concat([data_train, pd.read_csv(os.path.join(FOLDER_CSV_TRAIN, csv_file))])"
   ]
  },
  {
   "cell_type": "code",
   "execution_count": 21,
   "metadata": {},
   "outputs": [
    {
     "name": "stdout",
     "output_type": "stream",
     "text": [
      "<class 'pandas.core.frame.DataFrame'>\n",
      "Index: 5416155 entries, 0 to 4776\n",
      "Data columns (total 83 columns):\n",
      " #   Column             Dtype  \n",
      "---  ------             -----  \n",
      " 0   src_ip             object \n",
      " 1   dst_ip             object \n",
      " 2   src_port           int64  \n",
      " 3   dst_port           int64  \n",
      " 4   protocol           int64  \n",
      " 5   timestamp          object \n",
      " 6   flow_duration      int64  \n",
      " 7   flow_byts_s        float64\n",
      " 8   flow_pkts_s        float64\n",
      " 9   fwd_pkts_s         float64\n",
      " 10  bwd_pkts_s         float64\n",
      " 11  tot_fwd_pkts       int64  \n",
      " 12  tot_bwd_pkts       int64  \n",
      " 13  totlen_fwd_pkts    int64  \n",
      " 14  totlen_bwd_pkts    int64  \n",
      " 15  fwd_pkt_len_max    int64  \n",
      " 16  fwd_pkt_len_min    int64  \n",
      " 17  fwd_pkt_len_mean   float64\n",
      " 18  fwd_pkt_len_std    float64\n",
      " 19  bwd_pkt_len_max    int64  \n",
      " 20  bwd_pkt_len_min    int64  \n",
      " 21  bwd_pkt_len_mean   float64\n",
      " 22  bwd_pkt_len_std    float64\n",
      " 23  pkt_len_max        int64  \n",
      " 24  pkt_len_min        int64  \n",
      " 25  pkt_len_mean       float64\n",
      " 26  pkt_len_std        float64\n",
      " 27  pkt_len_var        float64\n",
      " 28  fwd_header_len     int64  \n",
      " 29  bwd_header_len     int64  \n",
      " 30  fwd_seg_size_min   int64  \n",
      " 31  fwd_act_data_pkts  int64  \n",
      " 32  flow_iat_mean      float64\n",
      " 33  flow_iat_max       int64  \n",
      " 34  flow_iat_min       int64  \n",
      " 35  flow_iat_std       float64\n",
      " 36  fwd_iat_tot        int64  \n",
      " 37  fwd_iat_max        int64  \n",
      " 38  fwd_iat_min        int64  \n",
      " 39  fwd_iat_mean       float64\n",
      " 40  fwd_iat_std        float64\n",
      " 41  bwd_iat_tot        int64  \n",
      " 42  bwd_iat_max        int64  \n",
      " 43  bwd_iat_min        int64  \n",
      " 44  bwd_iat_mean       float64\n",
      " 45  bwd_iat_std        float64\n",
      " 46  fwd_psh_flags      int64  \n",
      " 47  bwd_psh_flags      int64  \n",
      " 48  fwd_urg_flags      int64  \n",
      " 49  bwd_urg_flags      int64  \n",
      " 50  fin_flag_cnt       int64  \n",
      " 51  syn_flag_cnt       int64  \n",
      " 52  rst_flag_cnt       int64  \n",
      " 53  psh_flag_cnt       int64  \n",
      " 54  ack_flag_cnt       int64  \n",
      " 55  urg_flag_cnt       int64  \n",
      " 56  ece_flag_cnt       int64  \n",
      " 57  down_up_ratio      float64\n",
      " 58  pkt_size_avg       float64\n",
      " 59  init_fwd_win_byts  int64  \n",
      " 60  init_bwd_win_byts  int64  \n",
      " 61  active_max         int64  \n",
      " 62  active_min         int64  \n",
      " 63  active_mean        float64\n",
      " 64  active_std         float64\n",
      " 65  idle_max           int64  \n",
      " 66  idle_min           int64  \n",
      " 67  idle_mean          float64\n",
      " 68  idle_std           float64\n",
      " 69  fwd_byts_b_avg     float64\n",
      " 70  fwd_pkts_b_avg     float64\n",
      " 71  bwd_byts_b_avg     float64\n",
      " 72  bwd_pkts_b_avg     float64\n",
      " 73  fwd_blk_rate_avg   float64\n",
      " 74  bwd_blk_rate_avg   float64\n",
      " 75  fwd_seg_size_avg   float64\n",
      " 76  bwd_seg_size_avg   float64\n",
      " 77  cwe_flag_count     int64  \n",
      " 78  subflow_fwd_pkts   int64  \n",
      " 79  subflow_bwd_pkts   int64  \n",
      " 80  subflow_fwd_byts   int64  \n",
      " 81  subflow_bwd_byts   int64  \n",
      " 82  label              object \n",
      "dtypes: float64(31), int64(48), object(4)\n",
      "memory usage: 3.4+ GB\n"
     ]
    }
   ],
   "source": [
    "data_train.info()"
   ]
  },
  {
   "cell_type": "code",
   "execution_count": 23,
   "metadata": {},
   "outputs": [
    {
     "data": {
      "text/html": [
       "<div>\n",
       "<style scoped>\n",
       "    .dataframe tbody tr th:only-of-type {\n",
       "        vertical-align: middle;\n",
       "    }\n",
       "\n",
       "    .dataframe tbody tr th {\n",
       "        vertical-align: top;\n",
       "    }\n",
       "\n",
       "    .dataframe thead th {\n",
       "        text-align: right;\n",
       "    }\n",
       "</style>\n",
       "<table border=\"1\" class=\"dataframe\">\n",
       "  <thead>\n",
       "    <tr style=\"text-align: right;\">\n",
       "      <th></th>\n",
       "      <th>src_ip</th>\n",
       "      <th>dst_ip</th>\n",
       "      <th>src_port</th>\n",
       "      <th>dst_port</th>\n",
       "      <th>protocol</th>\n",
       "      <th>timestamp</th>\n",
       "      <th>flow_duration</th>\n",
       "      <th>flow_byts_s</th>\n",
       "      <th>flow_pkts_s</th>\n",
       "      <th>fwd_pkts_s</th>\n",
       "      <th>...</th>\n",
       "      <th>fwd_blk_rate_avg</th>\n",
       "      <th>bwd_blk_rate_avg</th>\n",
       "      <th>fwd_seg_size_avg</th>\n",
       "      <th>bwd_seg_size_avg</th>\n",
       "      <th>cwe_flag_count</th>\n",
       "      <th>subflow_fwd_pkts</th>\n",
       "      <th>subflow_bwd_pkts</th>\n",
       "      <th>subflow_fwd_byts</th>\n",
       "      <th>subflow_bwd_byts</th>\n",
       "      <th>label</th>\n",
       "    </tr>\n",
       "  </thead>\n",
       "  <tbody>\n",
       "    <tr>\n",
       "      <th>0</th>\n",
       "      <td>10.0.51.2</td>\n",
       "      <td>10.0.48.1</td>\n",
       "      <td>57136</td>\n",
       "      <td>5050</td>\n",
       "      <td>2048</td>\n",
       "      <td>2023-05-13 15:48:13</td>\n",
       "      <td>3807</td>\n",
       "      <td>2.603940e+07</td>\n",
       "      <td>35198.318886</td>\n",
       "      <td>25216.706068</td>\n",
       "      <td>...</td>\n",
       "      <td>2.842169e+07</td>\n",
       "      <td>0.0</td>\n",
       "      <td>1001.687500</td>\n",
       "      <td>78.157895</td>\n",
       "      <td>0</td>\n",
       "      <td>96</td>\n",
       "      <td>38</td>\n",
       "      <td>96162</td>\n",
       "      <td>2970</td>\n",
       "      <td>DDoS-bot</td>\n",
       "    </tr>\n",
       "    <tr>\n",
       "      <th>1</th>\n",
       "      <td>10.0.51.2</td>\n",
       "      <td>10.0.48.1</td>\n",
       "      <td>57164</td>\n",
       "      <td>5050</td>\n",
       "      <td>2048</td>\n",
       "      <td>2023-05-13 15:48:13</td>\n",
       "      <td>5312</td>\n",
       "      <td>1.663291e+07</td>\n",
       "      <td>24472.891566</td>\n",
       "      <td>17319.277108</td>\n",
       "      <td>...</td>\n",
       "      <td>2.103003e+07</td>\n",
       "      <td>0.0</td>\n",
       "      <td>928.086957</td>\n",
       "      <td>78.157895</td>\n",
       "      <td>0</td>\n",
       "      <td>92</td>\n",
       "      <td>38</td>\n",
       "      <td>85384</td>\n",
       "      <td>2970</td>\n",
       "      <td>DDoS-bot</td>\n",
       "    </tr>\n",
       "    <tr>\n",
       "      <th>2</th>\n",
       "      <td>10.0.51.2</td>\n",
       "      <td>10.0.48.1</td>\n",
       "      <td>57184</td>\n",
       "      <td>5050</td>\n",
       "      <td>2048</td>\n",
       "      <td>2023-05-13 15:48:13</td>\n",
       "      <td>6463</td>\n",
       "      <td>1.424354e+07</td>\n",
       "      <td>20423.951725</td>\n",
       "      <td>14544.329259</td>\n",
       "      <td>...</td>\n",
       "      <td>1.467909e+07</td>\n",
       "      <td>0.0</td>\n",
       "      <td>947.723404</td>\n",
       "      <td>78.157895</td>\n",
       "      <td>0</td>\n",
       "      <td>94</td>\n",
       "      <td>38</td>\n",
       "      <td>89086</td>\n",
       "      <td>2970</td>\n",
       "      <td>DDoS-bot</td>\n",
       "    </tr>\n",
       "    <tr>\n",
       "      <th>3</th>\n",
       "      <td>10.0.52.2</td>\n",
       "      <td>10.0.48.1</td>\n",
       "      <td>59040</td>\n",
       "      <td>5050</td>\n",
       "      <td>2048</td>\n",
       "      <td>2023-05-13 15:48:14</td>\n",
       "      <td>2165</td>\n",
       "      <td>4.292102e+07</td>\n",
       "      <td>60969.976905</td>\n",
       "      <td>43418.013857</td>\n",
       "      <td>...</td>\n",
       "      <td>2.105038e+08</td>\n",
       "      <td>0.0</td>\n",
       "      <td>956.957447</td>\n",
       "      <td>78.157895</td>\n",
       "      <td>0</td>\n",
       "      <td>94</td>\n",
       "      <td>38</td>\n",
       "      <td>89954</td>\n",
       "      <td>2970</td>\n",
       "      <td>DDoS-bot</td>\n",
       "    </tr>\n",
       "    <tr>\n",
       "      <th>4</th>\n",
       "      <td>10.0.52.2</td>\n",
       "      <td>10.0.48.1</td>\n",
       "      <td>59048</td>\n",
       "      <td>5050</td>\n",
       "      <td>2048</td>\n",
       "      <td>2023-05-13 15:48:14</td>\n",
       "      <td>2256</td>\n",
       "      <td>4.317819e+07</td>\n",
       "      <td>59397.163121</td>\n",
       "      <td>42553.191489</td>\n",
       "      <td>...</td>\n",
       "      <td>1.259599e+08</td>\n",
       "      <td>0.0</td>\n",
       "      <td>983.750000</td>\n",
       "      <td>78.157895</td>\n",
       "      <td>0</td>\n",
       "      <td>96</td>\n",
       "      <td>38</td>\n",
       "      <td>94440</td>\n",
       "      <td>2970</td>\n",
       "      <td>DDoS-bot</td>\n",
       "    </tr>\n",
       "  </tbody>\n",
       "</table>\n",
       "<p>5 rows × 83 columns</p>\n",
       "</div>"
      ],
      "text/plain": [
       "      src_ip     dst_ip  src_port  dst_port  protocol            timestamp  \\\n",
       "0  10.0.51.2  10.0.48.1     57136      5050      2048  2023-05-13 15:48:13   \n",
       "1  10.0.51.2  10.0.48.1     57164      5050      2048  2023-05-13 15:48:13   \n",
       "2  10.0.51.2  10.0.48.1     57184      5050      2048  2023-05-13 15:48:13   \n",
       "3  10.0.52.2  10.0.48.1     59040      5050      2048  2023-05-13 15:48:14   \n",
       "4  10.0.52.2  10.0.48.1     59048      5050      2048  2023-05-13 15:48:14   \n",
       "\n",
       "   flow_duration   flow_byts_s   flow_pkts_s    fwd_pkts_s  ...  \\\n",
       "0           3807  2.603940e+07  35198.318886  25216.706068  ...   \n",
       "1           5312  1.663291e+07  24472.891566  17319.277108  ...   \n",
       "2           6463  1.424354e+07  20423.951725  14544.329259  ...   \n",
       "3           2165  4.292102e+07  60969.976905  43418.013857  ...   \n",
       "4           2256  4.317819e+07  59397.163121  42553.191489  ...   \n",
       "\n",
       "   fwd_blk_rate_avg  bwd_blk_rate_avg  fwd_seg_size_avg  bwd_seg_size_avg  \\\n",
       "0      2.842169e+07               0.0       1001.687500         78.157895   \n",
       "1      2.103003e+07               0.0        928.086957         78.157895   \n",
       "2      1.467909e+07               0.0        947.723404         78.157895   \n",
       "3      2.105038e+08               0.0        956.957447         78.157895   \n",
       "4      1.259599e+08               0.0        983.750000         78.157895   \n",
       "\n",
       "   cwe_flag_count  subflow_fwd_pkts  subflow_bwd_pkts  subflow_fwd_byts  \\\n",
       "0               0                96                38             96162   \n",
       "1               0                92                38             85384   \n",
       "2               0                94                38             89086   \n",
       "3               0                94                38             89954   \n",
       "4               0                96                38             94440   \n",
       "\n",
       "   subflow_bwd_byts     label  \n",
       "0              2970  DDoS-bot  \n",
       "1              2970  DDoS-bot  \n",
       "2              2970  DDoS-bot  \n",
       "3              2970  DDoS-bot  \n",
       "4              2970  DDoS-bot  \n",
       "\n",
       "[5 rows x 83 columns]"
      ]
     },
     "execution_count": 23,
     "metadata": {},
     "output_type": "execute_result"
    }
   ],
   "source": [
    "data_train.head()"
   ]
  },
  {
   "cell_type": "code",
   "execution_count": 22,
   "metadata": {},
   "outputs": [
    {
     "data": {
      "text/plain": [
       "label\n",
       "Normal                   1922529\n",
       "DoS-hulk                 1644381\n",
       "DDoS-tcp                  930798\n",
       "DDoS-stomp                389540\n",
       "DDoS-dyn                  322920\n",
       "DDoS-bot                   87808\n",
       "DoS-slowhttp               86226\n",
       "Infiltration-mitm          28113\n",
       "Web-xss                     3069\n",
       "Web-sql-injection            441\n",
       "Web-command-injection        330\n",
       "Name: count, dtype: int64"
      ]
     },
     "execution_count": 22,
     "metadata": {},
     "output_type": "execute_result"
    }
   ],
   "source": [
    "# Label distribution\n",
    "data_train['label'].value_counts()"
   ]
  },
  {
   "cell_type": "code",
   "execution_count": 32,
   "metadata": {},
   "outputs": [
    {
     "data": {
      "text/plain": [
       "Timedelta('20 days 05:40:42')"
      ]
     },
     "execution_count": 32,
     "metadata": {},
     "output_type": "execute_result"
    }
   ],
   "source": [
    "# Measure a timespan of the data capture\n",
    "tstamps = pd.to_datetime(data_train['timestamp'])\n",
    "\n",
    "tstampts_sorted = tstamps.sort_values()\n",
    "\n",
    "(tstampts_sorted.iloc[-1] - tstampts_sorted.iloc[0])"
   ]
  },
  {
   "cell_type": "markdown",
   "metadata": {},
   "source": [
    "The span of the capture is 20d 5h 40m, let's PCAPs will tell us bigger details."
   ]
  },
  {
   "cell_type": "markdown",
   "metadata": {},
   "source": [
    "## Load the Test Set"
   ]
  },
  {
   "cell_type": "code",
   "execution_count": 33,
   "metadata": {},
   "outputs": [],
   "source": [
    "TEST_SET_BASE_DIR = '/data/ciciot23/flnet2023/test/csv'"
   ]
  },
  {
   "cell_type": "code",
   "execution_count": 35,
   "metadata": {},
   "outputs": [
    {
     "name": "stdout",
     "output_type": "stream",
     "text": [
      "<class 'pandas.core.frame.DataFrame'>\n",
      "Index: 746617 entries, 0 to 302080\n",
      "Data columns (total 83 columns):\n",
      " #   Column             Non-Null Count   Dtype  \n",
      "---  ------             --------------   -----  \n",
      " 0   src_ip             746617 non-null  object \n",
      " 1   dst_ip             746617 non-null  object \n",
      " 2   src_port           746617 non-null  int64  \n",
      " 3   dst_port           746617 non-null  int64  \n",
      " 4   protocol           746617 non-null  int64  \n",
      " 5   timestamp          746617 non-null  object \n",
      " 6   flow_duration      746617 non-null  int64  \n",
      " 7   flow_byts_s        746617 non-null  float64\n",
      " 8   flow_pkts_s        746617 non-null  float64\n",
      " 9   fwd_pkts_s         746617 non-null  float64\n",
      " 10  bwd_pkts_s         746617 non-null  float64\n",
      " 11  tot_fwd_pkts       746617 non-null  int64  \n",
      " 12  tot_bwd_pkts       746617 non-null  int64  \n",
      " 13  totlen_fwd_pkts    746617 non-null  int64  \n",
      " 14  totlen_bwd_pkts    746617 non-null  int64  \n",
      " 15  fwd_pkt_len_max    746617 non-null  int64  \n",
      " 16  fwd_pkt_len_min    746617 non-null  int64  \n",
      " 17  fwd_pkt_len_mean   746617 non-null  float64\n",
      " 18  fwd_pkt_len_std    746617 non-null  float64\n",
      " 19  bwd_pkt_len_max    746617 non-null  int64  \n",
      " 20  bwd_pkt_len_min    746617 non-null  int64  \n",
      " 21  bwd_pkt_len_mean   746617 non-null  float64\n",
      " 22  bwd_pkt_len_std    746617 non-null  float64\n",
      " 23  pkt_len_max        746617 non-null  int64  \n",
      " 24  pkt_len_min        746617 non-null  int64  \n",
      " 25  pkt_len_mean       746617 non-null  float64\n",
      " 26  pkt_len_std        746617 non-null  float64\n",
      " 27  pkt_len_var        746617 non-null  float64\n",
      " 28  fwd_header_len     746617 non-null  int64  \n",
      " 29  bwd_header_len     746617 non-null  int64  \n",
      " 30  fwd_seg_size_min   746617 non-null  int64  \n",
      " 31  fwd_act_data_pkts  746617 non-null  int64  \n",
      " 32  flow_iat_mean      746617 non-null  float64\n",
      " 33  flow_iat_max       746617 non-null  int64  \n",
      " 34  flow_iat_min       746617 non-null  int64  \n",
      " 35  flow_iat_std       746617 non-null  float64\n",
      " 36  fwd_iat_tot        746617 non-null  int64  \n",
      " 37  fwd_iat_max        746617 non-null  int64  \n",
      " 38  fwd_iat_min        746617 non-null  int64  \n",
      " 39  fwd_iat_mean       746617 non-null  float64\n",
      " 40  fwd_iat_std        746617 non-null  float64\n",
      " 41  bwd_iat_tot        746617 non-null  int64  \n",
      " 42  bwd_iat_max        746617 non-null  int64  \n",
      " 43  bwd_iat_min        746617 non-null  int64  \n",
      " 44  bwd_iat_mean       746617 non-null  float64\n",
      " 45  bwd_iat_std        746617 non-null  float64\n",
      " 46  fwd_psh_flags      746617 non-null  int64  \n",
      " 47  bwd_psh_flags      746617 non-null  int64  \n",
      " 48  fwd_urg_flags      746617 non-null  int64  \n",
      " 49  bwd_urg_flags      746617 non-null  int64  \n",
      " 50  fin_flag_cnt       746617 non-null  int64  \n",
      " 51  syn_flag_cnt       746617 non-null  int64  \n",
      " 52  rst_flag_cnt       746617 non-null  int64  \n",
      " 53  psh_flag_cnt       746617 non-null  int64  \n",
      " 54  ack_flag_cnt       746617 non-null  int64  \n",
      " 55  urg_flag_cnt       746617 non-null  int64  \n",
      " 56  ece_flag_cnt       746617 non-null  int64  \n",
      " 57  down_up_ratio      746617 non-null  float64\n",
      " 58  pkt_size_avg       746617 non-null  float64\n",
      " 59  init_fwd_win_byts  746617 non-null  int64  \n",
      " 60  init_bwd_win_byts  746617 non-null  int64  \n",
      " 61  active_max         746617 non-null  int64  \n",
      " 62  active_min         746617 non-null  int64  \n",
      " 63  active_mean        746617 non-null  float64\n",
      " 64  active_std         746617 non-null  float64\n",
      " 65  idle_max           746617 non-null  int64  \n",
      " 66  idle_min           746617 non-null  int64  \n",
      " 67  idle_mean          746617 non-null  float64\n",
      " 68  idle_std           746617 non-null  float64\n",
      " 69  fwd_byts_b_avg     746617 non-null  float64\n",
      " 70  fwd_pkts_b_avg     746617 non-null  float64\n",
      " 71  bwd_byts_b_avg     746617 non-null  float64\n",
      " 72  bwd_pkts_b_avg     746617 non-null  float64\n",
      " 73  fwd_blk_rate_avg   746617 non-null  float64\n",
      " 74  bwd_blk_rate_avg   746617 non-null  float64\n",
      " 75  fwd_seg_size_avg   746617 non-null  float64\n",
      " 76  bwd_seg_size_avg   746617 non-null  float64\n",
      " 77  cwe_flag_count     746617 non-null  int64  \n",
      " 78  subflow_fwd_pkts   746617 non-null  int64  \n",
      " 79  subflow_bwd_pkts   746617 non-null  int64  \n",
      " 80  subflow_fwd_byts   746617 non-null  int64  \n",
      " 81  subflow_bwd_byts   746617 non-null  int64  \n",
      " 82  label              746617 non-null  object \n",
      "dtypes: float64(31), int64(48), object(4)\n",
      "memory usage: 478.5+ MB\n"
     ]
    }
   ],
   "source": [
    "test_data_all = pd.DataFrame()\n",
    "\n",
    "for csv_file in os.listdir(TEST_SET_BASE_DIR):\n",
    "    test_data_all = pd.concat([test_data_all, pd.read_csv(os.path.join(TEST_SET_BASE_DIR, csv_file))])\n",
    "\n",
    "test_data_all.info()"
   ]
  },
  {
   "cell_type": "code",
   "execution_count": 37,
   "metadata": {},
   "outputs": [
    {
     "data": {
      "text/plain": [
       "label\n",
       "DDoS-tcp                 302081\n",
       "Normal                   189836\n",
       "DoS-hulk                 108345\n",
       "DDoS-stomp                92286\n",
       "DDoS-bot                  22667\n",
       "DDoS-dyn                  15341\n",
       "DoS-slowhttp              12092\n",
       "Infiltration-mitm          1870\n",
       "Web-xss                    1533\n",
       "Web-command-injection       345\n",
       "Web-sql-injection           221\n",
       "Name: count, dtype: int64"
      ]
     },
     "execution_count": 37,
     "metadata": {},
     "output_type": "execute_result"
    }
   ],
   "source": [
    "test_data_all['label'].value_counts()"
   ]
  },
  {
   "cell_type": "markdown",
   "metadata": {},
   "source": [
    "Although timestamps are provided within the CSV data, we opted for capture duration and continousness analysis via PCAPs (`capinfos`)."
   ]
  },
  {
   "cell_type": "markdown",
   "metadata": {},
   "source": [
    "## Analyze PCAP files - Train"
   ]
  },
  {
   "cell_type": "code",
   "execution_count": 38,
   "metadata": {},
   "outputs": [],
   "source": [
    "PCAP_TRAIN_DIR = '/data/ciciot23/flnet2023/train/pcap'\n",
    "PCAP_TEST_DIR = '/data/ciciot23/flnet2023/test/pcap'"
   ]
  },
  {
   "cell_type": "code",
   "execution_count": 43,
   "metadata": {},
   "outputs": [],
   "source": [
    "def analyze_dir(dir: str):\n",
    "    for fname in sorted(os.listdir(dir)):\n",
    "        fullpath = os.path.join(dir, fname)\n",
    "\n",
    "        !capinfos -a -e -c -M $fullpath\n",
    "\n",
    "        print()"
   ]
  },
  {
   "cell_type": "code",
   "execution_count": 44,
   "metadata": {},
   "outputs": [
    {
     "name": "stdout",
     "output_type": "stream",
     "text": [
      "File name:           /data/ciciot23/flnet2023/train/pcap/ddos-01-bot.pcap\n",
      "Number of packets:   23978351\n",
      "First packet time:   2023-05-13 23:48:11.278016236\n",
      "Last packet time:    2023-05-13 23:53:17.204687976\n",
      "\n",
      "File name:           /data/ciciot23/flnet2023/train/pcap/ddos-05-stomp.pcap\n",
      "Number of packets:   44138355\n",
      "First packet time:   2023-05-14 00:32:23.174696261\n",
      "Last packet time:    2023-05-14 00:37:31.590235024\n",
      "\n",
      "File name:           /data/ciciot23/flnet2023/train/pcap/ddos-09-dyn.pcap\n",
      "Number of packets:   35595302\n",
      "First packet time:   2023-05-14 01:35:17.562842961\n",
      "Last packet time:    2023-05-14 01:45:22.453138179\n",
      "\n",
      "File name:           /data/ciciot23/flnet2023/train/pcap/ddos-10-tcp.pcap\n",
      "Number of packets:   107193786\n",
      "First packet time:   2023-05-14 02:00:18.383568109\n",
      "Last packet time:    2023-05-14 02:05:24.824837909\n",
      "\n",
      "File name:           /data/ciciot23/flnet2023/train/pcap/dos-01.pcap\n",
      "Number of packets:   232940\n",
      "First packet time:   2023-04-27 18:48:44.589418\n",
      "Last packet time:    2023-04-27 19:26:02.879784\n",
      "\n",
      "File name:           /data/ciciot23/flnet2023/train/pcap/dos-02-hulk.pcap\n",
      "Number of packets:   40480797\n",
      "First packet time:   2023-05-12 20:14:10.044089\n",
      "Last packet time:    2023-05-12 20:30:50.470714\n",
      "\n",
      "File name:           /data/ciciot23/flnet2023/train/pcap/dos-02.pcap\n",
      "Number of packets:   83371\n",
      "First packet time:   2023-04-27 18:48:46.412674\n",
      "Last packet time:    2023-04-27 19:26:04.962016\n",
      "\n",
      "File name:           /data/ciciot23/flnet2023/train/pcap/dos-03.pcap\n",
      "Number of packets:   486074\n",
      "First packet time:   2023-04-27 18:48:48.427828\n",
      "Last packet time:    2023-04-27 19:26:07.339338\n",
      "\n",
      "File name:           /data/ciciot23/flnet2023/train/pcap/dos-04-hulk.pcap\n",
      "Number of packets:   40723244\n",
      "First packet time:   2023-05-12 21:42:02.067549\n",
      "Last packet time:    2023-05-12 21:52:54.236139\n",
      "\n",
      "File name:           /data/ciciot23/flnet2023/train/pcap/dos-04.pcap\n",
      "Number of packets:   434504\n",
      "First packet time:   2023-04-27 18:48:50.305334\n",
      "Last packet time:    2023-04-27 19:26:08.705100\n",
      "\n",
      "File name:           /data/ciciot23/flnet2023/train/pcap/dos-06-hulk.pcap\n",
      "Number of packets:   41085762\n",
      "First packet time:   2023-05-12 21:56:32.110970\n",
      "Last packet time:    2023-05-12 22:07:24.772129\n",
      "\n",
      "File name:           /data/ciciot23/flnet2023/train/pcap/dos-07-hulk.pcap\n",
      "Number of packets:   1704896\n",
      "First packet time:   2023-05-06 16:01:02.369564\n",
      "Last packet time:    2023-05-06 16:02:36.255660\n",
      "\n",
      "File name:           /data/ciciot23/flnet2023/train/pcap/dos-08.pcap\n",
      "Number of packets:   97205\n",
      "First packet time:   2023-04-27 18:48:54.306085\n",
      "Last packet time:    2023-04-27 19:25:34.589588\n",
      "\n",
      "File name:           /data/ciciot23/flnet2023/train/pcap/dos-09.pcap\n",
      "Number of packets:   191466\n",
      "First packet time:   2023-04-27 18:48:56.219607\n",
      "Last packet time:    2023-04-27 19:25:12.586957\n",
      "\n",
      "File name:           /data/ciciot23/flnet2023/train/pcap/dos-10.pcap\n",
      "Number of packets:   191466\n",
      "First packet time:   2023-04-27 18:48:56.219607\n",
      "Last packet time:    2023-04-27 19:25:12.586957\n",
      "\n",
      "File name:           /data/ciciot23/flnet2023/train/pcap/dos-7_1-hulk.pcap\n",
      "Number of packets:   22406114\n",
      "First packet time:   2023-05-13 08:03:43.714440145\n",
      "Last packet time:    2023-05-13 08:13:51.755756412\n",
      "\n",
      "File name:           /data/ciciot23/flnet2023/train/pcap/dos-8_hulk.pcap\n",
      "Number of packets:   22414239\n",
      "First packet time:   2023-05-13 08:17:19.549553419\n",
      "Last packet time:    2023-05-13 08:27:29.596512014\n",
      "\n",
      "File name:           /data/ciciot23/flnet2023/train/pcap/infilt-01.pcap\n",
      "Number of packets:   451911\n",
      "First packet time:   2023-05-04 21:14:52.474199\n",
      "Last packet time:    2023-05-04 21:40:48.677282\n",
      "\n",
      "File name:           /data/ciciot23/flnet2023/train/pcap/infilt-02.pcap\n",
      "Number of packets:   343009\n",
      "First packet time:   2023-05-04 21:46:12.841796\n",
      "Last packet time:    2023-05-04 22:39:17.412311\n",
      "\n",
      "File name:           /data/ciciot23/flnet2023/train/pcap/infilt-03.pcap\n",
      "Number of packets:   426611\n",
      "First packet time:   2023-05-04 21:15:32.662106\n",
      "Last packet time:    2023-05-04 21:41:00.639092\n",
      "\n",
      "File name:           /data/ciciot23/flnet2023/train/pcap/infilt-04.pcap\n",
      "Number of packets:   164920\n",
      "First packet time:   2023-05-04 21:16:42.162900\n",
      "Last packet time:    2023-05-04 21:40:57.621301\n",
      "\n",
      "File name:           /data/ciciot23/flnet2023/train/pcap/infilt-05.pcap\n",
      "Number of packets:   1066782\n",
      "First packet time:   2023-05-04 21:46:18.420972\n",
      "Last packet time:    2023-05-04 22:39:13.728015\n",
      "\n",
      "File name:           /data/ciciot23/flnet2023/train/pcap/infilt-07.pcap\n",
      "Number of packets:   1077291\n",
      "First packet time:   2023-05-04 21:46:24.037280\n",
      "Last packet time:    2023-05-04 22:39:10.331447\n",
      "\n",
      "File name:           /data/ciciot23/flnet2023/train/pcap/infilt-09.pcap\n",
      "Number of packets:   1091574\n",
      "First packet time:   2023-05-04 21:46:28.420821\n",
      "Last packet time:    2023-05-04 22:39:05.945292\n",
      "\n",
      "File name:           /data/ciciot23/flnet2023/train/pcap/infilt-10.pcap\n",
      "Number of packets:   474680\n",
      "First packet time:   2023-05-04 21:17:34.179173\n",
      "Last packet time:    2023-05-04 21:40:53.153384\n",
      "\n",
      "File name:           /data/ciciot23/flnet2023/train/pcap/normal-01.pcap\n",
      "Number of packets:   602804\n",
      "First packet time:   2023-05-11 23:52:49.026487\n",
      "Last packet time:    2023-05-17 23:29:56.376480225\n",
      "\n",
      "File name:           /data/ciciot23/flnet2023/train/pcap/normal-02.pcap\n",
      "Number of packets:   426573\n",
      "First packet time:   2023-05-11 23:52:44.861072\n",
      "Last packet time:    2023-05-17 23:14:05.226741073\n",
      "\n",
      "File name:           /data/ciciot23/flnet2023/train/pcap/normal-03.pcap\n",
      "Number of packets:   1448537\n",
      "First packet time:   2023-05-11 23:52:40.822020\n",
      "Last packet time:    2023-05-17 23:29:54.475585311\n",
      "\n",
      "File name:           /data/ciciot23/flnet2023/train/pcap/normal-04.pcap\n",
      "Number of packets:   419783\n",
      "First packet time:   2023-05-11 23:52:36.750320\n",
      "Last packet time:    2023-05-17 23:29:54.167644462\n",
      "\n",
      "File name:           /data/ciciot23/flnet2023/train/pcap/normal-05.pcap\n",
      "Number of packets:   506542\n",
      "First packet time:   2023-05-11 23:52:32.748981\n",
      "Last packet time:    2023-05-17 23:29:54.152419299\n",
      "\n",
      "File name:           /data/ciciot23/flnet2023/train/pcap/normal-06.pcap\n",
      "Number of packets:   988898\n",
      "First packet time:   2023-05-11 23:52:34.749941\n",
      "Last packet time:    2023-05-17 23:29:52.434424892\n",
      "\n",
      "File name:           /data/ciciot23/flnet2023/train/pcap/normal-07.pcap\n",
      "Number of packets:   1522605\n",
      "First packet time:   2023-05-11 23:52:26.747965\n",
      "Last packet time:    2023-05-17 23:29:50.434230011\n",
      "\n",
      "File name:           /data/ciciot23/flnet2023/train/pcap/normal-08.pcap\n",
      "Number of packets:   979625\n",
      "First packet time:   2023-05-11 23:52:20.534198\n",
      "Last packet time:    2023-05-17 23:29:52.434450651\n",
      "\n",
      "File name:           /data/ciciot23/flnet2023/train/pcap/normal-09.pcap\n",
      "Number of packets:   836151\n",
      "First packet time:   2023-05-11 23:52:20.430282\n",
      "Last packet time:    2023-05-17 23:29:48.001000879\n",
      "\n",
      "File name:           /data/ciciot23/flnet2023/train/pcap/normal-10.pcap\n",
      "Number of packets:   2590668\n",
      "First packet time:   2023-05-11 23:53:24.976433\n",
      "Last packet time:    2023-05-17 23:29:48.433659341\n",
      "\n",
      "File name:           /data/ciciot23/flnet2023/train/pcap/sql_inject-03.pcap\n",
      "Number of packets:   10663\n",
      "First packet time:   2023-04-28 00:17:24.759521\n",
      "Last packet time:    2023-04-28 00:18:11.337004\n",
      "\n",
      "File name:           /data/ciciot23/flnet2023/train/pcap/sql_inject-04.pcap\n",
      "Number of packets:   10605\n",
      "First packet time:   2023-04-28 00:22:32.453816\n",
      "Last packet time:    2023-04-28 00:23:01.049860\n",
      "\n",
      "File name:           /data/ciciot23/flnet2023/train/pcap/xss-02.pcap\n",
      "Number of packets:   18822\n",
      "First packet time:   2023-04-28 13:02:43.602066\n",
      "Last packet time:    2023-04-28 13:04:11.611071\n",
      "\n",
      "File name:           /data/ciciot23/flnet2023/train/pcap/xss-04.pcap\n",
      "Number of packets:   37080\n",
      "First packet time:   2023-04-28 13:06:14.332178\n",
      "Last packet time:    2023-04-28 13:06:26.333106\n",
      "\n"
     ]
    }
   ],
   "source": [
    "analyze_dir(PCAP_TRAIN_DIR)"
   ]
  },
  {
   "cell_type": "code",
   "execution_count": 47,
   "metadata": {},
   "outputs": [
    {
     "name": "stdout",
     "output_type": "stream",
     "text": [
      "File name:           /data/ciciot23/flnet2023/train/pcaps_analysis/dos-01.pcap\n",
      "Number of packets:   232940\n",
      "First packet time:   2023-04-27 18:48:44.589418\n",
      "Last packet time:    2023-04-27 19:26:02.879784\n",
      "\n",
      "File name:           /data/ciciot23/flnet2023/train/pcaps_analysis/dos-07-hulk.pcap\n",
      "Number of packets:   1704896\n",
      "First packet time:   2023-05-06 16:01:02.369564\n",
      "Last packet time:    2023-05-06 16:02:36.255660\n",
      "\n",
      "File name:           /data/ciciot23/flnet2023/train/pcaps_analysis/infilt-02.pcap\n",
      "Number of packets:   343009\n",
      "First packet time:   2023-05-04 21:46:12.841796\n",
      "Last packet time:    2023-05-04 22:39:17.412311\n",
      "\n",
      "File name:           /data/ciciot23/flnet2023/train/pcaps_analysis/infilt-03.pcap\n",
      "Number of packets:   426611\n",
      "First packet time:   2023-05-04 21:15:32.662106\n",
      "Last packet time:    2023-05-04 21:41:00.639092\n",
      "\n",
      "File name:           /data/ciciot23/flnet2023/train/pcaps_analysis/normal-01.pcap\n",
      "Number of packets:   602804\n",
      "First packet time:   2023-05-11 23:52:49.026487\n",
      "Last packet time:    2023-05-17 23:29:56.376480225\n",
      "\n",
      "File name:           /data/ciciot23/flnet2023/train/pcaps_analysis/sql_inject-03.pcap\n",
      "Number of packets:   10663\n",
      "First packet time:   2023-04-28 00:17:24.759521\n",
      "Last packet time:    2023-04-28 00:18:11.337004\n",
      "\n",
      "File name:           /data/ciciot23/flnet2023/train/pcaps_analysis/sql_inject-04.pcap\n",
      "Number of packets:   10605\n",
      "First packet time:   2023-04-28 00:22:32.453816\n",
      "Last packet time:    2023-04-28 00:23:01.049860\n",
      "\n",
      "File name:           /data/ciciot23/flnet2023/train/pcaps_analysis/xss-02.pcap\n",
      "Number of packets:   18822\n",
      "First packet time:   2023-04-28 13:02:43.602066\n",
      "Last packet time:    2023-04-28 13:04:11.611071\n",
      "\n",
      "File name:           /data/ciciot23/flnet2023/train/pcaps_analysis/xss-04.pcap\n",
      "Number of packets:   37080\n",
      "First packet time:   2023-04-28 13:06:14.332178\n",
      "Last packet time:    2023-04-28 13:06:26.333106\n",
      "\n"
     ]
    }
   ],
   "source": [
    "# Recheck on the cleared folder\n",
    "TRAIN_PCAPS_CLEARED = '/data/ciciot23/flnet2023/train/pcaps_analysis'\n",
    "\n",
    "analyze_dir(TRAIN_PCAPS_CLEARED)"
   ]
  },
  {
   "cell_type": "code",
   "execution_count": 61,
   "metadata": {},
   "outputs": [
    {
     "data": {
      "text/plain": [
       "datetime.timedelta(days=6, seconds=5847, microseconds=257416)"
      ]
     },
     "metadata": {},
     "output_type": "display_data"
    }
   ],
   "source": [
    "# Overall number of seconds from non-overlapping captures from an external scripts: (countdur.sh available on GitHub)\n",
    "import datetime\n",
    "\n",
    "secs = 524247.257416225\n",
    "\n",
    "display(datetime.timedelta(seconds=secs))"
   ]
  },
  {
   "cell_type": "code",
   "execution_count": 62,
   "metadata": {},
   "outputs": [
    {
     "data": {
      "text/plain": [
       "1.6241666666666668"
      ]
     },
     "execution_count": 62,
     "metadata": {},
     "output_type": "execute_result"
    }
   ],
   "source": [
    "5847 / 3600"
   ]
  },
  {
   "cell_type": "markdown",
   "metadata": {},
   "source": [
    "## Peek on the Test PCAP DATA"
   ]
  },
  {
   "cell_type": "code",
   "execution_count": 63,
   "metadata": {},
   "outputs": [],
   "source": [
    "TEST_PCAP_DIR = '/data/ciciot23/flnet2023/test/pcap'"
   ]
  },
  {
   "cell_type": "code",
   "execution_count": 64,
   "metadata": {},
   "outputs": [
    {
     "name": "stdout",
     "output_type": "stream",
     "text": [
      "File name:           /data/ciciot23/flnet2023/test/pcap/Dataset-TEST-BOT.pcap\n",
      "Number of packets:   3698823\n",
      "First packet time:   2023-05-14 02:36:56.439753326\n",
      "Last packet time:    2023-05-14 02:38:00.458457467\n",
      "\n",
      "File name:           /data/ciciot23/flnet2023/test/pcap/command-injection.pcap\n",
      "Number of packets:   10083\n",
      "First packet time:   2023-05-09 21:23:40.450106\n",
      "Last packet time:    2023-05-09 21:25:50.576518\n",
      "\n",
      "File name:           /data/ciciot23/flnet2023/test/pcap/dyn.pcap\n",
      "Number of packets:   1983511\n",
      "First packet time:   2023-05-14 02:48:36.627204847\n",
      "Last packet time:    2023-05-14 02:51:52.669290990\n",
      "\n",
      "File name:           /data/ciciot23/flnet2023/test/pcap/hulk.pcap\n",
      "Number of packets:   10317291\n",
      "First packet time:   2023-05-14 02:25:58.073095436\n",
      "Last packet time:    2023-05-14 02:31:02.328689006\n",
      "\n",
      "File name:           /data/ciciot23/flnet2023/test/pcap/mitm.pcap\n",
      "Number of packets:   137076\n",
      "First packet time:   2023-05-06 17:06:11.543402\n",
      "Last packet time:    2023-05-06 17:26:53.885374\n",
      "\n",
      "File name:           /data/ciciot23/flnet2023/test/pcap/normal.pcap\n",
      "Number of packets:   793723\n",
      "First packet time:   2023-05-06 17:53:31.921323\n",
      "Last packet time:    2023-05-18 00:50:52.879011028\n",
      "\n",
      "File name:           /data/ciciot23/flnet2023/test/pcap/slowHttp.pcap\n",
      "Number of packets:   236950\n",
      "First packet time:   2023-05-06 17:00:27.459738\n",
      "Last packet time:    2023-05-06 17:04:39.520730\n",
      "\n",
      "File name:           /data/ciciot23/flnet2023/test/pcap/sql.pcap\n",
      "Number of packets:   10552\n",
      "First packet time:   2023-05-06 17:33:13.972102\n",
      "Last packet time:    2023-05-06 17:34:01.989668\n",
      "\n",
      "File name:           /data/ciciot23/flnet2023/test/pcap/stomp.pcap\n",
      "Number of packets:   16543332\n",
      "First packet time:   2023-05-14 02:39:56.492029204\n",
      "Last packet time:    2023-05-14 02:40:58.553038757\n",
      "\n",
      "File name:           /data/ciciot23/flnet2023/test/pcap/tcp.pcap\n",
      "Number of packets:   45280849\n",
      "First packet time:   2023-05-14 02:53:06.682530126\n",
      "Last packet time:    2023-05-14 02:54:18.209370591\n",
      "\n",
      "File name:           /data/ciciot23/flnet2023/test/pcap/xss.pcap\n",
      "Number of packets:   37036\n",
      "First packet time:   2023-05-06 17:40:14.133221\n",
      "Last packet time:    2023-05-06 17:40:24.136293\n",
      "\n"
     ]
    }
   ],
   "source": [
    "analyze_dir(TEST_PCAP_DIR)"
   ]
  },
  {
   "cell_type": "code",
   "execution_count": 65,
   "metadata": {},
   "outputs": [
    {
     "name": "stdout",
     "output_type": "stream",
     "text": [
      "File name:           /data/ciciot23/flnet2023/test/pcap_cleaned/mitm.pcap\n",
      "Number of packets:   137076\n",
      "First packet time:   2023-05-06 17:06:11.543402\n",
      "Last packet time:    2023-05-06 17:26:53.885374\n",
      "\n",
      "File name:           /data/ciciot23/flnet2023/test/pcap_cleaned/normal.pcap\n",
      "Number of packets:   793723\n",
      "First packet time:   2023-05-06 17:53:31.921323\n",
      "Last packet time:    2023-05-18 00:50:52.879011028\n",
      "\n",
      "File name:           /data/ciciot23/flnet2023/test/pcap_cleaned/slowHttp.pcap\n",
      "Number of packets:   236950\n",
      "First packet time:   2023-05-06 17:00:27.459738\n",
      "Last packet time:    2023-05-06 17:04:39.520730\n",
      "\n",
      "File name:           /data/ciciot23/flnet2023/test/pcap_cleaned/sql.pcap\n",
      "Number of packets:   10552\n",
      "First packet time:   2023-05-06 17:33:13.972102\n",
      "Last packet time:    2023-05-06 17:34:01.989668\n",
      "\n",
      "File name:           /data/ciciot23/flnet2023/test/pcap_cleaned/xss.pcap\n",
      "Number of packets:   37036\n",
      "First packet time:   2023-05-06 17:40:14.133221\n",
      "Last packet time:    2023-05-06 17:40:24.136293\n",
      "\n"
     ]
    }
   ],
   "source": [
    "# Again, try in on the cleaned dir with selected PCAPs\n",
    "analyze_dir('/data/ciciot23/flnet2023/test/pcap_cleaned')"
   ]
  },
  {
   "cell_type": "code",
   "execution_count": 66,
   "metadata": {},
   "outputs": [
    {
     "data": {
      "text/plain": [
       "datetime.timedelta(days=11, seconds=26593, microseconds=381290)"
      ]
     },
     "execution_count": 66,
     "metadata": {},
     "output_type": "execute_result"
    }
   ],
   "source": [
    "# After running the script of an external duration counting\n",
    "dur_sec = 976993.381290028\n",
    "\n",
    "datetime.timedelta(seconds=dur_sec)"
   ]
  },
  {
   "cell_type": "code",
   "execution_count": 67,
   "metadata": {},
   "outputs": [
    {
     "data": {
      "text/plain": [
       "7.3869444444444445"
      ]
     },
     "execution_count": 67,
     "metadata": {},
     "output_type": "execute_result"
    }
   ],
   "source": [
    "26593 / 3600"
   ]
  }
 ],
 "metadata": {
  "kernelspec": {
   "display_name": "env",
   "language": "python",
   "name": "python3"
  },
  "language_info": {
   "codemirror_mode": {
    "name": "ipython",
    "version": 3
   },
   "file_extension": ".py",
   "mimetype": "text/x-python",
   "name": "python",
   "nbconvert_exporter": "python",
   "pygments_lexer": "ipython3",
   "version": "3.12.3"
  }
 },
 "nbformat": 4,
 "nbformat_minor": 2
}
