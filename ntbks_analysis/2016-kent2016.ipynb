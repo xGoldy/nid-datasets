{
 "cells": [
  {
   "cell_type": "markdown",
   "metadata": {},
   "source": [
    "# Kent 2016 Dataset Analysis\n",
    "\n",
    "* **Author:** Patrik Goldschmidt (igoldschmidt@fit.vut.cz)\n",
    "* **Project:** Network Intrusion Datasets: A Survey, Limitations, and Recommendations\n",
    "* **Date:** 2024"
   ]
  },
  {
   "cell_type": "code",
   "execution_count": 1,
   "metadata": {},
   "outputs": [],
   "source": [
    "import pandas as pd\n",
    "import numpy as np\n",
    "import matplotlib.pyplot as plt"
   ]
  },
  {
   "cell_type": "code",
   "execution_count": 2,
   "metadata": {},
   "outputs": [],
   "source": [
    "DATA_FLOWS = 'data/kent2016/flows.txt'\n",
    "DATA_AUTH  = 'data/kent2016/auth.txt'\n",
    "DATA_RTEAM = 'data/kent2016/redteam.txt'\n",
    "DATA_PROC  = 'data/kent2016/proc.txt'\n",
    "DATA_DNS   = 'data/kent2016/dns.txt'\n",
    "\n",
    "FLOWS_HEADER_NAMES = ['time', 'duration', 'srccomp', 'srcport', 'dstcomp', 'dstport', 'proto', 'pkts', 'bytes']\n",
    "FLOWS_HEADER_TYPES = {'time': np.uint32, 'duration': np.uint16, 'srccomp': str, 'srcport': str, 'dstcomp': str, 'dstport': str, 'proto': str}"
   ]
  },
  {
   "cell_type": "code",
   "execution_count": 3,
   "metadata": {},
   "outputs": [
    {
     "name": "stdout",
     "output_type": "stream",
     "text": [
      "1,0,C1065,389,C3799,N10451,6,10,5323\n",
      "1,0,C1423,N1136,C1707,N1,6,5,847\n",
      "1,0,C1423,N1142,C1707,N1,6,5,847\n",
      "1,0,C14909,N8191,C5720,2049,6,1,52\n",
      "1,0,C14909,N8192,C5720,2049,6,1,52\n",
      "1,0,C14909,N8193,C5720,2049,6,1,52\n",
      "1,0,C1707,N1,C1423,N1136,6,4,414\n",
      "1,0,C1707,N1,C1423,N1142,6,4,413\n",
      "1,0,C1707,N1,C925,N10487,6,4,414\n",
      "1,0,C1707,N1,C925,N10491,6,4,413\n"
     ]
    }
   ],
   "source": [
    "# The overall file size is big, count the number head it\n",
    "!head $DATA_FLOWS"
   ]
  },
  {
   "cell_type": "code",
   "execution_count": 4,
   "metadata": {},
   "outputs": [
    {
     "name": "stdout",
     "output_type": "stream",
     "text": [
      "129977412 data/kent2016/flows.txt\n"
     ]
    }
   ],
   "source": [
    "# Count the number of its entries\n",
    "!wc -l $DATA_FLOWS"
   ]
  },
  {
   "cell_type": "code",
   "execution_count": 5,
   "metadata": {},
   "outputs": [],
   "source": [
    "# Read only a sample, since all cannot be fit into the memory at once\n",
    "flows = pd.read_csv(DATA_FLOWS, names=FLOWS_HEADER_NAMES, dtype=FLOWS_HEADER_TYPES, nrows=10000000)"
   ]
  },
  {
   "cell_type": "code",
   "execution_count": 6,
   "metadata": {},
   "outputs": [
    {
     "data": {
      "text/plain": [
       "0.07693644492629227"
      ]
     },
     "execution_count": 6,
     "metadata": {},
     "output_type": "execute_result"
    }
   ],
   "source": [
    "# How big part of the data is loaded?\n",
    "len(flows) / 129977412"
   ]
  },
  {
   "cell_type": "markdown",
   "metadata": {},
   "source": [
    "Less than 8%"
   ]
  },
  {
   "cell_type": "code",
   "execution_count": 7,
   "metadata": {},
   "outputs": [
    {
     "name": "stdout",
     "output_type": "stream",
     "text": [
      "<class 'pandas.core.frame.DataFrame'>\n",
      "RangeIndex: 10000000 entries, 0 to 9999999\n",
      "Data columns (total 9 columns):\n",
      " #   Column    Dtype \n",
      "---  ------    ----- \n",
      " 0   time      uint32\n",
      " 1   duration  uint16\n",
      " 2   srccomp   object\n",
      " 3   srcport   object\n",
      " 4   dstcomp   object\n",
      " 5   dstport   object\n",
      " 6   proto     object\n",
      " 7   pkts      int64 \n",
      " 8   bytes     int64 \n",
      "dtypes: int64(2), object(5), uint16(1), uint32(1)\n",
      "memory usage: 591.3+ MB\n"
     ]
    }
   ],
   "source": [
    "flows.info()"
   ]
  },
  {
   "cell_type": "code",
   "execution_count": 8,
   "metadata": {},
   "outputs": [
    {
     "data": {
      "text/html": [
       "<div>\n",
       "<style scoped>\n",
       "    .dataframe tbody tr th:only-of-type {\n",
       "        vertical-align: middle;\n",
       "    }\n",
       "\n",
       "    .dataframe tbody tr th {\n",
       "        vertical-align: top;\n",
       "    }\n",
       "\n",
       "    .dataframe thead th {\n",
       "        text-align: right;\n",
       "    }\n",
       "</style>\n",
       "<table border=\"1\" class=\"dataframe\">\n",
       "  <thead>\n",
       "    <tr style=\"text-align: right;\">\n",
       "      <th></th>\n",
       "      <th>time</th>\n",
       "      <th>duration</th>\n",
       "      <th>srccomp</th>\n",
       "      <th>srcport</th>\n",
       "      <th>dstcomp</th>\n",
       "      <th>dstport</th>\n",
       "      <th>proto</th>\n",
       "      <th>pkts</th>\n",
       "      <th>bytes</th>\n",
       "    </tr>\n",
       "  </thead>\n",
       "  <tbody>\n",
       "    <tr>\n",
       "      <th>0</th>\n",
       "      <td>1</td>\n",
       "      <td>0</td>\n",
       "      <td>C1065</td>\n",
       "      <td>389</td>\n",
       "      <td>C3799</td>\n",
       "      <td>N10451</td>\n",
       "      <td>6</td>\n",
       "      <td>10</td>\n",
       "      <td>5323</td>\n",
       "    </tr>\n",
       "    <tr>\n",
       "      <th>1</th>\n",
       "      <td>1</td>\n",
       "      <td>0</td>\n",
       "      <td>C1423</td>\n",
       "      <td>N1136</td>\n",
       "      <td>C1707</td>\n",
       "      <td>N1</td>\n",
       "      <td>6</td>\n",
       "      <td>5</td>\n",
       "      <td>847</td>\n",
       "    </tr>\n",
       "    <tr>\n",
       "      <th>2</th>\n",
       "      <td>1</td>\n",
       "      <td>0</td>\n",
       "      <td>C1423</td>\n",
       "      <td>N1142</td>\n",
       "      <td>C1707</td>\n",
       "      <td>N1</td>\n",
       "      <td>6</td>\n",
       "      <td>5</td>\n",
       "      <td>847</td>\n",
       "    </tr>\n",
       "    <tr>\n",
       "      <th>3</th>\n",
       "      <td>1</td>\n",
       "      <td>0</td>\n",
       "      <td>C14909</td>\n",
       "      <td>N8191</td>\n",
       "      <td>C5720</td>\n",
       "      <td>2049</td>\n",
       "      <td>6</td>\n",
       "      <td>1</td>\n",
       "      <td>52</td>\n",
       "    </tr>\n",
       "    <tr>\n",
       "      <th>4</th>\n",
       "      <td>1</td>\n",
       "      <td>0</td>\n",
       "      <td>C14909</td>\n",
       "      <td>N8192</td>\n",
       "      <td>C5720</td>\n",
       "      <td>2049</td>\n",
       "      <td>6</td>\n",
       "      <td>1</td>\n",
       "      <td>52</td>\n",
       "    </tr>\n",
       "    <tr>\n",
       "      <th>5</th>\n",
       "      <td>1</td>\n",
       "      <td>0</td>\n",
       "      <td>C14909</td>\n",
       "      <td>N8193</td>\n",
       "      <td>C5720</td>\n",
       "      <td>2049</td>\n",
       "      <td>6</td>\n",
       "      <td>1</td>\n",
       "      <td>52</td>\n",
       "    </tr>\n",
       "    <tr>\n",
       "      <th>6</th>\n",
       "      <td>1</td>\n",
       "      <td>0</td>\n",
       "      <td>C1707</td>\n",
       "      <td>N1</td>\n",
       "      <td>C1423</td>\n",
       "      <td>N1136</td>\n",
       "      <td>6</td>\n",
       "      <td>4</td>\n",
       "      <td>414</td>\n",
       "    </tr>\n",
       "    <tr>\n",
       "      <th>7</th>\n",
       "      <td>1</td>\n",
       "      <td>0</td>\n",
       "      <td>C1707</td>\n",
       "      <td>N1</td>\n",
       "      <td>C1423</td>\n",
       "      <td>N1142</td>\n",
       "      <td>6</td>\n",
       "      <td>4</td>\n",
       "      <td>413</td>\n",
       "    </tr>\n",
       "    <tr>\n",
       "      <th>8</th>\n",
       "      <td>1</td>\n",
       "      <td>0</td>\n",
       "      <td>C1707</td>\n",
       "      <td>N1</td>\n",
       "      <td>C925</td>\n",
       "      <td>N10487</td>\n",
       "      <td>6</td>\n",
       "      <td>4</td>\n",
       "      <td>414</td>\n",
       "    </tr>\n",
       "    <tr>\n",
       "      <th>9</th>\n",
       "      <td>1</td>\n",
       "      <td>0</td>\n",
       "      <td>C1707</td>\n",
       "      <td>N1</td>\n",
       "      <td>C925</td>\n",
       "      <td>N10491</td>\n",
       "      <td>6</td>\n",
       "      <td>4</td>\n",
       "      <td>413</td>\n",
       "    </tr>\n",
       "  </tbody>\n",
       "</table>\n",
       "</div>"
      ],
      "text/plain": [
       "   time  duration srccomp srcport dstcomp dstport proto  pkts  bytes\n",
       "0     1         0   C1065     389   C3799  N10451     6    10   5323\n",
       "1     1         0   C1423   N1136   C1707      N1     6     5    847\n",
       "2     1         0   C1423   N1142   C1707      N1     6     5    847\n",
       "3     1         0  C14909   N8191   C5720    2049     6     1     52\n",
       "4     1         0  C14909   N8192   C5720    2049     6     1     52\n",
       "5     1         0  C14909   N8193   C5720    2049     6     1     52\n",
       "6     1         0   C1707      N1   C1423   N1136     6     4    414\n",
       "7     1         0   C1707      N1   C1423   N1142     6     4    413\n",
       "8     1         0   C1707      N1    C925  N10487     6     4    414\n",
       "9     1         0   C1707      N1    C925  N10491     6     4    413"
      ]
     },
     "execution_count": 8,
     "metadata": {},
     "output_type": "execute_result"
    }
   ],
   "source": [
    "flows.head(10)"
   ]
  },
  {
   "cell_type": "markdown",
   "metadata": {},
   "source": [
    "As apparent, the dataset is heavily anonymized, being rather unsuitable for pure flow-based attack detection. Also, labels are missing."
   ]
  },
  {
   "cell_type": "code",
   "execution_count": 9,
   "metadata": {},
   "outputs": [
    {
     "data": {
      "text/plain": [
       "(7180, 6076)"
      ]
     },
     "execution_count": 9,
     "metadata": {},
     "output_type": "execute_result"
    }
   ],
   "source": [
    "# Number of unique source and destination hosts\n",
    "flows['srccomp'].nunique(), flows['dstcomp'].nunique(),"
   ]
  },
  {
   "cell_type": "code",
   "execution_count": 10,
   "metadata": {},
   "outputs": [
    {
     "data": {
      "text/plain": [
       "445       1603313\n",
       "80         359297\n",
       "389        347118\n",
       "137        216539\n",
       "88         210137\n",
       "           ...   \n",
       "N48300          1\n",
       "N48402          1\n",
       "N48406          1\n",
       "N48405          1\n",
       "N48977          1\n",
       "Name: dstport, Length: 49107, dtype: int64"
      ]
     },
     "execution_count": 10,
     "metadata": {},
     "output_type": "execute_result"
    }
   ],
   "source": [
    "flows['dstport'].value_counts()"
   ]
  },
  {
   "cell_type": "markdown",
   "metadata": {},
   "source": [
    "## Timing and Continuity Analysis"
   ]
  },
  {
   "cell_type": "code",
   "execution_count": 11,
   "metadata": {},
   "outputs": [
    {
     "data": {
      "text/plain": [
       "time        100787\n",
       "duration         0\n",
       "srccomp     C12649\n",
       "srcport      N2354\n",
       "dstcomp      C5721\n",
       "dstport        445\n",
       "proto            6\n",
       "pkts             1\n",
       "bytes           46\n",
       "Name: 9999999, dtype: object"
      ]
     },
     "execution_count": 11,
     "metadata": {},
     "output_type": "execute_result"
    }
   ],
   "source": [
    "flows.iloc[-1]"
   ]
  },
  {
   "cell_type": "markdown",
   "metadata": {},
   "source": [
    "So the first 1M samples (8% of data) cover 100787 seconds (~28 hours). We can measure if this data block is continous."
   ]
  },
  {
   "cell_type": "code",
   "execution_count": 12,
   "metadata": {},
   "outputs": [],
   "source": [
    "flows_sorted = flows.sort_values(by='time', ascending=False)"
   ]
  },
  {
   "cell_type": "code",
   "execution_count": 13,
   "metadata": {},
   "outputs": [],
   "source": [
    "flows_sorted['tstamp'] = pd.to_datetime(flows_sorted['time'], unit='s')"
   ]
  },
  {
   "cell_type": "code",
   "execution_count": 14,
   "metadata": {},
   "outputs": [],
   "source": [
    "def measure_real_capture_dur(data: pd.Series, gap_max_secs: int = 300) -> float:\n",
    "    \"\"\"Computes total timespan of the capture. Expects iterable containing timestamps objects sorted in a descending manner\"\"\"\n",
    "    total_dur = pd.Timedelta(seconds=0)\n",
    "    current_dur = pd.Timedelta(seconds=0)\n",
    "    cont_durations = []\n",
    "    last_tstamp = data.iloc[0]\n",
    "    contiguous = True\n",
    "\n",
    "    # Iterate through the dataframe to find out gaps\n",
    "    for cur_tstamp in data:\n",
    "        dur_gap = last_tstamp - cur_tstamp\n",
    "\n",
    "        if dur_gap <= pd.Timedelta(seconds=gap_max_secs):\n",
    "            total_dur += dur_gap\n",
    "            current_dur += dur_gap\n",
    "        else:\n",
    "            cont_durations.append(current_dur)\n",
    "            current_dur = 0\n",
    "\n",
    "            if contiguous:\n",
    "                contiguous = False\n",
    "\n",
    "        last_tstamp = cur_tstamp\n",
    "\n",
    "    cont_durations.sort(reverse=True)\n",
    "\n",
    "    return total_dur, contiguous, cont_durations\n"
   ]
  },
  {
   "cell_type": "code",
   "execution_count": 15,
   "metadata": {},
   "outputs": [
    {
     "data": {
      "text/plain": [
       "(Timedelta('1 days 03:59:46'), True, [])"
      ]
     },
     "execution_count": 15,
     "metadata": {},
     "output_type": "execute_result"
    }
   ],
   "source": [
    "measure_real_capture_dur(flows_sorted['tstamp'], 1008)"
   ]
  },
  {
   "cell_type": "markdown",
   "metadata": {},
   "source": [
    "Based on the analysis of this sample, we consider the dataset is continuous. In the command line, we also analyzed the whole dataset."
   ]
  }
 ],
 "metadata": {
  "kernelspec": {
   "display_name": "env",
   "language": "python",
   "name": "python3"
  },
  "language_info": {
   "codemirror_mode": {
    "name": "ipython",
    "version": 3
   },
   "file_extension": ".py",
   "mimetype": "text/x-python",
   "name": "python",
   "nbconvert_exporter": "python",
   "pygments_lexer": "ipython3",
   "version": "3.9.19"
  }
 },
 "nbformat": 4,
 "nbformat_minor": 2
}
